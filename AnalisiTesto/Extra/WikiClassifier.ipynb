{
 "cells": [
  {
   "cell_type": "code",
   "execution_count": 1,
   "metadata": {},
   "outputs": [],
   "source": [
    "%config IPCompleter.greedy=True\n",
    "%config Completer.use_jedi = False"
   ]
  },
  {
   "cell_type": "code",
   "execution_count": 2,
   "metadata": {},
   "outputs": [],
   "source": [
    "import glob as glob\n",
    "import re\n",
    "import string\n",
    "import numpy as np\n",
    "import pandas as pd\n",
    "import json\n",
    "# re.sub(f\"[{re.escape(string.punctuation)}]\", \" \", testo)"
   ]
  },
  {
   "cell_type": "code",
   "execution_count": 3,
   "metadata": {},
   "outputs": [],
   "source": [
    "import spacy"
   ]
  },
  {
   "cell_type": "code",
   "execution_count": 4,
   "metadata": {},
   "outputs": [
    {
     "data": {
      "text/plain": [
       "'3.0.3'"
      ]
     },
     "execution_count": 4,
     "metadata": {},
     "output_type": "execute_result"
    }
   ],
   "source": [
    "spacy.__version__"
   ]
  },
  {
   "cell_type": "code",
   "execution_count": 5,
   "metadata": {},
   "outputs": [
    {
     "name": "stdout",
     "output_type": "stream",
     "text": [
      "1) Mi\n",
      "2) piace\n",
      "3) New\n",
      "4) York\n"
     ]
    }
   ],
   "source": [
    "nlp = spacy.load(\"it_core_news_sm\")\n",
    "\n",
    "frase_esempio = \"Mi piace New York\"\n",
    "\n",
    "doc = nlp(frase_esempio)\n",
    "\n",
    "for n, token in enumerate(doc):\n",
    "    print(f\"{n+1}) {token}\")"
   ]
  },
  {
   "cell_type": "code",
   "execution_count": 6,
   "metadata": {},
   "outputs": [
    {
     "name": "stdout",
     "output_type": "stream",
     "text": [
      "1) Mi\n",
      "2) piace\n",
      "3) New York\n"
     ]
    }
   ],
   "source": [
    "nlp.add_pipe(\"merge_entities\")\n",
    "\n",
    "doc = nlp(frase_esempio)\n",
    "\n",
    "for n, token in enumerate(doc):\n",
    "    print(f\"{n+1}) {token}\")"
   ]
  },
  {
   "cell_type": "markdown",
   "metadata": {},
   "source": [
    "## Generator articoli"
   ]
  },
  {
   "cell_type": "code",
   "execution_count": 7,
   "metadata": {},
   "outputs": [],
   "source": [
    "articoli = iter(glob.glob(\"archivio/*.txt\"))"
   ]
  },
  {
   "cell_type": "code",
   "execution_count": 8,
   "metadata": {},
   "outputs": [
    {
     "data": {
      "text/plain": [
       "'archivio/articolo_tecnologia_69.txt'"
      ]
     },
     "execution_count": 8,
     "metadata": {},
     "output_type": "execute_result"
    }
   ],
   "source": [
    "next(articoli)"
   ]
  },
  {
   "cell_type": "markdown",
   "metadata": {},
   "source": [
    "##### La keywords identifica la classe dal nome del file, sarà quindi eliminata dal testo per rendere più difficile il lavoro al classificatore."
   ]
  },
  {
   "cell_type": "code",
   "execution_count": 9,
   "metadata": {},
   "outputs": [],
   "source": [
    "keywords = re.compile(r\"_(\\w+)_\")"
   ]
  },
  {
   "cell_type": "markdown",
   "metadata": {},
   "source": [
    "###### Anteprima file"
   ]
  },
  {
   "cell_type": "code",
   "execution_count": 10,
   "metadata": {},
   "outputs": [
    {
     "name": "stdout",
     "output_type": "stream",
     "text": [
      "<article><title>Potenza Calcio</title><body>Il Potenza Calcio S.r.l., meglio noto come Potenza, è un\n",
      "----------------------------------------------------------------------------------------------------\n",
      "'Internet Archive\", 'Categoria:Voci con modulo citazione e parametro pagine']</categories></article>\n"
     ]
    }
   ],
   "source": [
    "articolo = next(articoli)\n",
    "\n",
    "with open(articolo, 'r') as f:\n",
    "    testo = f.readlines()\n",
    "    testo = \"\".join(testo)\n",
    "\n",
    "print(testo[:100])\n",
    "print(\"-\"*100)\n",
    "print(testo[-100:])"
   ]
  },
  {
   "cell_type": "markdown",
   "metadata": {},
   "source": [
    "##### Altra regular expression per estrarre i dati in formato dictionary"
   ]
  },
  {
   "cell_type": "code",
   "execution_count": 11,
   "metadata": {},
   "outputs": [],
   "source": [
    "tags = re.compile(r\"<title>(?P<titolo>.*)</title><body>(?P<corpo>.*)</body><categories>(?P<categorie>.*)</categories>\")"
   ]
  },
  {
   "cell_type": "markdown",
   "metadata": {},
   "source": [
    "##### Qui la funzione che estrae i dati e fa un primo preprocessing"
   ]
  },
  {
   "cell_type": "code",
   "execution_count": 12,
   "metadata": {},
   "outputs": [],
   "source": [
    "def estrati_dati(articolo):\n",
    "    \n",
    "    # Identificazione della class/keywords estraendola dal nome del file\n",
    "    kw = keywords.findall(articolo)[0]\n",
    "\n",
    "    with open(articolo, 'r') as f:\n",
    "        testo = f.readlines()\n",
    "        \n",
    "    testo = \"\".join(testo)\n",
    "    testo = testo.replace(\"\\n\",\"\")\n",
    "    \n",
    "    # Estrazione dei campi di interesse per ottenere il dictionary\n",
    "    m = tags.search(testo)\n",
    "    dati = m.groupdict()\n",
    "    \n",
    "    if 'categorie' in dati.keys():\n",
    "\n",
    "        get_text = re.compile(\"\\'|\\\\[|\\\\]|Categoria:\")\n",
    "\n",
    "        categorie = m.group('categorie')\n",
    "        elenco_categorie = []\n",
    "\n",
    "        for categ in get_text.sub(\"\", categorie).split(\",\"):\n",
    "            elenco_categorie.append(categ.strip())\n",
    "\n",
    "        dati['categorie'] = \",\".join(elenco_categorie)\n",
    "    \n",
    "    # Rimozione della keyword, che rappresenta la classe, per aumentare \n",
    "    # la capacità di generalizzare del classificatore\n",
    "    remove_kw = re.compile(fr\"\\b{kw}\\b\")\n",
    "\n",
    "    testo = \" \".join([txt.lower() for k, txt in dati.items()])\n",
    "    testo = re.sub(\"\\W|\\d\", \" \", testo)\n",
    "    testo = re.sub(\"[ ]+\", \" \", testo)\n",
    "    testo = remove_kw.sub(\"\", testo)\n",
    "    \n",
    "    return [testo, kw]\n",
    "    "
   ]
  },
  {
   "cell_type": "markdown",
   "metadata": {},
   "source": [
    "##### Un secondo preprocessing consiste nel lemming delle parole"
   ]
  },
  {
   "cell_type": "markdown",
   "metadata": {},
   "source": [
    "(Spiegare a voce l'utilità che si ottiene nell'addrestare un modello con tale riduzione dimensionale)"
   ]
  },
  {
   "cell_type": "code",
   "execution_count": 13,
   "metadata": {},
   "outputs": [
    {
     "name": "stdout",
     "output_type": "stream",
     "text": [
      "Frase originale contiene n.1215 parole:\n",
      "\n",
      "  di star trek l universo di star trek la serie televisiva fantascientifica originariamente ideata da gene roddenberry nel è inscindibilmente legato ad una immagine di avanzato sviluppo tecnologico il divario tecnologico è uno degli aspetti che più sp \n",
      "\n",
      "Frase lemmizzata senza stop_words contiente n.744 parole:\n",
      "\n",
      "   stare trek l universo stare trek serio televisivo fantascientifico originariamente ideare gene roddenberry essere inscindibilmente legare immagine avanzare sviluppare tecnologico divario tecnologico essere aspetto emergere puntato stare trek voce i\n"
     ]
    }
   ],
   "source": [
    "articolo = next(articoli)\n",
    "\n",
    "testo = estrati_dati(articolo)[0]\n",
    "doc = nlp(testo)\n",
    "\n",
    "print(f\"Frase originale contiene n.{len(testo.split(' '))} parole:\\n\\n\", estrati_dati(articolo)[0][:250], \"\\n\")\n",
    "\n",
    "lemma_text = \" \".join(token.lemma_ for token in doc if not token.is_stop)\n",
    "\n",
    "print(f\"Frase lemmizzata senza stop_words contiente n.{len(lemma_text.split(' '))} parole:\\n\\n\",lemma_text[:250])"
   ]
  },
  {
   "cell_type": "markdown",
   "metadata": {},
   "source": [
    "##### Introduzione del Vocabolario"
   ]
  },
  {
   "cell_type": "markdown",
   "metadata": {},
   "source": [
    "(Dire qualcosa di introduttivo sui defaultdict)"
   ]
  },
  {
   "cell_type": "code",
   "execution_count": 14,
   "metadata": {},
   "outputs": [],
   "source": [
    "from collections import defaultdict\n",
    "import json"
   ]
  },
  {
   "cell_type": "markdown",
   "metadata": {},
   "source": [
    "Esempio uso di defaultdict ed introduzione della classe Vocaboulary"
   ]
  },
  {
   "cell_type": "code",
   "execution_count": 15,
   "metadata": {},
   "outputs": [],
   "source": [
    "d = dict()"
   ]
  },
  {
   "cell_type": "code",
   "execution_count": 16,
   "metadata": {},
   "outputs": [],
   "source": [
    "lista_esempio = [\"parola1\",\"parola1\",\"parola1\",\"parola2\",\"parola2\"]"
   ]
  },
  {
   "cell_type": "code",
   "execution_count": 17,
   "metadata": {},
   "outputs": [
    {
     "ename": "KeyError",
     "evalue": "'parola1'",
     "output_type": "error",
     "traceback": [
      "\u001b[0;31m---------------------------------------------------------------------------\u001b[0m",
      "\u001b[0;31mKeyError\u001b[0m                                  Traceback (most recent call last)",
      "\u001b[0;32m<ipython-input-17-222f98b1cdec>\u001b[0m in \u001b[0;36m<module>\u001b[0;34m\u001b[0m\n\u001b[1;32m      1\u001b[0m \u001b[0;32mfor\u001b[0m \u001b[0mparola\u001b[0m \u001b[0;32min\u001b[0m \u001b[0mlista_esempio\u001b[0m\u001b[0;34m:\u001b[0m\u001b[0;34m\u001b[0m\u001b[0;34m\u001b[0m\u001b[0m\n\u001b[1;32m      2\u001b[0m \u001b[0;34m\u001b[0m\u001b[0m\n\u001b[0;32m----> 3\u001b[0;31m     \u001b[0md\u001b[0m\u001b[0;34m[\u001b[0m\u001b[0mparola\u001b[0m\u001b[0;34m]\u001b[0m \u001b[0;34m+=\u001b[0m \u001b[0;36m1\u001b[0m\u001b[0;34m\u001b[0m\u001b[0;34m\u001b[0m\u001b[0m\n\u001b[0m",
      "\u001b[0;31mKeyError\u001b[0m: 'parola1'"
     ]
    }
   ],
   "source": [
    "for parola in lista_esempio:\n",
    "      \n",
    "    d[parola] += 1"
   ]
  },
  {
   "cell_type": "code",
   "execution_count": 18,
   "metadata": {},
   "outputs": [
    {
     "data": {
      "text/plain": [
       "defaultdict(int, {'parola1': 3, 'parola2': 2})"
      ]
     },
     "execution_count": 18,
     "metadata": {},
     "output_type": "execute_result"
    }
   ],
   "source": [
    "dd = defaultdict(int)\n",
    "\n",
    "for parola in lista_esempio:\n",
    "    \n",
    "    dd[parola] += 1\n",
    "\n",
    "dd"
   ]
  },
  {
   "cell_type": "code",
   "execution_count": 19,
   "metadata": {},
   "outputs": [],
   "source": [
    "class Vocabulary():\n",
    "        \n",
    "    def __init__(self, nome_file = \"\", tokens = False):\n",
    "        self.nome_file = nome_file\n",
    "        self.vocab = defaultdict(int)\n",
    "        self.tokens = tokens\n",
    "        self.word2idx = None\n",
    "        self.idx2word = None\n",
    "        self.stopwords = []\n",
    "        \n",
    "        if self.nome_file != \"\":\n",
    "            self.load(self.nome_file, self.tokens)\n",
    "            \n",
    "    \n",
    "    def import_stopwords(self, nome_file):        \n",
    "        with open(nome_file, 'r') as f:\n",
    "            for line in f.readlines():\n",
    "                self.stopwords.append(line.replace(\"\\n\", \"\"))\n",
    "                \n",
    "            \n",
    "    def builder(self, token):\n",
    "        \n",
    "        \"\"\"\n",
    "        Aggiuge il conteggio dei token al vocabolario\n",
    "        \"\"\"\n",
    "        \n",
    "        self.vocab[str(token)] += 1\n",
    "            \n",
    "            \n",
    "    def reduce(self, filter_func = lambda x, y=5: x>y):\n",
    "        \n",
    "        \"\"\"\n",
    "        Trasforma in vocabolario senza frequenze\n",
    "        \"\"\"\n",
    "        \n",
    "        self.word2idx = defaultdict(int)\n",
    "        self.idx2word = defaultdict()\n",
    "        \n",
    "        self.word2idx['OOV'] = 0\n",
    "        self.idx2word['0'] = 'OOV'\n",
    "        \n",
    "        i = 1\n",
    "        \n",
    "        for k in self.vocab.keys():\n",
    "        \n",
    "            if filter_func(self.vocab[k]):\n",
    "\n",
    "                self.word2idx[k] = i\n",
    "                self.idx2word[str(i)] = k\n",
    "                i += 1\n",
    "                \n",
    "        print(f\"Dopo la riduzione ci sono n.{len(self.word2idx)} elementi\")\n",
    "\n",
    "                \n",
    "    def delete(self):\n",
    "        \n",
    "        del self.vocab, self.word2idx, self.idx2word\n",
    "        self.vocab = defaultdict(int)\n",
    "        self.word2idx = None\n",
    "        self.idx2word = None\n",
    "\n",
    "        \n",
    "    def save(self, nome_file, tokens = False):\n",
    "        \n",
    "        \"\"\"\n",
    "        Con tokens = True salva il vocabolario senza frequenze\n",
    "        \"\"\"\n",
    "        \n",
    "        dati = self.vocab\n",
    "        \n",
    "        if tokens:\n",
    "            self.reduce()\n",
    "            dati = self.word2idx\n",
    "        \n",
    "        with open(nome_file, 'w', encoding='utf-8') as f:\n",
    "            json.dump(dati, f, ensure_ascii=False, indent=4)\n",
    "\n",
    "            \n",
    "    def load(self, nome_file, tokens = False):\n",
    "        \n",
    "        \"\"\"\n",
    "        Con tokens = True carica il vocabolario senza frequenze\n",
    "        \"\"\"\n",
    "        \n",
    "        with open(nome_file, 'r') as f:\n",
    "            self.vocab = json.load(f)\n",
    "            \n",
    "            print(f\"Sono stati caricati n.{len(self.vocab)} elementi\")\n",
    "            \n",
    "        if self.tokens:\n",
    "            self.reduce()\n",
    "        \n",
    "        \n",
    "    def get(self):\n",
    "        \n",
    "        \"\"\"\n",
    "        Restituisce il vocabolario\n",
    "        \"\"\"\n",
    "        \n",
    "        return self.vocab\n",
    "        \n",
    "    \n",
    "    def get_tokens(self):\n",
    "        \n",
    "        \"\"\"\n",
    "        Restituisce il dict con gli indici\n",
    "        \"\"\"\n",
    "        \n",
    "        if self.word2idx is None or self.idx2word is None:\n",
    "            self.reduce()\n",
    "            \n",
    "        return self.word2idx, self.idx2word\n",
    "    \n",
    "    def get_stats(self):\n",
    "        \n",
    "        data = [v for v in self.vocab.values()]\n",
    "        \n",
    "        self.stats = {}\n",
    "        self.stats['min'] = np.min(data)\n",
    "        self.stats['media'] = np.mean(data)\n",
    "        self.stats['max'] = np.max(data)\n",
    "        \n",
    "        return self.stats"
   ]
  },
  {
   "cell_type": "markdown",
   "metadata": {},
   "source": [
    "##### Esempio uso classe"
   ]
  },
  {
   "cell_type": "code",
   "execution_count": 20,
   "metadata": {},
   "outputs": [],
   "source": [
    "vocab = Vocabulary()"
   ]
  },
  {
   "cell_type": "code",
   "execution_count": 21,
   "metadata": {},
   "outputs": [],
   "source": [
    "for parola in lista_esempio:\n",
    "    vocab.builder(parola)"
   ]
  },
  {
   "cell_type": "code",
   "execution_count": 22,
   "metadata": {},
   "outputs": [
    {
     "data": {
      "text/plain": [
       "defaultdict(int, {'parola1': 3, 'parola2': 2})"
      ]
     },
     "execution_count": 22,
     "metadata": {},
     "output_type": "execute_result"
    }
   ],
   "source": [
    "vocab.vocab"
   ]
  },
  {
   "cell_type": "code",
   "execution_count": 23,
   "metadata": {},
   "outputs": [
    {
     "data": {
      "text/plain": [
       "{'min': 2, 'media': 2.5, 'max': 3}"
      ]
     },
     "execution_count": 23,
     "metadata": {},
     "output_type": "execute_result"
    }
   ],
   "source": [
    "vocab.get_stats()"
   ]
  },
  {
   "cell_type": "code",
   "execution_count": 24,
   "metadata": {},
   "outputs": [
    {
     "name": "stdout",
     "output_type": "stream",
     "text": [
      "Dopo la riduzione ci sono n.2 elementi\n"
     ]
    }
   ],
   "source": [
    "vocab.reduce(lambda x,y=1,z=2: x>=y and x<=z)"
   ]
  },
  {
   "cell_type": "code",
   "execution_count": 25,
   "metadata": {},
   "outputs": [
    {
     "data": {
      "text/plain": [
       "(defaultdict(int, {'OOV': 0, 'parola2': 1}),\n",
       " defaultdict(None, {'0': 'OOV', '1': 'parola2'}))"
      ]
     },
     "execution_count": 25,
     "metadata": {},
     "output_type": "execute_result"
    }
   ],
   "source": [
    "vocab.get_tokens()"
   ]
  },
  {
   "cell_type": "code",
   "execution_count": 26,
   "metadata": {},
   "outputs": [
    {
     "name": "stdout",
     "output_type": "stream",
     "text": [
      "Sono stati caricati n.81039 elementi\n"
     ]
    }
   ],
   "source": [
    "vocab = Vocabulary('vocab.json', tokens = False)\n",
    "vocab.import_stopwords(\"stopwords_ita.txt\")"
   ]
  },
  {
   "cell_type": "code",
   "execution_count": 27,
   "metadata": {},
   "outputs": [
    {
     "data": {
      "text/plain": [
       "{'min': 1, 'media': 17.437838571551968, 'max': 26707}"
      ]
     },
     "execution_count": 27,
     "metadata": {},
     "output_type": "execute_result"
    }
   ],
   "source": [
    "vocab.get_stats()"
   ]
  },
  {
   "cell_type": "code",
   "execution_count": 28,
   "metadata": {},
   "outputs": [
    {
     "name": "stdout",
     "output_type": "stream",
     "text": [
      "Dopo la riduzione ci sono n.18936 elementi\n"
     ]
    }
   ],
   "source": [
    "vocab.reduce(lambda x,y=5,z=18*10: x>=y and x<=z)"
   ]
  },
  {
   "cell_type": "markdown",
   "metadata": {},
   "source": [
    "##### Le seguenti variabili saranno usate per la costruzione del WordCloud"
   ]
  },
  {
   "cell_type": "code",
   "execution_count": 29,
   "metadata": {},
   "outputs": [],
   "source": [
    "salute = \"\"\n",
    "tecnologia = \"\"\n",
    "sport = \"\""
   ]
  },
  {
   "cell_type": "markdown",
   "metadata": {},
   "source": [
    "#####  la seguente porzione di codice serve per costruire il vocaboraio e conteggiare la frequenza del numero di parole"
   ]
  },
  {
   "cell_type": "markdown",
   "metadata": {},
   "source": [
    "(Per risparmiare tempo non lo andrò ad eseguire in live)"
   ]
  },
  {
   "cell_type": "code",
   "execution_count": 36,
   "metadata": {},
   "outputs": [
    {
     "name": "stdout",
     "output_type": "stream",
     "text": [
      "Fine\n"
     ]
    }
   ],
   "source": [
    "vocabs = Vocabulary()\n",
    "vocabs.import_stopwords(\"stopwords_ita.txt\")\n",
    "\n",
    "while True:\n",
    "        \n",
    "    try:\n",
    "    \n",
    "        articolo = next(articoli)\n",
    "        estrati_dati(articolo)\n",
    "        \n",
    "        dati = estrati_dati(articolo)\n",
    "        classe = dati[1]\n",
    "                \n",
    "        doc = nlp(dati[0])\n",
    "                \n",
    "        tokens = [token.lemma_ for token in doc if not (token.lemma_ in vocabs.stopwords)]\n",
    "        \n",
    "        for token in tokens:\n",
    "            \n",
    "            if len(str(token)) > 3:\n",
    "\n",
    "                vocabs.builder(token)\n",
    "\n",
    "\n",
    "\n",
    "                \"\"\"\n",
    "                Il seguente codice servirà per la costruzione del WordCloud\n",
    "                \"\"\"\n",
    "\n",
    "                if classe == \"salute\":\n",
    "\n",
    "                    salute += \" \" + str(token)\n",
    "\n",
    "                elif classe == \"sport\":\n",
    "\n",
    "                    sport += \" \" + str(token)\n",
    "\n",
    "                else:\n",
    "\n",
    "                    tecnologia += \" \" + str(token)\n",
    "            \n",
    "    \n",
    "    except StopIteration:\n",
    "        print(\"Fine\")\n",
    "        break"
   ]
  },
  {
   "cell_type": "code",
   "execution_count": 38,
   "metadata": {},
   "outputs": [],
   "source": [
    "from wordcloud import WordCloud, STOPWORDS, ImageColorGenerator\n",
    "import matplotlib.pyplot as plt"
   ]
  },
  {
   "cell_type": "code",
   "execution_count": 39,
   "metadata": {},
   "outputs": [
    {
     "data": {
      "image/png": "[encoded data removed]",
      "text/plain": [
       "<Figure size 432x288 with 1 Axes>"
      ]
     },
     "metadata": {
      "needs_background": "light"
     },
     "output_type": "display_data"
    }
   ],
   "source": [
    "wordcloud = WordCloud(max_font_size=50, max_words=25, background_color='blue', colormap='autumn')\n",
    "wordcloud.generate(salute)\n",
    "\n",
    "plt.figure()\n",
    "plt.title(\"Salute\")\n",
    "plt.imshow(wordcloud, interpolation='bilinear')\n",
    "plt.axis('off')\n",
    "plt.show()"
   ]
  },
  {
   "cell_type": "code",
   "execution_count": 40,
   "metadata": {},
   "outputs": [
    {
     "data": {
      "image/png": "[encoded data removed]",
      "text/plain": [
       "<Figure size 432x288 with 1 Axes>"
      ]
     },
     "metadata": {
      "needs_background": "light"
     },
     "output_type": "display_data"
    }
   ],
   "source": [
    "wordcloud = WordCloud(max_font_size=50, max_words=25, background_color='blue', colormap='autumn')\n",
    "wordcloud.generate(tecnologia)\n",
    "\n",
    "plt.figure()\n",
    "plt.title(\"Tecnologia\")\n",
    "plt.imshow(wordcloud, interpolation='bilinear')\n",
    "plt.axis('off')\n",
    "plt.show()"
   ]
  },
  {
   "cell_type": "code",
   "execution_count": 41,
   "metadata": {},
   "outputs": [
    {
     "data": {
      "image/png": "[encoded data removed]",
      "text/plain": [
       "<Figure size 432x288 with 1 Axes>"
      ]
     },
     "metadata": {
      "needs_background": "light"
     },
     "output_type": "display_data"
    }
   ],
   "source": [
    "wordcloud = WordCloud(max_font_size=50, max_words=25, background_color='blue', colormap='autumn')\n",
    "wordcloud.generate(sport)\n",
    "\n",
    "plt.figure()\n",
    "plt.title(\"Sport\")\n",
    "plt.imshow(wordcloud, interpolation='bilinear')\n",
    "plt.axis('off')\n",
    "plt.show()"
   ]
  },
  {
   "cell_type": "code",
   "execution_count": 42,
   "metadata": {},
   "outputs": [],
   "source": [
    "from sklearn.feature_extraction.text import CountVectorizer"
   ]
  },
  {
   "cell_type": "markdown",
   "metadata": {},
   "source": [
    "##### Spiegazione"
   ]
  },
  {
   "cell_type": "code",
   "execution_count": 43,
   "metadata": {},
   "outputs": [],
   "source": [
    "cv_esempio = CountVectorizer()"
   ]
  },
  {
   "cell_type": "code",
   "execution_count": 44,
   "metadata": {},
   "outputs": [],
   "source": [
    "testo_prova = \"primo testo di prova\"\n",
    "testo_test = \"secondo testo di prova\""
   ]
  },
  {
   "cell_type": "code",
   "execution_count": 45,
   "metadata": {},
   "outputs": [
    {
     "data": {
      "text/plain": [
       "['di', 'primo', 'prova', 'testo']"
      ]
     },
     "execution_count": 45,
     "metadata": {},
     "output_type": "execute_result"
    }
   ],
   "source": [
    "cv_esempio.fit(testo_prova.split(\" \"))\n",
    "\n",
    "cv_esempio.get_feature_names()"
   ]
  },
  {
   "cell_type": "code",
   "execution_count": 46,
   "metadata": {},
   "outputs": [
    {
     "name": "stdout",
     "output_type": "stream",
     "text": [
      "primo testo di prova\n"
     ]
    },
    {
     "data": {
      "text/plain": [
       "array([[0, 1, 0, 0],\n",
       "       [0, 0, 0, 1],\n",
       "       [1, 0, 0, 0],\n",
       "       [0, 0, 1, 0]])"
      ]
     },
     "execution_count": 46,
     "metadata": {},
     "output_type": "execute_result"
    }
   ],
   "source": [
    "print(testo_prova)\n",
    "\n",
    "cv_esempio.transform(testo_prova.split(\" \")).toarray()"
   ]
  },
  {
   "cell_type": "code",
   "execution_count": 47,
   "metadata": {},
   "outputs": [
    {
     "name": "stdout",
     "output_type": "stream",
     "text": [
      "secondo testo di prova\n"
     ]
    },
    {
     "data": {
      "text/plain": [
       "array([[0, 0, 0, 0],\n",
       "       [0, 0, 0, 1],\n",
       "       [1, 0, 0, 0],\n",
       "       [0, 0, 1, 0]])"
      ]
     },
     "execution_count": 47,
     "metadata": {},
     "output_type": "execute_result"
    }
   ],
   "source": [
    "print(testo_test)\n",
    "\n",
    "cv_esempio.transform(testo_test.split(\" \")).toarray()"
   ]
  },
  {
   "cell_type": "code",
   "execution_count": 48,
   "metadata": {},
   "outputs": [
    {
     "data": {
      "text/plain": [
       "array([1, 0, 1, 1])"
      ]
     },
     "execution_count": 48,
     "metadata": {},
     "output_type": "execute_result"
    }
   ],
   "source": [
    "np.max(cv_esempio.transform(testo_test.split(\" \")).toarray(), axis=0)"
   ]
  },
  {
   "cell_type": "code",
   "execution_count": 49,
   "metadata": {},
   "outputs": [
    {
     "data": {
      "text/html": [
       "<div>\n",
       "<style scoped>\n",
       "    .dataframe tbody tr th:only-of-type {\n",
       "        vertical-align: middle;\n",
       "    }\n",
       "\n",
       "    .dataframe tbody tr th {\n",
       "        vertical-align: top;\n",
       "    }\n",
       "\n",
       "    .dataframe thead th {\n",
       "        text-align: right;\n",
       "    }\n",
       "</style>\n",
       "<table border=\"1\" class=\"dataframe\">\n",
       "  <thead>\n",
       "    <tr style=\"text-align: right;\">\n",
       "      <th></th>\n",
       "      <th>di</th>\n",
       "      <th>primo</th>\n",
       "      <th>prova</th>\n",
       "      <th>testo</th>\n",
       "    </tr>\n",
       "  </thead>\n",
       "  <tbody>\n",
       "    <tr>\n",
       "      <th>0</th>\n",
       "      <td>1</td>\n",
       "      <td>0</td>\n",
       "      <td>1</td>\n",
       "      <td>1</td>\n",
       "    </tr>\n",
       "  </tbody>\n",
       "</table>\n",
       "</div>"
      ],
      "text/plain": [
       "   di  primo  prova  testo\n",
       "0   1      0      1      1"
      ]
     },
     "execution_count": 49,
     "metadata": {},
     "output_type": "execute_result"
    }
   ],
   "source": [
    "df = pd.DataFrame(data = np.max(cv_esempio.transform(testo_test.split(\" \")).toarray(), axis=0).reshape((1,4)), \\\n",
    "                  columns=cv_esempio.get_feature_names())\n",
    "df"
   ]
  },
  {
   "cell_type": "code",
   "execution_count": 55,
   "metadata": {},
   "outputs": [
    {
     "name": "stdout",
     "output_type": "stream",
     "text": [
      "Sono stati caricati n.81039 elementi\n",
      "Dopo la riduzione ci sono n.18101 elementi\n"
     ]
    }
   ],
   "source": [
    "vocab = Vocabulary('vocab.json', tokens = True)\n",
    "vocab.import_stopwords(\"stopwords_ita.txt\")"
   ]
  },
  {
   "cell_type": "markdown",
   "metadata": {},
   "source": [
    "##### Applicazione"
   ]
  },
  {
   "cell_type": "code",
   "execution_count": 52,
   "metadata": {},
   "outputs": [],
   "source": [
    "cv = CountVectorizer(vocabulary = vocab.word2idx)"
   ]
  },
  {
   "cell_type": "code",
   "execution_count": 53,
   "metadata": {},
   "outputs": [
    {
     "data": {
      "text/plain": [
       "[0, 2, 1]"
      ]
     },
     "execution_count": 53,
     "metadata": {},
     "output_type": "execute_result"
    }
   ],
   "source": [
    "from sklearn.preprocessing import LabelEncoder\n",
    "labelencoder = LabelEncoder()\n",
    "\n",
    "classes = labelencoder.fit_transform(['salute','tecnologia','sport'])\n",
    "classes = classes.tolist()\n",
    "classes"
   ]
  },
  {
   "cell_type": "code",
   "execution_count": 54,
   "metadata": {},
   "outputs": [
    {
     "data": {
      "text/plain": [
       "0"
      ]
     },
     "execution_count": 54,
     "metadata": {},
     "output_type": "execute_result"
    }
   ],
   "source": [
    "labelencoder.transform(['salute'])[0]"
   ]
  },
  {
   "cell_type": "code",
   "execution_count": 159,
   "metadata": {},
   "outputs": [],
   "source": [
    "def preparazione_dati(articolo):\n",
    "\n",
    "        estrati_dati(articolo)\n",
    "\n",
    "        dati = estrati_dati(articolo)\n",
    "                \n",
    "        y = dati[1]\n",
    "        \n",
    "        y = labelencoder.transform([y])[0]\n",
    "\n",
    "        doc = nlp(dati[0])\n",
    "        \n",
    "        \"\"\"\n",
    "        Esclude le parole che sono stopwords e trasforma in OOV le parole non comprese nel vocabolario\n",
    "        \"\"\"\n",
    "\n",
    "        tokens = [token.lemma_ if token.lemma_ in vocab.word2idx.keys() else 'OOV' for token in doc if not (token.lemma_ in vocab.stopwords)]\n",
    "\n",
    "        testo = \"\"\n",
    "\n",
    "        for token in tokens:\n",
    "           \n",
    "            testo += \" \" + token\n",
    "            \n",
    "        X = cv.transform(testo.split()).toarray()\n",
    "        X = np.max(X, axis=0).tolist()\n",
    "        \n",
    "        return X, y"
   ]
  },
  {
   "cell_type": "code",
   "execution_count": 160,
   "metadata": {},
   "outputs": [],
   "source": [
    "articoli = iter(glob.glob(\"archivio/*.txt\"))"
   ]
  },
  {
   "cell_type": "code",
   "execution_count": 161,
   "metadata": {},
   "outputs": [],
   "source": [
    "from sklearn.neural_network import MLPClassifier\n",
    "from sklearn.linear_model import SGDClassifier\n",
    "\n",
    "classifier = SGDClassifier(fit_intercept=False)"
   ]
  },
  {
   "cell_type": "code",
   "execution_count": 162,
   "metadata": {},
   "outputs": [
    {
     "name": "stdout",
     "output_type": "stream",
     "text": [
      "Fine\n"
     ]
    }
   ],
   "source": [
    "arr_X, arr_y = [], []\n",
    "\n",
    "i = 0\n",
    "batch_size = 64\n",
    "\n",
    "while True:\n",
    "    \n",
    "    \n",
    "    try:\n",
    "        \n",
    "        i += 1\n",
    "        \n",
    "        if i > 1024:\n",
    "            raise StopIteration\n",
    "\n",
    "        articolo = next(articoli)\n",
    "        risp = preparazione_dati(articolo)\n",
    "\n",
    "        arr_X.append(risp[0])\n",
    "        arr_y.append(risp[1]) \n",
    "\n",
    "        if i % batch_size == 0:\n",
    "\n",
    "            classifier.partial_fit(arr_X, arr_y, classes)\n",
    "\n",
    "            arr_X, arr_y = [], []\n",
    "                    \n",
    "    except StopIteration:\n",
    "        print(\"Fine\")\n",
    "        break\n"
   ]
  },
  {
   "cell_type": "markdown",
   "metadata": {},
   "source": [
    "##### Qualche dettaglio sul classificatore"
   ]
  },
  {
   "cell_type": "code",
   "execution_count": 163,
   "metadata": {},
   "outputs": [
    {
     "data": {
      "text/plain": [
       "0"
      ]
     },
     "execution_count": 163,
     "metadata": {},
     "output_type": "execute_result"
    }
   ],
   "source": [
    "labelencoder.transform(['salute'])[0]"
   ]
  },
  {
   "cell_type": "code",
   "execution_count": 164,
   "metadata": {},
   "outputs": [
    {
     "name": "stdout",
     "output_type": "stream",
     "text": [
      "18101\n",
      "18101\n"
     ]
    }
   ],
   "source": [
    "print(len(classifier.coef_[0]))\n",
    "print(len(vocab.idx2word))"
   ]
  },
  {
   "cell_type": "code",
   "execution_count": 165,
   "metadata": {},
   "outputs": [
    {
     "data": {
      "text/plain": [
       "79.09045971329701"
      ]
     },
     "execution_count": 165,
     "metadata": {},
     "output_type": "execute_result"
    }
   ],
   "source": [
    "# Valore max\n",
    "np.max(classifier.coef_[0])"
   ]
  },
  {
   "cell_type": "code",
   "execution_count": 166,
   "metadata": {},
   "outputs": [
    {
     "name": "stdout",
     "output_type": "stream",
     "text": [
      "1559\n"
     ]
    }
   ],
   "source": [
    "# Indice della parola con valore max\n",
    "indice = str(np.argmax(classifier.coef_[0]))\n",
    "print(indice)"
   ]
  },
  {
   "cell_type": "code",
   "execution_count": 167,
   "metadata": {},
   "outputs": [
    {
     "data": {
      "text/plain": [
       "'malattia'"
      ]
     },
     "execution_count": 167,
     "metadata": {},
     "output_type": "execute_result"
    }
   ],
   "source": [
    "# Parola con valore max\n",
    "vocab.idx2word[indice]"
   ]
  },
  {
   "cell_type": "code",
   "execution_count": 190,
   "metadata": {},
   "outputs": [],
   "source": [
    "tot = {k:v for k,v in zip(vocab.word2idx.keys(), classifier.coef_[0])}"
   ]
  },
  {
   "cell_type": "code",
   "execution_count": 191,
   "metadata": {},
   "outputs": [],
   "source": [
    "tot_salute = {k:v for k,v in sorted(tot.items(), key=lambda item: item[1], reverse=True)}"
   ]
  },
  {
   "cell_type": "code",
   "execution_count": 192,
   "metadata": {},
   "outputs": [
    {
     "name": "stdout",
     "output_type": "stream",
     "text": [
      "Prime 10 parole:\n",
      "                      0\n",
      "malattia     79.090460\n",
      "sanitario    59.317845\n",
      "sanità       54.374691\n",
      "persona      54.374691\n",
      "donna        54.374691\n",
      "medical      54.374691\n",
      "riguardare   49.431537\n",
      "medicare     49.431537\n",
      "prevenzione  49.431537\n",
      "riferimento  44.488384\n",
      "\n",
      "\n",
      "Ultime 10 parole:\n",
      "                      0\n",
      "impiegare   -49.431537\n",
      "mercato     -49.431537\n",
      "calciare    -54.374691\n",
      "importare   -54.374691\n",
      "tipo        -59.317845\n",
      "lanciare    -59.317845\n",
      "sportivo    -64.260999\n",
      "tecnico     -74.147306\n",
      "evoluzione  -79.090460\n",
      "tecnologico -93.919921\n"
     ]
    }
   ],
   "source": [
    "df = pd.DataFrame()\n",
    "df = df.from_dict(tot_salute, orient='index')\n",
    "\n",
    "print(f\"Prime 10 parole:\\n {df.head(10)}\\n\\n\")\n",
    "\n",
    "print(f\"Ultime 10 parole:\\n {df.tail(10)}\")"
   ]
  },
  {
   "cell_type": "code",
   "execution_count": 79,
   "metadata": {},
   "outputs": [],
   "source": [
    "# articoli = iter(glob.glob(\"archivio/*.txt\"))"
   ]
  },
  {
   "cell_type": "markdown",
   "metadata": {},
   "source": [
    "##### Vediamo cosa accade quando il classificatore tenta di prevedere la classe di appartenenza per il resto degli articoli"
   ]
  },
  {
   "cell_type": "code",
   "execution_count": 172,
   "metadata": {},
   "outputs": [],
   "source": [
    "articolo = next(articoli)\n",
    "risp = preparazione_dati(articolo)"
   ]
  },
  {
   "cell_type": "code",
   "execution_count": 173,
   "metadata": {},
   "outputs": [
    {
     "data": {
      "text/plain": [
       "0"
      ]
     },
     "execution_count": 173,
     "metadata": {},
     "output_type": "execute_result"
    }
   ],
   "source": [
    "# Classe di appartenenza dell'articolo\n",
    "risp[1]"
   ]
  },
  {
   "cell_type": "code",
   "execution_count": 174,
   "metadata": {},
   "outputs": [
    {
     "data": {
      "text/plain": [
       "0"
      ]
     },
     "execution_count": 174,
     "metadata": {},
     "output_type": "execute_result"
    }
   ],
   "source": [
    "# Classe prevista dal classificatore\n",
    "classifier.predict([risp[0]])[0]"
   ]
  },
  {
   "cell_type": "code",
   "execution_count": 175,
   "metadata": {},
   "outputs": [
    {
     "name": "stdout",
     "output_type": "stream",
     "text": [
      "partial 0.87\n",
      "partial 0.865\n",
      "partial 0.87\n",
      "partial 0.875\n",
      "Fine: 0.8636363636363636\n"
     ]
    }
   ],
   "source": [
    "n = 0\n",
    "correct = 0\n",
    "total = 0\n",
    "\n",
    "while True:\n",
    "    \n",
    "    n += 1\n",
    "\n",
    "    try:\n",
    "        \n",
    "        total += 1\n",
    "        \n",
    "        articolo = next(articoli)\n",
    "        \n",
    "        risp = preparazione_dati(articolo)\n",
    "        \n",
    "        \"\"\"\n",
    "        Costruzione manuale dell'accuracy\n",
    "        \"\"\"\n",
    "        if risp[1] == classifier.predict([risp[0]])[0]:\n",
    "            \n",
    "            correct += 1\n",
    "            \n",
    "        if n % 100 == 0:\n",
    "            print(f\"partial {correct/total}\")\n",
    "            \n",
    "                \n",
    "    except StopIteration:\n",
    "        print(f\"Fine: {correct/total}\")\n",
    "        break"
   ]
  }
 ],
 "metadata": {
  "kernelspec": {
   "display_name": "Python 3",
   "language": "python",
   "name": "python3"
  },
  "language_info": {
   "codemirror_mode": {
    "name": "ipython",
    "version": 3
   },
   "file_extension": ".py",
   "mimetype": "text/x-python",
   "name": "python",
   "nbconvert_exporter": "python",
   "pygments_lexer": "ipython3",
   "version": "3.8.5"
  }
 },
 "nbformat": 4,
 "nbformat_minor": 4
}

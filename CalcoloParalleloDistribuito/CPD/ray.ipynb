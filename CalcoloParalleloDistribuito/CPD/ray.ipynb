{
 "cells": [
  {
   "cell_type": "code",
   "execution_count": 1,
   "metadata": {
    "collapsed": true
   },
   "outputs": [],
   "source": [
    "# Start del server ray\n",
    "# ray start --head --port=6379\n",
    "# Connesione alla dashboard\n",
    "# http://127.0.0.1:8265/#/\n",
    "# Add di nuovi nodi\n",
    "#ray start --address='....' --redis-password='....'"
   ]
  },
  {
   "cell_type": "code",
   "execution_count": 1,
   "metadata": {
    "pycharm": {
     "name": "#%%\n"
    }
   },
   "outputs": [
    {
     "name": "stderr",
     "output_type": "stream",
     "text": [
      "2021-05-24 21:50:51,158\tINFO worker.py:640 -- Connecting to existing Ray cluster at address: 192.168.178.38:6379\n"
     ]
    },
    {
     "data": {
      "text/plain": [
       "{'node_ip_address': '192.168.178.38',\n",
       " 'raylet_ip_address': '192.168.178.38',\n",
       " 'redis_address': '192.168.178.38:6379',\n",
       " 'object_store_address': '/tmp/ray/session_2021-05-24_21-48-16_345297_11341/sockets/plasma_store',\n",
       " 'raylet_socket_name': '/tmp/ray/session_2021-05-24_21-48-16_345297_11341/sockets/raylet',\n",
       " 'webui_url': '127.0.0.1:8265',\n",
       " 'session_dir': '/tmp/ray/session_2021-05-24_21-48-16_345297_11341',\n",
       " 'metrics_export_port': 57574,\n",
       " 'node_id': 'a898c8c5d107f2ee1687afc1081e9d0e5e6ff4e1c1541ca6fbb83bc7'}"
      ]
     },
     "execution_count": 1,
     "metadata": {},
     "output_type": "execute_result"
    }
   ],
   "source": [
    "import time\n",
    "import ray\n",
    "\n",
    "ray.init(address='auto', ignore_reinit_error=True)\n",
    "#ray.util.connect('192.168.178.38:10001')"
   ]
  },
  {
   "cell_type": "code",
   "execution_count": 2,
   "metadata": {
    "pycharm": {
     "name": "#%%\n"
    }
   },
   "outputs": [],
   "source": [
    "def tiny_work(x):\n",
    "    x = sum([i * i for i in range(x)])# replace this is with work you need to do\n",
    "    return x\n",
    "\n",
    "@ray.remote\n",
    "def ray_mega_work(start, end):\n",
    "    return sum([tiny_work(x) for x in range(start, end)])\n",
    "\n",
    "def mega_work(start, end):\n",
    "    return sum([tiny_work(x) for x in range(start, end)])"
   ]
  },
  {
   "cell_type": "code",
   "execution_count": 3,
   "metadata": {
    "pycharm": {
     "name": "#%%\n"
    }
   },
   "outputs": [
    {
     "name": "stdout",
     "output_type": "stream",
     "text": [
      "duration = 88.37858510017395\n"
     ]
    }
   ],
   "source": [
    "start = time.time()\n",
    "result_ids = []\n",
    "[result_ids.append(mega_work(x*1000, (x+1)*1000)) for x in range(50)]\n",
    "print(\"duration =\", time.time() - start)\n",
    "\n"
   ]
  },
  {
   "cell_type": "code",
   "execution_count": 5,
   "metadata": {
    "pycharm": {
     "name": "#%%\n"
    }
   },
   "outputs": [
    {
     "name": "stdout",
     "output_type": "stream",
     "text": [
      "duration = 18.90181016921997\n"
     ]
    }
   ],
   "source": [
    "start = time.time()\n",
    "result_ids = []\n",
    "[result_ids.append(ray_mega_work.remote(x*1000, (x+1)*1000)) for x in range(50)]\n",
    "results = ray.get(result_ids)\n",
    "print(\"duration =\", time.time() - start)"
   ]
  },
  {
   "cell_type": "code",
   "execution_count": 5,
   "metadata": {
    "pycharm": {
     "name": "#%%\n"
    }
   },
   "outputs": [],
   "source": []
  }
 ],
 "metadata": {
  "kernelspec": {
   "display_name": "Python 3",
   "language": "python",
   "name": "python3"
  },
  "language_info": {
   "codemirror_mode": {
    "name": "ipython",
    "version": 3
   },
   "file_extension": ".py",
   "mimetype": "text/x-python",
   "name": "python",
   "nbconvert_exporter": "python",
   "pygments_lexer": "ipython3",
   "version": "3.8.5"
  }
 },
 "nbformat": 4,
 "nbformat_minor": 1
}
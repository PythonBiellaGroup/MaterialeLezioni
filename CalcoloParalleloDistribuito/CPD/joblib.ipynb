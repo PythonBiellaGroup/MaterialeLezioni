{
 "cells": [
  {
   "cell_type": "code",
   "execution_count": 1,
   "metadata": {},
   "outputs": [],
   "source": [
    "from joblib import Memory\n",
    "from numpy.linalg import linalg\n",
    "import numpy as np\n"
   ]
  },
  {
   "cell_type": "code",
   "execution_count": 2,
   "metadata": {
    "pycharm": {
     "name": "#%%\n"
    }
   },
   "outputs": [],
   "source": [
    "# Creo una cache di nome mem\n",
    "cachedir = './cache'\n",
    "mem = Memory(cachedir)\n",
    "\n"
   ]
  },
  {
   "cell_type": "code",
   "execution_count": 3,
   "metadata": {
    "pycharm": {
     "name": "#%%\n"
    }
   },
   "outputs": [],
   "source": [
    "# Registro la funzione f, alla cache mem\n",
    "@mem.cache\n",
    "def f(x):\n",
    "     print('Running f(%s)', x+2)\n",
    "     return x+2"
   ]
  },
  {
   "cell_type": "code",
   "execution_count": 4,
   "metadata": {
    "pycharm": {
     "name": "#%%\n"
    }
   },
   "outputs": [
    {
     "name": "stdout",
     "output_type": "stream",
     "text": [
      "3\n"
     ]
    }
   ],
   "source": [
    "# Computo la funzione f per la prima volta\n",
    "print(f(1))"
   ]
  },
  {
   "cell_type": "code",
   "execution_count": 5,
   "metadata": {
    "pycharm": {
     "name": "#%%\n"
    }
   },
   "outputs": [
    {
     "name": "stdout",
     "output_type": "stream",
     "text": [
      "3\n"
     ]
    }
   ],
   "source": [
    "# Computo f una seconda volta, ma il valore e nella cache\n",
    "print(f(1))"
   ]
  },
  {
   "cell_type": "code",
   "execution_count": 6,
   "metadata": {
    "pycharm": {
     "name": "#%%\n"
    }
   },
   "outputs": [
    {
     "name": "stdout",
     "output_type": "stream",
     "text": [
      "________________________________________________________________________________\n",
      "[Memory] Calling numpy.linalg.svd...\n",
      "svd(array([[10.      , ...,  0.445216],\n",
      "       ...,\n",
      "       [ 0.259933, ...,  0.635653]]))\n",
      "_____________________________________________________________svd - 14.2s, 0.2min\n"
     ]
    }
   ],
   "source": [
    "# Un'altro approcio per registrare le funzioni in cache\n",
    "\n",
    "np.random.seed(123)\n",
    "\n",
    "a = np.random.rand(2000, 3000)\n",
    "a[0,0] = 10\n",
    "svd = mem.cache(linalg.svd)\n",
    "b = svd(a)"
   ]
  },
  {
   "cell_type": "code",
   "execution_count": 7,
   "metadata": {
    "pycharm": {
     "name": "#%%\n"
    }
   },
   "outputs": [],
   "source": [
    "c = svd(a)\n",
    "\n"
   ]
  },
  {
   "cell_type": "code",
   "execution_count": 18,
   "metadata": {
    "pycharm": {
     "name": "#%%\n"
    }
   },
   "outputs": [],
   "source": [
    "# Fonte: https://joblib.readthedocs.io/en/latest/auto_examples/nested_parallel_memory.html#sphx-glr-auto-examples-nested-parallel-memory-py\n",
    "\n",
    "# Dichiarazione funzioni\n",
    "\n",
    "import time\n",
    "\n",
    "\n",
    "def costly_compute(data, column):\n",
    "    \"\"\"Emulate a costly function by sleeping and returning a column.\"\"\"\n",
    "    time.sleep(2)\n",
    "    return data[column]\n",
    "\n",
    "\n",
    "def data_processing_mean(data, column):\n",
    "    \"\"\"Compute the mean of a column.\"\"\"\n",
    "    return costly_compute(data, column).mean()\n",
    "\n",
    "\n",
    "import numpy as np\n",
    "rng = np.random.RandomState(323)\n",
    "data = rng.randn(int(1e4), 4)"
   ]
  },
  {
   "cell_type": "code",
   "execution_count": 19,
   "metadata": {
    "pycharm": {
     "name": "#%%\n"
    }
   },
   "outputs": [
    {
     "name": "stdout",
     "output_type": "stream",
     "text": [
      "\n",
      "Sequential processing\n",
      "Elapsed time for the entire processing: 8.01 s\n"
     ]
    }
   ],
   "source": [
    "# Baseline\n",
    "start = time.time()\n",
    "results = [data_processing_mean(data, col) for col in range(data.shape[1])]\n",
    "stop = time.time()\n",
    "\n",
    "print('\\nSequential processing')\n",
    "print('Elapsed time for the entire processing: {:.2f} s'\n",
    "      .format(stop - start))"
   ]
  },
  {
   "cell_type": "code",
   "execution_count": 20,
   "metadata": {
    "pycharm": {
     "name": "#%%\n"
    }
   },
   "outputs": [],
   "source": [
    "location = './cachedir'\n",
    "memory = Memory(location, verbose=0)\n",
    "costly_compute_cached = memory.cache(costly_compute)\n",
    "\n",
    "\n",
    "def data_processing_mean_using_cache(data, column):\n",
    "    \"\"\"Compute the mean of a column.\"\"\"\n",
    "    return costly_compute_cached(data, column).mean()"
   ]
  },
  {
   "cell_type": "code",
   "execution_count": 21,
   "metadata": {
    "pycharm": {
     "name": "#%%\n"
    }
   },
   "outputs": [
    {
     "name": "stdout",
     "output_type": "stream",
     "text": [
      "\n",
      "First round - caching the data\n",
      "Elapsed time for the entire processing: 2.02 s\n"
     ]
    }
   ],
   "source": [
    "from joblib import Parallel, delayed\n",
    "\n",
    "start = time.time()\n",
    "results = Parallel(n_jobs=4)(\n",
    "    delayed(data_processing_mean_using_cache)(data, col)\n",
    "    for col in range(data.shape[1]))\n",
    "stop = time.time()\n",
    "\n",
    "print('\\nFirst round - caching the data')\n",
    "print('Elapsed time for the entire processing: {:.2f} s'\n",
    "      .format(stop - start))\n"
   ]
  },
  {
   "cell_type": "code",
   "execution_count": 22,
   "metadata": {
    "pycharm": {
     "name": "#%%\n"
    }
   },
   "outputs": [
    {
     "name": "stdout",
     "output_type": "stream",
     "text": [
      "\n",
      "Second round - reloading from the cache\n",
      "Elapsed time for the entire processing: 0.39 s\n"
     ]
    }
   ],
   "source": [
    "start = time.time()\n",
    "results = Parallel(n_jobs=2)(\n",
    "    delayed(data_processing_mean_using_cache)(data, col)\n",
    "    for col in range(data.shape[1]))\n",
    "stop = time.time()\n",
    "\n",
    "print('\\nSecond round - reloading from the cache')\n",
    "print('Elapsed time for the entire processing: {:.2f} s'\n",
    "      .format(stop - start))\n"
   ]
  },
  {
   "cell_type": "code",
   "execution_count": 23,
   "metadata": {
    "pycharm": {
     "name": "#%%\n"
    }
   },
   "outputs": [
    {
     "name": "stdout",
     "output_type": "stream",
     "text": [
      "\n",
      "Reusing intermediate checkpoints\n",
      "Elapsed time for the entire processing: 0.02 s\n"
     ]
    }
   ],
   "source": [
    "def data_processing_max_using_cache(data, column):\n",
    "    \"\"\"Compute the max of a column.\"\"\"\n",
    "    return costly_compute_cached(data, column).max()\n",
    "\n",
    "\n",
    "start = time.time()\n",
    "results = Parallel(n_jobs=2)(\n",
    "    delayed(data_processing_max_using_cache)(data, col)\n",
    "    for col in range(data.shape[1]))\n",
    "stop = time.time()\n",
    "\n",
    "print('\\nReusing intermediate checkpoints')\n",
    "print('Elapsed time for the entire processing: {:.2f} s'\n",
    "      .format(stop - start))"
   ]
  },
  {
   "cell_type": "code",
   "execution_count": null,
   "metadata": {},
   "outputs": [],
   "source": []
  }
 ],
 "metadata": {
  "kernelspec": {
   "display_name": "Python 3",
   "language": "python",
   "name": "python3"
  },
  "language_info": {
   "codemirror_mode": {
    "name": "ipython",
    "version": 3
   },
   "file_extension": ".py",
   "mimetype": "text/x-python",
   "name": "python",
   "nbconvert_exporter": "python",
   "pygments_lexer": "ipython3",
   "version": "3.8.5"
  }
 },
 "nbformat": 4,
 "nbformat_minor": 1
}
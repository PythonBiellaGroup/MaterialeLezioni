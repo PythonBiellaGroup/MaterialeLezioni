{
 "cells": [
  {
   "cell_type": "code",
   "execution_count": 1,
   "metadata": {},
   "outputs": [],
   "source": [
    "import threading\n",
    "import time\n",
    "import requests\n",
    "\n",
    "def func(x,y):\n",
    "    #print(f'Sleeping {x}')\n",
    "    time.sleep(x)\n",
    "    #print(f'Done Sleeping {x}')\n",
    "    return y\n"
   ]
  },
  {
   "cell_type": "code",
   "execution_count": 2,
   "metadata": {
    "pycharm": {
     "name": "#%%\n"
    }
   },
   "outputs": [
    {
     "name": "stdout",
     "output_type": "stream",
     "text": [
      "0 Fishished\n",
      "1 Fishished\n",
      "2 Fishished\n",
      "3 Fishished\n",
      "4 Fishished\n",
      "5 Fishished\n",
      "6 Fishished\n",
      "7 Fishished\n",
      "8 Fishished\n",
      "9 Fishished\n",
      "0 Fishished\n",
      "1 Fishished\n",
      "2 Fishished\n",
      "3 Fishished\n",
      "4 Fishished\n",
      "5 Fishished\n",
      "6 Fishished\n",
      "7 Fishished\n",
      "8 Fishished\n",
      "9 Fishished\n",
      "0 Fishished\n",
      "1 Fishished\n",
      "2 Fishished\n",
      "3 Fishished\n",
      "4 Fishished\n",
      "5 Fishished\n",
      "6 Fishished\n",
      "7 Fishished\n",
      "8 Fishished\n",
      "9 Fishished\n",
      "0 Fishished\n",
      "1 Fishished\n",
      "2 Fishished\n",
      "3 Fishished\n",
      "4 Fishished\n",
      "5 Fishished\n",
      "6 Fishished\n",
      "7 Fishished\n",
      "8 Fishished\n",
      "9 Fishished\n",
      "0 Fishished\n",
      "1 Fishished\n",
      "2 Fishished\n",
      "3 Fishished\n",
      "4 Fishished\n",
      "5 Fishished\n",
      "6 Fishished\n",
      "7 Fishished\n",
      "8 Fishished\n",
      "9 Fishished\n",
      "0 Fishished\n",
      "1 Fishished\n",
      "2 Fishished\n",
      "3 Fishished\n",
      "4 Fishished\n",
      "5 Fishished\n",
      "6 Fishished\n",
      "7 Fishished\n",
      "8 Fishished\n",
      "9 Fishished\n",
      "0 Fishished\n",
      "1 Fishished\n",
      "2 Fishished\n",
      "3 Fishished\n",
      "4 Fishished\n",
      "5 Fishished\n",
      "6 Fishished\n",
      "7 Fishished\n",
      "8 Fishished\n",
      "9 Fishished\n",
      "0 Fishished\n",
      "1 Fishished\n",
      "2 Fishished\n",
      "3 Fishished\n",
      "4 Fishished\n",
      "5 Fishished\n",
      "6 Fishished\n",
      "7 Fishished\n",
      "8 Fishished\n",
      "9 Fishished\n",
      "10 s ± 1.42 ms per loop (mean ± std. dev. of 7 runs, 1 loop each)\n"
     ]
    }
   ],
   "source": [
    "%%timeit -n 1 -r 1 \n",
    "args = [1]*10\n",
    "\n",
    "for i, x in enumerate(args):\n",
    "    res = func(x, i)\n",
    "    print(res, 'Fishished')\n"
   ]
  },
  {
   "cell_type": "code",
   "execution_count": 4,
   "metadata": {
    "pycharm": {
     "name": "#%%\n"
    }
   },
   "outputs": [
    {
     "name": "stdout",
     "output_type": "stream",
     "text": [
      "204 µs ± 5.05 µs per loop (mean ± std. dev. of 7 runs, 10000 loops each)\n"
     ]
    }
   ],
   "source": [
    "%%timeit\n",
    "x = 1\n",
    "y = 1\n",
    "\n",
    "t1   = threading.Thread(target=func, args=[x, y])\n",
    "t2   = threading.Thread(target=func, args=[x, y])\n",
    "t1.start()\n",
    "t2.start()\n",
    "\n",
    "t1.join()\n",
    "t2.join()\n"
   ]
  },
  {
   "cell_type": "code",
   "execution_count": 5,
   "metadata": {
    "pycharm": {
     "name": "#%%\n"
    }
   },
   "outputs": [
    {
     "name": "stdout",
     "output_type": "stream",
     "text": [
      "0 Finished\n",
      "5 Finished\n",
      "3 Finished\n",
      "4 Finished\n",
      "1 Finished\n",
      "2 Finished\n",
      "6 Finished\n",
      "7 Finished\n",
      "8 Finished\n",
      "9 Finished\n",
      "6 Finished\n",
      "5 Finished\n",
      "4 Finished\n",
      "0 Finished\n",
      "7 Finished\n",
      "3 Finished\n",
      "1 Finished\n",
      "2 Finished\n",
      "8 Finished\n",
      "9 Finished\n",
      "0 Finished\n",
      "8 Finished\n",
      "5 Finished\n",
      "3 Finished\n",
      "6 Finished\n",
      "2 Finished\n",
      "1 Finished\n",
      "7 Finished\n",
      "4 Finished\n",
      "9 Finished\n",
      "0 Finished\n",
      "3 Finished\n",
      "4 Finished\n",
      "5 Finished\n",
      "1 Finished\n",
      "8 Finished\n",
      "7 Finished\n",
      "2 Finished\n",
      "9 Finished\n",
      "6 Finished\n",
      "5 Finished\n",
      "0 Finished\n",
      "1 Finished\n",
      "2 Finished\n",
      "8 Finished\n",
      "4 Finished\n",
      "3 Finished\n",
      "7 Finished\n",
      "9 Finished\n",
      "6 Finished\n",
      "2 Finished\n",
      "4 Finished\n",
      "5 Finished\n",
      "6 Finished\n",
      "7 Finished\n",
      "0 Finished\n",
      "9 Finished\n",
      "1 Finished\n",
      "3 Finished\n",
      "8 Finished\n",
      "3 Finished\n",
      "5 Finished\n",
      "7 Finished\n",
      "6 Finished\n",
      "2 Finished\n",
      "9 Finished\n",
      "8 Finished\n",
      "0 Finished\n",
      "4 Finished\n",
      "1 Finished\n",
      "1 Finished\n",
      "3 Finished\n",
      "5 Finished\n",
      "7 Finished\n",
      "6 Finished\n",
      "9 Finished\n",
      "0 Finished\n",
      "2 Finished\n",
      "8 Finished\n",
      "4 Finished\n",
      "1 s ± 1.08 ms per loop (mean ± std. dev. of 7 runs, 1 loop each)\n"
     ]
    }
   ],
   "source": [
    "%%timeit\n",
    "import concurrent.futures as cf\n",
    "\n",
    "args = [1]*10\n",
    "\n",
    "y = 1\n",
    "with cf.ThreadPoolExecutor() as ex:\n",
    "    res = [ex.submit(func, x, i) for i,x in enumerate(args)]\n",
    "\n",
    "    for f in cf.as_completed(res):\n",
    "        print(f.result(), 'Finished')"
   ]
  },
  {
   "cell_type": "code",
   "execution_count": 6,
   "metadata": {
    "pycharm": {
     "name": "#%%"
    }
   },
   "outputs": [],
   "source": [
    "import time\n",
    "import concurrent.futures as cf\n",
    "img_urls = [\n",
    "    'https://images.unsplash.com/photo-1516117172878-fd2c41f4a759',\n",
    "    'https://images.unsplash.com/photo-1532009324734-20a7a5813719',\n",
    "    'https://images.unsplash.com/photo-1524429656589-6633a470097c',\n",
    "    'https://images.unsplash.com/photo-1530224264768-7ff8c1789d79',\n",
    "    'https://images.unsplash.com/photo-1564135624576-c5c88640f235',\n",
    "    'https://images.unsplash.com/photo-1541698444083-023c97d3f4b6',\n",
    "    'https://images.unsplash.com/photo-1522364723953-452d3431c267',\n",
    "    'https://images.unsplash.com/photo-1513938709626-033611b8cc03',\n",
    "    'https://images.unsplash.com/photo-1507143550189-fed454f93097',\n",
    "    'https://images.unsplash.com/photo-1493976040374-85c8e12f0c0e',\n",
    "    'https://images.unsplash.com/photo-1504198453319-5ce911bafcde',\n",
    "    'https://images.unsplash.com/photo-1530122037265-a5f1f91d3b99',\n",
    "    'https://images.unsplash.com/photo-1516972810927-80185027ca84',\n",
    "    'https://images.unsplash.com/photo-1550439062-609e1531270e',\n",
    "    'https://images.unsplash.com/photo-1549692520-acc6669e2f0c'\n",
    "]"
   ]
  },
  {
   "cell_type": "code",
   "execution_count": 7,
   "metadata": {
    "pycharm": {
     "name": "#%%\n"
    }
   },
   "outputs": [
    {
     "name": "stdout",
     "output_type": "stream",
     "text": [
      "img/photo-1516117172878-fd2c41f4a759.jpg was downloaded...\n",
      "img/photo-1532009324734-20a7a5813719.jpg was downloaded...\n",
      "img/photo-1524429656589-6633a470097c.jpg was downloaded...\n",
      "img/photo-1530224264768-7ff8c1789d79.jpg was downloaded...\n",
      "img/photo-1564135624576-c5c88640f235.jpg was downloaded...\n",
      "img/photo-1541698444083-023c97d3f4b6.jpg was downloaded...\n",
      "img/photo-1522364723953-452d3431c267.jpg was downloaded...\n",
      "img/photo-1513938709626-033611b8cc03.jpg was downloaded...\n",
      "img/photo-1507143550189-fed454f93097.jpg was downloaded...\n",
      "img/photo-1493976040374-85c8e12f0c0e.jpg was downloaded...\n",
      "img/photo-1504198453319-5ce911bafcde.jpg was downloaded...\n",
      "img/photo-1530122037265-a5f1f91d3b99.jpg was downloaded...\n",
      "img/photo-1516972810927-80185027ca84.jpg was downloaded...\n",
      "img/photo-1550439062-609e1531270e.jpg was downloaded...\n",
      "img/photo-1549692520-acc6669e2f0c.jpg was downloaded...\n",
      "Finished in 61.34820992599998 seconds\n"
     ]
    }
   ],
   "source": [
    "\n",
    "def download_image(img_url):\n",
    "    img_bytes = requests.get(img_url).content\n",
    "    img_name = img_url.split('/')[3]\n",
    "    img_name = f'img/{img_name}.jpg'\n",
    "    with open(img_name, 'wb') as img_file:\n",
    "        img_file.write(img_bytes)\n",
    "        print(f'{img_name} was downloaded...')\n",
    "\n",
    "t1 = time.perf_counter()\n",
    "\n",
    "for image in img_urls:\n",
    "    download_image(image)\n",
    "\n",
    "t2 = time.perf_counter()\n",
    "print(f'Finished in {t2-t1} seconds')"
   ]
  },
  {
   "cell_type": "code",
   "execution_count": 10,
   "metadata": {
    "pycharm": {
     "name": "#%%\n"
    }
   },
   "outputs": [
    {
     "name": "stdout",
     "output_type": "stream",
     "text": [
      "img/photo-1530224264768-7ff8c1789d79.jpg was downloaded...\n",
      "img/photo-1564135624576-c5c88640f235.jpg was downloaded...\n",
      "img/photo-1524429656589-6633a470097c.jpg was downloaded...\n",
      "img/photo-1532009324734-20a7a5813719.jpg was downloaded...\n",
      "img/photo-1522364723953-452d3431c267.jpg was downloaded...\n",
      "img/photo-1507143550189-fed454f93097.jpg was downloaded...\n",
      "img/photo-1516117172878-fd2c41f4a759.jpg was downloaded...\n",
      "img/photo-1504198453319-5ce911bafcde.jpg was downloaded...\n",
      "img/photo-1513938709626-033611b8cc03.jpg was downloaded...\n",
      "img/photo-1516972810927-80185027ca84.jpg was downloaded...\n",
      "img/photo-1550439062-609e1531270e.jpg was downloaded...\n",
      "img/photo-1549692520-acc6669e2f0c.jpg was downloaded...\n",
      "img/photo-1541698444083-023c97d3f4b6.jpg was downloaded...\n",
      "img/photo-1530122037265-a5f1f91d3b99.jpg was downloaded...\n",
      "img/photo-1493976040374-85c8e12f0c0e.jpg was downloaded...\n",
      "Finished in 16.680086567997932 seconds\n"
     ]
    }
   ],
   "source": [
    "t1 = time.perf_counter()\n",
    "\n",
    "\n",
    "with cf.ThreadPoolExecutor(max_workers=4) as executor:\n",
    "    executor.map(download_image, img_urls)\n",
    "\n",
    "\n",
    "t2 = time.perf_counter()\n",
    "\n",
    "print(f'Finished in {t2-t1} seconds')"
   ]
  },
  {
   "cell_type": "code",
   "execution_count": 11,
   "metadata": {
    "pycharm": {
     "name": "#%%\n"
    }
   },
   "outputs": [
    {
     "name": "stdout",
     "output_type": "stream",
     "text": [
      "img/photo-1504198453319-5ce911bafcde.jpg was downloaded...\n",
      "img/photo-1516972810927-80185027ca84.jpg was downloaded...\n",
      "img/photo-1550439062-609e1531270e.jpg was downloaded...\n",
      "img/photo-1516117172878-fd2c41f4a759.jpg was downloaded...\n",
      "img/photo-1549692520-acc6669e2f0c.jpg was downloaded...\n",
      "img/photo-1507143550189-fed454f93097.jpg was downloaded...\n",
      "img/photo-1564135624576-c5c88640f235.jpg was downloaded...\n",
      "img/photo-1522364723953-452d3431c267.jpg was downloaded...\n",
      "img/photo-1530224264768-7ff8c1789d79.jpg was downloaded...\n",
      "img/photo-1524429656589-6633a470097c.jpg was downloaded...\n",
      "img/photo-1530122037265-a5f1f91d3b99.jpg was downloaded...\n",
      "img/photo-1513938709626-033611b8cc03.jpg was downloaded...\n",
      "img/photo-1541698444083-023c97d3f4b6.jpg was downloaded...\n",
      "img/photo-1532009324734-20a7a5813719.jpg was downloaded...\n",
      "img/photo-1493976040374-85c8e12f0c0e.jpg was downloaded...\n",
      "Finished in 14.665462584001943 seconds\n"
     ]
    }
   ],
   "source": [
    "t1 = time.perf_counter()\n",
    "\n",
    "\n",
    "\n",
    "with cf.ProcessPoolExecutor() as executor:\n",
    "    executor.map(download_image, img_urls)\n",
    "\n",
    "\n",
    "t2 = time.perf_counter()\n",
    "\n",
    "print(f'Finished in {t2-t1} seconds')"
   ]
  },
  {
   "cell_type": "code",
   "execution_count": null,
   "metadata": {},
   "outputs": [],
   "source": []
  }
 ],
 "metadata": {
  "kernelspec": {
   "display_name": "Python 3",
   "language": "python",
   "name": "python3"
  },
  "language_info": {
   "codemirror_mode": {
    "name": "ipython",
    "version": 3
   },
   "file_extension": ".py",
   "mimetype": "text/x-python",
   "name": "python",
   "nbconvert_exporter": "python",
   "pygments_lexer": "ipython3",
   "version": "3.8.5"
  }
 },
 "nbformat": 4,
 "nbformat_minor": 1
}
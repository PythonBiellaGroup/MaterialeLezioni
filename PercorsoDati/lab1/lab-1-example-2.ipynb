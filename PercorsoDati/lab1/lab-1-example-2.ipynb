{
 "cells": [
  {
   "cell_type": "code",
   "execution_count": 1,
   "metadata": {},
   "outputs": [
    {
     "name": "stderr",
     "output_type": "stream",
     "text": [
      "/Users/jeydi/Dropbox/Progetti/PERSONALI/PythonBiellaGroup/MaterialeLezioni/PercorsoDati/.venv/lib/python3.8/site-packages/pandas/compat/__init__.py:97: UserWarning: Could not import the lzma module. Your installed Python is incomplete. Attempting to use lzma compression will result in a RuntimeError.\n",
      "  warnings.warn(msg)\n"
     ]
    }
   ],
   "source": [
    "import pandas as pd\n",
    "import numpy as np\n",
    "import os"
   ]
  },
  {
   "cell_type": "code",
   "execution_count": 2,
   "metadata": {},
   "outputs": [
    {
     "data": {
      "text/html": "<div>\n<style scoped>\n    .dataframe tbody tr th:only-of-type {\n        vertical-align: middle;\n    }\n\n    .dataframe tbody tr th {\n        vertical-align: top;\n    }\n\n    .dataframe thead th {\n        text-align: right;\n    }\n</style>\n<table border=\"1\" class=\"dataframe\">\n  <thead>\n    <tr style=\"text-align: right;\">\n      <th></th>\n      <th>listing_id</th>\n      <th>id</th>\n      <th>date</th>\n      <th>reviewer_id</th>\n      <th>reviewer_name</th>\n      <th>comments</th>\n    </tr>\n  </thead>\n  <tbody>\n    <tr>\n      <th>0</th>\n      <td>7202016</td>\n      <td>38917982</td>\n      <td>2015-07-19</td>\n      <td>28943674</td>\n      <td>Bianca</td>\n      <td>Cute and cozy place. Perfect location to every...</td>\n    </tr>\n    <tr>\n      <th>1</th>\n      <td>7202016</td>\n      <td>39087409</td>\n      <td>2015-07-20</td>\n      <td>32440555</td>\n      <td>Frank</td>\n      <td>Kelly has a great room in a very central locat...</td>\n    </tr>\n    <tr>\n      <th>2</th>\n      <td>7202016</td>\n      <td>39820030</td>\n      <td>2015-07-26</td>\n      <td>37722850</td>\n      <td>Ian</td>\n      <td>Very spacious apartment, and in a great neighb...</td>\n    </tr>\n    <tr>\n      <th>3</th>\n      <td>7202016</td>\n      <td>40813543</td>\n      <td>2015-08-02</td>\n      <td>33671805</td>\n      <td>George</td>\n      <td>Close to Seattle Center and all it has to offe...</td>\n    </tr>\n    <tr>\n      <th>4</th>\n      <td>7202016</td>\n      <td>41986501</td>\n      <td>2015-08-10</td>\n      <td>34959538</td>\n      <td>Ming</td>\n      <td>Kelly was a great host and very accommodating ...</td>\n    </tr>\n  </tbody>\n</table>\n</div>",
      "text/plain": "   listing_id        id        date  reviewer_id reviewer_name  \\\n0     7202016  38917982  2015-07-19     28943674        Bianca   \n1     7202016  39087409  2015-07-20     32440555         Frank   \n2     7202016  39820030  2015-07-26     37722850           Ian   \n3     7202016  40813543  2015-08-02     33671805        George   \n4     7202016  41986501  2015-08-10     34959538          Ming   \n\n                                            comments  \n0  Cute and cozy place. Perfect location to every...  \n1  Kelly has a great room in a very central locat...  \n2  Very spacious apartment, and in a great neighb...  \n3  Close to Seattle Center and all it has to offe...  \n4  Kelly was a great host and very accommodating ...  "
     },
     "execution_count": 2,
     "metadata": {},
     "output_type": "execute_result"
    }
   ],
   "source": [
    "folder_path = os.path.abspath(\"..\")\n",
    "data_dir = 'dataset/rome-airbnb'\n",
    "filename = 'reviews.csv'\n",
    "filepath = os.path.join(folder_path, data_dir, filename)\n",
    "\n",
    "sample_dim = 100000\n",
    "\n",
    "reviews_raw = pd.read_csv(filepath).head(sample_dim)\n",
    "reviews_raw.head()"
   ]
  },
  {
   "cell_type": "code",
   "execution_count": 3,
   "metadata": {},
   "outputs": [
    {
     "data": {
      "text/plain": [
       "['listing_id', 'id', 'date', 'reviewer_id', 'reviewer_name', 'comments']"
      ]
     },
     "execution_count": 3,
     "metadata": {},
     "output_type": "execute_result"
    }
   ],
   "source": [
    "reviews_raw.columns.to_list()"
   ]
  },
  {
   "cell_type": "markdown",
   "metadata": {},
   "source": [
    "### Date in formato datetime"
   ]
  },
  {
   "cell_type": "code",
   "execution_count": 4,
   "metadata": {},
   "outputs": [
    {
     "data": {
      "text/html": "<div>\n<style scoped>\n    .dataframe tbody tr th:only-of-type {\n        vertical-align: middle;\n    }\n\n    .dataframe tbody tr th {\n        vertical-align: top;\n    }\n\n    .dataframe thead th {\n        text-align: right;\n    }\n</style>\n<table border=\"1\" class=\"dataframe\">\n  <thead>\n    <tr style=\"text-align: right;\">\n      <th></th>\n      <th>listing_id</th>\n      <th>id</th>\n      <th>date</th>\n      <th>reviewer_id</th>\n      <th>reviewer_name</th>\n      <th>comments</th>\n    </tr>\n  </thead>\n  <tbody>\n    <tr>\n      <th>0</th>\n      <td>2737</td>\n      <td>24343517</td>\n      <td>2014-12-26</td>\n      <td>24333039</td>\n      <td>Raphaell</td>\n      <td>This spot was in a great and nice area,walking...</td>\n    </tr>\n    <tr>\n      <th>1</th>\n      <td>2737</td>\n      <td>24966779</td>\n      <td>2015-01-04</td>\n      <td>10493776</td>\n      <td>Ia</td>\n      <td>Elif was really very helpful, while arranging ...</td>\n    </tr>\n    <tr>\n      <th>2</th>\n      <td>2737</td>\n      <td>29770086</td>\n      <td>2015-04-12</td>\n      <td>29630601</td>\n      <td>Julia</td>\n      <td>Elif's flat is spacious, clean, and had everyt...</td>\n    </tr>\n    <tr>\n      <th>3</th>\n      <td>2737</td>\n      <td>30477570</td>\n      <td>2015-04-22</td>\n      <td>31215535</td>\n      <td>Sevil</td>\n      <td>I had a wonderful time staying with Elif and h...</td>\n    </tr>\n    <tr>\n      <th>4</th>\n      <td>2737</td>\n      <td>31659336</td>\n      <td>2015-05-08</td>\n      <td>1959813</td>\n      <td>Suzy</td>\n      <td>Elif was a brilliant host, with an exceptional...</td>\n    </tr>\n  </tbody>\n</table>\n</div>",
      "text/plain": [
       "   listing_id        id       date  reviewer_id reviewer_name  \\\n",
       "0        2737  24343517 2014-12-26     24333039      Raphaell   \n",
       "1        2737  24966779 2015-01-04     10493776            Ia   \n",
       "2        2737  29770086 2015-04-12     29630601         Julia   \n",
       "3        2737  30477570 2015-04-22     31215535         Sevil   \n",
       "4        2737  31659336 2015-05-08      1959813          Suzy   \n",
       "\n",
       "                                            comments  \n",
       "0  This spot was in a great and nice area,walking...  \n",
       "1  Elif was really very helpful, while arranging ...  \n",
       "2  Elif's flat is spacious, clean, and had everyt...  \n",
       "3  I had a wonderful time staying with Elif and h...  \n",
       "4  Elif was a brilliant host, with an exceptional...  "
      ]
     },
     "execution_count": 4,
     "metadata": {},
     "output_type": "execute_result"
    }
   ],
   "source": [
    "reviews = reviews_raw.assign(date = pd.to_datetime(reviews_raw['date']))\n",
    "reviews.head()"
   ]
  },
  {
   "cell_type": "code",
   "execution_count": 5,
   "metadata": {},
   "outputs": [
    {
     "data": {
      "text/html": "<div>\n<style scoped>\n    .dataframe tbody tr th:only-of-type {\n        vertical-align: middle;\n    }\n\n    .dataframe tbody tr th {\n        vertical-align: top;\n    }\n\n    .dataframe thead th {\n        text-align: right;\n    }\n</style>\n<table border=\"1\" class=\"dataframe\">\n  <thead>\n    <tr style=\"text-align: right;\">\n      <th></th>\n      <th>listing_id</th>\n      <th>date</th>\n      <th>available</th>\n      <th>price</th>\n      <th>adjusted_price</th>\n      <th>minimum_nights</th>\n      <th>maximum_nights</th>\n    </tr>\n  </thead>\n  <tbody>\n    <tr>\n      <th>0</th>\n      <td>158668</td>\n      <td>2021-02-13</td>\n      <td>t</td>\n      <td>$40.00</td>\n      <td>$40.00</td>\n      <td>2.0</td>\n      <td>365.0</td>\n    </tr>\n    <tr>\n      <th>1</th>\n      <td>78314</td>\n      <td>2021-02-13</td>\n      <td>f</td>\n      <td>$69.00</td>\n      <td>$69.00</td>\n      <td>1.0</td>\n      <td>99.0</td>\n    </tr>\n    <tr>\n      <th>2</th>\n      <td>78314</td>\n      <td>2021-02-14</td>\n      <td>f</td>\n      <td>$69.00</td>\n      <td>$69.00</td>\n      <td>1.0</td>\n      <td>99.0</td>\n    </tr>\n    <tr>\n      <th>3</th>\n      <td>78314</td>\n      <td>2021-02-15</td>\n      <td>f</td>\n      <td>$69.00</td>\n      <td>$69.00</td>\n      <td>1.0</td>\n      <td>99.0</td>\n    </tr>\n    <tr>\n      <th>4</th>\n      <td>78314</td>\n      <td>2021-02-16</td>\n      <td>f</td>\n      <td>$69.00</td>\n      <td>$69.00</td>\n      <td>1.0</td>\n      <td>99.0</td>\n    </tr>\n  </tbody>\n</table>\n</div>",
      "text/plain": [
       "   listing_id       date available   price adjusted_price  minimum_nights  \\\n",
       "0      158668 2021-02-13         t  $40.00         $40.00             2.0   \n",
       "1       78314 2021-02-13         f  $69.00         $69.00             1.0   \n",
       "2       78314 2021-02-14         f  $69.00         $69.00             1.0   \n",
       "3       78314 2021-02-15         f  $69.00         $69.00             1.0   \n",
       "4       78314 2021-02-16         f  $69.00         $69.00             1.0   \n",
       "\n",
       "   maximum_nights  \n",
       "0           365.0  \n",
       "1            99.0  \n",
       "2            99.0  \n",
       "3            99.0  \n",
       "4            99.0  "
      ]
     },
     "execution_count": 5,
     "metadata": {},
     "output_type": "execute_result"
    }
   ],
   "source": [
    "data_dir = 'data/'\n",
    "\n",
    "calendar_raw = pd.read_csv(data_dir + '/calendar.csv').head(sample_dim)\n",
    "calendar = calendar_raw.assign(date = pd.to_datetime(calendar_raw['date']))\n",
    "calendar.head()\n"
   ]
  },
  {
   "cell_type": "markdown",
   "metadata": {},
   "source": [
    "# Data prepation\n",
    "\n",
    "## Creare le variabli di aggregazione mese e anno"
   ]
  },
  {
   "cell_type": "code",
   "execution_count": 13,
   "metadata": {},
   "outputs": [
    {
     "data": {
      "text/html": "<div>\n<style scoped>\n    .dataframe tbody tr th:only-of-type {\n        vertical-align: middle;\n    }\n\n    .dataframe tbody tr th {\n        vertical-align: top;\n    }\n\n    .dataframe thead th {\n        text-align: right;\n    }\n</style>\n<table border=\"1\" class=\"dataframe\">\n  <thead>\n    <tr style=\"text-align: right;\">\n      <th></th>\n      <th>listing_id</th>\n      <th>id</th>\n      <th>date</th>\n      <th>reviewer_id</th>\n      <th>reviewer_name</th>\n      <th>comments</th>\n      <th>year</th>\n      <th>month</th>\n    </tr>\n  </thead>\n  <tbody>\n    <tr>\n      <th>4310</th>\n      <td>50471</td>\n      <td>729150541</td>\n      <td>2021-02-06</td>\n      <td>8582830</td>\n      <td>Anders</td>\n      <td>Lovely place, super quiet and great atmosphere :)</td>\n      <td>2021</td>\n      <td>2</td>\n    </tr>\n    <tr>\n      <th>38546</th>\n      <td>335009</td>\n      <td>728807735</td>\n      <td>2021-02-04</td>\n      <td>95567665</td>\n      <td>Soraja</td>\n      <td>It was ideal. The Host is very responsive and ...</td>\n      <td>2021</td>\n      <td>2</td>\n    </tr>\n    <tr>\n      <th>66801</th>\n      <td>639627</td>\n      <td>728358403</td>\n      <td>2021-02-01</td>\n      <td>64638603</td>\n      <td>Nathalie</td>\n      <td>Massimo is kind and prompt in responding. The ...</td>\n      <td>2021</td>\n      <td>2</td>\n    </tr>\n    <tr>\n      <th>73665</th>\n      <td>721874</td>\n      <td>728694435</td>\n      <td>2021-02-03</td>\n      <td>210113502</td>\n      <td>Lubna</td>\n      <td>I liked my stay in Sabrina’s place. It was a w...</td>\n      <td>2021</td>\n      <td>2</td>\n    </tr>\n    <tr>\n      <th>88513</th>\n      <td>831199</td>\n      <td>728361293</td>\n      <td>2021-02-01</td>\n      <td>358777714</td>\n      <td>Carla</td>\n      <td>Che dire il sig. Pietro e la moglie persone mo...</td>\n      <td>2021</td>\n      <td>2</td>\n    </tr>\n  </tbody>\n</table>\n</div>",
      "text/plain": [
       "       listing_id         id       date  reviewer_id reviewer_name  \\\n",
       "4310        50471  729150541 2021-02-06      8582830        Anders   \n",
       "38546      335009  728807735 2021-02-04     95567665        Soraja   \n",
       "66801      639627  728358403 2021-02-01     64638603      Nathalie   \n",
       "73665      721874  728694435 2021-02-03    210113502         Lubna   \n",
       "88513      831199  728361293 2021-02-01    358777714         Carla   \n",
       "\n",
       "                                                comments  year  month  \n",
       "4310   Lovely place, super quiet and great atmosphere :)  2021      2  \n",
       "38546  It was ideal. The Host is very responsive and ...  2021      2  \n",
       "66801  Massimo is kind and prompt in responding. The ...  2021      2  \n",
       "73665  I liked my stay in Sabrina’s place. It was a w...  2021      2  \n",
       "88513  Che dire il sig. Pietro e la moglie persone mo...  2021      2  "
      ]
     },
     "execution_count": 13,
     "metadata": {},
     "output_type": "execute_result"
    }
   ],
   "source": [
    "%timeit\n",
    "reviews['year'] = reviews['date'].dt.year\n",
    "reviews['month'] = reviews['date'].dt.month\n",
    "reviews = reviews.sort_values(['year', 'month'], ascending=False)\n",
    "reviews.head()"
   ]
  },
  {
   "cell_type": "code",
   "execution_count": 8,
   "metadata": {},
   "outputs": [
    {
     "data": {
      "text/html": "<div>\n<style scoped>\n    .dataframe tbody tr th:only-of-type {\n        vertical-align: middle;\n    }\n\n    .dataframe tbody tr th {\n        vertical-align: top;\n    }\n\n    .dataframe thead th {\n        text-align: right;\n    }\n</style>\n<table border=\"1\" class=\"dataframe\">\n  <thead>\n    <tr style=\"text-align: right;\">\n      <th></th>\n      <th>listing_id</th>\n      <th>date</th>\n      <th>available</th>\n      <th>price</th>\n      <th>adjusted_price</th>\n      <th>minimum_nights</th>\n      <th>maximum_nights</th>\n      <th>year</th>\n      <th>month</th>\n    </tr>\n  </thead>\n  <tbody>\n    <tr>\n      <th>398</th>\n      <td>2737</td>\n      <td>2022-02-01</td>\n      <td>t</td>\n      <td>$18.00</td>\n      <td>$18.00</td>\n      <td>7.0</td>\n      <td>1125.0</td>\n      <td>2022</td>\n      <td>2</td>\n    </tr>\n    <tr>\n      <th>399</th>\n      <td>2737</td>\n      <td>2022-02-02</td>\n      <td>t</td>\n      <td>$18.00</td>\n      <td>$18.00</td>\n      <td>7.0</td>\n      <td>1125.0</td>\n      <td>2022</td>\n      <td>2</td>\n    </tr>\n    <tr>\n      <th>400</th>\n      <td>2737</td>\n      <td>2022-02-03</td>\n      <td>t</td>\n      <td>$18.00</td>\n      <td>$18.00</td>\n      <td>7.0</td>\n      <td>1125.0</td>\n      <td>2022</td>\n      <td>2</td>\n    </tr>\n    <tr>\n      <th>401</th>\n      <td>2737</td>\n      <td>2022-02-04</td>\n      <td>t</td>\n      <td>$30.00</td>\n      <td>$30.00</td>\n      <td>7.0</td>\n      <td>1125.0</td>\n      <td>2022</td>\n      <td>2</td>\n    </tr>\n    <tr>\n      <th>402</th>\n      <td>2737</td>\n      <td>2022-02-05</td>\n      <td>t</td>\n      <td>$30.00</td>\n      <td>$30.00</td>\n      <td>7.0</td>\n      <td>1125.0</td>\n      <td>2022</td>\n      <td>2</td>\n    </tr>\n  </tbody>\n</table>\n</div>",
      "text/plain": [
       "     listing_id       date available   price adjusted_price  minimum_nights  \\\n",
       "398        2737 2022-02-01         t  $18.00         $18.00             7.0   \n",
       "399        2737 2022-02-02         t  $18.00         $18.00             7.0   \n",
       "400        2737 2022-02-03         t  $18.00         $18.00             7.0   \n",
       "401        2737 2022-02-04         t  $30.00         $30.00             7.0   \n",
       "402        2737 2022-02-05         t  $30.00         $30.00             7.0   \n",
       "\n",
       "     maximum_nights  year  month  \n",
       "398          1125.0  2022      2  \n",
       "399          1125.0  2022      2  \n",
       "400          1125.0  2022      2  \n",
       "401          1125.0  2022      2  \n",
       "402          1125.0  2022      2  "
      ]
     },
     "execution_count": 8,
     "metadata": {},
     "output_type": "execute_result"
    }
   ],
   "source": [
    "%timeit\n",
    "calendar['year'] = pd.DatetimeIndex(calendar['date']).year\n",
    "calendar['month'] = pd.DatetimeIndex(calendar['date']).month\n",
    "calendar = calendar.sort_values(['year', 'month'], ascending=False)\n",
    "calendar.head()"
   ]
  },
  {
   "cell_type": "markdown",
   "metadata": {},
   "source": [
    "## Preparare il prezzo come numero"
   ]
  },
  {
   "cell_type": "code",
   "execution_count": 14,
   "metadata": {},
   "outputs": [
    {
     "data": {
      "text/plain": [
       "398    18.0\n",
       "399    18.0\n",
       "400    18.0\n",
       "401    30.0\n",
       "402    30.0\n",
       "Name: price, dtype: float64"
      ]
     },
     "execution_count": 14,
     "metadata": {},
     "output_type": "execute_result"
    }
   ],
   "source": [
    "# PREVIOUS WAY\n",
    "# @np.vectorize\n",
    "# def remove_dollar(label: str):\n",
    "#   return float(label.replace('$','').replace(',',''))\n",
    "\n",
    "calendar_2 = calendar.assign(\n",
    "        price          = pd.to_numeric(calendar.price.str.replace('$','').str.replace(',','')),\n",
    "        adjusted_price = pd.to_numeric(calendar.adjusted_price.str.replace('$','').str.replace(',','')),\n",
    "    )\n",
    "calendar_2['price'].head()"
   ]
  },
  {
   "cell_type": "code",
   "execution_count": 15,
   "metadata": {},
   "outputs": [
    {
     "data": {
      "text/html": "<div>\n<style scoped>\n    .dataframe tbody tr th:only-of-type {\n        vertical-align: middle;\n    }\n\n    .dataframe tbody tr th {\n        vertical-align: top;\n    }\n\n    .dataframe thead th {\n        text-align: right;\n    }\n</style>\n<table border=\"1\" class=\"dataframe\">\n  <thead>\n    <tr style=\"text-align: right;\">\n      <th></th>\n      <th>listing_id</th>\n      <th>date</th>\n      <th>available</th>\n      <th>price</th>\n      <th>adjusted_price</th>\n      <th>minimum_nights</th>\n      <th>maximum_nights</th>\n      <th>year</th>\n      <th>month</th>\n    </tr>\n  </thead>\n  <tbody>\n    <tr>\n      <th>398</th>\n      <td>2737</td>\n      <td>2022-02-01</td>\n      <td>t</td>\n      <td>18.0</td>\n      <td>18.0</td>\n      <td>7.0</td>\n      <td>1125.0</td>\n      <td>2022</td>\n      <td>2</td>\n    </tr>\n    <tr>\n      <th>399</th>\n      <td>2737</td>\n      <td>2022-02-02</td>\n      <td>t</td>\n      <td>18.0</td>\n      <td>18.0</td>\n      <td>7.0</td>\n      <td>1125.0</td>\n      <td>2022</td>\n      <td>2</td>\n    </tr>\n    <tr>\n      <th>400</th>\n      <td>2737</td>\n      <td>2022-02-03</td>\n      <td>t</td>\n      <td>18.0</td>\n      <td>18.0</td>\n      <td>7.0</td>\n      <td>1125.0</td>\n      <td>2022</td>\n      <td>2</td>\n    </tr>\n    <tr>\n      <th>401</th>\n      <td>2737</td>\n      <td>2022-02-04</td>\n      <td>t</td>\n      <td>30.0</td>\n      <td>30.0</td>\n      <td>7.0</td>\n      <td>1125.0</td>\n      <td>2022</td>\n      <td>2</td>\n    </tr>\n    <tr>\n      <th>402</th>\n      <td>2737</td>\n      <td>2022-02-05</td>\n      <td>t</td>\n      <td>30.0</td>\n      <td>30.0</td>\n      <td>7.0</td>\n      <td>1125.0</td>\n      <td>2022</td>\n      <td>2</td>\n    </tr>\n  </tbody>\n</table>\n</div>",
      "text/plain": [
       "     listing_id       date available  price  adjusted_price  minimum_nights  \\\n",
       "398        2737 2022-02-01         t   18.0            18.0             7.0   \n",
       "399        2737 2022-02-02         t   18.0            18.0             7.0   \n",
       "400        2737 2022-02-03         t   18.0            18.0             7.0   \n",
       "401        2737 2022-02-04         t   30.0            30.0             7.0   \n",
       "402        2737 2022-02-05         t   30.0            30.0             7.0   \n",
       "\n",
       "     maximum_nights  year  month  \n",
       "398          1125.0  2022      2  \n",
       "399          1125.0  2022      2  \n",
       "400          1125.0  2022      2  \n",
       "401          1125.0  2022      2  \n",
       "402          1125.0  2022      2  "
      ]
     },
     "execution_count": 15,
     "metadata": {},
     "output_type": "execute_result"
    }
   ],
   "source": [
    "calendar_2.head()"
   ]
  },
  {
   "cell_type": "markdown",
   "metadata": {},
   "source": [
    "## Valori logici\n"
   ]
  },
  {
   "cell_type": "code",
   "execution_count": 16,
   "metadata": {},
   "outputs": [],
   "source": [
    "calendar_2['available'] = calendar_2.available.map({\n",
    "    't': True,\n",
    "    'f': False\n",
    "})"
   ]
  },
  {
   "cell_type": "markdown",
   "metadata": {},
   "source": [
    "## "
   ]
  },
  {
   "cell_type": "markdown",
   "metadata": {},
   "source": [
    "# Analisi delle Attività\n",
    "\n",
    "Gli ospiti che usano Airbnb possono lasciare una recensione dopo il loro pernottamento. Le recensioni possono essere usate come indicatori dell'attività e del tasso di attività.\n",
    "\n",
    "La durata minima di pernottamento, il prezzo e il numero di recensioni sono stati usati come indicatori per stimare il tasso di occupazione, il numero di notti per anno e il rendita mensile di ogni annuncio.\n",
    "\n",
    "Qual è il rapporto tra la rendita realizzata attraverso Airbnb e i prezzi degli affitti residenziali a lungo termine?\n",
    "\n",
    "Il numero delle notti prenotate impedisce l'uso residenziale degli alloggi messi in affitto?\n",
    "\n",
    "Qual è il rapporto tra la rendita realizzata attraverso AIRBNB e i prezzi degli affitti residenziali a lungo termine?\n",
    "\n",
    "\n"
   ]
  },
  {
   "cell_type": "markdown",
   "metadata": {},
   "source": [
    "## Tasso di occupazione\n",
    "\n",
    "### Creo le variabili che mi servono\n"
   ]
  },
  {
   "cell_type": "code",
   "execution_count": 17,
   "metadata": {},
   "outputs": [
    {
     "data": {
      "text/html": "<div>\n<style scoped>\n    .dataframe tbody tr th:only-of-type {\n        vertical-align: middle;\n    }\n\n    .dataframe tbody tr th {\n        vertical-align: top;\n    }\n\n    .dataframe thead th {\n        text-align: right;\n    }\n</style>\n<table border=\"1\" class=\"dataframe\">\n  <thead>\n    <tr style=\"text-align: right;\">\n      <th></th>\n      <th>listing_id</th>\n      <th>date</th>\n      <th>available</th>\n      <th>price</th>\n      <th>adjusted_price</th>\n      <th>minimum_nights</th>\n      <th>maximum_nights</th>\n      <th>year</th>\n      <th>month</th>\n      <th>available_prob</th>\n      <th>engaged_prob</th>\n    </tr>\n  </thead>\n  <tbody>\n    <tr>\n      <th>398</th>\n      <td>2737</td>\n      <td>2022-02-01</td>\n      <td>True</td>\n      <td>18.0</td>\n      <td>18.0</td>\n      <td>7.0</td>\n      <td>1125.0</td>\n      <td>2022</td>\n      <td>2</td>\n      <td>1</td>\n      <td>0</td>\n    </tr>\n    <tr>\n      <th>399</th>\n      <td>2737</td>\n      <td>2022-02-02</td>\n      <td>True</td>\n      <td>18.0</td>\n      <td>18.0</td>\n      <td>7.0</td>\n      <td>1125.0</td>\n      <td>2022</td>\n      <td>2</td>\n      <td>1</td>\n      <td>0</td>\n    </tr>\n    <tr>\n      <th>400</th>\n      <td>2737</td>\n      <td>2022-02-03</td>\n      <td>True</td>\n      <td>18.0</td>\n      <td>18.0</td>\n      <td>7.0</td>\n      <td>1125.0</td>\n      <td>2022</td>\n      <td>2</td>\n      <td>1</td>\n      <td>0</td>\n    </tr>\n    <tr>\n      <th>401</th>\n      <td>2737</td>\n      <td>2022-02-04</td>\n      <td>True</td>\n      <td>30.0</td>\n      <td>30.0</td>\n      <td>7.0</td>\n      <td>1125.0</td>\n      <td>2022</td>\n      <td>2</td>\n      <td>1</td>\n      <td>0</td>\n    </tr>\n    <tr>\n      <th>402</th>\n      <td>2737</td>\n      <td>2022-02-05</td>\n      <td>True</td>\n      <td>30.0</td>\n      <td>30.0</td>\n      <td>7.0</td>\n      <td>1125.0</td>\n      <td>2022</td>\n      <td>2</td>\n      <td>1</td>\n      <td>0</td>\n    </tr>\n    <tr>\n      <th>...</th>\n      <td>...</td>\n      <td>...</td>\n      <td>...</td>\n      <td>...</td>\n      <td>...</td>\n      <td>...</td>\n      <td>...</td>\n      <td>...</td>\n      <td>...</td>\n      <td>...</td>\n      <td>...</td>\n    </tr>\n    <tr>\n      <th>99868</th>\n      <td>263210</td>\n      <td>2021-02-24</td>\n      <td>False</td>\n      <td>80.0</td>\n      <td>80.0</td>\n      <td>3.0</td>\n      <td>1125.0</td>\n      <td>2021</td>\n      <td>2</td>\n      <td>0</td>\n      <td>1</td>\n    </tr>\n    <tr>\n      <th>99869</th>\n      <td>263210</td>\n      <td>2021-02-25</td>\n      <td>False</td>\n      <td>80.0</td>\n      <td>80.0</td>\n      <td>3.0</td>\n      <td>1125.0</td>\n      <td>2021</td>\n      <td>2</td>\n      <td>0</td>\n      <td>1</td>\n    </tr>\n    <tr>\n      <th>99870</th>\n      <td>263210</td>\n      <td>2021-02-26</td>\n      <td>False</td>\n      <td>80.0</td>\n      <td>80.0</td>\n      <td>3.0</td>\n      <td>1125.0</td>\n      <td>2021</td>\n      <td>2</td>\n      <td>0</td>\n      <td>1</td>\n    </tr>\n    <tr>\n      <th>99871</th>\n      <td>263210</td>\n      <td>2021-02-27</td>\n      <td>False</td>\n      <td>80.0</td>\n      <td>80.0</td>\n      <td>3.0</td>\n      <td>1125.0</td>\n      <td>2021</td>\n      <td>2</td>\n      <td>0</td>\n      <td>1</td>\n    </tr>\n    <tr>\n      <th>99872</th>\n      <td>263210</td>\n      <td>2021-02-28</td>\n      <td>False</td>\n      <td>80.0</td>\n      <td>80.0</td>\n      <td>3.0</td>\n      <td>1125.0</td>\n      <td>2021</td>\n      <td>2</td>\n      <td>0</td>\n      <td>1</td>\n    </tr>\n  </tbody>\n</table>\n<p>100000 rows × 11 columns</p>\n</div>",
      "text/plain": [
       "       listing_id       date  available  price  adjusted_price  \\\n",
       "398          2737 2022-02-01       True   18.0            18.0   \n",
       "399          2737 2022-02-02       True   18.0            18.0   \n",
       "400          2737 2022-02-03       True   18.0            18.0   \n",
       "401          2737 2022-02-04       True   30.0            30.0   \n",
       "402          2737 2022-02-05       True   30.0            30.0   \n",
       "...           ...        ...        ...    ...             ...   \n",
       "99868      263210 2021-02-24      False   80.0            80.0   \n",
       "99869      263210 2021-02-25      False   80.0            80.0   \n",
       "99870      263210 2021-02-26      False   80.0            80.0   \n",
       "99871      263210 2021-02-27      False   80.0            80.0   \n",
       "99872      263210 2021-02-28      False   80.0            80.0   \n",
       "\n",
       "       minimum_nights  maximum_nights  year  month  available_prob  \\\n",
       "398               7.0          1125.0  2022      2               1   \n",
       "399               7.0          1125.0  2022      2               1   \n",
       "400               7.0          1125.0  2022      2               1   \n",
       "401               7.0          1125.0  2022      2               1   \n",
       "402               7.0          1125.0  2022      2               1   \n",
       "...               ...             ...   ...    ...             ...   \n",
       "99868             3.0          1125.0  2021      2               0   \n",
       "99869             3.0          1125.0  2021      2               0   \n",
       "99870             3.0          1125.0  2021      2               0   \n",
       "99871             3.0          1125.0  2021      2               0   \n",
       "99872             3.0          1125.0  2021      2               0   \n",
       "\n",
       "       engaged_prob  \n",
       "398               0  \n",
       "399               0  \n",
       "400               0  \n",
       "401               0  \n",
       "402               0  \n",
       "...             ...  \n",
       "99868             1  \n",
       "99869             1  \n",
       "99870             1  \n",
       "99871             1  \n",
       "99872             1  \n",
       "\n",
       "[100000 rows x 11 columns]"
      ]
     },
     "execution_count": 17,
     "metadata": {},
     "output_type": "execute_result"
    }
   ],
   "source": [
    "# Transformations\n",
    "calendar_2['available_prob'] = calendar_2.available.map({\n",
    "    True: 1,\n",
    "    False: 0\n",
    "})\n",
    "\n",
    "calendar_2['engaged_prob'] = 1 - calendar_2['available_prob']\n",
    "calendar_2\n"
   ]
  },
  {
   "cell_type": "code",
   "execution_count": 108,
   "metadata": {},
   "outputs": [
    {
     "ename": "AttributeError",
     "evalue": "'DataFrame' object has no attribute 'assing'",
     "output_type": "error",
     "traceback": [
      "\u001b[0;31m---------------------------------------------------------------------------\u001b[0m",
      "\u001b[0;31mAttributeError\u001b[0m                            Traceback (most recent call last)",
      "\u001b[0;32m<ipython-input-108-fa9a10fb0338>\u001b[0m in \u001b[0;36m<module>\u001b[0;34m\u001b[0m\n\u001b[1;32m      1\u001b[0m \u001b[0;31m# Transformations\u001b[0m\u001b[0;34m\u001b[0m\u001b[0;34m\u001b[0m\u001b[0;34m\u001b[0m\u001b[0m\n\u001b[0;32m----> 2\u001b[0;31m \u001b[0mcalendar_2\u001b[0m\u001b[0;31m\\\u001b[0m\u001b[0;34m\u001b[0m\u001b[0;34m\u001b[0m\u001b[0m\n\u001b[0m\u001b[1;32m      3\u001b[0m     .assing(\n\u001b[1;32m      4\u001b[0m         available_prob = calendar_2.available.map({\n\u001b[1;32m      5\u001b[0m             \u001b[0;32mTrue\u001b[0m\u001b[0;34m:\u001b[0m \u001b[0;36m1\u001b[0m\u001b[0;34m,\u001b[0m\u001b[0;34m\u001b[0m\u001b[0;34m\u001b[0m\u001b[0m\n",
      "\u001b[0;32m~/dev/MaterialeLezioni/PercorsoDati/lab1/venv/lib/python3.8/site-packages/pandas/core/generic.py\u001b[0m in \u001b[0;36m__getattr__\u001b[0;34m(self, name)\u001b[0m\n\u001b[1;32m   5463\u001b[0m             \u001b[0;32mif\u001b[0m \u001b[0mself\u001b[0m\u001b[0;34m.\u001b[0m\u001b[0m_info_axis\u001b[0m\u001b[0;34m.\u001b[0m\u001b[0m_can_hold_identifiers_and_holds_name\u001b[0m\u001b[0;34m(\u001b[0m\u001b[0mname\u001b[0m\u001b[0;34m)\u001b[0m\u001b[0;34m:\u001b[0m\u001b[0;34m\u001b[0m\u001b[0;34m\u001b[0m\u001b[0m\n\u001b[1;32m   5464\u001b[0m                 \u001b[0;32mreturn\u001b[0m \u001b[0mself\u001b[0m\u001b[0;34m[\u001b[0m\u001b[0mname\u001b[0m\u001b[0;34m]\u001b[0m\u001b[0;34m\u001b[0m\u001b[0;34m\u001b[0m\u001b[0m\n\u001b[0;32m-> 5465\u001b[0;31m             \u001b[0;32mreturn\u001b[0m \u001b[0mobject\u001b[0m\u001b[0;34m.\u001b[0m\u001b[0m__getattribute__\u001b[0m\u001b[0;34m(\u001b[0m\u001b[0mself\u001b[0m\u001b[0;34m,\u001b[0m \u001b[0mname\u001b[0m\u001b[0;34m)\u001b[0m\u001b[0;34m\u001b[0m\u001b[0;34m\u001b[0m\u001b[0m\n\u001b[0m\u001b[1;32m   5466\u001b[0m \u001b[0;34m\u001b[0m\u001b[0m\n\u001b[1;32m   5467\u001b[0m     \u001b[0;32mdef\u001b[0m \u001b[0m__setattr__\u001b[0m\u001b[0;34m(\u001b[0m\u001b[0mself\u001b[0m\u001b[0;34m,\u001b[0m \u001b[0mname\u001b[0m\u001b[0;34m:\u001b[0m \u001b[0mstr\u001b[0m\u001b[0;34m,\u001b[0m \u001b[0mvalue\u001b[0m\u001b[0;34m)\u001b[0m \u001b[0;34m->\u001b[0m \u001b[0;32mNone\u001b[0m\u001b[0;34m:\u001b[0m\u001b[0;34m\u001b[0m\u001b[0;34m\u001b[0m\u001b[0m\n",
      "\u001b[0;31mAttributeError\u001b[0m: 'DataFrame' object has no attribute 'assing'"
     ]
    }
   ],
   "source": [
    "# Transformations\n",
    "# calendar_2\\\n",
    "#     .assing(\n",
    "#         available_prob = calendar_2.available.map({\n",
    "#             True: 1,\n",
    "#             False: 0\n",
    "#         }),\n",
    "#         engaged_prob = 1 - calendar_2['available_prob']\n",
    "#     )"
   ]
  },
  {
   "cell_type": "markdown",
   "metadata": {},
   "source": [
    "### tasso medio di occupazione mensile e per alloggio:"
   ]
  },
  {
   "cell_type": "code",
   "execution_count": 18,
   "metadata": {},
   "outputs": [
    {
     "data": {
      "text/html": "<div>\n<style scoped>\n    .dataframe tbody tr th:only-of-type {\n        vertical-align: middle;\n    }\n\n    .dataframe tbody tr th {\n        vertical-align: top;\n    }\n\n    .dataframe thead th {\n        text-align: right;\n    }\n</style>\n<table border=\"1\" class=\"dataframe\">\n  <thead>\n    <tr style=\"text-align: right;\">\n      <th></th>\n      <th>year</th>\n      <th>month</th>\n      <th>listing_id</th>\n      <th>engaged_prob</th>\n    </tr>\n  </thead>\n  <tbody>\n    <tr>\n      <th>2197</th>\n      <td>2021</td>\n      <td>9</td>\n      <td>312492</td>\n      <td>1.0</td>\n    </tr>\n    <tr>\n      <th>1923</th>\n      <td>2021</td>\n      <td>8</td>\n      <td>312492</td>\n      <td>1.0</td>\n    </tr>\n    <tr>\n      <th>1649</th>\n      <td>2021</td>\n      <td>7</td>\n      <td>312492</td>\n      <td>1.0</td>\n    </tr>\n    <tr>\n      <th>546</th>\n      <td>2021</td>\n      <td>3</td>\n      <td>263210</td>\n      <td>1.0</td>\n    </tr>\n    <tr>\n      <th>270</th>\n      <td>2021</td>\n      <td>2</td>\n      <td>263210</td>\n      <td>1.0</td>\n    </tr>\n    <tr>\n      <th>...</th>\n      <td>...</td>\n      <td>...</td>\n      <td>...</td>\n      <td>...</td>\n    </tr>\n    <tr>\n      <th>1102</th>\n      <td>2021</td>\n      <td>6</td>\n      <td>2737</td>\n      <td>0.0</td>\n    </tr>\n    <tr>\n      <th>827</th>\n      <td>2021</td>\n      <td>5</td>\n      <td>2737</td>\n      <td>0.0</td>\n    </tr>\n    <tr>\n      <th>552</th>\n      <td>2021</td>\n      <td>4</td>\n      <td>2737</td>\n      <td>0.0</td>\n    </tr>\n    <tr>\n      <th>276</th>\n      <td>2021</td>\n      <td>3</td>\n      <td>2737</td>\n      <td>0.0</td>\n    </tr>\n    <tr>\n      <th>0</th>\n      <td>2021</td>\n      <td>2</td>\n      <td>2737</td>\n      <td>0.0</td>\n    </tr>\n  </tbody>\n</table>\n<p>3563 rows × 4 columns</p>\n</div>",
      "text/plain": [
       "      year  month  listing_id  engaged_prob\n",
       "2197  2021      9      312492           1.0\n",
       "1923  2021      8      312492           1.0\n",
       "1649  2021      7      312492           1.0\n",
       "546   2021      3      263210           1.0\n",
       "270   2021      2      263210           1.0\n",
       "...    ...    ...         ...           ...\n",
       "1102  2021      6        2737           0.0\n",
       "827   2021      5        2737           0.0\n",
       "552   2021      4        2737           0.0\n",
       "276   2021      3        2737           0.0\n",
       "0     2021      2        2737           0.0\n",
       "\n",
       "[3563 rows x 4 columns]"
      ]
     },
     "execution_count": 18,
     "metadata": {},
     "output_type": "execute_result"
    }
   ],
   "source": [
    "engagement_tbl = calendar_2\\\n",
    "    .groupby(['year', 'month', 'listing_id'])\\\n",
    "    .engaged_prob\\\n",
    "    .mean()\\\n",
    "    .reset_index()\\\n",
    "    .sort_values(['engaged_prob', 'listing_id', 'year', 'month'], ascending=False)\n",
    "engagement_tbl"
   ]
  },
  {
   "cell_type": "code",
   "execution_count": 21,
   "metadata": {},
   "outputs": [
    {
     "data": {
      "text/html": "<div>\n<style scoped>\n    .dataframe tbody tr th:only-of-type {\n        vertical-align: middle;\n    }\n\n    .dataframe tbody tr th {\n        vertical-align: top;\n    }\n\n    .dataframe thead th {\n        text-align: right;\n    }\n</style>\n<table border=\"1\" class=\"dataframe\">\n  <thead>\n    <tr style=\"text-align: right;\">\n      <th></th>\n      <th>listing_id</th>\n      <th>engaged_prob</th>\n    </tr>\n  </thead>\n  <tbody>\n    <tr>\n      <th>270</th>\n      <td>263210</td>\n      <td>1.0</td>\n    </tr>\n    <tr>\n      <th>239</th>\n      <td>230555</td>\n      <td>1.0</td>\n    </tr>\n    <tr>\n      <th>219</th>\n      <td>210511</td>\n      <td>1.0</td>\n    </tr>\n    <tr>\n      <th>204</th>\n      <td>192711</td>\n      <td>1.0</td>\n    </tr>\n    <tr>\n      <th>195</th>\n      <td>181189</td>\n      <td>1.0</td>\n    </tr>\n    <tr>\n      <th>...</th>\n      <td>...</td>\n      <td>...</td>\n    </tr>\n    <tr>\n      <th>12</th>\n      <td>20699</td>\n      <td>0.0</td>\n    </tr>\n    <tr>\n      <th>6</th>\n      <td>15409</td>\n      <td>0.0</td>\n    </tr>\n    <tr>\n      <th>2</th>\n      <td>3079</td>\n      <td>0.0</td>\n    </tr>\n    <tr>\n      <th>1</th>\n      <td>2903</td>\n      <td>0.0</td>\n    </tr>\n    <tr>\n      <th>0</th>\n      <td>2737</td>\n      <td>0.0</td>\n    </tr>\n  </tbody>\n</table>\n<p>276 rows × 2 columns</p>\n</div>",
      "text/plain": [
       "     listing_id  engaged_prob\n",
       "270      263210           1.0\n",
       "239      230555           1.0\n",
       "219      210511           1.0\n",
       "204      192711           1.0\n",
       "195      181189           1.0\n",
       "..          ...           ...\n",
       "12        20699           0.0\n",
       "6         15409           0.0\n",
       "2          3079           0.0\n",
       "1          2903           0.0\n",
       "0          2737           0.0\n",
       "\n",
       "[276 rows x 2 columns]"
      ]
     },
     "execution_count": 21,
     "metadata": {},
     "output_type": "execute_result"
    }
   ],
   "source": [
    "engagement_tbl = calendar_2\\\n",
    "    .groupby(['listing_id'])\\\n",
    "    .engaged_prob\\\n",
    "    .mean()\\\n",
    "    .reset_index()\\\n",
    "    .sort_values(['engaged_prob', 'listing_id'], ascending=False)\n",
    "engagement_tbl"
   ]
  },
  {
   "cell_type": "code",
   "execution_count": 27,
   "metadata": {},
   "outputs": [],
   "source": [
    "### tasso medio di occupazione 1"
   ]
  },
  {
   "cell_type": "code",
   "execution_count": 23,
   "metadata": {},
   "outputs": [
    {
     "data": {
      "text/plain": [
       "0.26314159194727194"
      ]
     },
     "execution_count": 23,
     "metadata": {},
     "output_type": "execute_result"
    }
   ],
   "source": [
    "engagement_tbl = calendar_2\\\n",
    "    .groupby(['year', 'month'])\\\n",
    "    .engaged_prob\\\n",
    "    .mean()\\\n",
    "    .reset_index()\\\n",
    "    .sort_values(['engaged_prob','year', 'month'], ascending=False)\\\n",
    "    .engaged_prob\\\n",
    "    .mean()\n",
    "engagement_tbl"
   ]
  },
  {
   "cell_type": "markdown",
   "metadata": {},
   "source": [
    "### tasso medio di occupazione 2"
   ]
  },
  {
   "cell_type": "code",
   "execution_count": 24,
   "metadata": {},
   "outputs": [
    {
     "data": {
      "text/plain": [
       "0.25863"
      ]
     },
     "execution_count": 24,
     "metadata": {},
     "output_type": "execute_result"
    }
   ],
   "source": [
    "calendar_2.engaged_prob.mean()"
   ]
  },
  {
   "cell_type": "markdown",
   "metadata": {},
   "source": [
    "### Notti per anno ???"
   ]
  },
  {
   "cell_type": "code",
   "execution_count": 31,
   "metadata": {},
   "outputs": [
    {
     "data": {
      "text/html": "<div>\n<style scoped>\n    .dataframe tbody tr th:only-of-type {\n        vertical-align: middle;\n    }\n\n    .dataframe tbody tr th {\n        vertical-align: top;\n    }\n\n    .dataframe thead th {\n        text-align: right;\n    }\n</style>\n<table border=\"1\" class=\"dataframe\">\n  <thead>\n    <tr style=\"text-align: right;\">\n      <th></th>\n      <th>listing_id</th>\n      <th>date</th>\n      <th>available</th>\n      <th>price</th>\n      <th>adjusted_price</th>\n      <th>minimum_nights</th>\n      <th>maximum_nights</th>\n      <th>year</th>\n      <th>month</th>\n      <th>available_prob</th>\n      <th>engaged_prob</th>\n    </tr>\n  </thead>\n  <tbody>\n    <tr>\n      <th>398</th>\n      <td>2737</td>\n      <td>2022-02-01</td>\n      <td>True</td>\n      <td>18.0</td>\n      <td>18.0</td>\n      <td>7.0</td>\n      <td>1125.0</td>\n      <td>2022</td>\n      <td>2</td>\n      <td>1</td>\n      <td>0</td>\n    </tr>\n    <tr>\n      <th>399</th>\n      <td>2737</td>\n      <td>2022-02-02</td>\n      <td>True</td>\n      <td>18.0</td>\n      <td>18.0</td>\n      <td>7.0</td>\n      <td>1125.0</td>\n      <td>2022</td>\n      <td>2</td>\n      <td>1</td>\n      <td>0</td>\n    </tr>\n    <tr>\n      <th>400</th>\n      <td>2737</td>\n      <td>2022-02-03</td>\n      <td>True</td>\n      <td>18.0</td>\n      <td>18.0</td>\n      <td>7.0</td>\n      <td>1125.0</td>\n      <td>2022</td>\n      <td>2</td>\n      <td>1</td>\n      <td>0</td>\n    </tr>\n    <tr>\n      <th>401</th>\n      <td>2737</td>\n      <td>2022-02-04</td>\n      <td>True</td>\n      <td>30.0</td>\n      <td>30.0</td>\n      <td>7.0</td>\n      <td>1125.0</td>\n      <td>2022</td>\n      <td>2</td>\n      <td>1</td>\n      <td>0</td>\n    </tr>\n    <tr>\n      <th>402</th>\n      <td>2737</td>\n      <td>2022-02-05</td>\n      <td>True</td>\n      <td>30.0</td>\n      <td>30.0</td>\n      <td>7.0</td>\n      <td>1125.0</td>\n      <td>2022</td>\n      <td>2</td>\n      <td>1</td>\n      <td>0</td>\n    </tr>\n    <tr>\n      <th>...</th>\n      <td>...</td>\n      <td>...</td>\n      <td>...</td>\n      <td>...</td>\n      <td>...</td>\n      <td>...</td>\n      <td>...</td>\n      <td>...</td>\n      <td>...</td>\n      <td>...</td>\n      <td>...</td>\n    </tr>\n    <tr>\n      <th>99868</th>\n      <td>263210</td>\n      <td>2021-02-24</td>\n      <td>False</td>\n      <td>80.0</td>\n      <td>80.0</td>\n      <td>3.0</td>\n      <td>1125.0</td>\n      <td>2021</td>\n      <td>2</td>\n      <td>0</td>\n      <td>1</td>\n    </tr>\n    <tr>\n      <th>99869</th>\n      <td>263210</td>\n      <td>2021-02-25</td>\n      <td>False</td>\n      <td>80.0</td>\n      <td>80.0</td>\n      <td>3.0</td>\n      <td>1125.0</td>\n      <td>2021</td>\n      <td>2</td>\n      <td>0</td>\n      <td>1</td>\n    </tr>\n    <tr>\n      <th>99870</th>\n      <td>263210</td>\n      <td>2021-02-26</td>\n      <td>False</td>\n      <td>80.0</td>\n      <td>80.0</td>\n      <td>3.0</td>\n      <td>1125.0</td>\n      <td>2021</td>\n      <td>2</td>\n      <td>0</td>\n      <td>1</td>\n    </tr>\n    <tr>\n      <th>99871</th>\n      <td>263210</td>\n      <td>2021-02-27</td>\n      <td>False</td>\n      <td>80.0</td>\n      <td>80.0</td>\n      <td>3.0</td>\n      <td>1125.0</td>\n      <td>2021</td>\n      <td>2</td>\n      <td>0</td>\n      <td>1</td>\n    </tr>\n    <tr>\n      <th>99872</th>\n      <td>263210</td>\n      <td>2021-02-28</td>\n      <td>False</td>\n      <td>80.0</td>\n      <td>80.0</td>\n      <td>3.0</td>\n      <td>1125.0</td>\n      <td>2021</td>\n      <td>2</td>\n      <td>0</td>\n      <td>1</td>\n    </tr>\n  </tbody>\n</table>\n<p>100000 rows × 11 columns</p>\n</div>",
      "text/plain": [
       "       listing_id       date  available  price  adjusted_price  \\\n",
       "398          2737 2022-02-01       True   18.0            18.0   \n",
       "399          2737 2022-02-02       True   18.0            18.0   \n",
       "400          2737 2022-02-03       True   18.0            18.0   \n",
       "401          2737 2022-02-04       True   30.0            30.0   \n",
       "402          2737 2022-02-05       True   30.0            30.0   \n",
       "...           ...        ...        ...    ...             ...   \n",
       "99868      263210 2021-02-24      False   80.0            80.0   \n",
       "99869      263210 2021-02-25      False   80.0            80.0   \n",
       "99870      263210 2021-02-26      False   80.0            80.0   \n",
       "99871      263210 2021-02-27      False   80.0            80.0   \n",
       "99872      263210 2021-02-28      False   80.0            80.0   \n",
       "\n",
       "       minimum_nights  maximum_nights  year  month  available_prob  \\\n",
       "398               7.0          1125.0  2022      2               1   \n",
       "399               7.0          1125.0  2022      2               1   \n",
       "400               7.0          1125.0  2022      2               1   \n",
       "401               7.0          1125.0  2022      2               1   \n",
       "402               7.0          1125.0  2022      2               1   \n",
       "...               ...             ...   ...    ...             ...   \n",
       "99868             3.0          1125.0  2021      2               0   \n",
       "99869             3.0          1125.0  2021      2               0   \n",
       "99870             3.0          1125.0  2021      2               0   \n",
       "99871             3.0          1125.0  2021      2               0   \n",
       "99872             3.0          1125.0  2021      2               0   \n",
       "\n",
       "       engaged_prob  \n",
       "398               0  \n",
       "399               0  \n",
       "400               0  \n",
       "401               0  \n",
       "402               0  \n",
       "...             ...  \n",
       "99868             1  \n",
       "99869             1  \n",
       "99870             1  \n",
       "99871             1  \n",
       "99872             1  \n",
       "\n",
       "[100000 rows x 11 columns]"
      ]
     },
     "execution_count": 31,
     "metadata": {},
     "output_type": "execute_result"
    }
   ],
   "source": [
    "calendar_2"
   ]
  },
  {
   "cell_type": "code",
   "execution_count": 37,
   "metadata": {},
   "outputs": [
    {
     "data": {
      "text/html": "<div>\n<style scoped>\n    .dataframe tbody tr th:only-of-type {\n        vertical-align: middle;\n    }\n\n    .dataframe tbody tr th {\n        vertical-align: top;\n    }\n\n    .dataframe thead th {\n        text-align: right;\n    }\n</style>\n<table border=\"1\" class=\"dataframe\">\n  <thead>\n    <tr style=\"text-align: right;\">\n      <th></th>\n      <th>year</th>\n      <th>listing_id</th>\n    </tr>\n  </thead>\n  <tbody>\n    <tr>\n      <th>0</th>\n      <td>2022</td>\n      <td>8320</td>\n    </tr>\n    <tr>\n      <th>1</th>\n      <td>2021</td>\n      <td>65817</td>\n    </tr>\n  </tbody>\n</table>\n</div>",
      "text/plain": [
       "   year  listing_id\n",
       "0  2022        8320\n",
       "1  2021       65817"
      ]
     },
     "execution_count": 37,
     "metadata": {},
     "output_type": "execute_result"
    }
   ],
   "source": [
    "# tutto sbagliato\n",
    "calendar_2[calendar_2.available]\\\n",
    "  .groupby(['year'], dropna=False)\\\n",
    "  .listing_id.count()\\\n",
    "  .sort_index(ascending=False)\\\n",
    "  .reset_index()\\\n",
    "  .rename(columns={'id': 'count'})"
   ]
  },
  {
   "cell_type": "markdown",
   "metadata": {},
   "source": [
    "neanche questo ha senso"
   ]
  },
  {
   "cell_type": "code",
   "execution_count": 93,
   "metadata": {},
   "outputs": [
    {
     "data": {
      "text/plain": [
       "19.57"
      ]
     },
     "execution_count": 93,
     "metadata": {},
     "output_type": "execute_result"
    }
   ],
   "source": [
    "# ????\n",
    "review_count = reviews\\\n",
    "  .groupby(['year'], dropna=False)\\\n",
    "  .id.count()\\\n",
    "  .sort_index(ascending=False)\\\n",
    "  .reset_index()\\\n",
    "  .rename(columns={'id': 'count'})\n",
    "\n",
    "# review_count['count_perc'] = (review_count['count'] / review_count['count'].sum() * 100).round(2)\n",
    "review_count['nights_per_year'] = (review_count['count'] / 365).round(2)\n",
    "\n",
    "review_count['nights_per_year'].mean()"
   ]
  },
  {
   "cell_type": "markdown",
   "metadata": {},
   "source": [
    "### Prezzo a notte medio (nemmeno questo ha senso)"
   ]
  },
  {
   "cell_type": "code",
   "execution_count": 94,
   "metadata": {},
   "outputs": [
    {
     "data": {
      "text/plain": [
       "100.03733"
      ]
     },
     "execution_count": 94,
     "metadata": {},
     "output_type": "execute_result"
    }
   ],
   "source": [
    "calendar_2.price.mean()"
   ]
  },
  {
   "cell_type": "code",
   "execution_count": 95,
   "metadata": {},
   "outputs": [
    {
     "data": {
      "text/plain": [
       "102.4371882612226"
      ]
     },
     "execution_count": 95,
     "metadata": {},
     "output_type": "execute_result"
    }
   ],
   "source": [
    "calendar_2.loc[calendar_2.engaged_prob == 1].price.mean()"
   ]
  },
  {
   "cell_type": "markdown",
   "metadata": {},
   "source": [
    "### Conteggio Recensioni"
   ]
  },
  {
   "cell_type": "code",
   "execution_count": 39,
   "metadata": {},
   "outputs": [
    {
     "data": {
      "text/plain": [
       "100000"
      ]
     },
     "execution_count": 39,
     "metadata": {},
     "output_type": "execute_result"
    }
   ],
   "source": [
    "# Total reviews:\n",
    "reviews.id.count()"
   ]
  },
  {
   "cell_type": "markdown",
   "metadata": {},
   "source": [
    "### Recensioni / annunci / mese"
   ]
  },
  {
   "cell_type": "code",
   "execution_count": 46,
   "metadata": {},
   "outputs": [
    {
     "data": {
      "text/html": "<div>\n<style scoped>\n    .dataframe tbody tr th:only-of-type {\n        vertical-align: middle;\n    }\n\n    .dataframe tbody tr th {\n        vertical-align: top;\n    }\n\n    .dataframe thead th {\n        text-align: right;\n    }\n</style>\n<table border=\"1\" class=\"dataframe\">\n  <thead>\n    <tr style=\"text-align: right;\">\n      <th></th>\n      <th>year</th>\n      <th>month</th>\n      <th>listing_id</th>\n      <th>count</th>\n    </tr>\n  </thead>\n  <tbody>\n    <tr>\n      <th>0</th>\n      <td>2021</td>\n      <td>2</td>\n      <td>865289</td>\n      <td>1</td>\n    </tr>\n    <tr>\n      <th>1</th>\n      <td>2021</td>\n      <td>2</td>\n      <td>831199</td>\n      <td>1</td>\n    </tr>\n    <tr>\n      <th>2</th>\n      <td>2021</td>\n      <td>2</td>\n      <td>721874</td>\n      <td>1</td>\n    </tr>\n    <tr>\n      <th>3</th>\n      <td>2021</td>\n      <td>2</td>\n      <td>639627</td>\n      <td>1</td>\n    </tr>\n    <tr>\n      <th>4</th>\n      <td>2021</td>\n      <td>2</td>\n      <td>335009</td>\n      <td>1</td>\n    </tr>\n  </tbody>\n</table>\n</div>",
      "text/plain": [
       "   year  month  listing_id  count\n",
       "0  2021      2      865289      1\n",
       "1  2021      2      831199      1\n",
       "2  2021      2      721874      1\n",
       "3  2021      2      639627      1\n",
       "4  2021      2      335009      1"
      ]
     },
     "execution_count": 46,
     "metadata": {},
     "output_type": "execute_result"
    }
   ],
   "source": [
    "\n",
    "review_count = reviews\\\n",
    "  .groupby(['year', 'month', 'listing_id'], dropna=False)\\\n",
    "  .id.count()\\\n",
    "  .sort_index(ascending=False)\\\n",
    "  .reset_index()\\\n",
    "  .rename(columns={'id': 'count'})\n",
    "\n",
    "review_count.head()\n"
   ]
  },
  {
   "cell_type": "code",
   "execution_count": 44,
   "metadata": {},
   "outputs": [
    {
     "data": {
      "text/plain": [
       "2.7159152634437804"
      ]
     },
     "execution_count": 44,
     "metadata": {},
     "output_type": "execute_result"
    }
   ],
   "source": [
    "# review_count['count_perc'] = (review_count['count'] / review_count['count'].sum() * 100).round(2)\n",
    "# review_count['nights_per_year'] = (review_count['count'] / 365).round(2)\n",
    "\n",
    "review_count['count'].mean()"
   ]
  },
  {
   "cell_type": "markdown",
   "metadata": {},
   "source": [
    "### Fatturato al mese stimato (probabilmente sbagliato)"
   ]
  },
  {
   "cell_type": "code",
   "execution_count": 47,
   "metadata": {},
   "outputs": [
    {
     "data": {
      "text/plain": [
       "794.7999"
      ]
     },
     "execution_count": 47,
     "metadata": {},
     "output_type": "execute_result"
    }
   ],
   "source": [
    "mean_day_price_engaged = calendar_2\\\n",
    "    .assign(day_income = calendar_2.price * calendar_2.engaged_prob )\\\n",
    "    .day_income\\\n",
    "    .mean()\n",
    "mean_day_price_engaged * 30\n",
    "    \n"
   ]
  },
  {
   "cell_type": "markdown",
   "metadata": {},
   "source": [
    "# GC\n"
   ]
  },
  {
   "cell_type": "code",
   "execution_count": 24,
   "metadata": {},
   "outputs": [
    {
     "data": {
      "text/plain": [
       "40"
      ]
     },
     "execution_count": 24,
     "metadata": {},
     "output_type": "execute_result"
    }
   ],
   "source": [
    "import gc\n",
    "\n",
    "calendar_raw = None\n",
    "reviews_raw = None\n",
    "review_count = None\n",
    "calendar = None\n",
    "\n",
    "gc.collect()"
   ]
  },
  {
   "cell_type": "code",
   "execution_count": null,
   "metadata": {},
   "outputs": [],
   "source": []
  }
 ],
 "metadata": {
  "kernelspec": {
   "display_name": "Python 3.8.7 64-bit ('.venv': venv)",
   "language": "python",
   "name": "python387jvsc74a57bd0e49542d0262d6322047de25f3c441ad81e63b800f81510413f153210b1fbb80e"
  },
  "language_info": {
   "codemirror_mode": {
    "name": "ipython",
    "version": 3
   },
   "file_extension": ".py",
   "mimetype": "text/x-python",
   "name": "python",
   "nbconvert_exporter": "python",
   "pygments_lexer": "ipython3",
   "version": "3.8.7"
  },
  "orig_nbformat": 2
 },
 "nbformat": 4,
 "nbformat_minor": 2
}
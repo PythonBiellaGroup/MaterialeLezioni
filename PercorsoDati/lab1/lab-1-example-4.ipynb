{
 "cells": [
  {
   "cell_type": "markdown",
   "metadata": {},
   "source": [
    "# Analisi 4\n",
    "\n",
    "Un host airbnb può impostare il calendario per i suoi annunci rendendoli disponibili solo per alcuni giorni o settimane all'anno.\n",
    "\n",
    "Altri annunci sono disponibili tutto l'anno (eccetto quando già prenotati).\n",
    "\n",
    "Molto probabilmente, nel caso di appartamenti interi con elevata disponibilità durante l'anno, il proprietario non è presente: gli alloggi potrebbero essere illegali e, fatto molto più importante, allontanare i residenti dal quartiere.\n",
    "\n",
    "Il calendario Airbnb potrebbe non essere accurato."
   ]
  },
  {
   "cell_type": "code",
   "execution_count": null,
   "metadata": {},
   "outputs": [],
   "source": [
    "import pandas as pd\n",
    "import numpy as np\n",
    "import os"
   ]
  },
  {
   "cell_type": "code",
   "execution_count": null,
   "metadata": {},
   "outputs": [],
   "source": [
    "#Import all the data from the other notebook\n",
    "%run lab-1-data.ipynb"
   ]
  }
 ],
 "metadata": {
  "kernelspec": {
   "display_name": "Python 3.8.7 64-bit ('.venv': venv)",
   "name": "python387jvsc74a57bd0e49542d0262d6322047de25f3c441ad81e63b800f81510413f153210b1fbb80e"
  },
  "language_info": {
   "name": "python",
   "version": ""
  },
  "orig_nbformat": 2
 },
 "nbformat": 4,
 "nbformat_minor": 2
}
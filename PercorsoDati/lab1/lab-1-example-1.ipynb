{
 "cells": [
  {
   "cell_type": "markdown",
   "metadata": {},
   "source": [
    "# Analisi 1\n",
    "\n",
    "\n",
    "- Import dei dati\n",
    "- Pulizia dei dati\n",
    "- Analisi del tipo di stanze nel dataset\n",
    "- Prezzo stanza per notte"
   ]
  },
  {
   "cell_type": "code",
   "execution_count": 2,
   "metadata": {},
   "outputs": [
    {
     "name": "stderr",
     "output_type": "stream",
     "text": [
      "/Users/jeydi/Dropbox/Progetti/PERSONALI/PythonBiellaGroup/MaterialeLezioni/PercorsoDati/.venv/lib/python3.8/site-packages/pandas/compat/__init__.py:97: UserWarning: Could not import the lzma module. Your installed Python is incomplete. Attempting to use lzma compression will result in a RuntimeError.\n",
      "  warnings.warn(msg)\n"
     ]
    }
   ],
   "source": [
    "import pandas as pd\n",
    "import numpy as np\n",
    "import os"
   ]
  },
  {
   "cell_type": "code",
   "execution_count": 7,
   "metadata": {},
   "outputs": [
    {
     "data": {
      "text/html": "<div>\n<style scoped>\n    .dataframe tbody tr th:only-of-type {\n        vertical-align: middle;\n    }\n\n    .dataframe tbody tr th {\n        vertical-align: top;\n    }\n\n    .dataframe thead th {\n        text-align: right;\n    }\n</style>\n<table border=\"1\" class=\"dataframe\">\n  <thead>\n    <tr style=\"text-align: right;\">\n      <th></th>\n      <th>id</th>\n      <th>listing_url</th>\n      <th>scrape_id</th>\n      <th>last_scraped</th>\n      <th>name</th>\n      <th>summary</th>\n      <th>space</th>\n      <th>description</th>\n      <th>experiences_offered</th>\n      <th>neighborhood_overview</th>\n      <th>...</th>\n      <th>review_scores_value</th>\n      <th>requires_license</th>\n      <th>license</th>\n      <th>jurisdiction_names</th>\n      <th>instant_bookable</th>\n      <th>cancellation_policy</th>\n      <th>require_guest_profile_picture</th>\n      <th>require_guest_phone_verification</th>\n      <th>calculated_host_listings_count</th>\n      <th>reviews_per_month</th>\n    </tr>\n  </thead>\n  <tbody>\n    <tr>\n      <th>0</th>\n      <td>241032</td>\n      <td>https://www.airbnb.com/rooms/241032</td>\n      <td>20160104002432</td>\n      <td>2016-01-04</td>\n      <td>Stylish Queen Anne Apartment</td>\n      <td>NaN</td>\n      <td>Make your self at home in this charming one-be...</td>\n      <td>Make your self at home in this charming one-be...</td>\n      <td>none</td>\n      <td>NaN</td>\n      <td>...</td>\n      <td>10.0</td>\n      <td>f</td>\n      <td>NaN</td>\n      <td>WASHINGTON</td>\n      <td>f</td>\n      <td>moderate</td>\n      <td>f</td>\n      <td>f</td>\n      <td>2</td>\n      <td>4.07</td>\n    </tr>\n    <tr>\n      <th>1</th>\n      <td>953595</td>\n      <td>https://www.airbnb.com/rooms/953595</td>\n      <td>20160104002432</td>\n      <td>2016-01-04</td>\n      <td>Bright &amp; Airy Queen Anne Apartment</td>\n      <td>Chemically sensitive? We've removed the irrita...</td>\n      <td>Beautiful, hypoallergenic apartment in an extr...</td>\n      <td>Chemically sensitive? We've removed the irrita...</td>\n      <td>none</td>\n      <td>Queen Anne is a wonderful, truly functional vi...</td>\n      <td>...</td>\n      <td>10.0</td>\n      <td>f</td>\n      <td>NaN</td>\n      <td>WASHINGTON</td>\n      <td>f</td>\n      <td>strict</td>\n      <td>t</td>\n      <td>t</td>\n      <td>6</td>\n      <td>1.48</td>\n    </tr>\n    <tr>\n      <th>2</th>\n      <td>3308979</td>\n      <td>https://www.airbnb.com/rooms/3308979</td>\n      <td>20160104002432</td>\n      <td>2016-01-04</td>\n      <td>New Modern House-Amazing water view</td>\n      <td>New modern house built in 2013.  Spectacular s...</td>\n      <td>Our house is modern, light and fresh with a wa...</td>\n      <td>New modern house built in 2013.  Spectacular s...</td>\n      <td>none</td>\n      <td>Upper Queen Anne is a charming neighborhood fu...</td>\n      <td>...</td>\n      <td>10.0</td>\n      <td>f</td>\n      <td>NaN</td>\n      <td>WASHINGTON</td>\n      <td>f</td>\n      <td>strict</td>\n      <td>f</td>\n      <td>f</td>\n      <td>2</td>\n      <td>1.15</td>\n    </tr>\n    <tr>\n      <th>3</th>\n      <td>7421966</td>\n      <td>https://www.airbnb.com/rooms/7421966</td>\n      <td>20160104002432</td>\n      <td>2016-01-04</td>\n      <td>Queen Anne Chateau</td>\n      <td>A charming apartment that sits atop Queen Anne...</td>\n      <td>NaN</td>\n      <td>A charming apartment that sits atop Queen Anne...</td>\n      <td>none</td>\n      <td>NaN</td>\n      <td>...</td>\n      <td>NaN</td>\n      <td>f</td>\n      <td>NaN</td>\n      <td>WASHINGTON</td>\n      <td>f</td>\n      <td>flexible</td>\n      <td>f</td>\n      <td>f</td>\n      <td>1</td>\n      <td>NaN</td>\n    </tr>\n    <tr>\n      <th>4</th>\n      <td>278830</td>\n      <td>https://www.airbnb.com/rooms/278830</td>\n      <td>20160104002432</td>\n      <td>2016-01-04</td>\n      <td>Charming craftsman 3 bdm house</td>\n      <td>Cozy family craftman house in beautiful neighb...</td>\n      <td>Cozy family craftman house in beautiful neighb...</td>\n      <td>Cozy family craftman house in beautiful neighb...</td>\n      <td>none</td>\n      <td>We are in the beautiful neighborhood of Queen ...</td>\n      <td>...</td>\n      <td>9.0</td>\n      <td>f</td>\n      <td>NaN</td>\n      <td>WASHINGTON</td>\n      <td>f</td>\n      <td>strict</td>\n      <td>f</td>\n      <td>f</td>\n      <td>1</td>\n      <td>0.89</td>\n    </tr>\n  </tbody>\n</table>\n<p>5 rows × 92 columns</p>\n</div>",
      "text/plain": "        id                           listing_url       scrape_id last_scraped  \\\n0   241032   https://www.airbnb.com/rooms/241032  20160104002432   2016-01-04   \n1   953595   https://www.airbnb.com/rooms/953595  20160104002432   2016-01-04   \n2  3308979  https://www.airbnb.com/rooms/3308979  20160104002432   2016-01-04   \n3  7421966  https://www.airbnb.com/rooms/7421966  20160104002432   2016-01-04   \n4   278830   https://www.airbnb.com/rooms/278830  20160104002432   2016-01-04   \n\n                                  name  \\\n0         Stylish Queen Anne Apartment   \n1   Bright & Airy Queen Anne Apartment   \n2  New Modern House-Amazing water view   \n3                   Queen Anne Chateau   \n4       Charming craftsman 3 bdm house   \n\n                                             summary  \\\n0                                                NaN   \n1  Chemically sensitive? We've removed the irrita...   \n2  New modern house built in 2013.  Spectacular s...   \n3  A charming apartment that sits atop Queen Anne...   \n4  Cozy family craftman house in beautiful neighb...   \n\n                                               space  \\\n0  Make your self at home in this charming one-be...   \n1  Beautiful, hypoallergenic apartment in an extr...   \n2  Our house is modern, light and fresh with a wa...   \n3                                                NaN   \n4  Cozy family craftman house in beautiful neighb...   \n\n                                         description experiences_offered  \\\n0  Make your self at home in this charming one-be...                none   \n1  Chemically sensitive? We've removed the irrita...                none   \n2  New modern house built in 2013.  Spectacular s...                none   \n3  A charming apartment that sits atop Queen Anne...                none   \n4  Cozy family craftman house in beautiful neighb...                none   \n\n                               neighborhood_overview  ... review_scores_value  \\\n0                                                NaN  ...                10.0   \n1  Queen Anne is a wonderful, truly functional vi...  ...                10.0   \n2  Upper Queen Anne is a charming neighborhood fu...  ...                10.0   \n3                                                NaN  ...                 NaN   \n4  We are in the beautiful neighborhood of Queen ...  ...                 9.0   \n\n  requires_license license jurisdiction_names instant_bookable  \\\n0                f     NaN         WASHINGTON                f   \n1                f     NaN         WASHINGTON                f   \n2                f     NaN         WASHINGTON                f   \n3                f     NaN         WASHINGTON                f   \n4                f     NaN         WASHINGTON                f   \n\n  cancellation_policy  require_guest_profile_picture  \\\n0            moderate                              f   \n1              strict                              t   \n2              strict                              f   \n3            flexible                              f   \n4              strict                              f   \n\n  require_guest_phone_verification calculated_host_listings_count  \\\n0                                f                              2   \n1                                t                              6   \n2                                f                              2   \n3                                f                              1   \n4                                f                              1   \n\n  reviews_per_month  \n0              4.07  \n1              1.48  \n2              1.15  \n3               NaN  \n4              0.89  \n\n[5 rows x 92 columns]"
     },
     "execution_count": 7,
     "metadata": {},
     "output_type": "execute_result"
    }
   ],
   "source": [
    "folder_path = os.path.abspath(\"..\")\n",
    "data_dir = 'dataset/rome-airbnb'\n",
    "filename = 'listings.csv'\n",
    "filepath = os.path.join(folder_path, data_dir, filename)\n",
    "\n",
    "listings_raw = pd.read_csv(filepath)\n",
    "listings_raw.head()"
   ]
  },
  {
   "cell_type": "code",
   "execution_count": 4,
   "metadata": {},
   "outputs": [
    {
     "data": {
      "text/plain": [
       "['accommodates',\n",
       " 'amenities',\n",
       " 'availability_30',\n",
       " 'availability_365',\n",
       " 'availability_60',\n",
       " 'availability_90',\n",
       " 'bathrooms',\n",
       " 'bathrooms_text',\n",
       " 'bedrooms',\n",
       " 'beds',\n",
       " 'calculated_host_listings_count',\n",
       " 'calculated_host_listings_count_entire_homes',\n",
       " 'calculated_host_listings_count_private_rooms',\n",
       " 'calculated_host_listings_count_shared_rooms',\n",
       " 'calendar_last_scraped',\n",
       " 'calendar_updated',\n",
       " 'description',\n",
       " 'first_review',\n",
       " 'has_availability',\n",
       " 'host_about',\n",
       " 'host_acceptance_rate',\n",
       " 'host_has_profile_pic',\n",
       " 'host_id',\n",
       " 'host_identity_verified',\n",
       " 'host_is_superhost',\n",
       " 'host_listings_count',\n",
       " 'host_location',\n",
       " 'host_name',\n",
       " 'host_neighbourhood',\n",
       " 'host_picture_url',\n",
       " 'host_response_rate',\n",
       " 'host_response_time',\n",
       " 'host_since',\n",
       " 'host_thumbnail_url',\n",
       " 'host_total_listings_count',\n",
       " 'host_url',\n",
       " 'host_verifications',\n",
       " 'id',\n",
       " 'instant_bookable',\n",
       " 'last_review',\n",
       " 'last_scraped',\n",
       " 'latitude',\n",
       " 'license',\n",
       " 'listing_url',\n",
       " 'longitude',\n",
       " 'maximum_maximum_nights',\n",
       " 'maximum_minimum_nights',\n",
       " 'maximum_nights',\n",
       " 'maximum_nights_avg_ntm',\n",
       " 'minimum_maximum_nights',\n",
       " 'minimum_minimum_nights',\n",
       " 'minimum_nights',\n",
       " 'minimum_nights_avg_ntm',\n",
       " 'name',\n",
       " 'neighborhood_overview',\n",
       " 'neighbourhood',\n",
       " 'neighbourhood_cleansed',\n",
       " 'neighbourhood_group_cleansed',\n",
       " 'number_of_reviews',\n",
       " 'number_of_reviews_l30d',\n",
       " 'number_of_reviews_ltm',\n",
       " 'picture_url',\n",
       " 'price',\n",
       " 'property_type',\n",
       " 'review_scores_accuracy',\n",
       " 'review_scores_checkin',\n",
       " 'review_scores_cleanliness',\n",
       " 'review_scores_communication',\n",
       " 'review_scores_location',\n",
       " 'review_scores_rating',\n",
       " 'review_scores_value',\n",
       " 'reviews_per_month',\n",
       " 'room_type',\n",
       " 'scrape_id']"
      ]
     },
     "execution_count": 4,
     "metadata": {},
     "output_type": "execute_result"
    }
   ],
   "source": [
    "sorted(listings_raw.columns)"
   ]
  },
  {
   "cell_type": "code",
   "execution_count": 6,
   "metadata": {},
   "outputs": [
    {
     "data": {
      "text/html": "<div>\n<style scoped>\n    .dataframe tbody tr th:only-of-type {\n        vertical-align: middle;\n    }\n\n    .dataframe tbody tr th {\n        vertical-align: top;\n    }\n\n    .dataframe thead th {\n        text-align: right;\n    }\n</style>\n<table border=\"1\" class=\"dataframe\">\n  <thead>\n    <tr style=\"text-align: right;\">\n      <th></th>\n      <th>id</th>\n      <th>name</th>\n      <th>longitude</th>\n      <th>latitude</th>\n      <th>listing_url</th>\n      <th>instant_bookable</th>\n      <th>host_response_time</th>\n      <th>review_scores_rating</th>\n      <th>property_type</th>\n      <th>room_type</th>\n      <th>accommodates</th>\n      <th>bathrooms</th>\n      <th>bedrooms</th>\n      <th>beds</th>\n      <th>reviews_per_month</th>\n      <th>amenities</th>\n      <th>number_of_reviews</th>\n      <th>price</th>\n    </tr>\n  </thead>\n  <tbody>\n    <tr>\n      <th>0</th>\n      <td>2737</td>\n      <td>Elif's room in cozy, clean flat.</td>\n      <td>12.48355</td>\n      <td>41.87218</td>\n      <td>https://www.airbnb.com/rooms/2737</td>\n      <td>f</td>\n      <td>within a day</td>\n      <td>96.0</td>\n      <td>Private room</td>\n      <td>Private room</td>\n      <td>1</td>\n      <td>NaN</td>\n      <td>1.0</td>\n      <td>0.0</td>\n      <td>0.09</td>\n      <td>[\"Free parking on premises\", \"Elevator\", \"Drye...</td>\n      <td>7</td>\n      <td>$21.00</td>\n    </tr>\n    <tr>\n      <th>1</th>\n      <td>2903</td>\n      <td>Stay a night in Calisto6 B&amp;B Rome</td>\n      <td>12.47002</td>\n      <td>41.88826</td>\n      <td>https://www.airbnb.com/rooms/2903</td>\n      <td>f</td>\n      <td>within a few hours</td>\n      <td>86.0</td>\n      <td>Private room in bed and breakfast</td>\n      <td>Private room</td>\n      <td>4</td>\n      <td>NaN</td>\n      <td>1.0</td>\n      <td>2.0</td>\n      <td>0.37</td>\n      <td>[\"Shampoo\", \"Indoor fireplace\", \"TV\", \"Dedicat...</td>\n      <td>55</td>\n      <td>$37.00</td>\n    </tr>\n    <tr>\n      <th>2</th>\n      <td>3079</td>\n      <td>Cozy apartment  (2-4)with Colisseum  view</td>\n      <td>12.49163</td>\n      <td>41.89503</td>\n      <td>https://www.airbnb.com/rooms/3079</td>\n      <td>f</td>\n      <td>NaN</td>\n      <td>88.0</td>\n      <td>Entire apartment</td>\n      <td>Entire home/apt</td>\n      <td>4</td>\n      <td>NaN</td>\n      <td>1.0</td>\n      <td>4.0</td>\n      <td>0.14</td>\n      <td>[\"Paid parking off premises\", \"Washer\", \"Dedic...</td>\n      <td>17</td>\n      <td>$105.00</td>\n    </tr>\n    <tr>\n      <th>3</th>\n      <td>11834</td>\n      <td>Roma \"Charming Boschetto House\"</td>\n      <td>12.49058</td>\n      <td>41.89574</td>\n      <td>https://www.airbnb.com/rooms/11834</td>\n      <td>f</td>\n      <td>NaN</td>\n      <td>95.0</td>\n      <td>Entire apartment</td>\n      <td>Entire home/apt</td>\n      <td>2</td>\n      <td>NaN</td>\n      <td>1.0</td>\n      <td>1.0</td>\n      <td>1.19</td>\n      <td>[\"Pack \\u2019n Play/travel crib\", \"Washer\", \"H...</td>\n      <td>142</td>\n      <td>$90.00</td>\n    </tr>\n    <tr>\n      <th>4</th>\n      <td>12398</td>\n      <td>Casa Donatello - Home far from Home</td>\n      <td>12.46809</td>\n      <td>41.92584</td>\n      <td>https://www.airbnb.com/rooms/12398</td>\n      <td>f</td>\n      <td>within an hour</td>\n      <td>98.0</td>\n      <td>Entire apartment</td>\n      <td>Entire home/apt</td>\n      <td>5</td>\n      <td>NaN</td>\n      <td>2.0</td>\n      <td>3.0</td>\n      <td>0.32</td>\n      <td>[\"Dishwasher\", \"Lockbox\", \"Washer\", \"Dedicated...</td>\n      <td>40</td>\n      <td>$73.00</td>\n    </tr>\n  </tbody>\n</table>\n</div>",
      "text/plain": [
       "      id                                       name  longitude  latitude  \\\n",
       "0   2737           Elif's room in cozy, clean flat.   12.48355  41.87218   \n",
       "1   2903          Stay a night in Calisto6 B&B Rome   12.47002  41.88826   \n",
       "2   3079  Cozy apartment  (2-4)with Colisseum  view   12.49163  41.89503   \n",
       "3  11834            Roma \"Charming Boschetto House\"   12.49058  41.89574   \n",
       "4  12398        Casa Donatello - Home far from Home   12.46809  41.92584   \n",
       "\n",
       "                          listing_url instant_bookable  host_response_time  \\\n",
       "0   https://www.airbnb.com/rooms/2737                f        within a day   \n",
       "1   https://www.airbnb.com/rooms/2903                f  within a few hours   \n",
       "2   https://www.airbnb.com/rooms/3079                f                 NaN   \n",
       "3  https://www.airbnb.com/rooms/11834                f                 NaN   \n",
       "4  https://www.airbnb.com/rooms/12398                f      within an hour   \n",
       "\n",
       "   review_scores_rating                      property_type        room_type  \\\n",
       "0                  96.0                       Private room     Private room   \n",
       "1                  86.0  Private room in bed and breakfast     Private room   \n",
       "2                  88.0                   Entire apartment  Entire home/apt   \n",
       "3                  95.0                   Entire apartment  Entire home/apt   \n",
       "4                  98.0                   Entire apartment  Entire home/apt   \n",
       "\n",
       "   accommodates  bathrooms  bedrooms  beds  reviews_per_month  \\\n",
       "0             1        NaN       1.0   0.0               0.09   \n",
       "1             4        NaN       1.0   2.0               0.37   \n",
       "2             4        NaN       1.0   4.0               0.14   \n",
       "3             2        NaN       1.0   1.0               1.19   \n",
       "4             5        NaN       2.0   3.0               0.32   \n",
       "\n",
       "                                           amenities  number_of_reviews  \\\n",
       "0  [\"Free parking on premises\", \"Elevator\", \"Drye...                  7   \n",
       "1  [\"Shampoo\", \"Indoor fireplace\", \"TV\", \"Dedicat...                 55   \n",
       "2  [\"Paid parking off premises\", \"Washer\", \"Dedic...                 17   \n",
       "3  [\"Pack \\u2019n Play/travel crib\", \"Washer\", \"H...                142   \n",
       "4  [\"Dishwasher\", \"Lockbox\", \"Washer\", \"Dedicated...                 40   \n",
       "\n",
       "     price  \n",
       "0   $21.00  \n",
       "1   $37.00  \n",
       "2  $105.00  \n",
       "3   $90.00  \n",
       "4   $73.00  "
      ]
     },
     "execution_count": 6,
     "metadata": {},
     "output_type": "execute_result"
    }
   ],
   "source": [
    "# Selezioniamo solo alcune delle colonne\n",
    "listings = listings_raw[[\n",
    "    'id','name','longitude','latitude',\n",
    "    'listing_url',\n",
    "    'instant_bookable',\n",
    "    'host_response_time',\n",
    "    'review_scores_rating',\n",
    "    'property_type',\n",
    "    'room_type','accommodates',\n",
    "    'bathrooms','bedrooms','beds','reviews_per_month','amenities',\n",
    "    'number_of_reviews',\n",
    "    'price'\n",
    "  ]]\n",
    "listings.head()"
   ]
  },
  {
   "cell_type": "markdown",
   "metadata": {},
   "source": [
    "# Data cleaning\n",
    "\n",
    "## Price da stringa a numero reale"
   ]
  },
  {
   "cell_type": "code",
   "execution_count": 7,
   "metadata": {},
   "outputs": [
    {
     "data": {
      "text/html": "<div>\n<style scoped>\n    .dataframe tbody tr th:only-of-type {\n        vertical-align: middle;\n    }\n\n    .dataframe tbody tr th {\n        vertical-align: top;\n    }\n\n    .dataframe thead th {\n        text-align: right;\n    }\n</style>\n<table border=\"1\" class=\"dataframe\">\n  <thead>\n    <tr style=\"text-align: right;\">\n      <th></th>\n      <th>price</th>\n    </tr>\n  </thead>\n  <tbody>\n    <tr>\n      <th>0</th>\n      <td>21.0</td>\n    </tr>\n    <tr>\n      <th>1</th>\n      <td>37.0</td>\n    </tr>\n    <tr>\n      <th>2</th>\n      <td>105.0</td>\n    </tr>\n    <tr>\n      <th>3</th>\n      <td>90.0</td>\n    </tr>\n    <tr>\n      <th>4</th>\n      <td>73.0</td>\n    </tr>\n    <tr>\n      <th>...</th>\n      <td>...</td>\n    </tr>\n    <tr>\n      <th>27642</th>\n      <td>44.0</td>\n    </tr>\n    <tr>\n      <th>27643</th>\n      <td>44.0</td>\n    </tr>\n    <tr>\n      <th>27644</th>\n      <td>38.0</td>\n    </tr>\n    <tr>\n      <th>27645</th>\n      <td>1802.0</td>\n    </tr>\n    <tr>\n      <th>27646</th>\n      <td>94.0</td>\n    </tr>\n  </tbody>\n</table>\n<p>27647 rows × 1 columns</p>\n</div>",
      "text/plain": [
       "        price\n",
       "0        21.0\n",
       "1        37.0\n",
       "2       105.0\n",
       "3        90.0\n",
       "4        73.0\n",
       "...       ...\n",
       "27642    44.0\n",
       "27643    44.0\n",
       "27644    38.0\n",
       "27645  1802.0\n",
       "27646    94.0\n",
       "\n",
       "[27647 rows x 1 columns]"
      ]
     },
     "execution_count": 7,
     "metadata": {},
     "output_type": "execute_result"
    }
   ],
   "source": [
    "@np.vectorize\n",
    "def remove_dollar(label: str):\n",
    "  return float(label.replace('$','').replace(',',''))\n",
    "\n",
    "#listings['price'] = remove_dollar(listings['price'])\n",
    "listings_2 = listings.assign(price = remove_dollar(listings.price))\n",
    "listings_2[['price']]"
   ]
  },
  {
   "cell_type": "markdown",
   "metadata": {},
   "source": [
    "## Analisi del Tipo di stanza ('room_type')\n",
    "\n",
    "Studiamo le differenze tra i differenti tipi di stanze. \n",
    "\n",
    "Gli \"host\" di Airbnb possono affittare case/appartamenti interi, stanze private o condivise.\n",
    "\n",
    "Secondo la tipologia di alloggio offerto e il tasso di attività, un annuncio di Airbnb potrebbe funzionare in maniera più simile ad un hotel non regolamentato, essere di disturbo al vicinato, sottrarre disponibilità di alloggi al settore residenziale ed essere illegale.\n",
    "\n",
    "\n",
    "### Livelli\n"
   ]
  },
  {
   "cell_type": "code",
   "execution_count": 8,
   "metadata": {},
   "outputs": [
    {
     "data": {
      "text/plain": [
       "['Private room', 'Entire home/apt', 'Hotel room', 'Shared room']"
      ]
     },
     "execution_count": 8,
     "metadata": {},
     "output_type": "execute_result"
    }
   ],
   "source": [
    "# levels\n",
    "list(listings_2['room_type'].unique())"
   ]
  },
  {
   "cell_type": "markdown",
   "metadata": {},
   "source": [
    "### Conteggio"
   ]
  },
  {
   "cell_type": "code",
   "execution_count": 9,
   "metadata": {},
   "outputs": [
    {
     "data": {
      "text/html": "<div>\n<style scoped>\n    .dataframe tbody tr th:only-of-type {\n        vertical-align: middle;\n    }\n\n    .dataframe tbody tr th {\n        vertical-align: top;\n    }\n\n    .dataframe thead th {\n        text-align: right;\n    }\n</style>\n<table border=\"1\" class=\"dataframe\">\n  <thead>\n    <tr style=\"text-align: right;\">\n      <th></th>\n      <th>room_type</th>\n      <th>listing_count</th>\n    </tr>\n  </thead>\n  <tbody>\n    <tr>\n      <th>0</th>\n      <td>Entire home/apt</td>\n      <td>17248</td>\n    </tr>\n    <tr>\n      <th>1</th>\n      <td>Hotel room</td>\n      <td>1276</td>\n    </tr>\n    <tr>\n      <th>2</th>\n      <td>Private room</td>\n      <td>8923</td>\n    </tr>\n    <tr>\n      <th>3</th>\n      <td>Shared room</td>\n      <td>200</td>\n    </tr>\n  </tbody>\n</table>\n</div>",
      "text/plain": [
       "         room_type  listing_count\n",
       "0  Entire home/apt          17248\n",
       "1       Hotel room           1276\n",
       "2     Private room           8923\n",
       "3      Shared room            200"
      ]
     },
     "execution_count": 9,
     "metadata": {},
     "output_type": "execute_result"
    }
   ],
   "source": [
    "# 'listing' count per 'room_type'\n",
    "listings_2\\\n",
    "  .groupby('room_type', dropna=False)\\\n",
    "  .id.count()\\\n",
    "  .reset_index()\\\n",
    "  .rename(columns={'id':'listing_count'})"
   ]
  },
  {
   "cell_type": "markdown",
   "metadata": {},
   "source": [
    "### Prezzo per notte"
   ]
  },
  {
   "cell_type": "code",
   "execution_count": 64,
   "metadata": {},
   "outputs": [
    {
     "data": {
      "text/html": "<div>\n<style scoped>\n    .dataframe tbody tr th:only-of-type {\n        vertical-align: middle;\n    }\n\n    .dataframe tbody tr th {\n        vertical-align: top;\n    }\n\n    .dataframe thead th {\n        text-align: right;\n    }\n</style>\n<table border=\"1\" class=\"dataframe\">\n  <thead>\n    <tr style=\"text-align: right;\">\n      <th></th>\n      <th>price</th>\n    </tr>\n  </thead>\n  <tbody>\n    <tr>\n      <th>mean</th>\n      <td>105.107643</td>\n    </tr>\n  </tbody>\n</table>\n</div>",
      "text/plain": [
       "           price\n",
       "mean  105.107643"
      ]
     },
     "execution_count": 64,
     "metadata": {},
     "output_type": "execute_result"
    }
   ],
   "source": [
    "# mean 'price'\n",
    "listings_2\\\n",
    "  .agg({\n",
    "      'price': [np.mean]\n",
    "  })"
   ]
  },
  {
   "cell_type": "code",
   "execution_count": 65,
   "metadata": {},
   "outputs": [
    {
     "data": {
      "text/html": "<div>\n<style scoped>\n    .dataframe tbody tr th:only-of-type {\n        vertical-align: middle;\n    }\n\n    .dataframe tbody tr th {\n        vertical-align: top;\n    }\n\n    .dataframe thead tr th {\n        text-align: left;\n    }\n\n    .dataframe thead tr:last-of-type th {\n        text-align: right;\n    }\n</style>\n<table border=\"1\" class=\"dataframe\">\n  <thead>\n    <tr>\n      <th></th>\n      <th>price</th>\n    </tr>\n    <tr>\n      <th></th>\n      <th>mean</th>\n    </tr>\n    <tr>\n      <th>room_type</th>\n      <th></th>\n    </tr>\n  </thead>\n  <tbody>\n    <tr>\n      <th>Entire home/apt</th>\n      <td>114.339170</td>\n    </tr>\n    <tr>\n      <th>Hotel room</th>\n      <td>96.080721</td>\n    </tr>\n    <tr>\n      <th>Private room</th>\n      <td>90.041690</td>\n    </tr>\n    <tr>\n      <th>Shared room</th>\n      <td>38.740000</td>\n    </tr>\n  </tbody>\n</table>\n</div>",
      "text/plain": [
       "                      price\n",
       "                       mean\n",
       "room_type                  \n",
       "Entire home/apt  114.339170\n",
       "Hotel room        96.080721\n",
       "Private room      90.041690\n",
       "Shared room       38.740000"
      ]
     },
     "execution_count": 65,
     "metadata": {},
     "output_type": "execute_result"
    }
   ],
   "source": [
    "# mean 'price' per 'room_type'\n",
    "listings_2\\\n",
    "  .groupby('room_type')\\\n",
    "  .agg({\n",
    "      'price': [np.mean]\n",
    "  })"
   ]
  },
  {
   "cell_type": "code",
   "execution_count": 10,
   "metadata": {},
   "outputs": [
    {
     "data": {
      "text/html": "<div>\n<style scoped>\n    .dataframe tbody tr th:only-of-type {\n        vertical-align: middle;\n    }\n\n    .dataframe tbody tr th {\n        vertical-align: top;\n    }\n\n    .dataframe thead tr th {\n        text-align: left;\n    }\n</style>\n<table border=\"1\" class=\"dataframe\">\n  <thead>\n    <tr>\n      <th></th>\n      <th>room_type</th>\n      <th colspan=\"2\" halign=\"left\">price</th>\n      <th>count_perc</th>\n    </tr>\n    <tr>\n      <th></th>\n      <th></th>\n      <th>count</th>\n      <th>mean</th>\n      <th></th>\n    </tr>\n  </thead>\n  <tbody>\n    <tr>\n      <th>0</th>\n      <td>Entire home/apt</td>\n      <td>17248</td>\n      <td>114.339170</td>\n      <td>62.386516</td>\n    </tr>\n    <tr>\n      <th>1</th>\n      <td>Hotel room</td>\n      <td>1276</td>\n      <td>96.080721</td>\n      <td>4.615329</td>\n    </tr>\n    <tr>\n      <th>2</th>\n      <td>Private room</td>\n      <td>8923</td>\n      <td>90.041690</td>\n      <td>32.274750</td>\n    </tr>\n    <tr>\n      <th>3</th>\n      <td>Shared room</td>\n      <td>200</td>\n      <td>38.740000</td>\n      <td>0.723406</td>\n    </tr>\n  </tbody>\n</table>\n</div>",
      "text/plain": [
       "         room_type  price             count_perc\n",
       "                    count        mean           \n",
       "0  Entire home/apt  17248  114.339170  62.386516\n",
       "1       Hotel room   1276   96.080721   4.615329\n",
       "2     Private room   8923   90.041690  32.274750\n",
       "3      Shared room    200   38.740000   0.723406"
      ]
     },
     "execution_count": 10,
     "metadata": {},
     "output_type": "execute_result"
    }
   ],
   "source": [
    "# mean 'price' per 'room_type'\n",
    "listings_3 = listings_2\\\n",
    "  .groupby('room_type')\\\n",
    "  .agg({\n",
    "      'price': ['count', 'mean']\n",
    "  })\\\n",
    "  .reset_index()\n",
    "\n",
    "listings_3['count_perc'] = listings_3['price']['count'] / listings_3['price']['count'].sum() * 100\n",
    "\n",
    "listings_3"
   ]
  },
  {
   "cell_type": "code",
   "execution_count": null,
   "metadata": {},
   "outputs": [],
   "source": []
  }
 ],
 "metadata": {
  "kernelspec": {
   "display_name": "Python 3.8.7 64-bit ('.venv': venv)",
   "language": "python",
   "name": "python387jvsc74a57bd0e49542d0262d6322047de25f3c441ad81e63b800f81510413f153210b1fbb80e"
  },
  "language_info": {
   "codemirror_mode": {
    "name": "ipython",
    "version": 3
   },
   "file_extension": ".py",
   "mimetype": "text/x-python",
   "name": "python",
   "nbconvert_exporter": "python",
   "pygments_lexer": "ipython3",
   "version": "3.8.7"
  },
  "orig_nbformat": 2
 },
 "nbformat": 4,
 "nbformat_minor": 2
}
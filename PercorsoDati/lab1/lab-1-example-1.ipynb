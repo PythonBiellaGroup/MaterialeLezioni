{
 "metadata": {
  "language_info": {
   "codemirror_mode": {
    "name": "ipython",
    "version": 3
   },
   "file_extension": ".py",
   "mimetype": "text/x-python",
   "name": "python",
   "nbconvert_exporter": "python",
   "pygments_lexer": "ipython3",
   "version": "3.8.5"
  },
  "orig_nbformat": 2,
  "kernelspec": {
   "name": "python3",
   "display_name": "Python 3.8.5 64-bit ('venv': venv)",
   "metadata": {
    "interpreter": {
     "hash": "9b2e9e2abef6298b8ccadd32fc3e060f0b962ea7b1737121f43b38c331ab0700"
    }
   }
  }
 },
 "nbformat": 4,
 "nbformat_minor": 2,
 "cells": [
  {
   "cell_type": "code",
   "execution_count": 1,
   "metadata": {},
   "outputs": [],
   "source": [
    "import pandas as pd\n",
    "import numpy as np"
   ]
  },
  {
   "cell_type": "code",
   "execution_count": 3,
   "metadata": {},
   "outputs": [
    {
     "output_type": "execute_result",
     "data": {
      "text/plain": [
       "      id                         listing_url       scrape_id last_scraped  \\\n",
       "0   2737   https://www.airbnb.com/rooms/2737  20210210175822   2021-02-13   \n",
       "1   2903   https://www.airbnb.com/rooms/2903  20210210175822   2021-02-12   \n",
       "2   3079   https://www.airbnb.com/rooms/3079  20210210175822   2021-02-13   \n",
       "3  11834  https://www.airbnb.com/rooms/11834  20210210175822   2021-02-11   \n",
       "4  12398  https://www.airbnb.com/rooms/12398  20210210175822   2021-02-11   \n",
       "\n",
       "                                        name  \\\n",
       "0           Elif's room in cozy, clean flat.   \n",
       "1          Stay a night in Calisto6 B&B Rome   \n",
       "2  Cozy apartment  (2-4)with Colisseum  view   \n",
       "3            Roma \"Charming Boschetto House\"   \n",
       "4        Casa Donatello - Home far from Home   \n",
       "\n",
       "                                         description  \\\n",
       "0  10 min by bus you can get to Piazza Venezia or...   \n",
       "1  <b>The space</b><br />Calisto6 B&B is an Itali...   \n",
       "2  With the view of the Colisseum from the front ...   \n",
       "3  <b>The space</b><br />New Wi Fi installed!!!<b...   \n",
       "4  Casa Donatello is a newly renovated two-bedroo...   \n",
       "\n",
       "                               neighborhood_overview  \\\n",
       "0  It used to be an industrial area until late 80...   \n",
       "1                                                NaN   \n",
       "2  Monti neighborhood is one of the best areas in...   \n",
       "3                                                NaN   \n",
       "4  You are at 15 minutes walking distance from hi...   \n",
       "\n",
       "                                         picture_url  host_id  \\\n",
       "0  https://a0.muscache.com/pictures/41225252/e955...     3047   \n",
       "1  https://a0.muscache.com/pictures/6315103/3f4d3...     3280   \n",
       "2  https://a0.muscache.com/pictures/e85b119c-3667...     3504   \n",
       "3  https://a0.muscache.com/pictures/dfcd3797-ff7d...    44552   \n",
       "4  https://a0.muscache.com/pictures/miso/Hosting-...    11756   \n",
       "\n",
       "                                  host_url  ... review_scores_communication  \\\n",
       "0   https://www.airbnb.com/users/show/3047  ...                        10.0   \n",
       "1   https://www.airbnb.com/users/show/3280  ...                         9.0   \n",
       "2   https://www.airbnb.com/users/show/3504  ...                        10.0   \n",
       "3  https://www.airbnb.com/users/show/44552  ...                        10.0   \n",
       "4  https://www.airbnb.com/users/show/11756  ...                        10.0   \n",
       "\n",
       "  review_scores_location review_scores_value license instant_bookable  \\\n",
       "0                    9.0                 9.0     NaN                f   \n",
       "1                    9.0                 9.0     NaN                f   \n",
       "2                   10.0                 9.0     NaN                f   \n",
       "3                   10.0                 9.0     NaN                f   \n",
       "4                   10.0                10.0     NaN                f   \n",
       "\n",
       "  calculated_host_listings_count calculated_host_listings_count_entire_homes  \\\n",
       "0                              5                                           0   \n",
       "1                              3                                           0   \n",
       "2                              7                                           7   \n",
       "3                              1                                           1   \n",
       "4                              2                                           1   \n",
       "\n",
       "  calculated_host_listings_count_private_rooms  \\\n",
       "0                                            5   \n",
       "1                                            3   \n",
       "2                                            0   \n",
       "3                                            0   \n",
       "4                                            1   \n",
       "\n",
       "  calculated_host_listings_count_shared_rooms reviews_per_month  \n",
       "0                                           0              0.09  \n",
       "1                                           0              0.37  \n",
       "2                                           0              0.14  \n",
       "3                                           0              1.19  \n",
       "4                                           0              0.32  \n",
       "\n",
       "[5 rows x 74 columns]"
      ],
      "text/html": "<div>\n<style scoped>\n    .dataframe tbody tr th:only-of-type {\n        vertical-align: middle;\n    }\n\n    .dataframe tbody tr th {\n        vertical-align: top;\n    }\n\n    .dataframe thead th {\n        text-align: right;\n    }\n</style>\n<table border=\"1\" class=\"dataframe\">\n  <thead>\n    <tr style=\"text-align: right;\">\n      <th></th>\n      <th>id</th>\n      <th>listing_url</th>\n      <th>scrape_id</th>\n      <th>last_scraped</th>\n      <th>name</th>\n      <th>description</th>\n      <th>neighborhood_overview</th>\n      <th>picture_url</th>\n      <th>host_id</th>\n      <th>host_url</th>\n      <th>...</th>\n      <th>review_scores_communication</th>\n      <th>review_scores_location</th>\n      <th>review_scores_value</th>\n      <th>license</th>\n      <th>instant_bookable</th>\n      <th>calculated_host_listings_count</th>\n      <th>calculated_host_listings_count_entire_homes</th>\n      <th>calculated_host_listings_count_private_rooms</th>\n      <th>calculated_host_listings_count_shared_rooms</th>\n      <th>reviews_per_month</th>\n    </tr>\n  </thead>\n  <tbody>\n    <tr>\n      <th>0</th>\n      <td>2737</td>\n      <td>https://www.airbnb.com/rooms/2737</td>\n      <td>20210210175822</td>\n      <td>2021-02-13</td>\n      <td>Elif's room in cozy, clean flat.</td>\n      <td>10 min by bus you can get to Piazza Venezia or...</td>\n      <td>It used to be an industrial area until late 80...</td>\n      <td>https://a0.muscache.com/pictures/41225252/e955...</td>\n      <td>3047</td>\n      <td>https://www.airbnb.com/users/show/3047</td>\n      <td>...</td>\n      <td>10.0</td>\n      <td>9.0</td>\n      <td>9.0</td>\n      <td>NaN</td>\n      <td>f</td>\n      <td>5</td>\n      <td>0</td>\n      <td>5</td>\n      <td>0</td>\n      <td>0.09</td>\n    </tr>\n    <tr>\n      <th>1</th>\n      <td>2903</td>\n      <td>https://www.airbnb.com/rooms/2903</td>\n      <td>20210210175822</td>\n      <td>2021-02-12</td>\n      <td>Stay a night in Calisto6 B&amp;B Rome</td>\n      <td>&lt;b&gt;The space&lt;/b&gt;&lt;br /&gt;Calisto6 B&amp;B is an Itali...</td>\n      <td>NaN</td>\n      <td>https://a0.muscache.com/pictures/6315103/3f4d3...</td>\n      <td>3280</td>\n      <td>https://www.airbnb.com/users/show/3280</td>\n      <td>...</td>\n      <td>9.0</td>\n      <td>9.0</td>\n      <td>9.0</td>\n      <td>NaN</td>\n      <td>f</td>\n      <td>3</td>\n      <td>0</td>\n      <td>3</td>\n      <td>0</td>\n      <td>0.37</td>\n    </tr>\n    <tr>\n      <th>2</th>\n      <td>3079</td>\n      <td>https://www.airbnb.com/rooms/3079</td>\n      <td>20210210175822</td>\n      <td>2021-02-13</td>\n      <td>Cozy apartment  (2-4)with Colisseum  view</td>\n      <td>With the view of the Colisseum from the front ...</td>\n      <td>Monti neighborhood is one of the best areas in...</td>\n      <td>https://a0.muscache.com/pictures/e85b119c-3667...</td>\n      <td>3504</td>\n      <td>https://www.airbnb.com/users/show/3504</td>\n      <td>...</td>\n      <td>10.0</td>\n      <td>10.0</td>\n      <td>9.0</td>\n      <td>NaN</td>\n      <td>f</td>\n      <td>7</td>\n      <td>7</td>\n      <td>0</td>\n      <td>0</td>\n      <td>0.14</td>\n    </tr>\n    <tr>\n      <th>3</th>\n      <td>11834</td>\n      <td>https://www.airbnb.com/rooms/11834</td>\n      <td>20210210175822</td>\n      <td>2021-02-11</td>\n      <td>Roma \"Charming Boschetto House\"</td>\n      <td>&lt;b&gt;The space&lt;/b&gt;&lt;br /&gt;New Wi Fi installed!!!&lt;b...</td>\n      <td>NaN</td>\n      <td>https://a0.muscache.com/pictures/dfcd3797-ff7d...</td>\n      <td>44552</td>\n      <td>https://www.airbnb.com/users/show/44552</td>\n      <td>...</td>\n      <td>10.0</td>\n      <td>10.0</td>\n      <td>9.0</td>\n      <td>NaN</td>\n      <td>f</td>\n      <td>1</td>\n      <td>1</td>\n      <td>0</td>\n      <td>0</td>\n      <td>1.19</td>\n    </tr>\n    <tr>\n      <th>4</th>\n      <td>12398</td>\n      <td>https://www.airbnb.com/rooms/12398</td>\n      <td>20210210175822</td>\n      <td>2021-02-11</td>\n      <td>Casa Donatello - Home far from Home</td>\n      <td>Casa Donatello is a newly renovated two-bedroo...</td>\n      <td>You are at 15 minutes walking distance from hi...</td>\n      <td>https://a0.muscache.com/pictures/miso/Hosting-...</td>\n      <td>11756</td>\n      <td>https://www.airbnb.com/users/show/11756</td>\n      <td>...</td>\n      <td>10.0</td>\n      <td>10.0</td>\n      <td>10.0</td>\n      <td>NaN</td>\n      <td>f</td>\n      <td>2</td>\n      <td>1</td>\n      <td>1</td>\n      <td>0</td>\n      <td>0.32</td>\n    </tr>\n  </tbody>\n</table>\n<p>5 rows × 74 columns</p>\n</div>"
     },
     "metadata": {},
     "execution_count": 3
    }
   ],
   "source": [
    "data_dir = 'data/'\n",
    "\n",
    "listings_raw = pd.read_csv(data_dir + '/listings.csv')\n",
    "listings_raw.head()"
   ]
  },
  {
   "cell_type": "code",
   "execution_count": 4,
   "metadata": {},
   "outputs": [
    {
     "output_type": "execute_result",
     "data": {
      "text/plain": [
       "['accommodates',\n",
       " 'amenities',\n",
       " 'availability_30',\n",
       " 'availability_365',\n",
       " 'availability_60',\n",
       " 'availability_90',\n",
       " 'bathrooms',\n",
       " 'bathrooms_text',\n",
       " 'bedrooms',\n",
       " 'beds',\n",
       " 'calculated_host_listings_count',\n",
       " 'calculated_host_listings_count_entire_homes',\n",
       " 'calculated_host_listings_count_private_rooms',\n",
       " 'calculated_host_listings_count_shared_rooms',\n",
       " 'calendar_last_scraped',\n",
       " 'calendar_updated',\n",
       " 'description',\n",
       " 'first_review',\n",
       " 'has_availability',\n",
       " 'host_about',\n",
       " 'host_acceptance_rate',\n",
       " 'host_has_profile_pic',\n",
       " 'host_id',\n",
       " 'host_identity_verified',\n",
       " 'host_is_superhost',\n",
       " 'host_listings_count',\n",
       " 'host_location',\n",
       " 'host_name',\n",
       " 'host_neighbourhood',\n",
       " 'host_picture_url',\n",
       " 'host_response_rate',\n",
       " 'host_response_time',\n",
       " 'host_since',\n",
       " 'host_thumbnail_url',\n",
       " 'host_total_listings_count',\n",
       " 'host_url',\n",
       " 'host_verifications',\n",
       " 'id',\n",
       " 'instant_bookable',\n",
       " 'last_review',\n",
       " 'last_scraped',\n",
       " 'latitude',\n",
       " 'license',\n",
       " 'listing_url',\n",
       " 'longitude',\n",
       " 'maximum_maximum_nights',\n",
       " 'maximum_minimum_nights',\n",
       " 'maximum_nights',\n",
       " 'maximum_nights_avg_ntm',\n",
       " 'minimum_maximum_nights',\n",
       " 'minimum_minimum_nights',\n",
       " 'minimum_nights',\n",
       " 'minimum_nights_avg_ntm',\n",
       " 'name',\n",
       " 'neighborhood_overview',\n",
       " 'neighbourhood',\n",
       " 'neighbourhood_cleansed',\n",
       " 'neighbourhood_group_cleansed',\n",
       " 'number_of_reviews',\n",
       " 'number_of_reviews_l30d',\n",
       " 'number_of_reviews_ltm',\n",
       " 'picture_url',\n",
       " 'price',\n",
       " 'property_type',\n",
       " 'review_scores_accuracy',\n",
       " 'review_scores_checkin',\n",
       " 'review_scores_cleanliness',\n",
       " 'review_scores_communication',\n",
       " 'review_scores_location',\n",
       " 'review_scores_rating',\n",
       " 'review_scores_value',\n",
       " 'reviews_per_month',\n",
       " 'room_type',\n",
       " 'scrape_id']"
      ]
     },
     "metadata": {},
     "execution_count": 4
    }
   ],
   "source": [
    "sorted(listings_raw.columns)"
   ]
  },
  {
   "cell_type": "code",
   "execution_count": 6,
   "metadata": {},
   "outputs": [
    {
     "output_type": "execute_result",
     "data": {
      "text/plain": [
       "      id                                       name  longitude  latitude  \\\n",
       "0   2737           Elif's room in cozy, clean flat.   12.48355  41.87218   \n",
       "1   2903          Stay a night in Calisto6 B&B Rome   12.47002  41.88826   \n",
       "2   3079  Cozy apartment  (2-4)with Colisseum  view   12.49163  41.89503   \n",
       "3  11834            Roma \"Charming Boschetto House\"   12.49058  41.89574   \n",
       "4  12398        Casa Donatello - Home far from Home   12.46809  41.92584   \n",
       "\n",
       "                          listing_url instant_bookable  host_response_time  \\\n",
       "0   https://www.airbnb.com/rooms/2737                f        within a day   \n",
       "1   https://www.airbnb.com/rooms/2903                f  within a few hours   \n",
       "2   https://www.airbnb.com/rooms/3079                f                 NaN   \n",
       "3  https://www.airbnb.com/rooms/11834                f                 NaN   \n",
       "4  https://www.airbnb.com/rooms/12398                f      within an hour   \n",
       "\n",
       "   review_scores_rating                      property_type        room_type  \\\n",
       "0                  96.0                       Private room     Private room   \n",
       "1                  86.0  Private room in bed and breakfast     Private room   \n",
       "2                  88.0                   Entire apartment  Entire home/apt   \n",
       "3                  95.0                   Entire apartment  Entire home/apt   \n",
       "4                  98.0                   Entire apartment  Entire home/apt   \n",
       "\n",
       "   accommodates  bathrooms  bedrooms  beds  reviews_per_month  \\\n",
       "0             1        NaN       1.0   0.0               0.09   \n",
       "1             4        NaN       1.0   2.0               0.37   \n",
       "2             4        NaN       1.0   4.0               0.14   \n",
       "3             2        NaN       1.0   1.0               1.19   \n",
       "4             5        NaN       2.0   3.0               0.32   \n",
       "\n",
       "                                           amenities  number_of_reviews  \\\n",
       "0  [\"Free parking on premises\", \"Elevator\", \"Drye...                  7   \n",
       "1  [\"Shampoo\", \"Indoor fireplace\", \"TV\", \"Dedicat...                 55   \n",
       "2  [\"Paid parking off premises\", \"Washer\", \"Dedic...                 17   \n",
       "3  [\"Pack \\u2019n Play/travel crib\", \"Washer\", \"H...                142   \n",
       "4  [\"Dishwasher\", \"Lockbox\", \"Washer\", \"Dedicated...                 40   \n",
       "\n",
       "     price  \n",
       "0   $21.00  \n",
       "1   $37.00  \n",
       "2  $105.00  \n",
       "3   $90.00  \n",
       "4   $73.00  "
      ],
      "text/html": "<div>\n<style scoped>\n    .dataframe tbody tr th:only-of-type {\n        vertical-align: middle;\n    }\n\n    .dataframe tbody tr th {\n        vertical-align: top;\n    }\n\n    .dataframe thead th {\n        text-align: right;\n    }\n</style>\n<table border=\"1\" class=\"dataframe\">\n  <thead>\n    <tr style=\"text-align: right;\">\n      <th></th>\n      <th>id</th>\n      <th>name</th>\n      <th>longitude</th>\n      <th>latitude</th>\n      <th>listing_url</th>\n      <th>instant_bookable</th>\n      <th>host_response_time</th>\n      <th>review_scores_rating</th>\n      <th>property_type</th>\n      <th>room_type</th>\n      <th>accommodates</th>\n      <th>bathrooms</th>\n      <th>bedrooms</th>\n      <th>beds</th>\n      <th>reviews_per_month</th>\n      <th>amenities</th>\n      <th>number_of_reviews</th>\n      <th>price</th>\n    </tr>\n  </thead>\n  <tbody>\n    <tr>\n      <th>0</th>\n      <td>2737</td>\n      <td>Elif's room in cozy, clean flat.</td>\n      <td>12.48355</td>\n      <td>41.87218</td>\n      <td>https://www.airbnb.com/rooms/2737</td>\n      <td>f</td>\n      <td>within a day</td>\n      <td>96.0</td>\n      <td>Private room</td>\n      <td>Private room</td>\n      <td>1</td>\n      <td>NaN</td>\n      <td>1.0</td>\n      <td>0.0</td>\n      <td>0.09</td>\n      <td>[\"Free parking on premises\", \"Elevator\", \"Drye...</td>\n      <td>7</td>\n      <td>$21.00</td>\n    </tr>\n    <tr>\n      <th>1</th>\n      <td>2903</td>\n      <td>Stay a night in Calisto6 B&amp;B Rome</td>\n      <td>12.47002</td>\n      <td>41.88826</td>\n      <td>https://www.airbnb.com/rooms/2903</td>\n      <td>f</td>\n      <td>within a few hours</td>\n      <td>86.0</td>\n      <td>Private room in bed and breakfast</td>\n      <td>Private room</td>\n      <td>4</td>\n      <td>NaN</td>\n      <td>1.0</td>\n      <td>2.0</td>\n      <td>0.37</td>\n      <td>[\"Shampoo\", \"Indoor fireplace\", \"TV\", \"Dedicat...</td>\n      <td>55</td>\n      <td>$37.00</td>\n    </tr>\n    <tr>\n      <th>2</th>\n      <td>3079</td>\n      <td>Cozy apartment  (2-4)with Colisseum  view</td>\n      <td>12.49163</td>\n      <td>41.89503</td>\n      <td>https://www.airbnb.com/rooms/3079</td>\n      <td>f</td>\n      <td>NaN</td>\n      <td>88.0</td>\n      <td>Entire apartment</td>\n      <td>Entire home/apt</td>\n      <td>4</td>\n      <td>NaN</td>\n      <td>1.0</td>\n      <td>4.0</td>\n      <td>0.14</td>\n      <td>[\"Paid parking off premises\", \"Washer\", \"Dedic...</td>\n      <td>17</td>\n      <td>$105.00</td>\n    </tr>\n    <tr>\n      <th>3</th>\n      <td>11834</td>\n      <td>Roma \"Charming Boschetto House\"</td>\n      <td>12.49058</td>\n      <td>41.89574</td>\n      <td>https://www.airbnb.com/rooms/11834</td>\n      <td>f</td>\n      <td>NaN</td>\n      <td>95.0</td>\n      <td>Entire apartment</td>\n      <td>Entire home/apt</td>\n      <td>2</td>\n      <td>NaN</td>\n      <td>1.0</td>\n      <td>1.0</td>\n      <td>1.19</td>\n      <td>[\"Pack \\u2019n Play/travel crib\", \"Washer\", \"H...</td>\n      <td>142</td>\n      <td>$90.00</td>\n    </tr>\n    <tr>\n      <th>4</th>\n      <td>12398</td>\n      <td>Casa Donatello - Home far from Home</td>\n      <td>12.46809</td>\n      <td>41.92584</td>\n      <td>https://www.airbnb.com/rooms/12398</td>\n      <td>f</td>\n      <td>within an hour</td>\n      <td>98.0</td>\n      <td>Entire apartment</td>\n      <td>Entire home/apt</td>\n      <td>5</td>\n      <td>NaN</td>\n      <td>2.0</td>\n      <td>3.0</td>\n      <td>0.32</td>\n      <td>[\"Dishwasher\", \"Lockbox\", \"Washer\", \"Dedicated...</td>\n      <td>40</td>\n      <td>$73.00</td>\n    </tr>\n  </tbody>\n</table>\n</div>"
     },
     "metadata": {},
     "execution_count": 6
    }
   ],
   "source": [
    "# Selezioniamo solo alcune delle colonne\n",
    "listings = listings_raw[[\n",
    "    'id','name','longitude','latitude',\n",
    "    'listing_url',\n",
    "    'instant_bookable',\n",
    "    'host_response_time',\n",
    "    'review_scores_rating',\n",
    "    'property_type',\n",
    "    'room_type','accommodates',\n",
    "    'bathrooms','bedrooms','beds','reviews_per_month','amenities',\n",
    "    'number_of_reviews',\n",
    "    'price'\n",
    "  ]]\n",
    "listings.head()"
   ]
  },
  {
   "source": [
    "# Data cleaning\n",
    "\n",
    "## Price da stringa a numero reale"
   ],
   "cell_type": "markdown",
   "metadata": {}
  },
  {
   "cell_type": "code",
   "execution_count": 7,
   "metadata": {},
   "outputs": [
    {
     "output_type": "execute_result",
     "data": {
      "text/plain": [
       "        price\n",
       "0        21.0\n",
       "1        37.0\n",
       "2       105.0\n",
       "3        90.0\n",
       "4        73.0\n",
       "...       ...\n",
       "27642    44.0\n",
       "27643    44.0\n",
       "27644    38.0\n",
       "27645  1802.0\n",
       "27646    94.0\n",
       "\n",
       "[27647 rows x 1 columns]"
      ],
      "text/html": "<div>\n<style scoped>\n    .dataframe tbody tr th:only-of-type {\n        vertical-align: middle;\n    }\n\n    .dataframe tbody tr th {\n        vertical-align: top;\n    }\n\n    .dataframe thead th {\n        text-align: right;\n    }\n</style>\n<table border=\"1\" class=\"dataframe\">\n  <thead>\n    <tr style=\"text-align: right;\">\n      <th></th>\n      <th>price</th>\n    </tr>\n  </thead>\n  <tbody>\n    <tr>\n      <th>0</th>\n      <td>21.0</td>\n    </tr>\n    <tr>\n      <th>1</th>\n      <td>37.0</td>\n    </tr>\n    <tr>\n      <th>2</th>\n      <td>105.0</td>\n    </tr>\n    <tr>\n      <th>3</th>\n      <td>90.0</td>\n    </tr>\n    <tr>\n      <th>4</th>\n      <td>73.0</td>\n    </tr>\n    <tr>\n      <th>...</th>\n      <td>...</td>\n    </tr>\n    <tr>\n      <th>27642</th>\n      <td>44.0</td>\n    </tr>\n    <tr>\n      <th>27643</th>\n      <td>44.0</td>\n    </tr>\n    <tr>\n      <th>27644</th>\n      <td>38.0</td>\n    </tr>\n    <tr>\n      <th>27645</th>\n      <td>1802.0</td>\n    </tr>\n    <tr>\n      <th>27646</th>\n      <td>94.0</td>\n    </tr>\n  </tbody>\n</table>\n<p>27647 rows × 1 columns</p>\n</div>"
     },
     "metadata": {},
     "execution_count": 7
    }
   ],
   "source": [
    "@np.vectorize\n",
    "def remove_dollar(label: str):\n",
    "  return float(label.replace('$','').replace(',',''))\n",
    "\n",
    "#listings['price'] = remove_dollar(listings['price'])\n",
    "listings_2 = listings.assign(price = remove_dollar(listings.price))\n",
    "listings_2[['price']]"
   ]
  },
  {
   "source": [
    "## Analisi del Tipo di stanza ('room_type')\n",
    "\n",
    "Studiamo le differenze tra i differenti tipi di stanze. \n",
    "\n",
    "Gli \"host\" di Airbnb possono affittare case/appartamenti interi, stanze private o condivise.\n",
    "\n",
    "Secondo la tipologia di alloggio offerto e il tasso di attività, un annuncio di Airbnb potrebbe funzionare in maniera più simile ad un hotel non regolamentato, essere di disturbo al vicinato, sottrarre disponibilità di alloggi al settore residenziale ed essere illegale.\n",
    "\n",
    "\n",
    "### Livelli\n"
   ],
   "cell_type": "markdown",
   "metadata": {}
  },
  {
   "cell_type": "code",
   "execution_count": 8,
   "metadata": {},
   "outputs": [
    {
     "output_type": "execute_result",
     "data": {
      "text/plain": [
       "['Private room', 'Entire home/apt', 'Hotel room', 'Shared room']"
      ]
     },
     "metadata": {},
     "execution_count": 8
    }
   ],
   "source": [
    "# levels\n",
    "list(listings_2['room_type'].unique())"
   ]
  },
  {
   "source": [
    "### Conteggio"
   ],
   "cell_type": "markdown",
   "metadata": {}
  },
  {
   "cell_type": "code",
   "execution_count": 9,
   "metadata": {},
   "outputs": [
    {
     "output_type": "execute_result",
     "data": {
      "text/plain": [
       "         room_type  listing_count\n",
       "0  Entire home/apt          17248\n",
       "1       Hotel room           1276\n",
       "2     Private room           8923\n",
       "3      Shared room            200"
      ],
      "text/html": "<div>\n<style scoped>\n    .dataframe tbody tr th:only-of-type {\n        vertical-align: middle;\n    }\n\n    .dataframe tbody tr th {\n        vertical-align: top;\n    }\n\n    .dataframe thead th {\n        text-align: right;\n    }\n</style>\n<table border=\"1\" class=\"dataframe\">\n  <thead>\n    <tr style=\"text-align: right;\">\n      <th></th>\n      <th>room_type</th>\n      <th>listing_count</th>\n    </tr>\n  </thead>\n  <tbody>\n    <tr>\n      <th>0</th>\n      <td>Entire home/apt</td>\n      <td>17248</td>\n    </tr>\n    <tr>\n      <th>1</th>\n      <td>Hotel room</td>\n      <td>1276</td>\n    </tr>\n    <tr>\n      <th>2</th>\n      <td>Private room</td>\n      <td>8923</td>\n    </tr>\n    <tr>\n      <th>3</th>\n      <td>Shared room</td>\n      <td>200</td>\n    </tr>\n  </tbody>\n</table>\n</div>"
     },
     "metadata": {},
     "execution_count": 9
    }
   ],
   "source": [
    "# 'listing' count per 'room_type'\n",
    "listings_2\\\n",
    "  .groupby('room_type', dropna=False)\\\n",
    "  .id.count()\\\n",
    "  .reset_index()\\\n",
    "  .rename(columns={'id':'listing_count'})"
   ]
  },
  {
   "source": [
    "### Prezzo per notte"
   ],
   "cell_type": "markdown",
   "metadata": {}
  },
  {
   "cell_type": "code",
   "execution_count": 64,
   "metadata": {},
   "outputs": [
    {
     "output_type": "execute_result",
     "data": {
      "text/plain": [
       "           price\n",
       "mean  105.107643"
      ],
      "text/html": "<div>\n<style scoped>\n    .dataframe tbody tr th:only-of-type {\n        vertical-align: middle;\n    }\n\n    .dataframe tbody tr th {\n        vertical-align: top;\n    }\n\n    .dataframe thead th {\n        text-align: right;\n    }\n</style>\n<table border=\"1\" class=\"dataframe\">\n  <thead>\n    <tr style=\"text-align: right;\">\n      <th></th>\n      <th>price</th>\n    </tr>\n  </thead>\n  <tbody>\n    <tr>\n      <th>mean</th>\n      <td>105.107643</td>\n    </tr>\n  </tbody>\n</table>\n</div>"
     },
     "metadata": {},
     "execution_count": 64
    }
   ],
   "source": [
    "# mean 'price'\n",
    "listings_2\\\n",
    "  .agg({\n",
    "      'price': [np.mean]\n",
    "  })"
   ]
  },
  {
   "cell_type": "code",
   "execution_count": 65,
   "metadata": {},
   "outputs": [
    {
     "output_type": "execute_result",
     "data": {
      "text/plain": [
       "                      price\n",
       "                       mean\n",
       "room_type                  \n",
       "Entire home/apt  114.339170\n",
       "Hotel room        96.080721\n",
       "Private room      90.041690\n",
       "Shared room       38.740000"
      ],
      "text/html": "<div>\n<style scoped>\n    .dataframe tbody tr th:only-of-type {\n        vertical-align: middle;\n    }\n\n    .dataframe tbody tr th {\n        vertical-align: top;\n    }\n\n    .dataframe thead tr th {\n        text-align: left;\n    }\n\n    .dataframe thead tr:last-of-type th {\n        text-align: right;\n    }\n</style>\n<table border=\"1\" class=\"dataframe\">\n  <thead>\n    <tr>\n      <th></th>\n      <th>price</th>\n    </tr>\n    <tr>\n      <th></th>\n      <th>mean</th>\n    </tr>\n    <tr>\n      <th>room_type</th>\n      <th></th>\n    </tr>\n  </thead>\n  <tbody>\n    <tr>\n      <th>Entire home/apt</th>\n      <td>114.339170</td>\n    </tr>\n    <tr>\n      <th>Hotel room</th>\n      <td>96.080721</td>\n    </tr>\n    <tr>\n      <th>Private room</th>\n      <td>90.041690</td>\n    </tr>\n    <tr>\n      <th>Shared room</th>\n      <td>38.740000</td>\n    </tr>\n  </tbody>\n</table>\n</div>"
     },
     "metadata": {},
     "execution_count": 65
    }
   ],
   "source": [
    "# mean 'price' per 'room_type'\n",
    "listings_2\\\n",
    "  .groupby('room_type')\\\n",
    "  .agg({\n",
    "      'price': [np.mean]\n",
    "  })"
   ]
  },
  {
   "cell_type": "code",
   "execution_count": 10,
   "metadata": {},
   "outputs": [
    {
     "output_type": "execute_result",
     "data": {
      "text/plain": [
       "         room_type  price             count_perc\n",
       "                    count        mean           \n",
       "0  Entire home/apt  17248  114.339170  62.386516\n",
       "1       Hotel room   1276   96.080721   4.615329\n",
       "2     Private room   8923   90.041690  32.274750\n",
       "3      Shared room    200   38.740000   0.723406"
      ],
      "text/html": "<div>\n<style scoped>\n    .dataframe tbody tr th:only-of-type {\n        vertical-align: middle;\n    }\n\n    .dataframe tbody tr th {\n        vertical-align: top;\n    }\n\n    .dataframe thead tr th {\n        text-align: left;\n    }\n</style>\n<table border=\"1\" class=\"dataframe\">\n  <thead>\n    <tr>\n      <th></th>\n      <th>room_type</th>\n      <th colspan=\"2\" halign=\"left\">price</th>\n      <th>count_perc</th>\n    </tr>\n    <tr>\n      <th></th>\n      <th></th>\n      <th>count</th>\n      <th>mean</th>\n      <th></th>\n    </tr>\n  </thead>\n  <tbody>\n    <tr>\n      <th>0</th>\n      <td>Entire home/apt</td>\n      <td>17248</td>\n      <td>114.339170</td>\n      <td>62.386516</td>\n    </tr>\n    <tr>\n      <th>1</th>\n      <td>Hotel room</td>\n      <td>1276</td>\n      <td>96.080721</td>\n      <td>4.615329</td>\n    </tr>\n    <tr>\n      <th>2</th>\n      <td>Private room</td>\n      <td>8923</td>\n      <td>90.041690</td>\n      <td>32.274750</td>\n    </tr>\n    <tr>\n      <th>3</th>\n      <td>Shared room</td>\n      <td>200</td>\n      <td>38.740000</td>\n      <td>0.723406</td>\n    </tr>\n  </tbody>\n</table>\n</div>"
     },
     "metadata": {},
     "execution_count": 10
    }
   ],
   "source": [
    "# mean 'price' per 'room_type'\n",
    "listings_3 = listings_2\\\n",
    "  .groupby('room_type')\\\n",
    "  .agg({\n",
    "      'price': ['count', 'mean']\n",
    "  })\\\n",
    "  .reset_index()\n",
    "\n",
    "listings_3['count_perc'] = listings_3['price']['count'] / listings_3['price']['count'].sum() * 100\n",
    "\n",
    "listings_3"
   ]
  },
  {
   "cell_type": "code",
   "execution_count": null,
   "metadata": {},
   "outputs": [],
   "source": []
  }
 ]
}
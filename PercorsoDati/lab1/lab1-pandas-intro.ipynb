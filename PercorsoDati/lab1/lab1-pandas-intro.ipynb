{
 "cells": [
  {
   "cell_type": "markdown",
   "id": "statewide-roberts",
   "metadata": {},
   "source": [
    "# Pandas"
   ]
  },
  {
   "cell_type": "code",
   "execution_count": 53,
   "id": "large-laugh",
   "metadata": {},
   "outputs": [],
   "source": [
    "import pandas as pd\n",
    "import numpy as np\n",
    "import string"
   ]
  },
  {
   "cell_type": "markdown",
   "id": "satellite-sapphire",
   "metadata": {},
   "source": [
    "## Data Frame"
   ]
  },
  {
   "cell_type": "code",
   "execution_count": 54,
   "id": "extensive-melbourne",
   "metadata": {},
   "outputs": [
    {
     "output_type": "execute_result",
     "data": {
      "text/plain": [
       "   id  heigth  weight\n",
       "0   0     1.7      70\n",
       "1   1     1.7      73\n",
       "2   2     1.8      80\n",
       "3   3     1.9     100\n",
       "4   4     2.0      95"
      ],
      "text/html": "<div>\n<style scoped>\n    .dataframe tbody tr th:only-of-type {\n        vertical-align: middle;\n    }\n\n    .dataframe tbody tr th {\n        vertical-align: top;\n    }\n\n    .dataframe thead th {\n        text-align: right;\n    }\n</style>\n<table border=\"1\" class=\"dataframe\">\n  <thead>\n    <tr style=\"text-align: right;\">\n      <th></th>\n      <th>id</th>\n      <th>heigth</th>\n      <th>weight</th>\n    </tr>\n  </thead>\n  <tbody>\n    <tr>\n      <th>0</th>\n      <td>0</td>\n      <td>1.7</td>\n      <td>70</td>\n    </tr>\n    <tr>\n      <th>1</th>\n      <td>1</td>\n      <td>1.7</td>\n      <td>73</td>\n    </tr>\n    <tr>\n      <th>2</th>\n      <td>2</td>\n      <td>1.8</td>\n      <td>80</td>\n    </tr>\n    <tr>\n      <th>3</th>\n      <td>3</td>\n      <td>1.9</td>\n      <td>100</td>\n    </tr>\n    <tr>\n      <th>4</th>\n      <td>4</td>\n      <td>2.0</td>\n      <td>95</td>\n    </tr>\n  </tbody>\n</table>\n</div>"
     },
     "metadata": {},
     "execution_count": 54
    }
   ],
   "source": [
    "df = pd.DataFrame({\n",
    "  'id': range(5),\n",
    "  'heigth': [1.7, 1.7, 1.8, 1.9, 2.0],\n",
    "  'weight': [70 , 73 , 80 , 100, 95]\n",
    "})\n",
    "df"
   ]
  },
  {
   "cell_type": "code",
   "execution_count": 55,
   "id": "metropolitan-tracy",
   "metadata": {},
   "outputs": [
    {
     "output_type": "execute_result",
     "data": {
      "text/plain": [
       "   id  heigth  weight        bmi\n",
       "0   0     1.7      70  24.221453\n",
       "1   1     1.7      73  25.259516\n",
       "2   2     1.8      80  24.691358\n",
       "3   3     1.9     100  27.700831\n",
       "4   4     2.0      95  23.750000"
      ],
      "text/html": "<div>\n<style scoped>\n    .dataframe tbody tr th:only-of-type {\n        vertical-align: middle;\n    }\n\n    .dataframe tbody tr th {\n        vertical-align: top;\n    }\n\n    .dataframe thead th {\n        text-align: right;\n    }\n</style>\n<table border=\"1\" class=\"dataframe\">\n  <thead>\n    <tr style=\"text-align: right;\">\n      <th></th>\n      <th>id</th>\n      <th>heigth</th>\n      <th>weight</th>\n      <th>bmi</th>\n    </tr>\n  </thead>\n  <tbody>\n    <tr>\n      <th>0</th>\n      <td>0</td>\n      <td>1.7</td>\n      <td>70</td>\n      <td>24.221453</td>\n    </tr>\n    <tr>\n      <th>1</th>\n      <td>1</td>\n      <td>1.7</td>\n      <td>73</td>\n      <td>25.259516</td>\n    </tr>\n    <tr>\n      <th>2</th>\n      <td>2</td>\n      <td>1.8</td>\n      <td>80</td>\n      <td>24.691358</td>\n    </tr>\n    <tr>\n      <th>3</th>\n      <td>3</td>\n      <td>1.9</td>\n      <td>100</td>\n      <td>27.700831</td>\n    </tr>\n    <tr>\n      <th>4</th>\n      <td>4</td>\n      <td>2.0</td>\n      <td>95</td>\n      <td>23.750000</td>\n    </tr>\n  </tbody>\n</table>\n</div>"
     },
     "metadata": {},
     "execution_count": 55
    }
   ],
   "source": [
    "df['bmi'] = df.weight / (df.heigth)**2\n",
    "df"
   ]
  },
  {
   "cell_type": "code",
   "execution_count": 56,
   "id": "checked-distribution",
   "metadata": {
    "title": "rename column names (mutable)"
   },
   "outputs": [
    {
     "output_type": "execute_result",
     "data": {
      "text/plain": [
       "Index(['ID', 'HEIGTH', 'WEIGHT', 'BMI'], dtype='object')"
      ]
     },
     "metadata": {},
     "execution_count": 56
    }
   ],
   "source": [
    "# https://www.geeksforgeeks.org/python-change-column-names-and-row-indexes-in-pandas-dataframe/?ref=rp\n",
    "\n",
    "idx = df.columns\n",
    "new_colnames = idx.str.upper()\n",
    "new_colnames\n",
    "# df.columns = new_colnames"
   ]
  },
  {
   "cell_type": "markdown",
   "id": "worst-singer",
   "metadata": {},
   "source": [
    "Rename columns with a function. The `rename` method is a method that does not mute the current data frame, but outputs the modified version."
   ]
  },
  {
   "cell_type": "code",
   "execution_count": 57,
   "id": "discrete-interview",
   "metadata": {
    "lines_to_next_cell": 2,
    "title": "rename columns (immutable)"
   },
   "outputs": [
    {
     "output_type": "execute_result",
     "data": {
      "text/plain": [
       "   Id  Heigth  Weight        Bmi\n",
       "0   0     1.7      70  24.221453\n",
       "1   1     1.7      73  25.259516\n",
       "2   2     1.8      80  24.691358\n",
       "3   3     1.9     100  27.700831\n",
       "4   4     2.0      95  23.750000"
      ],
      "text/html": "<div>\n<style scoped>\n    .dataframe tbody tr th:only-of-type {\n        vertical-align: middle;\n    }\n\n    .dataframe tbody tr th {\n        vertical-align: top;\n    }\n\n    .dataframe thead th {\n        text-align: right;\n    }\n</style>\n<table border=\"1\" class=\"dataframe\">\n  <thead>\n    <tr style=\"text-align: right;\">\n      <th></th>\n      <th>Id</th>\n      <th>Heigth</th>\n      <th>Weight</th>\n      <th>Bmi</th>\n    </tr>\n  </thead>\n  <tbody>\n    <tr>\n      <th>0</th>\n      <td>0</td>\n      <td>1.7</td>\n      <td>70</td>\n      <td>24.221453</td>\n    </tr>\n    <tr>\n      <th>1</th>\n      <td>1</td>\n      <td>1.7</td>\n      <td>73</td>\n      <td>25.259516</td>\n    </tr>\n    <tr>\n      <th>2</th>\n      <td>2</td>\n      <td>1.8</td>\n      <td>80</td>\n      <td>24.691358</td>\n    </tr>\n    <tr>\n      <th>3</th>\n      <td>3</td>\n      <td>1.9</td>\n      <td>100</td>\n      <td>27.700831</td>\n    </tr>\n    <tr>\n      <th>4</th>\n      <td>4</td>\n      <td>2.0</td>\n      <td>95</td>\n      <td>23.750000</td>\n    </tr>\n  </tbody>\n</table>\n</div>"
     },
     "metadata": {},
     "execution_count": 57
    }
   ],
   "source": [
    "tb_2 = df.rename(columns = lambda x: x.title())\n",
    "tb_2"
   ]
  },
  {
   "cell_type": "markdown",
   "id": "dominican-highway",
   "metadata": {},
   "source": [
    "Select and reorder columns:"
   ]
  },
  {
   "cell_type": "code",
   "execution_count": 58,
   "id": "instant-enhancement",
   "metadata": {
    "incorrectly_encoded_metadata": "columns == select == reindex (immutable)",
    "lines_to_next_cell": 2,
    "title": "sort"
   },
   "outputs": [
    {
     "output_type": "execute_result",
     "data": {
      "text/plain": [
       "   id        bmi  weight\n",
       "0   0  24.221453      70\n",
       "1   1  25.259516      73\n",
       "2   2  24.691358      80\n",
       "3   3  27.700831     100\n",
       "4   4  23.750000      95"
      ],
      "text/html": "<div>\n<style scoped>\n    .dataframe tbody tr th:only-of-type {\n        vertical-align: middle;\n    }\n\n    .dataframe tbody tr th {\n        vertical-align: top;\n    }\n\n    .dataframe thead th {\n        text-align: right;\n    }\n</style>\n<table border=\"1\" class=\"dataframe\">\n  <thead>\n    <tr style=\"text-align: right;\">\n      <th></th>\n      <th>id</th>\n      <th>bmi</th>\n      <th>weight</th>\n    </tr>\n  </thead>\n  <tbody>\n    <tr>\n      <th>0</th>\n      <td>0</td>\n      <td>24.221453</td>\n      <td>70</td>\n    </tr>\n    <tr>\n      <th>1</th>\n      <td>1</td>\n      <td>25.259516</td>\n      <td>73</td>\n    </tr>\n    <tr>\n      <th>2</th>\n      <td>2</td>\n      <td>24.691358</td>\n      <td>80</td>\n    </tr>\n    <tr>\n      <th>3</th>\n      <td>3</td>\n      <td>27.700831</td>\n      <td>100</td>\n    </tr>\n    <tr>\n      <th>4</th>\n      <td>4</td>\n      <td>23.750000</td>\n      <td>95</td>\n    </tr>\n  </tbody>\n</table>\n</div>"
     },
     "metadata": {},
     "execution_count": 58
    }
   ],
   "source": [
    "tb_3 = df.reindex(['id', 'bmi', 'weight'], axis=1)\n",
    "tb_3"
   ]
  },
  {
   "cell_type": "markdown",
   "id": "similar-acrobat",
   "metadata": {},
   "source": [
    "The same concepts can be applied to row names:"
   ]
  },
  {
   "cell_type": "code",
   "execution_count": 59,
   "id": "domestic-columbus",
   "metadata": {
    "lines_to_next_cell": 2,
    "title": "row index"
   },
   "outputs": [
    {
     "output_type": "execute_result",
     "data": {
      "text/plain": [
       "RangeIndex(start=0, stop=5, step=1)"
      ]
     },
     "metadata": {},
     "execution_count": 59
    }
   ],
   "source": [
    "# row names\n",
    "df.index"
   ]
  },
  {
   "cell_type": "code",
   "execution_count": 60,
   "id": "electric-screening",
   "metadata": {
    "lines_to_next_cell": 2,
    "title": "row index"
   },
   "outputs": [
    {
     "output_type": "execute_result",
     "data": {
      "text/plain": [
       "       id  heigth  weight        bmi\n",
       "row-0   0     1.7      70  24.221453\n",
       "row-1   1     1.7      73  25.259516\n",
       "row-2   2     1.8      80  24.691358\n",
       "row-3   3     1.9     100  27.700831\n",
       "row-4   4     2.0      95  23.750000"
      ],
      "text/html": "<div>\n<style scoped>\n    .dataframe tbody tr th:only-of-type {\n        vertical-align: middle;\n    }\n\n    .dataframe tbody tr th {\n        vertical-align: top;\n    }\n\n    .dataframe thead th {\n        text-align: right;\n    }\n</style>\n<table border=\"1\" class=\"dataframe\">\n  <thead>\n    <tr style=\"text-align: right;\">\n      <th></th>\n      <th>id</th>\n      <th>heigth</th>\n      <th>weight</th>\n      <th>bmi</th>\n    </tr>\n  </thead>\n  <tbody>\n    <tr>\n      <th>row-0</th>\n      <td>0</td>\n      <td>1.7</td>\n      <td>70</td>\n      <td>24.221453</td>\n    </tr>\n    <tr>\n      <th>row-1</th>\n      <td>1</td>\n      <td>1.7</td>\n      <td>73</td>\n      <td>25.259516</td>\n    </tr>\n    <tr>\n      <th>row-2</th>\n      <td>2</td>\n      <td>1.8</td>\n      <td>80</td>\n      <td>24.691358</td>\n    </tr>\n    <tr>\n      <th>row-3</th>\n      <td>3</td>\n      <td>1.9</td>\n      <td>100</td>\n      <td>27.700831</td>\n    </tr>\n    <tr>\n      <th>row-4</th>\n      <td>4</td>\n      <td>2.0</td>\n      <td>95</td>\n      <td>23.750000</td>\n    </tr>\n  </tbody>\n</table>\n</div>"
     },
     "metadata": {},
     "execution_count": 60
    }
   ],
   "source": [
    "# row's rename\n",
    "df.rename(index = lambda x: \"row-\" + str(x))"
   ]
  },
  {
   "cell_type": "markdown",
   "id": "royal-motel",
   "metadata": {},
   "source": [
    "Select rows by their name."
   ]
  },
  {
   "cell_type": "code",
   "execution_count": 61,
   "id": "fleet-purse",
   "metadata": {
    "lines_to_next_cell": 0
   },
   "outputs": [
    {
     "output_type": "execute_result",
     "data": {
      "text/plain": [
       "   id  heigth  weight        bmi\n",
       "1   1     1.7      73  25.259516\n",
       "3   3     1.9     100  27.700831\n",
       "4   4     2.0      95  23.750000"
      ],
      "text/html": "<div>\n<style scoped>\n    .dataframe tbody tr th:only-of-type {\n        vertical-align: middle;\n    }\n\n    .dataframe tbody tr th {\n        vertical-align: top;\n    }\n\n    .dataframe thead th {\n        text-align: right;\n    }\n</style>\n<table border=\"1\" class=\"dataframe\">\n  <thead>\n    <tr style=\"text-align: right;\">\n      <th></th>\n      <th>id</th>\n      <th>heigth</th>\n      <th>weight</th>\n      <th>bmi</th>\n    </tr>\n  </thead>\n  <tbody>\n    <tr>\n      <th>1</th>\n      <td>1</td>\n      <td>1.7</td>\n      <td>73</td>\n      <td>25.259516</td>\n    </tr>\n    <tr>\n      <th>3</th>\n      <td>3</td>\n      <td>1.9</td>\n      <td>100</td>\n      <td>27.700831</td>\n    </tr>\n    <tr>\n      <th>4</th>\n      <td>4</td>\n      <td>2.0</td>\n      <td>95</td>\n      <td>23.750000</td>\n    </tr>\n  </tbody>\n</table>\n</div>"
     },
     "metadata": {},
     "execution_count": 61
    }
   ],
   "source": [
    "# Select rows by their name.\n",
    "df.reindex([1, 3, 4], axis=0)"
   ]
  },
  {
   "cell_type": "markdown",
   "id": "raising-wages",
   "metadata": {},
   "source": []
  },
  {
   "cell_type": "markdown",
   "id": "grateful-soccer",
   "metadata": {},
   "source": [
    "## Data Import"
   ]
  },
  {
   "cell_type": "markdown",
   "id": "hollow-destruction",
   "metadata": {},
   "source": [
    "### Read a csv file\n",
    "\n",
    "CSV: comma separated values file. The first row contains the column names:"
   ]
  },
  {
   "cell_type": "code",
   "execution_count": 62,
   "id": "liable-bridges",
   "metadata": {},
   "outputs": [
    {
     "output_type": "stream",
     "name": "stdout",
     "text": [
      "page_id,name,urlslug,ID,ALIGN,EYE,HAIR,SEX,GSM,ALIVE,APPEARANCES,FIRST APPEARANCE,YEAR\n1422,Batman (Bruce Wayne),\\/wiki\\/Batman_(Bruce_Wayne),Secret Identity,Good Characters,Blue Eyes,Black Hair,Male Characters,,Living Characters,3093,\"1939, May\",1939\n23387,Superman (Clark Kent),\\/wiki\\/Superman_(Clark_Kent),Secret Identity,Good Characters,Blue Eyes,Black Hair,Male Characters,,Living Characters,2496,\"1986, October\",1986\n1458,Green Lantern (Hal Jordan),\\/wiki\\/Green_Lantern_(Hal_Jordan),Secret Identity,Good Characters,Brown Eyes,Brown Hair,Male Characters,,Living Characters,1565,\"1959, October\",1959\n1659,James Gordon (New Earth),\\/wiki\\/James_Gordon_(New_Earth),Public Identity,Good Characters,Brown Eyes,White Hair,Male Characters,,Living Characters,1316,\"1987, February\",1987\n1576,Richard Grayson (New Earth),\\/wiki\\/Richard_Grayson_(New_Earth),Secret Identity,Good Characters,Blue Eyes,Black Hair,Male Characters,,Living Characters,1237,\"1940, April\",1940\n1448,Wonder Woman (Diana Prince),\\/wiki\\/Wonder_Woman_(Diana_Prince),Public Identity,Good Characters,Blue Eyes,Black Hair,Female Characters,,Living Characters,1231,\"1941, December\",1941\n1486,Aquaman (Arthur Curry),\\/wiki\\/Aquaman_(Arthur_Curry),Public Identity,Good Characters,Blue Eyes,Blond Hair,Male Characters,,Living Characters,1121,\"1941, November\",1941\n1451,Timothy Drake (New Earth),\\/wiki\\/Timothy_Drake_(New_Earth),Secret Identity,Good Characters,Blue Eyes,Black Hair,Male Characters,,Living Characters,1095,\"1989, August\",1989\n71760,Dinah Laurel Lance (New Earth),\\/wiki\\/Dinah_Laurel_Lance_(New_Earth),Public Identity,Good Characters,Blue Eyes,Blond Hair,Female Characters,,Living Characters,1075,\"1969, November\",1969\n"
     ]
    }
   ],
   "source": [
    "%%bash\n",
    "head data/dc-wikia-data.csv"
   ]
  },
  {
   "cell_type": "markdown",
   "id": "weighted-timothy",
   "metadata": {},
   "source": [
    "Read a csv with a standard separator (`,`):"
   ]
  },
  {
   "cell_type": "code",
   "execution_count": 63,
   "id": "wicked-wellington",
   "metadata": {},
   "outputs": [
    {
     "output_type": "execute_result",
     "data": {
      "text/plain": [
       "      page_id                          name  \\\n",
       "0        1422          Batman (Bruce Wayne)   \n",
       "1       23387         Superman (Clark Kent)   \n",
       "2        1458    Green Lantern (Hal Jordan)   \n",
       "3        1659      James Gordon (New Earth)   \n",
       "4        1576   Richard Grayson (New Earth)   \n",
       "...       ...                           ...   \n",
       "6891    66302       Nadine West (New Earth)   \n",
       "6892   283475    Warren Harding (New Earth)   \n",
       "6893   283478  William Harrison (New Earth)   \n",
       "6894   283471  William McKinley (New Earth)   \n",
       "6895   150660            Mookie (New Earth)   \n",
       "\n",
       "                                   urlslug               ID            ALIGN  \\\n",
       "0             \\/wiki\\/Batman_(Bruce_Wayne)  Secret Identity  Good Characters   \n",
       "1            \\/wiki\\/Superman_(Clark_Kent)  Secret Identity  Good Characters   \n",
       "2       \\/wiki\\/Green_Lantern_(Hal_Jordan)  Secret Identity  Good Characters   \n",
       "3         \\/wiki\\/James_Gordon_(New_Earth)  Public Identity  Good Characters   \n",
       "4      \\/wiki\\/Richard_Grayson_(New_Earth)  Secret Identity  Good Characters   \n",
       "...                                    ...              ...              ...   \n",
       "6891       \\/wiki\\/Nadine_West_(New_Earth)  Public Identity  Good Characters   \n",
       "6892    \\/wiki\\/Warren_Harding_(New_Earth)  Public Identity  Good Characters   \n",
       "6893  \\/wiki\\/William_Harrison_(New_Earth)  Public Identity  Good Characters   \n",
       "6894  \\/wiki\\/William_McKinley_(New_Earth)  Public Identity  Good Characters   \n",
       "6895            \\/wiki\\/Mookie_(New_Earth)  Public Identity   Bad Characters   \n",
       "\n",
       "             EYE        HAIR                SEX  GSM              ALIVE  \\\n",
       "0      Blue Eyes  Black Hair    Male Characters  NaN  Living Characters   \n",
       "1      Blue Eyes  Black Hair    Male Characters  NaN  Living Characters   \n",
       "2     Brown Eyes  Brown Hair    Male Characters  NaN  Living Characters   \n",
       "3     Brown Eyes  White Hair    Male Characters  NaN  Living Characters   \n",
       "4      Blue Eyes  Black Hair    Male Characters  NaN  Living Characters   \n",
       "...          ...         ...                ...  ...                ...   \n",
       "6891         NaN         NaN  Female Characters  NaN  Living Characters   \n",
       "6892         NaN         NaN    Male Characters  NaN  Living Characters   \n",
       "6893         NaN         NaN    Male Characters  NaN  Living Characters   \n",
       "6894         NaN         NaN    Male Characters  NaN  Living Characters   \n",
       "6895   Blue Eyes  Blond Hair    Male Characters  NaN  Living Characters   \n",
       "\n",
       "      APPEARANCES FIRST APPEARANCE    YEAR  \n",
       "0          3093.0        1939, May  1939.0  \n",
       "1          2496.0    1986, October  1986.0  \n",
       "2          1565.0    1959, October  1959.0  \n",
       "3          1316.0   1987, February  1987.0  \n",
       "4          1237.0      1940, April  1940.0  \n",
       "...           ...              ...     ...  \n",
       "6891          NaN              NaN     NaN  \n",
       "6892          NaN              NaN     NaN  \n",
       "6893          NaN              NaN     NaN  \n",
       "6894          NaN              NaN     NaN  \n",
       "6895          NaN              NaN     NaN  \n",
       "\n",
       "[6896 rows x 13 columns]"
      ],
      "text/html": "<div>\n<style scoped>\n    .dataframe tbody tr th:only-of-type {\n        vertical-align: middle;\n    }\n\n    .dataframe tbody tr th {\n        vertical-align: top;\n    }\n\n    .dataframe thead th {\n        text-align: right;\n    }\n</style>\n<table border=\"1\" class=\"dataframe\">\n  <thead>\n    <tr style=\"text-align: right;\">\n      <th></th>\n      <th>page_id</th>\n      <th>name</th>\n      <th>urlslug</th>\n      <th>ID</th>\n      <th>ALIGN</th>\n      <th>EYE</th>\n      <th>HAIR</th>\n      <th>SEX</th>\n      <th>GSM</th>\n      <th>ALIVE</th>\n      <th>APPEARANCES</th>\n      <th>FIRST APPEARANCE</th>\n      <th>YEAR</th>\n    </tr>\n  </thead>\n  <tbody>\n    <tr>\n      <th>0</th>\n      <td>1422</td>\n      <td>Batman (Bruce Wayne)</td>\n      <td>\\/wiki\\/Batman_(Bruce_Wayne)</td>\n      <td>Secret Identity</td>\n      <td>Good Characters</td>\n      <td>Blue Eyes</td>\n      <td>Black Hair</td>\n      <td>Male Characters</td>\n      <td>NaN</td>\n      <td>Living Characters</td>\n      <td>3093.0</td>\n      <td>1939, May</td>\n      <td>1939.0</td>\n    </tr>\n    <tr>\n      <th>1</th>\n      <td>23387</td>\n      <td>Superman (Clark Kent)</td>\n      <td>\\/wiki\\/Superman_(Clark_Kent)</td>\n      <td>Secret Identity</td>\n      <td>Good Characters</td>\n      <td>Blue Eyes</td>\n      <td>Black Hair</td>\n      <td>Male Characters</td>\n      <td>NaN</td>\n      <td>Living Characters</td>\n      <td>2496.0</td>\n      <td>1986, October</td>\n      <td>1986.0</td>\n    </tr>\n    <tr>\n      <th>2</th>\n      <td>1458</td>\n      <td>Green Lantern (Hal Jordan)</td>\n      <td>\\/wiki\\/Green_Lantern_(Hal_Jordan)</td>\n      <td>Secret Identity</td>\n      <td>Good Characters</td>\n      <td>Brown Eyes</td>\n      <td>Brown Hair</td>\n      <td>Male Characters</td>\n      <td>NaN</td>\n      <td>Living Characters</td>\n      <td>1565.0</td>\n      <td>1959, October</td>\n      <td>1959.0</td>\n    </tr>\n    <tr>\n      <th>3</th>\n      <td>1659</td>\n      <td>James Gordon (New Earth)</td>\n      <td>\\/wiki\\/James_Gordon_(New_Earth)</td>\n      <td>Public Identity</td>\n      <td>Good Characters</td>\n      <td>Brown Eyes</td>\n      <td>White Hair</td>\n      <td>Male Characters</td>\n      <td>NaN</td>\n      <td>Living Characters</td>\n      <td>1316.0</td>\n      <td>1987, February</td>\n      <td>1987.0</td>\n    </tr>\n    <tr>\n      <th>4</th>\n      <td>1576</td>\n      <td>Richard Grayson (New Earth)</td>\n      <td>\\/wiki\\/Richard_Grayson_(New_Earth)</td>\n      <td>Secret Identity</td>\n      <td>Good Characters</td>\n      <td>Blue Eyes</td>\n      <td>Black Hair</td>\n      <td>Male Characters</td>\n      <td>NaN</td>\n      <td>Living Characters</td>\n      <td>1237.0</td>\n      <td>1940, April</td>\n      <td>1940.0</td>\n    </tr>\n    <tr>\n      <th>...</th>\n      <td>...</td>\n      <td>...</td>\n      <td>...</td>\n      <td>...</td>\n      <td>...</td>\n      <td>...</td>\n      <td>...</td>\n      <td>...</td>\n      <td>...</td>\n      <td>...</td>\n      <td>...</td>\n      <td>...</td>\n      <td>...</td>\n    </tr>\n    <tr>\n      <th>6891</th>\n      <td>66302</td>\n      <td>Nadine West (New Earth)</td>\n      <td>\\/wiki\\/Nadine_West_(New_Earth)</td>\n      <td>Public Identity</td>\n      <td>Good Characters</td>\n      <td>NaN</td>\n      <td>NaN</td>\n      <td>Female Characters</td>\n      <td>NaN</td>\n      <td>Living Characters</td>\n      <td>NaN</td>\n      <td>NaN</td>\n      <td>NaN</td>\n    </tr>\n    <tr>\n      <th>6892</th>\n      <td>283475</td>\n      <td>Warren Harding (New Earth)</td>\n      <td>\\/wiki\\/Warren_Harding_(New_Earth)</td>\n      <td>Public Identity</td>\n      <td>Good Characters</td>\n      <td>NaN</td>\n      <td>NaN</td>\n      <td>Male Characters</td>\n      <td>NaN</td>\n      <td>Living Characters</td>\n      <td>NaN</td>\n      <td>NaN</td>\n      <td>NaN</td>\n    </tr>\n    <tr>\n      <th>6893</th>\n      <td>283478</td>\n      <td>William Harrison (New Earth)</td>\n      <td>\\/wiki\\/William_Harrison_(New_Earth)</td>\n      <td>Public Identity</td>\n      <td>Good Characters</td>\n      <td>NaN</td>\n      <td>NaN</td>\n      <td>Male Characters</td>\n      <td>NaN</td>\n      <td>Living Characters</td>\n      <td>NaN</td>\n      <td>NaN</td>\n      <td>NaN</td>\n    </tr>\n    <tr>\n      <th>6894</th>\n      <td>283471</td>\n      <td>William McKinley (New Earth)</td>\n      <td>\\/wiki\\/William_McKinley_(New_Earth)</td>\n      <td>Public Identity</td>\n      <td>Good Characters</td>\n      <td>NaN</td>\n      <td>NaN</td>\n      <td>Male Characters</td>\n      <td>NaN</td>\n      <td>Living Characters</td>\n      <td>NaN</td>\n      <td>NaN</td>\n      <td>NaN</td>\n    </tr>\n    <tr>\n      <th>6895</th>\n      <td>150660</td>\n      <td>Mookie (New Earth)</td>\n      <td>\\/wiki\\/Mookie_(New_Earth)</td>\n      <td>Public Identity</td>\n      <td>Bad Characters</td>\n      <td>Blue Eyes</td>\n      <td>Blond Hair</td>\n      <td>Male Characters</td>\n      <td>NaN</td>\n      <td>Living Characters</td>\n      <td>NaN</td>\n      <td>NaN</td>\n      <td>NaN</td>\n    </tr>\n  </tbody>\n</table>\n<p>6896 rows × 13 columns</p>\n</div>"
     },
     "metadata": {},
     "execution_count": 63
    }
   ],
   "source": [
    "dc = pd.read_csv('data/dc-wikia-data.csv')\n",
    "dc"
   ]
  },
  {
   "cell_type": "markdown",
   "id": "material-junction",
   "metadata": {},
   "source": [
    "Or specifing the separator"
   ]
  },
  {
   "cell_type": "code",
   "execution_count": 64,
   "id": "virgin-metallic",
   "metadata": {},
   "outputs": [
    {
     "output_type": "execute_result",
     "data": {
      "text/plain": [
       "      page_id                          name  \\\n",
       "0        1422          Batman (Bruce Wayne)   \n",
       "1       23387         Superman (Clark Kent)   \n",
       "2        1458    Green Lantern (Hal Jordan)   \n",
       "3        1659      James Gordon (New Earth)   \n",
       "4        1576   Richard Grayson (New Earth)   \n",
       "...       ...                           ...   \n",
       "6891    66302       Nadine West (New Earth)   \n",
       "6892   283475    Warren Harding (New Earth)   \n",
       "6893   283478  William Harrison (New Earth)   \n",
       "6894   283471  William McKinley (New Earth)   \n",
       "6895   150660            Mookie (New Earth)   \n",
       "\n",
       "                                   urlslug               ID            ALIGN  \\\n",
       "0             \\/wiki\\/Batman_(Bruce_Wayne)  Secret Identity  Good Characters   \n",
       "1            \\/wiki\\/Superman_(Clark_Kent)  Secret Identity  Good Characters   \n",
       "2       \\/wiki\\/Green_Lantern_(Hal_Jordan)  Secret Identity  Good Characters   \n",
       "3         \\/wiki\\/James_Gordon_(New_Earth)  Public Identity  Good Characters   \n",
       "4      \\/wiki\\/Richard_Grayson_(New_Earth)  Secret Identity  Good Characters   \n",
       "...                                    ...              ...              ...   \n",
       "6891       \\/wiki\\/Nadine_West_(New_Earth)  Public Identity  Good Characters   \n",
       "6892    \\/wiki\\/Warren_Harding_(New_Earth)  Public Identity  Good Characters   \n",
       "6893  \\/wiki\\/William_Harrison_(New_Earth)  Public Identity  Good Characters   \n",
       "6894  \\/wiki\\/William_McKinley_(New_Earth)  Public Identity  Good Characters   \n",
       "6895            \\/wiki\\/Mookie_(New_Earth)  Public Identity   Bad Characters   \n",
       "\n",
       "             EYE        HAIR                SEX  GSM              ALIVE  \\\n",
       "0      Blue Eyes  Black Hair    Male Characters  NaN  Living Characters   \n",
       "1      Blue Eyes  Black Hair    Male Characters  NaN  Living Characters   \n",
       "2     Brown Eyes  Brown Hair    Male Characters  NaN  Living Characters   \n",
       "3     Brown Eyes  White Hair    Male Characters  NaN  Living Characters   \n",
       "4      Blue Eyes  Black Hair    Male Characters  NaN  Living Characters   \n",
       "...          ...         ...                ...  ...                ...   \n",
       "6891         NaN         NaN  Female Characters  NaN  Living Characters   \n",
       "6892         NaN         NaN    Male Characters  NaN  Living Characters   \n",
       "6893         NaN         NaN    Male Characters  NaN  Living Characters   \n",
       "6894         NaN         NaN    Male Characters  NaN  Living Characters   \n",
       "6895   Blue Eyes  Blond Hair    Male Characters  NaN  Living Characters   \n",
       "\n",
       "      APPEARANCES FIRST APPEARANCE    YEAR  \n",
       "0          3093.0        1939, May  1939.0  \n",
       "1          2496.0    1986, October  1986.0  \n",
       "2          1565.0    1959, October  1959.0  \n",
       "3          1316.0   1987, February  1987.0  \n",
       "4          1237.0      1940, April  1940.0  \n",
       "...           ...              ...     ...  \n",
       "6891          NaN              NaN     NaN  \n",
       "6892          NaN              NaN     NaN  \n",
       "6893          NaN              NaN     NaN  \n",
       "6894          NaN              NaN     NaN  \n",
       "6895          NaN              NaN     NaN  \n",
       "\n",
       "[6896 rows x 13 columns]"
      ],
      "text/html": "<div>\n<style scoped>\n    .dataframe tbody tr th:only-of-type {\n        vertical-align: middle;\n    }\n\n    .dataframe tbody tr th {\n        vertical-align: top;\n    }\n\n    .dataframe thead th {\n        text-align: right;\n    }\n</style>\n<table border=\"1\" class=\"dataframe\">\n  <thead>\n    <tr style=\"text-align: right;\">\n      <th></th>\n      <th>page_id</th>\n      <th>name</th>\n      <th>urlslug</th>\n      <th>ID</th>\n      <th>ALIGN</th>\n      <th>EYE</th>\n      <th>HAIR</th>\n      <th>SEX</th>\n      <th>GSM</th>\n      <th>ALIVE</th>\n      <th>APPEARANCES</th>\n      <th>FIRST APPEARANCE</th>\n      <th>YEAR</th>\n    </tr>\n  </thead>\n  <tbody>\n    <tr>\n      <th>0</th>\n      <td>1422</td>\n      <td>Batman (Bruce Wayne)</td>\n      <td>\\/wiki\\/Batman_(Bruce_Wayne)</td>\n      <td>Secret Identity</td>\n      <td>Good Characters</td>\n      <td>Blue Eyes</td>\n      <td>Black Hair</td>\n      <td>Male Characters</td>\n      <td>NaN</td>\n      <td>Living Characters</td>\n      <td>3093.0</td>\n      <td>1939, May</td>\n      <td>1939.0</td>\n    </tr>\n    <tr>\n      <th>1</th>\n      <td>23387</td>\n      <td>Superman (Clark Kent)</td>\n      <td>\\/wiki\\/Superman_(Clark_Kent)</td>\n      <td>Secret Identity</td>\n      <td>Good Characters</td>\n      <td>Blue Eyes</td>\n      <td>Black Hair</td>\n      <td>Male Characters</td>\n      <td>NaN</td>\n      <td>Living Characters</td>\n      <td>2496.0</td>\n      <td>1986, October</td>\n      <td>1986.0</td>\n    </tr>\n    <tr>\n      <th>2</th>\n      <td>1458</td>\n      <td>Green Lantern (Hal Jordan)</td>\n      <td>\\/wiki\\/Green_Lantern_(Hal_Jordan)</td>\n      <td>Secret Identity</td>\n      <td>Good Characters</td>\n      <td>Brown Eyes</td>\n      <td>Brown Hair</td>\n      <td>Male Characters</td>\n      <td>NaN</td>\n      <td>Living Characters</td>\n      <td>1565.0</td>\n      <td>1959, October</td>\n      <td>1959.0</td>\n    </tr>\n    <tr>\n      <th>3</th>\n      <td>1659</td>\n      <td>James Gordon (New Earth)</td>\n      <td>\\/wiki\\/James_Gordon_(New_Earth)</td>\n      <td>Public Identity</td>\n      <td>Good Characters</td>\n      <td>Brown Eyes</td>\n      <td>White Hair</td>\n      <td>Male Characters</td>\n      <td>NaN</td>\n      <td>Living Characters</td>\n      <td>1316.0</td>\n      <td>1987, February</td>\n      <td>1987.0</td>\n    </tr>\n    <tr>\n      <th>4</th>\n      <td>1576</td>\n      <td>Richard Grayson (New Earth)</td>\n      <td>\\/wiki\\/Richard_Grayson_(New_Earth)</td>\n      <td>Secret Identity</td>\n      <td>Good Characters</td>\n      <td>Blue Eyes</td>\n      <td>Black Hair</td>\n      <td>Male Characters</td>\n      <td>NaN</td>\n      <td>Living Characters</td>\n      <td>1237.0</td>\n      <td>1940, April</td>\n      <td>1940.0</td>\n    </tr>\n    <tr>\n      <th>...</th>\n      <td>...</td>\n      <td>...</td>\n      <td>...</td>\n      <td>...</td>\n      <td>...</td>\n      <td>...</td>\n      <td>...</td>\n      <td>...</td>\n      <td>...</td>\n      <td>...</td>\n      <td>...</td>\n      <td>...</td>\n      <td>...</td>\n    </tr>\n    <tr>\n      <th>6891</th>\n      <td>66302</td>\n      <td>Nadine West (New Earth)</td>\n      <td>\\/wiki\\/Nadine_West_(New_Earth)</td>\n      <td>Public Identity</td>\n      <td>Good Characters</td>\n      <td>NaN</td>\n      <td>NaN</td>\n      <td>Female Characters</td>\n      <td>NaN</td>\n      <td>Living Characters</td>\n      <td>NaN</td>\n      <td>NaN</td>\n      <td>NaN</td>\n    </tr>\n    <tr>\n      <th>6892</th>\n      <td>283475</td>\n      <td>Warren Harding (New Earth)</td>\n      <td>\\/wiki\\/Warren_Harding_(New_Earth)</td>\n      <td>Public Identity</td>\n      <td>Good Characters</td>\n      <td>NaN</td>\n      <td>NaN</td>\n      <td>Male Characters</td>\n      <td>NaN</td>\n      <td>Living Characters</td>\n      <td>NaN</td>\n      <td>NaN</td>\n      <td>NaN</td>\n    </tr>\n    <tr>\n      <th>6893</th>\n      <td>283478</td>\n      <td>William Harrison (New Earth)</td>\n      <td>\\/wiki\\/William_Harrison_(New_Earth)</td>\n      <td>Public Identity</td>\n      <td>Good Characters</td>\n      <td>NaN</td>\n      <td>NaN</td>\n      <td>Male Characters</td>\n      <td>NaN</td>\n      <td>Living Characters</td>\n      <td>NaN</td>\n      <td>NaN</td>\n      <td>NaN</td>\n    </tr>\n    <tr>\n      <th>6894</th>\n      <td>283471</td>\n      <td>William McKinley (New Earth)</td>\n      <td>\\/wiki\\/William_McKinley_(New_Earth)</td>\n      <td>Public Identity</td>\n      <td>Good Characters</td>\n      <td>NaN</td>\n      <td>NaN</td>\n      <td>Male Characters</td>\n      <td>NaN</td>\n      <td>Living Characters</td>\n      <td>NaN</td>\n      <td>NaN</td>\n      <td>NaN</td>\n    </tr>\n    <tr>\n      <th>6895</th>\n      <td>150660</td>\n      <td>Mookie (New Earth)</td>\n      <td>\\/wiki\\/Mookie_(New_Earth)</td>\n      <td>Public Identity</td>\n      <td>Bad Characters</td>\n      <td>Blue Eyes</td>\n      <td>Blond Hair</td>\n      <td>Male Characters</td>\n      <td>NaN</td>\n      <td>Living Characters</td>\n      <td>NaN</td>\n      <td>NaN</td>\n      <td>NaN</td>\n    </tr>\n  </tbody>\n</table>\n<p>6896 rows × 13 columns</p>\n</div>"
     },
     "metadata": {},
     "execution_count": 64
    }
   ],
   "source": [
    "dc = pd.read_table('data/dc-wikia-data.csv', sep=',')\n",
    "dc"
   ]
  },
  {
   "cell_type": "markdown",
   "id": "rational-royal",
   "metadata": {},
   "source": [
    "Specifing column types:"
   ]
  },
  {
   "cell_type": "code",
   "execution_count": 65,
   "id": "continental-agreement",
   "metadata": {},
   "outputs": [
    {
     "output_type": "execute_result",
     "data": {
      "text/plain": [
       "      page_id                          name  \\\n",
       "0        1422          Batman (Bruce Wayne)   \n",
       "1       23387         Superman (Clark Kent)   \n",
       "2        1458    Green Lantern (Hal Jordan)   \n",
       "3        1659      James Gordon (New Earth)   \n",
       "4        1576   Richard Grayson (New Earth)   \n",
       "...       ...                           ...   \n",
       "6891    66302       Nadine West (New Earth)   \n",
       "6892   283475    Warren Harding (New Earth)   \n",
       "6893   283478  William Harrison (New Earth)   \n",
       "6894   283471  William McKinley (New Earth)   \n",
       "6895   150660            Mookie (New Earth)   \n",
       "\n",
       "                                   urlslug               ID            ALIGN  \\\n",
       "0             \\/wiki\\/Batman_(Bruce_Wayne)  Secret Identity  Good Characters   \n",
       "1            \\/wiki\\/Superman_(Clark_Kent)  Secret Identity  Good Characters   \n",
       "2       \\/wiki\\/Green_Lantern_(Hal_Jordan)  Secret Identity  Good Characters   \n",
       "3         \\/wiki\\/James_Gordon_(New_Earth)  Public Identity  Good Characters   \n",
       "4      \\/wiki\\/Richard_Grayson_(New_Earth)  Secret Identity  Good Characters   \n",
       "...                                    ...              ...              ...   \n",
       "6891       \\/wiki\\/Nadine_West_(New_Earth)  Public Identity  Good Characters   \n",
       "6892    \\/wiki\\/Warren_Harding_(New_Earth)  Public Identity  Good Characters   \n",
       "6893  \\/wiki\\/William_Harrison_(New_Earth)  Public Identity  Good Characters   \n",
       "6894  \\/wiki\\/William_McKinley_(New_Earth)  Public Identity  Good Characters   \n",
       "6895            \\/wiki\\/Mookie_(New_Earth)  Public Identity   Bad Characters   \n",
       "\n",
       "             EYE        HAIR                SEX  GSM              ALIVE  \\\n",
       "0      Blue Eyes  Black Hair    Male Characters  NaN  Living Characters   \n",
       "1      Blue Eyes  Black Hair    Male Characters  NaN  Living Characters   \n",
       "2     Brown Eyes  Brown Hair    Male Characters  NaN  Living Characters   \n",
       "3     Brown Eyes  White Hair    Male Characters  NaN  Living Characters   \n",
       "4      Blue Eyes  Black Hair    Male Characters  NaN  Living Characters   \n",
       "...          ...         ...                ...  ...                ...   \n",
       "6891         NaN         NaN  Female Characters  NaN  Living Characters   \n",
       "6892         NaN         NaN    Male Characters  NaN  Living Characters   \n",
       "6893         NaN         NaN    Male Characters  NaN  Living Characters   \n",
       "6894         NaN         NaN    Male Characters  NaN  Living Characters   \n",
       "6895   Blue Eyes  Blond Hair    Male Characters  NaN  Living Characters   \n",
       "\n",
       "      APPEARANCES FIRST APPEARANCE    YEAR  \n",
       "0          3093.0        1939, May  1939.0  \n",
       "1          2496.0    1986, October  1986.0  \n",
       "2          1565.0    1959, October  1959.0  \n",
       "3          1316.0   1987, February  1987.0  \n",
       "4          1237.0      1940, April  1940.0  \n",
       "...           ...              ...     ...  \n",
       "6891          NaN              NaN     NaN  \n",
       "6892          NaN              NaN     NaN  \n",
       "6893          NaN              NaN     NaN  \n",
       "6894          NaN              NaN     NaN  \n",
       "6895          NaN              NaN     NaN  \n",
       "\n",
       "[6896 rows x 13 columns]"
      ],
      "text/html": "<div>\n<style scoped>\n    .dataframe tbody tr th:only-of-type {\n        vertical-align: middle;\n    }\n\n    .dataframe tbody tr th {\n        vertical-align: top;\n    }\n\n    .dataframe thead th {\n        text-align: right;\n    }\n</style>\n<table border=\"1\" class=\"dataframe\">\n  <thead>\n    <tr style=\"text-align: right;\">\n      <th></th>\n      <th>page_id</th>\n      <th>name</th>\n      <th>urlslug</th>\n      <th>ID</th>\n      <th>ALIGN</th>\n      <th>EYE</th>\n      <th>HAIR</th>\n      <th>SEX</th>\n      <th>GSM</th>\n      <th>ALIVE</th>\n      <th>APPEARANCES</th>\n      <th>FIRST APPEARANCE</th>\n      <th>YEAR</th>\n    </tr>\n  </thead>\n  <tbody>\n    <tr>\n      <th>0</th>\n      <td>1422</td>\n      <td>Batman (Bruce Wayne)</td>\n      <td>\\/wiki\\/Batman_(Bruce_Wayne)</td>\n      <td>Secret Identity</td>\n      <td>Good Characters</td>\n      <td>Blue Eyes</td>\n      <td>Black Hair</td>\n      <td>Male Characters</td>\n      <td>NaN</td>\n      <td>Living Characters</td>\n      <td>3093.0</td>\n      <td>1939, May</td>\n      <td>1939.0</td>\n    </tr>\n    <tr>\n      <th>1</th>\n      <td>23387</td>\n      <td>Superman (Clark Kent)</td>\n      <td>\\/wiki\\/Superman_(Clark_Kent)</td>\n      <td>Secret Identity</td>\n      <td>Good Characters</td>\n      <td>Blue Eyes</td>\n      <td>Black Hair</td>\n      <td>Male Characters</td>\n      <td>NaN</td>\n      <td>Living Characters</td>\n      <td>2496.0</td>\n      <td>1986, October</td>\n      <td>1986.0</td>\n    </tr>\n    <tr>\n      <th>2</th>\n      <td>1458</td>\n      <td>Green Lantern (Hal Jordan)</td>\n      <td>\\/wiki\\/Green_Lantern_(Hal_Jordan)</td>\n      <td>Secret Identity</td>\n      <td>Good Characters</td>\n      <td>Brown Eyes</td>\n      <td>Brown Hair</td>\n      <td>Male Characters</td>\n      <td>NaN</td>\n      <td>Living Characters</td>\n      <td>1565.0</td>\n      <td>1959, October</td>\n      <td>1959.0</td>\n    </tr>\n    <tr>\n      <th>3</th>\n      <td>1659</td>\n      <td>James Gordon (New Earth)</td>\n      <td>\\/wiki\\/James_Gordon_(New_Earth)</td>\n      <td>Public Identity</td>\n      <td>Good Characters</td>\n      <td>Brown Eyes</td>\n      <td>White Hair</td>\n      <td>Male Characters</td>\n      <td>NaN</td>\n      <td>Living Characters</td>\n      <td>1316.0</td>\n      <td>1987, February</td>\n      <td>1987.0</td>\n    </tr>\n    <tr>\n      <th>4</th>\n      <td>1576</td>\n      <td>Richard Grayson (New Earth)</td>\n      <td>\\/wiki\\/Richard_Grayson_(New_Earth)</td>\n      <td>Secret Identity</td>\n      <td>Good Characters</td>\n      <td>Blue Eyes</td>\n      <td>Black Hair</td>\n      <td>Male Characters</td>\n      <td>NaN</td>\n      <td>Living Characters</td>\n      <td>1237.0</td>\n      <td>1940, April</td>\n      <td>1940.0</td>\n    </tr>\n    <tr>\n      <th>...</th>\n      <td>...</td>\n      <td>...</td>\n      <td>...</td>\n      <td>...</td>\n      <td>...</td>\n      <td>...</td>\n      <td>...</td>\n      <td>...</td>\n      <td>...</td>\n      <td>...</td>\n      <td>...</td>\n      <td>...</td>\n      <td>...</td>\n    </tr>\n    <tr>\n      <th>6891</th>\n      <td>66302</td>\n      <td>Nadine West (New Earth)</td>\n      <td>\\/wiki\\/Nadine_West_(New_Earth)</td>\n      <td>Public Identity</td>\n      <td>Good Characters</td>\n      <td>NaN</td>\n      <td>NaN</td>\n      <td>Female Characters</td>\n      <td>NaN</td>\n      <td>Living Characters</td>\n      <td>NaN</td>\n      <td>NaN</td>\n      <td>NaN</td>\n    </tr>\n    <tr>\n      <th>6892</th>\n      <td>283475</td>\n      <td>Warren Harding (New Earth)</td>\n      <td>\\/wiki\\/Warren_Harding_(New_Earth)</td>\n      <td>Public Identity</td>\n      <td>Good Characters</td>\n      <td>NaN</td>\n      <td>NaN</td>\n      <td>Male Characters</td>\n      <td>NaN</td>\n      <td>Living Characters</td>\n      <td>NaN</td>\n      <td>NaN</td>\n      <td>NaN</td>\n    </tr>\n    <tr>\n      <th>6893</th>\n      <td>283478</td>\n      <td>William Harrison (New Earth)</td>\n      <td>\\/wiki\\/William_Harrison_(New_Earth)</td>\n      <td>Public Identity</td>\n      <td>Good Characters</td>\n      <td>NaN</td>\n      <td>NaN</td>\n      <td>Male Characters</td>\n      <td>NaN</td>\n      <td>Living Characters</td>\n      <td>NaN</td>\n      <td>NaN</td>\n      <td>NaN</td>\n    </tr>\n    <tr>\n      <th>6894</th>\n      <td>283471</td>\n      <td>William McKinley (New Earth)</td>\n      <td>\\/wiki\\/William_McKinley_(New_Earth)</td>\n      <td>Public Identity</td>\n      <td>Good Characters</td>\n      <td>NaN</td>\n      <td>NaN</td>\n      <td>Male Characters</td>\n      <td>NaN</td>\n      <td>Living Characters</td>\n      <td>NaN</td>\n      <td>NaN</td>\n      <td>NaN</td>\n    </tr>\n    <tr>\n      <th>6895</th>\n      <td>150660</td>\n      <td>Mookie (New Earth)</td>\n      <td>\\/wiki\\/Mookie_(New_Earth)</td>\n      <td>Public Identity</td>\n      <td>Bad Characters</td>\n      <td>Blue Eyes</td>\n      <td>Blond Hair</td>\n      <td>Male Characters</td>\n      <td>NaN</td>\n      <td>Living Characters</td>\n      <td>NaN</td>\n      <td>NaN</td>\n      <td>NaN</td>\n    </tr>\n  </tbody>\n</table>\n<p>6896 rows × 13 columns</p>\n</div>"
     },
     "metadata": {},
     "execution_count": 65
    }
   ],
   "source": [
    "pd.read_table(\n",
    "  'data/dc-wikia-data.csv', \n",
    "  sep=',',\n",
    "  dtype={\n",
    "      'page_id': 'int', \n",
    "      'name': 'string',\n",
    "      # ...\n",
    "    }\n",
    "  )"
   ]
  },
  {
   "cell_type": "markdown",
   "id": "dominican-survivor",
   "metadata": {},
   "source": [
    "Set all column names lowercase:"
   ]
  },
  {
   "cell_type": "code",
   "execution_count": 66,
   "id": "sixth-spelling",
   "metadata": {
    "lines_to_next_cell": 0,
    "title": "rename columns (immutable)"
   },
   "outputs": [
    {
     "output_type": "execute_result",
     "data": {
      "text/plain": [
       "      page_id                          name  \\\n",
       "0        1422          Batman (Bruce Wayne)   \n",
       "1       23387         Superman (Clark Kent)   \n",
       "2        1458    Green Lantern (Hal Jordan)   \n",
       "3        1659      James Gordon (New Earth)   \n",
       "4        1576   Richard Grayson (New Earth)   \n",
       "...       ...                           ...   \n",
       "6891    66302       Nadine West (New Earth)   \n",
       "6892   283475    Warren Harding (New Earth)   \n",
       "6893   283478  William Harrison (New Earth)   \n",
       "6894   283471  William McKinley (New Earth)   \n",
       "6895   150660            Mookie (New Earth)   \n",
       "\n",
       "                                   urlslug               id            align  \\\n",
       "0             \\/wiki\\/Batman_(Bruce_Wayne)  Secret Identity  Good Characters   \n",
       "1            \\/wiki\\/Superman_(Clark_Kent)  Secret Identity  Good Characters   \n",
       "2       \\/wiki\\/Green_Lantern_(Hal_Jordan)  Secret Identity  Good Characters   \n",
       "3         \\/wiki\\/James_Gordon_(New_Earth)  Public Identity  Good Characters   \n",
       "4      \\/wiki\\/Richard_Grayson_(New_Earth)  Secret Identity  Good Characters   \n",
       "...                                    ...              ...              ...   \n",
       "6891       \\/wiki\\/Nadine_West_(New_Earth)  Public Identity  Good Characters   \n",
       "6892    \\/wiki\\/Warren_Harding_(New_Earth)  Public Identity  Good Characters   \n",
       "6893  \\/wiki\\/William_Harrison_(New_Earth)  Public Identity  Good Characters   \n",
       "6894  \\/wiki\\/William_McKinley_(New_Earth)  Public Identity  Good Characters   \n",
       "6895            \\/wiki\\/Mookie_(New_Earth)  Public Identity   Bad Characters   \n",
       "\n",
       "             eye        hair                sex  gsm              alive  \\\n",
       "0      Blue Eyes  Black Hair    Male Characters  NaN  Living Characters   \n",
       "1      Blue Eyes  Black Hair    Male Characters  NaN  Living Characters   \n",
       "2     Brown Eyes  Brown Hair    Male Characters  NaN  Living Characters   \n",
       "3     Brown Eyes  White Hair    Male Characters  NaN  Living Characters   \n",
       "4      Blue Eyes  Black Hair    Male Characters  NaN  Living Characters   \n",
       "...          ...         ...                ...  ...                ...   \n",
       "6891         NaN         NaN  Female Characters  NaN  Living Characters   \n",
       "6892         NaN         NaN    Male Characters  NaN  Living Characters   \n",
       "6893         NaN         NaN    Male Characters  NaN  Living Characters   \n",
       "6894         NaN         NaN    Male Characters  NaN  Living Characters   \n",
       "6895   Blue Eyes  Blond Hair    Male Characters  NaN  Living Characters   \n",
       "\n",
       "      appearances first appearance    year  \n",
       "0          3093.0        1939, May  1939.0  \n",
       "1          2496.0    1986, October  1986.0  \n",
       "2          1565.0    1959, October  1959.0  \n",
       "3          1316.0   1987, February  1987.0  \n",
       "4          1237.0      1940, April  1940.0  \n",
       "...           ...              ...     ...  \n",
       "6891          NaN              NaN     NaN  \n",
       "6892          NaN              NaN     NaN  \n",
       "6893          NaN              NaN     NaN  \n",
       "6894          NaN              NaN     NaN  \n",
       "6895          NaN              NaN     NaN  \n",
       "\n",
       "[6896 rows x 13 columns]"
      ],
      "text/html": "<div>\n<style scoped>\n    .dataframe tbody tr th:only-of-type {\n        vertical-align: middle;\n    }\n\n    .dataframe tbody tr th {\n        vertical-align: top;\n    }\n\n    .dataframe thead th {\n        text-align: right;\n    }\n</style>\n<table border=\"1\" class=\"dataframe\">\n  <thead>\n    <tr style=\"text-align: right;\">\n      <th></th>\n      <th>page_id</th>\n      <th>name</th>\n      <th>urlslug</th>\n      <th>id</th>\n      <th>align</th>\n      <th>eye</th>\n      <th>hair</th>\n      <th>sex</th>\n      <th>gsm</th>\n      <th>alive</th>\n      <th>appearances</th>\n      <th>first appearance</th>\n      <th>year</th>\n    </tr>\n  </thead>\n  <tbody>\n    <tr>\n      <th>0</th>\n      <td>1422</td>\n      <td>Batman (Bruce Wayne)</td>\n      <td>\\/wiki\\/Batman_(Bruce_Wayne)</td>\n      <td>Secret Identity</td>\n      <td>Good Characters</td>\n      <td>Blue Eyes</td>\n      <td>Black Hair</td>\n      <td>Male Characters</td>\n      <td>NaN</td>\n      <td>Living Characters</td>\n      <td>3093.0</td>\n      <td>1939, May</td>\n      <td>1939.0</td>\n    </tr>\n    <tr>\n      <th>1</th>\n      <td>23387</td>\n      <td>Superman (Clark Kent)</td>\n      <td>\\/wiki\\/Superman_(Clark_Kent)</td>\n      <td>Secret Identity</td>\n      <td>Good Characters</td>\n      <td>Blue Eyes</td>\n      <td>Black Hair</td>\n      <td>Male Characters</td>\n      <td>NaN</td>\n      <td>Living Characters</td>\n      <td>2496.0</td>\n      <td>1986, October</td>\n      <td>1986.0</td>\n    </tr>\n    <tr>\n      <th>2</th>\n      <td>1458</td>\n      <td>Green Lantern (Hal Jordan)</td>\n      <td>\\/wiki\\/Green_Lantern_(Hal_Jordan)</td>\n      <td>Secret Identity</td>\n      <td>Good Characters</td>\n      <td>Brown Eyes</td>\n      <td>Brown Hair</td>\n      <td>Male Characters</td>\n      <td>NaN</td>\n      <td>Living Characters</td>\n      <td>1565.0</td>\n      <td>1959, October</td>\n      <td>1959.0</td>\n    </tr>\n    <tr>\n      <th>3</th>\n      <td>1659</td>\n      <td>James Gordon (New Earth)</td>\n      <td>\\/wiki\\/James_Gordon_(New_Earth)</td>\n      <td>Public Identity</td>\n      <td>Good Characters</td>\n      <td>Brown Eyes</td>\n      <td>White Hair</td>\n      <td>Male Characters</td>\n      <td>NaN</td>\n      <td>Living Characters</td>\n      <td>1316.0</td>\n      <td>1987, February</td>\n      <td>1987.0</td>\n    </tr>\n    <tr>\n      <th>4</th>\n      <td>1576</td>\n      <td>Richard Grayson (New Earth)</td>\n      <td>\\/wiki\\/Richard_Grayson_(New_Earth)</td>\n      <td>Secret Identity</td>\n      <td>Good Characters</td>\n      <td>Blue Eyes</td>\n      <td>Black Hair</td>\n      <td>Male Characters</td>\n      <td>NaN</td>\n      <td>Living Characters</td>\n      <td>1237.0</td>\n      <td>1940, April</td>\n      <td>1940.0</td>\n    </tr>\n    <tr>\n      <th>...</th>\n      <td>...</td>\n      <td>...</td>\n      <td>...</td>\n      <td>...</td>\n      <td>...</td>\n      <td>...</td>\n      <td>...</td>\n      <td>...</td>\n      <td>...</td>\n      <td>...</td>\n      <td>...</td>\n      <td>...</td>\n      <td>...</td>\n    </tr>\n    <tr>\n      <th>6891</th>\n      <td>66302</td>\n      <td>Nadine West (New Earth)</td>\n      <td>\\/wiki\\/Nadine_West_(New_Earth)</td>\n      <td>Public Identity</td>\n      <td>Good Characters</td>\n      <td>NaN</td>\n      <td>NaN</td>\n      <td>Female Characters</td>\n      <td>NaN</td>\n      <td>Living Characters</td>\n      <td>NaN</td>\n      <td>NaN</td>\n      <td>NaN</td>\n    </tr>\n    <tr>\n      <th>6892</th>\n      <td>283475</td>\n      <td>Warren Harding (New Earth)</td>\n      <td>\\/wiki\\/Warren_Harding_(New_Earth)</td>\n      <td>Public Identity</td>\n      <td>Good Characters</td>\n      <td>NaN</td>\n      <td>NaN</td>\n      <td>Male Characters</td>\n      <td>NaN</td>\n      <td>Living Characters</td>\n      <td>NaN</td>\n      <td>NaN</td>\n      <td>NaN</td>\n    </tr>\n    <tr>\n      <th>6893</th>\n      <td>283478</td>\n      <td>William Harrison (New Earth)</td>\n      <td>\\/wiki\\/William_Harrison_(New_Earth)</td>\n      <td>Public Identity</td>\n      <td>Good Characters</td>\n      <td>NaN</td>\n      <td>NaN</td>\n      <td>Male Characters</td>\n      <td>NaN</td>\n      <td>Living Characters</td>\n      <td>NaN</td>\n      <td>NaN</td>\n      <td>NaN</td>\n    </tr>\n    <tr>\n      <th>6894</th>\n      <td>283471</td>\n      <td>William McKinley (New Earth)</td>\n      <td>\\/wiki\\/William_McKinley_(New_Earth)</td>\n      <td>Public Identity</td>\n      <td>Good Characters</td>\n      <td>NaN</td>\n      <td>NaN</td>\n      <td>Male Characters</td>\n      <td>NaN</td>\n      <td>Living Characters</td>\n      <td>NaN</td>\n      <td>NaN</td>\n      <td>NaN</td>\n    </tr>\n    <tr>\n      <th>6895</th>\n      <td>150660</td>\n      <td>Mookie (New Earth)</td>\n      <td>\\/wiki\\/Mookie_(New_Earth)</td>\n      <td>Public Identity</td>\n      <td>Bad Characters</td>\n      <td>Blue Eyes</td>\n      <td>Blond Hair</td>\n      <td>Male Characters</td>\n      <td>NaN</td>\n      <td>Living Characters</td>\n      <td>NaN</td>\n      <td>NaN</td>\n      <td>NaN</td>\n    </tr>\n  </tbody>\n</table>\n<p>6896 rows × 13 columns</p>\n</div>"
     },
     "metadata": {},
     "execution_count": 66
    }
   ],
   "source": [
    "dc = dc.rename(columns = lambda x: x.lower())\n",
    "dc"
   ]
  },
  {
   "cell_type": "markdown",
   "id": "concrete-definition",
   "metadata": {},
   "source": []
  },
  {
   "cell_type": "markdown",
   "id": "postal-permit",
   "metadata": {},
   "source": [
    "## Base operations"
   ]
  },
  {
   "cell_type": "markdown",
   "id": "organized-gabriel",
   "metadata": {},
   "source": [
    "### Simple selection"
   ]
  },
  {
   "cell_type": "code",
   "execution_count": 67,
   "id": "perfect-employee",
   "metadata": {
    "lines_to_next_cell": 2
   },
   "outputs": [
    {
     "output_type": "execute_result",
     "data": {
      "text/plain": [
       "                              name  appearances                sex\n",
       "0             Batman (Bruce Wayne)       3093.0    Male Characters\n",
       "1            Superman (Clark Kent)       2496.0    Male Characters\n",
       "2       Green Lantern (Hal Jordan)       1565.0    Male Characters\n",
       "3         James Gordon (New Earth)       1316.0    Male Characters\n",
       "4      Richard Grayson (New Earth)       1237.0    Male Characters\n",
       "...                            ...          ...                ...\n",
       "6891       Nadine West (New Earth)          NaN  Female Characters\n",
       "6892    Warren Harding (New Earth)          NaN    Male Characters\n",
       "6893  William Harrison (New Earth)          NaN    Male Characters\n",
       "6894  William McKinley (New Earth)          NaN    Male Characters\n",
       "6895            Mookie (New Earth)          NaN    Male Characters\n",
       "\n",
       "[6896 rows x 3 columns]"
      ],
      "text/html": "<div>\n<style scoped>\n    .dataframe tbody tr th:only-of-type {\n        vertical-align: middle;\n    }\n\n    .dataframe tbody tr th {\n        vertical-align: top;\n    }\n\n    .dataframe thead th {\n        text-align: right;\n    }\n</style>\n<table border=\"1\" class=\"dataframe\">\n  <thead>\n    <tr style=\"text-align: right;\">\n      <th></th>\n      <th>name</th>\n      <th>appearances</th>\n      <th>sex</th>\n    </tr>\n  </thead>\n  <tbody>\n    <tr>\n      <th>0</th>\n      <td>Batman (Bruce Wayne)</td>\n      <td>3093.0</td>\n      <td>Male Characters</td>\n    </tr>\n    <tr>\n      <th>1</th>\n      <td>Superman (Clark Kent)</td>\n      <td>2496.0</td>\n      <td>Male Characters</td>\n    </tr>\n    <tr>\n      <th>2</th>\n      <td>Green Lantern (Hal Jordan)</td>\n      <td>1565.0</td>\n      <td>Male Characters</td>\n    </tr>\n    <tr>\n      <th>3</th>\n      <td>James Gordon (New Earth)</td>\n      <td>1316.0</td>\n      <td>Male Characters</td>\n    </tr>\n    <tr>\n      <th>4</th>\n      <td>Richard Grayson (New Earth)</td>\n      <td>1237.0</td>\n      <td>Male Characters</td>\n    </tr>\n    <tr>\n      <th>...</th>\n      <td>...</td>\n      <td>...</td>\n      <td>...</td>\n    </tr>\n    <tr>\n      <th>6891</th>\n      <td>Nadine West (New Earth)</td>\n      <td>NaN</td>\n      <td>Female Characters</td>\n    </tr>\n    <tr>\n      <th>6892</th>\n      <td>Warren Harding (New Earth)</td>\n      <td>NaN</td>\n      <td>Male Characters</td>\n    </tr>\n    <tr>\n      <th>6893</th>\n      <td>William Harrison (New Earth)</td>\n      <td>NaN</td>\n      <td>Male Characters</td>\n    </tr>\n    <tr>\n      <th>6894</th>\n      <td>William McKinley (New Earth)</td>\n      <td>NaN</td>\n      <td>Male Characters</td>\n    </tr>\n    <tr>\n      <th>6895</th>\n      <td>Mookie (New Earth)</td>\n      <td>NaN</td>\n      <td>Male Characters</td>\n    </tr>\n  </tbody>\n</table>\n<p>6896 rows × 3 columns</p>\n</div>"
     },
     "metadata": {},
     "execution_count": 67
    }
   ],
   "source": [
    "# select columns: name, appearances, sex\n",
    "dc_2 = dc[['name', 'appearances', 'sex']]\n",
    "dc_2"
   ]
  },
  {
   "cell_type": "markdown",
   "id": "emotional-pendant",
   "metadata": {},
   "source": [
    "### Simple row filter"
   ]
  },
  {
   "cell_type": "code",
   "execution_count": 68,
   "id": "normal-capital",
   "metadata": {},
   "outputs": [
    {
     "output_type": "execute_result",
     "data": {
      "text/plain": [
       "                                name  appearances                sex\n",
       "5        Wonder Woman (Diana Prince)       1231.0  Female Characters\n",
       "8     Dinah Laurel Lance (New Earth)       1075.0  Female Characters\n",
       "10                        GenderTest       1028.0  Female Characters\n",
       "12        Barbara Gordon (New Earth)        951.0  Female Characters\n",
       "14             Lois Lane (New Earth)        934.0  Female Characters\n",
       "...                              ...          ...                ...\n",
       "6878       Dorothea Tane (New Earth)          NaN  Female Characters\n",
       "6881          Doris Zuel (New Earth)          NaN  Female Characters\n",
       "6882           Doris Lee (New Earth)          NaN  Female Characters\n",
       "6885          Catwoman (Selina Kyle)          NaN  Female Characters\n",
       "6891         Nadine West (New Earth)          NaN  Female Characters\n",
       "\n",
       "[1967 rows x 3 columns]"
      ],
      "text/html": "<div>\n<style scoped>\n    .dataframe tbody tr th:only-of-type {\n        vertical-align: middle;\n    }\n\n    .dataframe tbody tr th {\n        vertical-align: top;\n    }\n\n    .dataframe thead th {\n        text-align: right;\n    }\n</style>\n<table border=\"1\" class=\"dataframe\">\n  <thead>\n    <tr style=\"text-align: right;\">\n      <th></th>\n      <th>name</th>\n      <th>appearances</th>\n      <th>sex</th>\n    </tr>\n  </thead>\n  <tbody>\n    <tr>\n      <th>5</th>\n      <td>Wonder Woman (Diana Prince)</td>\n      <td>1231.0</td>\n      <td>Female Characters</td>\n    </tr>\n    <tr>\n      <th>8</th>\n      <td>Dinah Laurel Lance (New Earth)</td>\n      <td>1075.0</td>\n      <td>Female Characters</td>\n    </tr>\n    <tr>\n      <th>10</th>\n      <td>GenderTest</td>\n      <td>1028.0</td>\n      <td>Female Characters</td>\n    </tr>\n    <tr>\n      <th>12</th>\n      <td>Barbara Gordon (New Earth)</td>\n      <td>951.0</td>\n      <td>Female Characters</td>\n    </tr>\n    <tr>\n      <th>14</th>\n      <td>Lois Lane (New Earth)</td>\n      <td>934.0</td>\n      <td>Female Characters</td>\n    </tr>\n    <tr>\n      <th>...</th>\n      <td>...</td>\n      <td>...</td>\n      <td>...</td>\n    </tr>\n    <tr>\n      <th>6878</th>\n      <td>Dorothea Tane (New Earth)</td>\n      <td>NaN</td>\n      <td>Female Characters</td>\n    </tr>\n    <tr>\n      <th>6881</th>\n      <td>Doris Zuel (New Earth)</td>\n      <td>NaN</td>\n      <td>Female Characters</td>\n    </tr>\n    <tr>\n      <th>6882</th>\n      <td>Doris Lee (New Earth)</td>\n      <td>NaN</td>\n      <td>Female Characters</td>\n    </tr>\n    <tr>\n      <th>6885</th>\n      <td>Catwoman (Selina Kyle)</td>\n      <td>NaN</td>\n      <td>Female Characters</td>\n    </tr>\n    <tr>\n      <th>6891</th>\n      <td>Nadine West (New Earth)</td>\n      <td>NaN</td>\n      <td>Female Characters</td>\n    </tr>\n  </tbody>\n</table>\n<p>1967 rows × 3 columns</p>\n</div>"
     },
     "metadata": {},
     "execution_count": 68
    }
   ],
   "source": [
    "# get the \"Female Characters\"\n",
    "dc_2_female = dc_2[dc_2.sex == \"Female Characters\"]\n",
    "dc_2_female"
   ]
  },
  {
   "cell_type": "markdown",
   "id": "several-trout",
   "metadata": {},
   "source": [
    "### Pipe \n",
    "\n",
    "Two operations in one pipeline:"
   ]
  },
  {
   "cell_type": "code",
   "execution_count": 69,
   "id": "composed-dairy",
   "metadata": {
    "lines_to_next_cell": 0
   },
   "outputs": [
    {
     "output_type": "execute_result",
     "data": {
      "text/plain": [
       "                                name  appearances                sex\n",
       "5        Wonder Woman (Diana Prince)       1231.0  Female Characters\n",
       "8     Dinah Laurel Lance (New Earth)       1075.0  Female Characters\n",
       "10                        GenderTest       1028.0  Female Characters\n",
       "12        Barbara Gordon (New Earth)        951.0  Female Characters\n",
       "14             Lois Lane (New Earth)        934.0  Female Characters\n",
       "...                              ...          ...                ...\n",
       "6878       Dorothea Tane (New Earth)          NaN  Female Characters\n",
       "6881          Doris Zuel (New Earth)          NaN  Female Characters\n",
       "6882           Doris Lee (New Earth)          NaN  Female Characters\n",
       "6885          Catwoman (Selina Kyle)          NaN  Female Characters\n",
       "6891         Nadine West (New Earth)          NaN  Female Characters\n",
       "\n",
       "[1967 rows x 3 columns]"
      ],
      "text/html": "<div>\n<style scoped>\n    .dataframe tbody tr th:only-of-type {\n        vertical-align: middle;\n    }\n\n    .dataframe tbody tr th {\n        vertical-align: top;\n    }\n\n    .dataframe thead th {\n        text-align: right;\n    }\n</style>\n<table border=\"1\" class=\"dataframe\">\n  <thead>\n    <tr style=\"text-align: right;\">\n      <th></th>\n      <th>name</th>\n      <th>appearances</th>\n      <th>sex</th>\n    </tr>\n  </thead>\n  <tbody>\n    <tr>\n      <th>5</th>\n      <td>Wonder Woman (Diana Prince)</td>\n      <td>1231.0</td>\n      <td>Female Characters</td>\n    </tr>\n    <tr>\n      <th>8</th>\n      <td>Dinah Laurel Lance (New Earth)</td>\n      <td>1075.0</td>\n      <td>Female Characters</td>\n    </tr>\n    <tr>\n      <th>10</th>\n      <td>GenderTest</td>\n      <td>1028.0</td>\n      <td>Female Characters</td>\n    </tr>\n    <tr>\n      <th>12</th>\n      <td>Barbara Gordon (New Earth)</td>\n      <td>951.0</td>\n      <td>Female Characters</td>\n    </tr>\n    <tr>\n      <th>14</th>\n      <td>Lois Lane (New Earth)</td>\n      <td>934.0</td>\n      <td>Female Characters</td>\n    </tr>\n    <tr>\n      <th>...</th>\n      <td>...</td>\n      <td>...</td>\n      <td>...</td>\n    </tr>\n    <tr>\n      <th>6878</th>\n      <td>Dorothea Tane (New Earth)</td>\n      <td>NaN</td>\n      <td>Female Characters</td>\n    </tr>\n    <tr>\n      <th>6881</th>\n      <td>Doris Zuel (New Earth)</td>\n      <td>NaN</td>\n      <td>Female Characters</td>\n    </tr>\n    <tr>\n      <th>6882</th>\n      <td>Doris Lee (New Earth)</td>\n      <td>NaN</td>\n      <td>Female Characters</td>\n    </tr>\n    <tr>\n      <th>6885</th>\n      <td>Catwoman (Selina Kyle)</td>\n      <td>NaN</td>\n      <td>Female Characters</td>\n    </tr>\n    <tr>\n      <th>6891</th>\n      <td>Nadine West (New Earth)</td>\n      <td>NaN</td>\n      <td>Female Characters</td>\n    </tr>\n  </tbody>\n</table>\n<p>1967 rows × 3 columns</p>\n</div>"
     },
     "metadata": {},
     "execution_count": 69
    }
   ],
   "source": [
    "dc[['name', 'appearances', 'sex']][dc.sex == \"Female Characters\"]"
   ]
  },
  {
   "cell_type": "markdown",
   "id": "endangered-stockholm",
   "metadata": {},
   "source": []
  },
  {
   "cell_type": "markdown",
   "id": "paperback-underwear",
   "metadata": {},
   "source": [
    "### Column Selections"
   ]
  },
  {
   "cell_type": "markdown",
   "id": "excellent-kenya",
   "metadata": {},
   "source": [
    "#### Basic selections "
   ]
  },
  {
   "cell_type": "code",
   "execution_count": 70,
   "id": "harmful-senior",
   "metadata": {
    "lines_to_next_cell": 2
   },
   "outputs": [
    {
     "output_type": "execute_result",
     "data": {
      "text/plain": [
       "                              name               id            align  \\\n",
       "0             Batman (Bruce Wayne)  Secret Identity  Good Characters   \n",
       "1            Superman (Clark Kent)  Secret Identity  Good Characters   \n",
       "2       Green Lantern (Hal Jordan)  Secret Identity  Good Characters   \n",
       "3         James Gordon (New Earth)  Public Identity  Good Characters   \n",
       "4      Richard Grayson (New Earth)  Secret Identity  Good Characters   \n",
       "...                            ...              ...              ...   \n",
       "6891       Nadine West (New Earth)  Public Identity  Good Characters   \n",
       "6892    Warren Harding (New Earth)  Public Identity  Good Characters   \n",
       "6893  William Harrison (New Earth)  Public Identity  Good Characters   \n",
       "6894  William McKinley (New Earth)  Public Identity  Good Characters   \n",
       "6895            Mookie (New Earth)  Public Identity   Bad Characters   \n",
       "\n",
       "             eye        hair                sex  gsm              alive  \\\n",
       "0      Blue Eyes  Black Hair    Male Characters  NaN  Living Characters   \n",
       "1      Blue Eyes  Black Hair    Male Characters  NaN  Living Characters   \n",
       "2     Brown Eyes  Brown Hair    Male Characters  NaN  Living Characters   \n",
       "3     Brown Eyes  White Hair    Male Characters  NaN  Living Characters   \n",
       "4      Blue Eyes  Black Hair    Male Characters  NaN  Living Characters   \n",
       "...          ...         ...                ...  ...                ...   \n",
       "6891         NaN         NaN  Female Characters  NaN  Living Characters   \n",
       "6892         NaN         NaN    Male Characters  NaN  Living Characters   \n",
       "6893         NaN         NaN    Male Characters  NaN  Living Characters   \n",
       "6894         NaN         NaN    Male Characters  NaN  Living Characters   \n",
       "6895   Blue Eyes  Blond Hair    Male Characters  NaN  Living Characters   \n",
       "\n",
       "      appearances first appearance    year  \n",
       "0          3093.0        1939, May  1939.0  \n",
       "1          2496.0    1986, October  1986.0  \n",
       "2          1565.0    1959, October  1959.0  \n",
       "3          1316.0   1987, February  1987.0  \n",
       "4          1237.0      1940, April  1940.0  \n",
       "...           ...              ...     ...  \n",
       "6891          NaN              NaN     NaN  \n",
       "6892          NaN              NaN     NaN  \n",
       "6893          NaN              NaN     NaN  \n",
       "6894          NaN              NaN     NaN  \n",
       "6895          NaN              NaN     NaN  \n",
       "\n",
       "[6896 rows x 11 columns]"
      ],
      "text/html": "<div>\n<style scoped>\n    .dataframe tbody tr th:only-of-type {\n        vertical-align: middle;\n    }\n\n    .dataframe tbody tr th {\n        vertical-align: top;\n    }\n\n    .dataframe thead th {\n        text-align: right;\n    }\n</style>\n<table border=\"1\" class=\"dataframe\">\n  <thead>\n    <tr style=\"text-align: right;\">\n      <th></th>\n      <th>name</th>\n      <th>id</th>\n      <th>align</th>\n      <th>eye</th>\n      <th>hair</th>\n      <th>sex</th>\n      <th>gsm</th>\n      <th>alive</th>\n      <th>appearances</th>\n      <th>first appearance</th>\n      <th>year</th>\n    </tr>\n  </thead>\n  <tbody>\n    <tr>\n      <th>0</th>\n      <td>Batman (Bruce Wayne)</td>\n      <td>Secret Identity</td>\n      <td>Good Characters</td>\n      <td>Blue Eyes</td>\n      <td>Black Hair</td>\n      <td>Male Characters</td>\n      <td>NaN</td>\n      <td>Living Characters</td>\n      <td>3093.0</td>\n      <td>1939, May</td>\n      <td>1939.0</td>\n    </tr>\n    <tr>\n      <th>1</th>\n      <td>Superman (Clark Kent)</td>\n      <td>Secret Identity</td>\n      <td>Good Characters</td>\n      <td>Blue Eyes</td>\n      <td>Black Hair</td>\n      <td>Male Characters</td>\n      <td>NaN</td>\n      <td>Living Characters</td>\n      <td>2496.0</td>\n      <td>1986, October</td>\n      <td>1986.0</td>\n    </tr>\n    <tr>\n      <th>2</th>\n      <td>Green Lantern (Hal Jordan)</td>\n      <td>Secret Identity</td>\n      <td>Good Characters</td>\n      <td>Brown Eyes</td>\n      <td>Brown Hair</td>\n      <td>Male Characters</td>\n      <td>NaN</td>\n      <td>Living Characters</td>\n      <td>1565.0</td>\n      <td>1959, October</td>\n      <td>1959.0</td>\n    </tr>\n    <tr>\n      <th>3</th>\n      <td>James Gordon (New Earth)</td>\n      <td>Public Identity</td>\n      <td>Good Characters</td>\n      <td>Brown Eyes</td>\n      <td>White Hair</td>\n      <td>Male Characters</td>\n      <td>NaN</td>\n      <td>Living Characters</td>\n      <td>1316.0</td>\n      <td>1987, February</td>\n      <td>1987.0</td>\n    </tr>\n    <tr>\n      <th>4</th>\n      <td>Richard Grayson (New Earth)</td>\n      <td>Secret Identity</td>\n      <td>Good Characters</td>\n      <td>Blue Eyes</td>\n      <td>Black Hair</td>\n      <td>Male Characters</td>\n      <td>NaN</td>\n      <td>Living Characters</td>\n      <td>1237.0</td>\n      <td>1940, April</td>\n      <td>1940.0</td>\n    </tr>\n    <tr>\n      <th>...</th>\n      <td>...</td>\n      <td>...</td>\n      <td>...</td>\n      <td>...</td>\n      <td>...</td>\n      <td>...</td>\n      <td>...</td>\n      <td>...</td>\n      <td>...</td>\n      <td>...</td>\n      <td>...</td>\n    </tr>\n    <tr>\n      <th>6891</th>\n      <td>Nadine West (New Earth)</td>\n      <td>Public Identity</td>\n      <td>Good Characters</td>\n      <td>NaN</td>\n      <td>NaN</td>\n      <td>Female Characters</td>\n      <td>NaN</td>\n      <td>Living Characters</td>\n      <td>NaN</td>\n      <td>NaN</td>\n      <td>NaN</td>\n    </tr>\n    <tr>\n      <th>6892</th>\n      <td>Warren Harding (New Earth)</td>\n      <td>Public Identity</td>\n      <td>Good Characters</td>\n      <td>NaN</td>\n      <td>NaN</td>\n      <td>Male Characters</td>\n      <td>NaN</td>\n      <td>Living Characters</td>\n      <td>NaN</td>\n      <td>NaN</td>\n      <td>NaN</td>\n    </tr>\n    <tr>\n      <th>6893</th>\n      <td>William Harrison (New Earth)</td>\n      <td>Public Identity</td>\n      <td>Good Characters</td>\n      <td>NaN</td>\n      <td>NaN</td>\n      <td>Male Characters</td>\n      <td>NaN</td>\n      <td>Living Characters</td>\n      <td>NaN</td>\n      <td>NaN</td>\n      <td>NaN</td>\n    </tr>\n    <tr>\n      <th>6894</th>\n      <td>William McKinley (New Earth)</td>\n      <td>Public Identity</td>\n      <td>Good Characters</td>\n      <td>NaN</td>\n      <td>NaN</td>\n      <td>Male Characters</td>\n      <td>NaN</td>\n      <td>Living Characters</td>\n      <td>NaN</td>\n      <td>NaN</td>\n      <td>NaN</td>\n    </tr>\n    <tr>\n      <th>6895</th>\n      <td>Mookie (New Earth)</td>\n      <td>Public Identity</td>\n      <td>Bad Characters</td>\n      <td>Blue Eyes</td>\n      <td>Blond Hair</td>\n      <td>Male Characters</td>\n      <td>NaN</td>\n      <td>Living Characters</td>\n      <td>NaN</td>\n      <td>NaN</td>\n      <td>NaN</td>\n    </tr>\n  </tbody>\n</table>\n<p>6896 rows × 11 columns</p>\n</div>"
     },
     "metadata": {},
     "execution_count": 70
    }
   ],
   "source": [
    "# select a range (unmutable)\n",
    "dc.loc[:,'name':'year'] \n",
    "\n",
    "# unselect (unmutable)\n",
    "dc.drop(columns=['page_id', 'urlslug'])\n",
    "# or (unmutable)\n",
    "dc.drop(['page_id', 'urlslug'], axis=1)"
   ]
  },
  {
   "cell_type": "code",
   "execution_count": 71,
   "id": "classical-relevance",
   "metadata": {},
   "outputs": [
    {
     "output_type": "execute_result",
     "data": {
      "text/plain": [
       "                              name        secret_id\n",
       "0             Batman (Bruce Wayne)  Secret Identity\n",
       "1            Superman (Clark Kent)  Secret Identity\n",
       "2       Green Lantern (Hal Jordan)  Secret Identity\n",
       "3         James Gordon (New Earth)  Public Identity\n",
       "4      Richard Grayson (New Earth)  Secret Identity\n",
       "...                            ...              ...\n",
       "6891       Nadine West (New Earth)  Public Identity\n",
       "6892    Warren Harding (New Earth)  Public Identity\n",
       "6893  William Harrison (New Earth)  Public Identity\n",
       "6894  William McKinley (New Earth)  Public Identity\n",
       "6895            Mookie (New Earth)  Public Identity\n",
       "\n",
       "[6896 rows x 2 columns]"
      ],
      "text/html": "<div>\n<style scoped>\n    .dataframe tbody tr th:only-of-type {\n        vertical-align: middle;\n    }\n\n    .dataframe tbody tr th {\n        vertical-align: top;\n    }\n\n    .dataframe thead th {\n        text-align: right;\n    }\n</style>\n<table border=\"1\" class=\"dataframe\">\n  <thead>\n    <tr style=\"text-align: right;\">\n      <th></th>\n      <th>name</th>\n      <th>secret_id</th>\n    </tr>\n  </thead>\n  <tbody>\n    <tr>\n      <th>0</th>\n      <td>Batman (Bruce Wayne)</td>\n      <td>Secret Identity</td>\n    </tr>\n    <tr>\n      <th>1</th>\n      <td>Superman (Clark Kent)</td>\n      <td>Secret Identity</td>\n    </tr>\n    <tr>\n      <th>2</th>\n      <td>Green Lantern (Hal Jordan)</td>\n      <td>Secret Identity</td>\n    </tr>\n    <tr>\n      <th>3</th>\n      <td>James Gordon (New Earth)</td>\n      <td>Public Identity</td>\n    </tr>\n    <tr>\n      <th>4</th>\n      <td>Richard Grayson (New Earth)</td>\n      <td>Secret Identity</td>\n    </tr>\n    <tr>\n      <th>...</th>\n      <td>...</td>\n      <td>...</td>\n    </tr>\n    <tr>\n      <th>6891</th>\n      <td>Nadine West (New Earth)</td>\n      <td>Public Identity</td>\n    </tr>\n    <tr>\n      <th>6892</th>\n      <td>Warren Harding (New Earth)</td>\n      <td>Public Identity</td>\n    </tr>\n    <tr>\n      <th>6893</th>\n      <td>William Harrison (New Earth)</td>\n      <td>Public Identity</td>\n    </tr>\n    <tr>\n      <th>6894</th>\n      <td>William McKinley (New Earth)</td>\n      <td>Public Identity</td>\n    </tr>\n    <tr>\n      <th>6895</th>\n      <td>Mookie (New Earth)</td>\n      <td>Public Identity</td>\n    </tr>\n  </tbody>\n</table>\n<p>6896 rows × 2 columns</p>\n</div>"
     },
     "metadata": {},
     "execution_count": 71
    }
   ],
   "source": [
    "# rename 'id' to 'secret_id' (unmutable because 'inplace'=False, dc has changed because of the assignation)\n",
    "dc = dc.rename(columns={'id': 'secret_id'}, inplace=False)\n",
    "dc[['name', 'secret_id']]"
   ]
  },
  {
   "cell_type": "markdown",
   "id": "minus-enlargement",
   "metadata": {},
   "source": [
    "NB: `inplace=False` means not to change the data frame, but to push changes in the result only (immutable method)."
   ]
  },
  {
   "cell_type": "markdown",
   "id": "palestinian-stations",
   "metadata": {},
   "source": [
    "#### Name matching (filter)\n",
    "\n",
    "Select matching columns with [filter](https://pandas.pydata.org/docs/reference/api/pandas.DataFrame.filter.html)"
   ]
  },
  {
   "cell_type": "code",
   "execution_count": 72,
   "id": "statistical-tender",
   "metadata": {
    "lines_to_next_cell": 2
   },
   "outputs": [
    {
     "output_type": "execute_result",
     "data": {
      "text/plain": [
       "Index(['page_id', 'name', 'urlslug', 'secret_id', 'align', 'eye', 'hair',\n",
       "       'sex', 'gsm', 'alive', 'appearances', 'first appearance', 'year'],\n",
       "      dtype='object')"
      ]
     },
     "metadata": {},
     "execution_count": 72
    }
   ],
   "source": [
    "# all column names\n",
    "dc.columns"
   ]
  },
  {
   "cell_type": "code",
   "execution_count": 73,
   "id": "secret-automation",
   "metadata": {},
   "outputs": [
    {
     "output_type": "execute_result",
     "data": {
      "text/plain": [
       "      appearances first appearance\n",
       "0          3093.0        1939, May\n",
       "1          2496.0    1986, October\n",
       "2          1565.0    1959, October\n",
       "3          1316.0   1987, February\n",
       "4          1237.0      1940, April\n",
       "...           ...              ...\n",
       "6891          NaN              NaN\n",
       "6892          NaN              NaN\n",
       "6893          NaN              NaN\n",
       "6894          NaN              NaN\n",
       "6895          NaN              NaN\n",
       "\n",
       "[6896 rows x 2 columns]"
      ],
      "text/html": "<div>\n<style scoped>\n    .dataframe tbody tr th:only-of-type {\n        vertical-align: middle;\n    }\n\n    .dataframe tbody tr th {\n        vertical-align: top;\n    }\n\n    .dataframe thead th {\n        text-align: right;\n    }\n</style>\n<table border=\"1\" class=\"dataframe\">\n  <thead>\n    <tr style=\"text-align: right;\">\n      <th></th>\n      <th>appearances</th>\n      <th>first appearance</th>\n    </tr>\n  </thead>\n  <tbody>\n    <tr>\n      <th>0</th>\n      <td>3093.0</td>\n      <td>1939, May</td>\n    </tr>\n    <tr>\n      <th>1</th>\n      <td>2496.0</td>\n      <td>1986, October</td>\n    </tr>\n    <tr>\n      <th>2</th>\n      <td>1565.0</td>\n      <td>1959, October</td>\n    </tr>\n    <tr>\n      <th>3</th>\n      <td>1316.0</td>\n      <td>1987, February</td>\n    </tr>\n    <tr>\n      <th>4</th>\n      <td>1237.0</td>\n      <td>1940, April</td>\n    </tr>\n    <tr>\n      <th>...</th>\n      <td>...</td>\n      <td>...</td>\n    </tr>\n    <tr>\n      <th>6891</th>\n      <td>NaN</td>\n      <td>NaN</td>\n    </tr>\n    <tr>\n      <th>6892</th>\n      <td>NaN</td>\n      <td>NaN</td>\n    </tr>\n    <tr>\n      <th>6893</th>\n      <td>NaN</td>\n      <td>NaN</td>\n    </tr>\n    <tr>\n      <th>6894</th>\n      <td>NaN</td>\n      <td>NaN</td>\n    </tr>\n    <tr>\n      <th>6895</th>\n      <td>NaN</td>\n      <td>NaN</td>\n    </tr>\n  </tbody>\n</table>\n<p>6896 rows × 2 columns</p>\n</div>"
     },
     "metadata": {},
     "execution_count": 73
    }
   ],
   "source": [
    "# select columns by name\n",
    "dc.filter(items=['name', 'first appearance', 'appearances'])\n",
    "\n",
    "# select columns containing 'appearance' as sub-string\n",
    "dc.filter(like='appearance', axis=1)"
   ]
  },
  {
   "cell_type": "markdown",
   "id": "intensive-header",
   "metadata": {},
   "source": [
    "Use [Regular-expressions](https://en.wikipedia.org/wiki/Regular_expression) (regex)"
   ]
  },
  {
   "cell_type": "code",
   "execution_count": 74,
   "id": "automatic-newark",
   "metadata": {
    "lines_to_next_cell": 2
   },
   "outputs": [
    {
     "output_type": "execute_result",
     "data": {
      "text/plain": [
       "     first appearance\n",
       "0           1939, May\n",
       "1       1986, October\n",
       "2       1959, October\n",
       "3      1987, February\n",
       "4         1940, April\n",
       "...               ...\n",
       "6891              NaN\n",
       "6892              NaN\n",
       "6893              NaN\n",
       "6894              NaN\n",
       "6895              NaN\n",
       "\n",
       "[6896 rows x 1 columns]"
      ],
      "text/html": "<div>\n<style scoped>\n    .dataframe tbody tr th:only-of-type {\n        vertical-align: middle;\n    }\n\n    .dataframe tbody tr th {\n        vertical-align: top;\n    }\n\n    .dataframe thead th {\n        text-align: right;\n    }\n</style>\n<table border=\"1\" class=\"dataframe\">\n  <thead>\n    <tr style=\"text-align: right;\">\n      <th></th>\n      <th>first appearance</th>\n    </tr>\n  </thead>\n  <tbody>\n    <tr>\n      <th>0</th>\n      <td>1939, May</td>\n    </tr>\n    <tr>\n      <th>1</th>\n      <td>1986, October</td>\n    </tr>\n    <tr>\n      <th>2</th>\n      <td>1959, October</td>\n    </tr>\n    <tr>\n      <th>3</th>\n      <td>1987, February</td>\n    </tr>\n    <tr>\n      <th>4</th>\n      <td>1940, April</td>\n    </tr>\n    <tr>\n      <th>...</th>\n      <td>...</td>\n    </tr>\n    <tr>\n      <th>6891</th>\n      <td>NaN</td>\n    </tr>\n    <tr>\n      <th>6892</th>\n      <td>NaN</td>\n    </tr>\n    <tr>\n      <th>6893</th>\n      <td>NaN</td>\n    </tr>\n    <tr>\n      <th>6894</th>\n      <td>NaN</td>\n    </tr>\n    <tr>\n      <th>6895</th>\n      <td>NaN</td>\n    </tr>\n  </tbody>\n</table>\n<p>6896 rows × 1 columns</p>\n</div>"
     },
     "metadata": {},
     "execution_count": 74
    }
   ],
   "source": [
    "# begin with a specific string\n",
    "dc.filter(regex='^appearance', axis=1)\n",
    "# end with a specific string\n",
    "dc.filter(regex='appearance$', axis=1)"
   ]
  },
  {
   "cell_type": "markdown",
   "id": "thorough-weekend",
   "metadata": {},
   "source": [
    "NB: the `^` and `$` signs in a regular expression mean respectively the begin and the end of the string.\n"
   ]
  },
  {
   "cell_type": "code",
   "execution_count": 75,
   "id": "amino-machine",
   "metadata": {},
   "outputs": [
    {
     "output_type": "execute_result",
     "data": {
      "text/plain": [
       "            secret_id\n",
       "0     Secret Identity\n",
       "1     Secret Identity\n",
       "2     Secret Identity\n",
       "3     Public Identity\n",
       "4     Secret Identity\n",
       "...               ...\n",
       "6891  Public Identity\n",
       "6892  Public Identity\n",
       "6893  Public Identity\n",
       "6894  Public Identity\n",
       "6895  Public Identity\n",
       "\n",
       "[6896 rows x 1 columns]"
      ],
      "text/html": "<div>\n<style scoped>\n    .dataframe tbody tr th:only-of-type {\n        vertical-align: middle;\n    }\n\n    .dataframe tbody tr th {\n        vertical-align: top;\n    }\n\n    .dataframe thead th {\n        text-align: right;\n    }\n</style>\n<table border=\"1\" class=\"dataframe\">\n  <thead>\n    <tr style=\"text-align: right;\">\n      <th></th>\n      <th>secret_id</th>\n    </tr>\n  </thead>\n  <tbody>\n    <tr>\n      <th>0</th>\n      <td>Secret Identity</td>\n    </tr>\n    <tr>\n      <th>1</th>\n      <td>Secret Identity</td>\n    </tr>\n    <tr>\n      <th>2</th>\n      <td>Secret Identity</td>\n    </tr>\n    <tr>\n      <th>3</th>\n      <td>Public Identity</td>\n    </tr>\n    <tr>\n      <th>4</th>\n      <td>Secret Identity</td>\n    </tr>\n    <tr>\n      <th>...</th>\n      <td>...</td>\n    </tr>\n    <tr>\n      <th>6891</th>\n      <td>Public Identity</td>\n    </tr>\n    <tr>\n      <th>6892</th>\n      <td>Public Identity</td>\n    </tr>\n    <tr>\n      <th>6893</th>\n      <td>Public Identity</td>\n    </tr>\n    <tr>\n      <th>6894</th>\n      <td>Public Identity</td>\n    </tr>\n    <tr>\n      <th>6895</th>\n      <td>Public Identity</td>\n    </tr>\n  </tbody>\n</table>\n<p>6896 rows × 1 columns</p>\n</div>"
     },
     "metadata": {},
     "execution_count": 75
    }
   ],
   "source": [
    "# Any pattern you can create with a regex\n",
    "dc.filter(regex='s.+_id$', axis=1)"
   ]
  },
  {
   "cell_type": "markdown",
   "id": "static-silver",
   "metadata": {},
   "source": [
    "#### Select by type"
   ]
  },
  {
   "cell_type": "code",
   "execution_count": 76,
   "id": "moving-feeling",
   "metadata": {
    "lines_to_next_cell": 2
   },
   "outputs": [
    {
     "output_type": "execute_result",
     "data": {
      "text/plain": [
       "   page_id                         name                              urlslug  \\\n",
       "0     1422         Batman (Bruce Wayne)         \\/wiki\\/Batman_(Bruce_Wayne)   \n",
       "1    23387        Superman (Clark Kent)        \\/wiki\\/Superman_(Clark_Kent)   \n",
       "2     1458   Green Lantern (Hal Jordan)   \\/wiki\\/Green_Lantern_(Hal_Jordan)   \n",
       "3     1659     James Gordon (New Earth)     \\/wiki\\/James_Gordon_(New_Earth)   \n",
       "4     1576  Richard Grayson (New Earth)  \\/wiki\\/Richard_Grayson_(New_Earth)   \n",
       "\n",
       "         secret_id            align         eye        hair              sex  \\\n",
       "0  Secret Identity  Good Characters   Blue Eyes  Black Hair  Male Characters   \n",
       "1  Secret Identity  Good Characters   Blue Eyes  Black Hair  Male Characters   \n",
       "2  Secret Identity  Good Characters  Brown Eyes  Brown Hair  Male Characters   \n",
       "3  Public Identity  Good Characters  Brown Eyes  White Hair  Male Characters   \n",
       "4  Secret Identity  Good Characters   Blue Eyes  Black Hair  Male Characters   \n",
       "\n",
       "   gsm              alive  appearances first appearance    year  \n",
       "0  NaN  Living Characters       3093.0        1939, May  1939.0  \n",
       "1  NaN  Living Characters       2496.0    1986, October  1986.0  \n",
       "2  NaN  Living Characters       1565.0    1959, October  1959.0  \n",
       "3  NaN  Living Characters       1316.0   1987, February  1987.0  \n",
       "4  NaN  Living Characters       1237.0      1940, April  1940.0  "
      ],
      "text/html": "<div>\n<style scoped>\n    .dataframe tbody tr th:only-of-type {\n        vertical-align: middle;\n    }\n\n    .dataframe tbody tr th {\n        vertical-align: top;\n    }\n\n    .dataframe thead th {\n        text-align: right;\n    }\n</style>\n<table border=\"1\" class=\"dataframe\">\n  <thead>\n    <tr style=\"text-align: right;\">\n      <th></th>\n      <th>page_id</th>\n      <th>name</th>\n      <th>urlslug</th>\n      <th>secret_id</th>\n      <th>align</th>\n      <th>eye</th>\n      <th>hair</th>\n      <th>sex</th>\n      <th>gsm</th>\n      <th>alive</th>\n      <th>appearances</th>\n      <th>first appearance</th>\n      <th>year</th>\n    </tr>\n  </thead>\n  <tbody>\n    <tr>\n      <th>0</th>\n      <td>1422</td>\n      <td>Batman (Bruce Wayne)</td>\n      <td>\\/wiki\\/Batman_(Bruce_Wayne)</td>\n      <td>Secret Identity</td>\n      <td>Good Characters</td>\n      <td>Blue Eyes</td>\n      <td>Black Hair</td>\n      <td>Male Characters</td>\n      <td>NaN</td>\n      <td>Living Characters</td>\n      <td>3093.0</td>\n      <td>1939, May</td>\n      <td>1939.0</td>\n    </tr>\n    <tr>\n      <th>1</th>\n      <td>23387</td>\n      <td>Superman (Clark Kent)</td>\n      <td>\\/wiki\\/Superman_(Clark_Kent)</td>\n      <td>Secret Identity</td>\n      <td>Good Characters</td>\n      <td>Blue Eyes</td>\n      <td>Black Hair</td>\n      <td>Male Characters</td>\n      <td>NaN</td>\n      <td>Living Characters</td>\n      <td>2496.0</td>\n      <td>1986, October</td>\n      <td>1986.0</td>\n    </tr>\n    <tr>\n      <th>2</th>\n      <td>1458</td>\n      <td>Green Lantern (Hal Jordan)</td>\n      <td>\\/wiki\\/Green_Lantern_(Hal_Jordan)</td>\n      <td>Secret Identity</td>\n      <td>Good Characters</td>\n      <td>Brown Eyes</td>\n      <td>Brown Hair</td>\n      <td>Male Characters</td>\n      <td>NaN</td>\n      <td>Living Characters</td>\n      <td>1565.0</td>\n      <td>1959, October</td>\n      <td>1959.0</td>\n    </tr>\n    <tr>\n      <th>3</th>\n      <td>1659</td>\n      <td>James Gordon (New Earth)</td>\n      <td>\\/wiki\\/James_Gordon_(New_Earth)</td>\n      <td>Public Identity</td>\n      <td>Good Characters</td>\n      <td>Brown Eyes</td>\n      <td>White Hair</td>\n      <td>Male Characters</td>\n      <td>NaN</td>\n      <td>Living Characters</td>\n      <td>1316.0</td>\n      <td>1987, February</td>\n      <td>1987.0</td>\n    </tr>\n    <tr>\n      <th>4</th>\n      <td>1576</td>\n      <td>Richard Grayson (New Earth)</td>\n      <td>\\/wiki\\/Richard_Grayson_(New_Earth)</td>\n      <td>Secret Identity</td>\n      <td>Good Characters</td>\n      <td>Blue Eyes</td>\n      <td>Black Hair</td>\n      <td>Male Characters</td>\n      <td>NaN</td>\n      <td>Living Characters</td>\n      <td>1237.0</td>\n      <td>1940, April</td>\n      <td>1940.0</td>\n    </tr>\n  </tbody>\n</table>\n</div>"
     },
     "metadata": {},
     "execution_count": 76
    }
   ],
   "source": [
    "# Select all numeric fields\n",
    "dc.select_dtypes(np.number).head()\n",
    "\n",
    "# Select all real fields\n",
    "dc.select_dtypes('float64').head()\n",
    "\n",
    "# Select all integer fields\n",
    "dc.select_dtypes('int64').head()\n",
    "\n",
    "# Exclude strings\n",
    "dc.select_dtypes(exclude='string').head()"
   ]
  },
  {
   "cell_type": "markdown",
   "id": "fundamental-pakistan",
   "metadata": {},
   "source": [
    "### Unique values"
   ]
  },
  {
   "cell_type": "code",
   "execution_count": 77,
   "id": "historic-strike",
   "metadata": {
    "lines_to_next_cell": 2
   },
   "outputs": [
    {
     "output_type": "execute_result",
     "data": {
      "text/plain": [
       "5"
      ]
     },
     "metadata": {},
     "execution_count": 77
    }
   ],
   "source": [
    "# Unique values of a column\n",
    "dc.sex.unique()\n",
    "# Count of those unique values\n",
    "dc.sex.nunique()\n",
    "dc.sex.nunique(dropna = False)"
   ]
  },
  {
   "cell_type": "code",
   "execution_count": 78,
   "id": "vietnamese-clarity",
   "metadata": {
    "lines_to_next_cell": 2
   },
   "outputs": [],
   "source": [
    "# this does not work:\n",
    "#dc[['secret_id','sex']].unique()"
   ]
  },
  {
   "cell_type": "markdown",
   "id": "corrected-instrumentation",
   "metadata": {},
   "source": [
    "### Row Filter\n"
   ]
  },
  {
   "cell_type": "code",
   "execution_count": 79,
   "id": "healthy-finding",
   "metadata": {
    "lines_to_next_cell": 2
   },
   "outputs": [
    {
     "output_type": "execute_result",
     "data": {
      "text/plain": [
       "                              name  appearances                sex        hair\n",
       "0             Batman (Bruce Wayne)       3093.0    Male Characters  Black Hair\n",
       "1            Superman (Clark Kent)       2496.0    Male Characters  Black Hair\n",
       "2       Green Lantern (Hal Jordan)       1565.0    Male Characters  Brown Hair\n",
       "3         James Gordon (New Earth)       1316.0    Male Characters  White Hair\n",
       "4      Richard Grayson (New Earth)       1237.0    Male Characters  Black Hair\n",
       "...                            ...          ...                ...         ...\n",
       "6891       Nadine West (New Earth)          NaN  Female Characters         NaN\n",
       "6892    Warren Harding (New Earth)          NaN    Male Characters         NaN\n",
       "6893  William Harrison (New Earth)          NaN    Male Characters         NaN\n",
       "6894  William McKinley (New Earth)          NaN    Male Characters         NaN\n",
       "6895            Mookie (New Earth)          NaN    Male Characters  Blond Hair\n",
       "\n",
       "[6896 rows x 4 columns]"
      ],
      "text/html": "<div>\n<style scoped>\n    .dataframe tbody tr th:only-of-type {\n        vertical-align: middle;\n    }\n\n    .dataframe tbody tr th {\n        vertical-align: top;\n    }\n\n    .dataframe thead th {\n        text-align: right;\n    }\n</style>\n<table border=\"1\" class=\"dataframe\">\n  <thead>\n    <tr style=\"text-align: right;\">\n      <th></th>\n      <th>name</th>\n      <th>appearances</th>\n      <th>sex</th>\n      <th>hair</th>\n    </tr>\n  </thead>\n  <tbody>\n    <tr>\n      <th>0</th>\n      <td>Batman (Bruce Wayne)</td>\n      <td>3093.0</td>\n      <td>Male Characters</td>\n      <td>Black Hair</td>\n    </tr>\n    <tr>\n      <th>1</th>\n      <td>Superman (Clark Kent)</td>\n      <td>2496.0</td>\n      <td>Male Characters</td>\n      <td>Black Hair</td>\n    </tr>\n    <tr>\n      <th>2</th>\n      <td>Green Lantern (Hal Jordan)</td>\n      <td>1565.0</td>\n      <td>Male Characters</td>\n      <td>Brown Hair</td>\n    </tr>\n    <tr>\n      <th>3</th>\n      <td>James Gordon (New Earth)</td>\n      <td>1316.0</td>\n      <td>Male Characters</td>\n      <td>White Hair</td>\n    </tr>\n    <tr>\n      <th>4</th>\n      <td>Richard Grayson (New Earth)</td>\n      <td>1237.0</td>\n      <td>Male Characters</td>\n      <td>Black Hair</td>\n    </tr>\n    <tr>\n      <th>...</th>\n      <td>...</td>\n      <td>...</td>\n      <td>...</td>\n      <td>...</td>\n    </tr>\n    <tr>\n      <th>6891</th>\n      <td>Nadine West (New Earth)</td>\n      <td>NaN</td>\n      <td>Female Characters</td>\n      <td>NaN</td>\n    </tr>\n    <tr>\n      <th>6892</th>\n      <td>Warren Harding (New Earth)</td>\n      <td>NaN</td>\n      <td>Male Characters</td>\n      <td>NaN</td>\n    </tr>\n    <tr>\n      <th>6893</th>\n      <td>William Harrison (New Earth)</td>\n      <td>NaN</td>\n      <td>Male Characters</td>\n      <td>NaN</td>\n    </tr>\n    <tr>\n      <th>6894</th>\n      <td>William McKinley (New Earth)</td>\n      <td>NaN</td>\n      <td>Male Characters</td>\n      <td>NaN</td>\n    </tr>\n    <tr>\n      <th>6895</th>\n      <td>Mookie (New Earth)</td>\n      <td>NaN</td>\n      <td>Male Characters</td>\n      <td>Blond Hair</td>\n    </tr>\n  </tbody>\n</table>\n<p>6896 rows × 4 columns</p>\n</div>"
     },
     "metadata": {},
     "execution_count": 79
    }
   ],
   "source": [
    "dc_simple = dc.drop(columns=['page_id', 'urlslug'])[['name', 'appearances', 'sex', 'hair']]\n",
    "dc_simple"
   ]
  },
  {
   "cell_type": "markdown",
   "id": "alpine-crisis",
   "metadata": {},
   "source": [
    "Simple filter:"
   ]
  },
  {
   "cell_type": "code",
   "execution_count": 80,
   "id": "eleven-benefit",
   "metadata": {
    "lines_to_next_cell": 0
   },
   "outputs": [
    {
     "output_type": "execute_result",
     "data": {
      "text/plain": [
       "                              name  appearances                sex        hair\n",
       "5      Wonder Woman (Diana Prince)       1231.0  Female Characters  Black Hair\n",
       "8   Dinah Laurel Lance (New Earth)       1075.0  Female Characters  Blond Hair\n",
       "10                      GenderTest       1028.0  Female Characters  Blond Hair\n",
       "12      Barbara Gordon (New Earth)        951.0  Female Characters    Red Hair\n",
       "14           Lois Lane (New Earth)        934.0  Female Characters  Black Hair"
      ],
      "text/html": "<div>\n<style scoped>\n    .dataframe tbody tr th:only-of-type {\n        vertical-align: middle;\n    }\n\n    .dataframe tbody tr th {\n        vertical-align: top;\n    }\n\n    .dataframe thead th {\n        text-align: right;\n    }\n</style>\n<table border=\"1\" class=\"dataframe\">\n  <thead>\n    <tr style=\"text-align: right;\">\n      <th></th>\n      <th>name</th>\n      <th>appearances</th>\n      <th>sex</th>\n      <th>hair</th>\n    </tr>\n  </thead>\n  <tbody>\n    <tr>\n      <th>5</th>\n      <td>Wonder Woman (Diana Prince)</td>\n      <td>1231.0</td>\n      <td>Female Characters</td>\n      <td>Black Hair</td>\n    </tr>\n    <tr>\n      <th>8</th>\n      <td>Dinah Laurel Lance (New Earth)</td>\n      <td>1075.0</td>\n      <td>Female Characters</td>\n      <td>Blond Hair</td>\n    </tr>\n    <tr>\n      <th>10</th>\n      <td>GenderTest</td>\n      <td>1028.0</td>\n      <td>Female Characters</td>\n      <td>Blond Hair</td>\n    </tr>\n    <tr>\n      <th>12</th>\n      <td>Barbara Gordon (New Earth)</td>\n      <td>951.0</td>\n      <td>Female Characters</td>\n      <td>Red Hair</td>\n    </tr>\n    <tr>\n      <th>14</th>\n      <td>Lois Lane (New Earth)</td>\n      <td>934.0</td>\n      <td>Female Characters</td>\n      <td>Black Hair</td>\n    </tr>\n  </tbody>\n</table>\n</div>"
     },
     "metadata": {},
     "execution_count": 80
    }
   ],
   "source": [
    "# get the \"Female Characters\"\n",
    "dc_simple[dc_simple.sex == 'Female Characters'].head()"
   ]
  },
  {
   "cell_type": "markdown",
   "id": "korean-butter",
   "metadata": {},
   "source": [
    "\n"
   ]
  },
  {
   "cell_type": "code",
   "execution_count": 81,
   "id": "biological-sierra",
   "metadata": {
    "lines_to_next_cell": 2
   },
   "outputs": [
    {
     "output_type": "execute_result",
     "data": {
      "text/plain": [
       "                               name  appearances                sex  \\\n",
       "8    Dinah Laurel Lance (New Earth)       1075.0  Female Characters   \n",
       "10                       GenderTest       1028.0  Female Characters   \n",
       "21           Kara Zor-L (Earth-Two)        635.0  Female Characters   \n",
       "38  Cassandra Sandsmark (New Earth)        423.0  Female Characters   \n",
       "67    Courtney Whitmore (New Earth)        305.0  Female Characters   \n",
       "\n",
       "          hair  \n",
       "8   Blond Hair  \n",
       "10  Blond Hair  \n",
       "21  Blond Hair  \n",
       "38  Blond Hair  \n",
       "67  Blond Hair  "
      ],
      "text/html": "<div>\n<style scoped>\n    .dataframe tbody tr th:only-of-type {\n        vertical-align: middle;\n    }\n\n    .dataframe tbody tr th {\n        vertical-align: top;\n    }\n\n    .dataframe thead th {\n        text-align: right;\n    }\n</style>\n<table border=\"1\" class=\"dataframe\">\n  <thead>\n    <tr style=\"text-align: right;\">\n      <th></th>\n      <th>name</th>\n      <th>appearances</th>\n      <th>sex</th>\n      <th>hair</th>\n    </tr>\n  </thead>\n  <tbody>\n    <tr>\n      <th>8</th>\n      <td>Dinah Laurel Lance (New Earth)</td>\n      <td>1075.0</td>\n      <td>Female Characters</td>\n      <td>Blond Hair</td>\n    </tr>\n    <tr>\n      <th>10</th>\n      <td>GenderTest</td>\n      <td>1028.0</td>\n      <td>Female Characters</td>\n      <td>Blond Hair</td>\n    </tr>\n    <tr>\n      <th>21</th>\n      <td>Kara Zor-L (Earth-Two)</td>\n      <td>635.0</td>\n      <td>Female Characters</td>\n      <td>Blond Hair</td>\n    </tr>\n    <tr>\n      <th>38</th>\n      <td>Cassandra Sandsmark (New Earth)</td>\n      <td>423.0</td>\n      <td>Female Characters</td>\n      <td>Blond Hair</td>\n    </tr>\n    <tr>\n      <th>67</th>\n      <td>Courtney Whitmore (New Earth)</td>\n      <td>305.0</td>\n      <td>Female Characters</td>\n      <td>Blond Hair</td>\n    </tr>\n  </tbody>\n</table>\n</div>"
     },
     "metadata": {},
     "execution_count": 81
    }
   ],
   "source": [
    "# match multiple conditions (all of them)\n",
    "# get the \"Female Characters\" AND with 'Blond Hair'\n",
    "dc_simple[dc_simple.sex.eq('Female Characters') & dc_simple.hair.eq('Blond Hair')].head()"
   ]
  },
  {
   "cell_type": "code",
   "execution_count": 82,
   "id": "usual-funds",
   "metadata": {},
   "outputs": [
    {
     "output_type": "execute_result",
     "data": {
      "text/plain": [
       "                              name  appearances                sex        hair\n",
       "5      Wonder Woman (Diana Prince)       1231.0  Female Characters  Black Hair\n",
       "6           Aquaman (Arthur Curry)       1121.0    Male Characters  Blond Hair\n",
       "8   Dinah Laurel Lance (New Earth)       1075.0  Female Characters  Blond Hair\n",
       "9              Flash (Barry Allen)       1028.0    Male Characters  Blond Hair\n",
       "10                      GenderTest       1028.0  Female Characters  Blond Hair"
      ],
      "text/html": "<div>\n<style scoped>\n    .dataframe tbody tr th:only-of-type {\n        vertical-align: middle;\n    }\n\n    .dataframe tbody tr th {\n        vertical-align: top;\n    }\n\n    .dataframe thead th {\n        text-align: right;\n    }\n</style>\n<table border=\"1\" class=\"dataframe\">\n  <thead>\n    <tr style=\"text-align: right;\">\n      <th></th>\n      <th>name</th>\n      <th>appearances</th>\n      <th>sex</th>\n      <th>hair</th>\n    </tr>\n  </thead>\n  <tbody>\n    <tr>\n      <th>5</th>\n      <td>Wonder Woman (Diana Prince)</td>\n      <td>1231.0</td>\n      <td>Female Characters</td>\n      <td>Black Hair</td>\n    </tr>\n    <tr>\n      <th>6</th>\n      <td>Aquaman (Arthur Curry)</td>\n      <td>1121.0</td>\n      <td>Male Characters</td>\n      <td>Blond Hair</td>\n    </tr>\n    <tr>\n      <th>8</th>\n      <td>Dinah Laurel Lance (New Earth)</td>\n      <td>1075.0</td>\n      <td>Female Characters</td>\n      <td>Blond Hair</td>\n    </tr>\n    <tr>\n      <th>9</th>\n      <td>Flash (Barry Allen)</td>\n      <td>1028.0</td>\n      <td>Male Characters</td>\n      <td>Blond Hair</td>\n    </tr>\n    <tr>\n      <th>10</th>\n      <td>GenderTest</td>\n      <td>1028.0</td>\n      <td>Female Characters</td>\n      <td>Blond Hair</td>\n    </tr>\n  </tbody>\n</table>\n</div>"
     },
     "metadata": {},
     "execution_count": 82
    }
   ],
   "source": [
    "# Match one of the alternatives (any of them)\n",
    "# get the \"Female Characters\" OR with 'Blond Hair'\n",
    "dc_simple[dc_simple.sex.eq('Female Characters') | dc_simple.hair.eq('Blond Hair')].head()"
   ]
  },
  {
   "cell_type": "code",
   "execution_count": 83,
   "id": "geographic-preliminary",
   "metadata": {
    "lines_to_next_cell": 2
   },
   "outputs": [
    {
     "output_type": "execute_result",
     "data": {
      "text/plain": [
       "                              name  appearances                sex        hair\n",
       "0             Batman (Bruce Wayne)       3093.0    Male Characters  Black Hair\n",
       "1            Superman (Clark Kent)       2496.0    Male Characters  Black Hair\n",
       "2       Green Lantern (Hal Jordan)       1565.0    Male Characters  Brown Hair\n",
       "3         James Gordon (New Earth)       1316.0    Male Characters  White Hair\n",
       "4      Richard Grayson (New Earth)       1237.0    Male Characters  Black Hair\n",
       "5      Wonder Woman (Diana Prince)       1231.0  Female Characters  Black Hair\n",
       "6           Aquaman (Arthur Curry)       1121.0    Male Characters  Blond Hair\n",
       "7        Timothy Drake (New Earth)       1095.0    Male Characters  Black Hair\n",
       "8   Dinah Laurel Lance (New Earth)       1075.0  Female Characters  Blond Hair\n",
       "9              Flash (Barry Allen)       1028.0    Male Characters  Blond Hair\n",
       "10                      GenderTest       1028.0  Female Characters  Blond Hair"
      ],
      "text/html": "<div>\n<style scoped>\n    .dataframe tbody tr th:only-of-type {\n        vertical-align: middle;\n    }\n\n    .dataframe tbody tr th {\n        vertical-align: top;\n    }\n\n    .dataframe thead th {\n        text-align: right;\n    }\n</style>\n<table border=\"1\" class=\"dataframe\">\n  <thead>\n    <tr style=\"text-align: right;\">\n      <th></th>\n      <th>name</th>\n      <th>appearances</th>\n      <th>sex</th>\n      <th>hair</th>\n    </tr>\n  </thead>\n  <tbody>\n    <tr>\n      <th>0</th>\n      <td>Batman (Bruce Wayne)</td>\n      <td>3093.0</td>\n      <td>Male Characters</td>\n      <td>Black Hair</td>\n    </tr>\n    <tr>\n      <th>1</th>\n      <td>Superman (Clark Kent)</td>\n      <td>2496.0</td>\n      <td>Male Characters</td>\n      <td>Black Hair</td>\n    </tr>\n    <tr>\n      <th>2</th>\n      <td>Green Lantern (Hal Jordan)</td>\n      <td>1565.0</td>\n      <td>Male Characters</td>\n      <td>Brown Hair</td>\n    </tr>\n    <tr>\n      <th>3</th>\n      <td>James Gordon (New Earth)</td>\n      <td>1316.0</td>\n      <td>Male Characters</td>\n      <td>White Hair</td>\n    </tr>\n    <tr>\n      <th>4</th>\n      <td>Richard Grayson (New Earth)</td>\n      <td>1237.0</td>\n      <td>Male Characters</td>\n      <td>Black Hair</td>\n    </tr>\n    <tr>\n      <th>5</th>\n      <td>Wonder Woman (Diana Prince)</td>\n      <td>1231.0</td>\n      <td>Female Characters</td>\n      <td>Black Hair</td>\n    </tr>\n    <tr>\n      <th>6</th>\n      <td>Aquaman (Arthur Curry)</td>\n      <td>1121.0</td>\n      <td>Male Characters</td>\n      <td>Blond Hair</td>\n    </tr>\n    <tr>\n      <th>7</th>\n      <td>Timothy Drake (New Earth)</td>\n      <td>1095.0</td>\n      <td>Male Characters</td>\n      <td>Black Hair</td>\n    </tr>\n    <tr>\n      <th>8</th>\n      <td>Dinah Laurel Lance (New Earth)</td>\n      <td>1075.0</td>\n      <td>Female Characters</td>\n      <td>Blond Hair</td>\n    </tr>\n    <tr>\n      <th>9</th>\n      <td>Flash (Barry Allen)</td>\n      <td>1028.0</td>\n      <td>Male Characters</td>\n      <td>Blond Hair</td>\n    </tr>\n    <tr>\n      <th>10</th>\n      <td>GenderTest</td>\n      <td>1028.0</td>\n      <td>Female Characters</td>\n      <td>Blond Hair</td>\n    </tr>\n  </tbody>\n</table>\n</div>"
     },
     "metadata": {},
     "execution_count": 83
    }
   ],
   "source": [
    "# Conditions on numbers\n",
    "# Example: \n",
    "# get characters that appeared a greater or equal number of times than 1000 \n",
    "dc_simple[dc_simple.appearances >= 1000]\n"
   ]
  },
  {
   "cell_type": "code",
   "execution_count": 84,
   "id": "geographic-strength",
   "metadata": {
    "lines_to_next_cell": 2
   },
   "outputs": [
    {
     "output_type": "execute_result",
     "data": {
      "text/plain": [
       "                             name  appearances                sex        hair\n",
       "11         Alan Scott (New Earth)        969.0    Male Characters  Blond Hair\n",
       "12     Barbara Gordon (New Earth)        951.0  Female Characters    Red Hair\n",
       "13      Jason Garrick (New Earth)        951.0    Male Characters  Brown Hair\n",
       "14          Lois Lane (New Earth)        934.0  Female Characters  Black Hair\n",
       "15  Alfred Pennyworth (New Earth)        930.0    Male Characters  Black Hair"
      ],
      "text/html": "<div>\n<style scoped>\n    .dataframe tbody tr th:only-of-type {\n        vertical-align: middle;\n    }\n\n    .dataframe tbody tr th {\n        vertical-align: top;\n    }\n\n    .dataframe thead th {\n        text-align: right;\n    }\n</style>\n<table border=\"1\" class=\"dataframe\">\n  <thead>\n    <tr style=\"text-align: right;\">\n      <th></th>\n      <th>name</th>\n      <th>appearances</th>\n      <th>sex</th>\n      <th>hair</th>\n    </tr>\n  </thead>\n  <tbody>\n    <tr>\n      <th>11</th>\n      <td>Alan Scott (New Earth)</td>\n      <td>969.0</td>\n      <td>Male Characters</td>\n      <td>Blond Hair</td>\n    </tr>\n    <tr>\n      <th>12</th>\n      <td>Barbara Gordon (New Earth)</td>\n      <td>951.0</td>\n      <td>Female Characters</td>\n      <td>Red Hair</td>\n    </tr>\n    <tr>\n      <th>13</th>\n      <td>Jason Garrick (New Earth)</td>\n      <td>951.0</td>\n      <td>Male Characters</td>\n      <td>Brown Hair</td>\n    </tr>\n    <tr>\n      <th>14</th>\n      <td>Lois Lane (New Earth)</td>\n      <td>934.0</td>\n      <td>Female Characters</td>\n      <td>Black Hair</td>\n    </tr>\n    <tr>\n      <th>15</th>\n      <td>Alfred Pennyworth (New Earth)</td>\n      <td>930.0</td>\n      <td>Male Characters</td>\n      <td>Black Hair</td>\n    </tr>\n  </tbody>\n</table>\n</div>"
     },
     "metadata": {},
     "execution_count": 84
    }
   ],
   "source": [
    "# Example: \n",
    "# within a given interval (inclusive)\n",
    "dc_simple[(900 <= dc_simple.appearances) & (dc_simple.appearances <= 1000)]\n",
    "# or (equivalent)\n",
    "dc_simple[ dc_simple.appearances.between(900, 1000, inclusive=True) ]"
   ]
  },
  {
   "cell_type": "code",
   "execution_count": 85,
   "id": "entertaining-boutique",
   "metadata": {
    "lines_to_next_cell": 0
   },
   "outputs": [
    {
     "output_type": "execute_result",
     "data": {
      "text/plain": [
       "                              name  appearances                sex        hair\n",
       "0             Batman (Bruce Wayne)       3093.0    Male Characters  Black Hair\n",
       "1            Superman (Clark Kent)       2496.0    Male Characters  Black Hair\n",
       "2       Green Lantern (Hal Jordan)       1565.0    Male Characters  Brown Hair\n",
       "3         James Gordon (New Earth)       1316.0    Male Characters  White Hair\n",
       "4      Richard Grayson (New Earth)       1237.0    Male Characters  Black Hair\n",
       "...                            ...          ...                ...         ...\n",
       "6891       Nadine West (New Earth)          NaN  Female Characters         NaN\n",
       "6892    Warren Harding (New Earth)          NaN    Male Characters         NaN\n",
       "6893  William Harrison (New Earth)          NaN    Male Characters         NaN\n",
       "6894  William McKinley (New Earth)          NaN    Male Characters         NaN\n",
       "6895            Mookie (New Earth)          NaN    Male Characters  Blond Hair\n",
       "\n",
       "[6891 rows x 4 columns]"
      ],
      "text/html": "<div>\n<style scoped>\n    .dataframe tbody tr th:only-of-type {\n        vertical-align: middle;\n    }\n\n    .dataframe tbody tr th {\n        vertical-align: top;\n    }\n\n    .dataframe thead th {\n        text-align: right;\n    }\n</style>\n<table border=\"1\" class=\"dataframe\">\n  <thead>\n    <tr style=\"text-align: right;\">\n      <th></th>\n      <th>name</th>\n      <th>appearances</th>\n      <th>sex</th>\n      <th>hair</th>\n    </tr>\n  </thead>\n  <tbody>\n    <tr>\n      <th>0</th>\n      <td>Batman (Bruce Wayne)</td>\n      <td>3093.0</td>\n      <td>Male Characters</td>\n      <td>Black Hair</td>\n    </tr>\n    <tr>\n      <th>1</th>\n      <td>Superman (Clark Kent)</td>\n      <td>2496.0</td>\n      <td>Male Characters</td>\n      <td>Black Hair</td>\n    </tr>\n    <tr>\n      <th>2</th>\n      <td>Green Lantern (Hal Jordan)</td>\n      <td>1565.0</td>\n      <td>Male Characters</td>\n      <td>Brown Hair</td>\n    </tr>\n    <tr>\n      <th>3</th>\n      <td>James Gordon (New Earth)</td>\n      <td>1316.0</td>\n      <td>Male Characters</td>\n      <td>White Hair</td>\n    </tr>\n    <tr>\n      <th>4</th>\n      <td>Richard Grayson (New Earth)</td>\n      <td>1237.0</td>\n      <td>Male Characters</td>\n      <td>Black Hair</td>\n    </tr>\n    <tr>\n      <th>...</th>\n      <td>...</td>\n      <td>...</td>\n      <td>...</td>\n      <td>...</td>\n    </tr>\n    <tr>\n      <th>6891</th>\n      <td>Nadine West (New Earth)</td>\n      <td>NaN</td>\n      <td>Female Characters</td>\n      <td>NaN</td>\n    </tr>\n    <tr>\n      <th>6892</th>\n      <td>Warren Harding (New Earth)</td>\n      <td>NaN</td>\n      <td>Male Characters</td>\n      <td>NaN</td>\n    </tr>\n    <tr>\n      <th>6893</th>\n      <td>William Harrison (New Earth)</td>\n      <td>NaN</td>\n      <td>Male Characters</td>\n      <td>NaN</td>\n    </tr>\n    <tr>\n      <th>6894</th>\n      <td>William McKinley (New Earth)</td>\n      <td>NaN</td>\n      <td>Male Characters</td>\n      <td>NaN</td>\n    </tr>\n    <tr>\n      <th>6895</th>\n      <td>Mookie (New Earth)</td>\n      <td>NaN</td>\n      <td>Male Characters</td>\n      <td>Blond Hair</td>\n    </tr>\n  </tbody>\n</table>\n<p>6891 rows × 4 columns</p>\n</div>"
     },
     "metadata": {},
     "execution_count": 85
    }
   ],
   "source": [
    "# Example: \n",
    "# outside a given interval\n",
    "dc_simple[ (dc_simple.appearances < 900) | (1000 < dc_simple.appearances) ]\n",
    "# or (NB: non equivalent relating to NaN)\n",
    "dc_simple[ ~ dc_simple.appearances.between(900, 1000, inclusive=True) ]"
   ]
  },
  {
   "cell_type": "markdown",
   "id": "assured-framework",
   "metadata": {},
   "source": [
    "\n"
   ]
  },
  {
   "cell_type": "code",
   "execution_count": 86,
   "id": "temporal-hotel",
   "metadata": {
    "lines_to_next_cell": 0
   },
   "outputs": [
    {
     "output_type": "execute_result",
     "data": {
      "text/plain": [
       "                       name  appearances              sex        hair\n",
       "3  James Gordon (New Earth)       1316.0  Male Characters  White Hair"
      ],
      "text/html": "<div>\n<style scoped>\n    .dataframe tbody tr th:only-of-type {\n        vertical-align: middle;\n    }\n\n    .dataframe tbody tr th {\n        vertical-align: top;\n    }\n\n    .dataframe thead th {\n        text-align: right;\n    }\n</style>\n<table border=\"1\" class=\"dataframe\">\n  <thead>\n    <tr style=\"text-align: right;\">\n      <th></th>\n      <th>name</th>\n      <th>appearances</th>\n      <th>sex</th>\n      <th>hair</th>\n    </tr>\n  </thead>\n  <tbody>\n    <tr>\n      <th>3</th>\n      <td>James Gordon (New Earth)</td>\n      <td>1316.0</td>\n      <td>Male Characters</td>\n      <td>White Hair</td>\n    </tr>\n  </tbody>\n</table>\n</div>"
     },
     "metadata": {},
     "execution_count": 86
    }
   ],
   "source": [
    "# set-in operator\n",
    "\n",
    "# Example: \n",
    "# 'appearances' has a value in a vector of possible real numbers\n",
    "dc_simple[ dc_simple.appearances.isin([900, 1316]) ] \n",
    "# Advice: the 'isin' method should be read as the 'is in' method"
   ]
  },
  {
   "cell_type": "markdown",
   "id": "palestinian-rebel",
   "metadata": {},
   "source": [
    "[is-in-operator](https://pandas.pydata.org/docs/reference/api/pandas.Series.isin.html)"
   ]
  },
  {
   "cell_type": "code",
   "execution_count": 87,
   "id": "correct-toolbox",
   "metadata": {},
   "outputs": [
    {
     "output_type": "execute_result",
     "data": {
      "text/plain": [
       "                               name  appearances                sex  \\\n",
       "743          Brainiac 8 (New Earth)         38.0  Female Characters   \n",
       "987      Susan Linden I (New Earth)         28.0  Female Characters   \n",
       "1009        Flora Black (New Earth)         27.0  Female Characters   \n",
       "1780    Susan Linden II (New Earth)         14.0  Female Characters   \n",
       "1959             Silica (New Earth)         12.0  Female Characters   \n",
       "1979         Fay Moffit (New Earth)         12.0  Female Characters   \n",
       "2373  Vanessa Kingsbury (New Earth)         10.0  Female Characters   \n",
       "2559             Gretti (New Earth)          9.0    Male Characters   \n",
       "2865          Poprocket (New Earth)          7.0  Female Characters   \n",
       "2910             Venizz (New Earth)          7.0  Female Characters   \n",
       "4963   Eduardo Flamingo (New Earth)          2.0    Male Characters   \n",
       "5002        Vera Klopis (New Earth)          2.0  Female Characters   \n",
       "6028              Hoppy (New Earth)          1.0    Male Characters   \n",
       "6037             Millie (New Earth)          1.0  Female Characters   \n",
       "6699              B'aad (New Earth)          NaN    Male Characters   \n",
       "\n",
       "             hair  \n",
       "743     Pink Hair  \n",
       "987   Violet Hair  \n",
       "1009  Violet Hair  \n",
       "1780  Violet Hair  \n",
       "1959    Pink Hair  \n",
       "1979    Pink Hair  \n",
       "2373    Pink Hair  \n",
       "2559  Violet Hair  \n",
       "2865    Pink Hair  \n",
       "2910    Pink Hair  \n",
       "4963    Pink Hair  \n",
       "5002    Pink Hair  \n",
       "6028    Pink Hair  \n",
       "6037    Pink Hair  \n",
       "6699    Pink Hair  "
      ],
      "text/html": "<div>\n<style scoped>\n    .dataframe tbody tr th:only-of-type {\n        vertical-align: middle;\n    }\n\n    .dataframe tbody tr th {\n        vertical-align: top;\n    }\n\n    .dataframe thead th {\n        text-align: right;\n    }\n</style>\n<table border=\"1\" class=\"dataframe\">\n  <thead>\n    <tr style=\"text-align: right;\">\n      <th></th>\n      <th>name</th>\n      <th>appearances</th>\n      <th>sex</th>\n      <th>hair</th>\n    </tr>\n  </thead>\n  <tbody>\n    <tr>\n      <th>743</th>\n      <td>Brainiac 8 (New Earth)</td>\n      <td>38.0</td>\n      <td>Female Characters</td>\n      <td>Pink Hair</td>\n    </tr>\n    <tr>\n      <th>987</th>\n      <td>Susan Linden I (New Earth)</td>\n      <td>28.0</td>\n      <td>Female Characters</td>\n      <td>Violet Hair</td>\n    </tr>\n    <tr>\n      <th>1009</th>\n      <td>Flora Black (New Earth)</td>\n      <td>27.0</td>\n      <td>Female Characters</td>\n      <td>Violet Hair</td>\n    </tr>\n    <tr>\n      <th>1780</th>\n      <td>Susan Linden II (New Earth)</td>\n      <td>14.0</td>\n      <td>Female Characters</td>\n      <td>Violet Hair</td>\n    </tr>\n    <tr>\n      <th>1959</th>\n      <td>Silica (New Earth)</td>\n      <td>12.0</td>\n      <td>Female Characters</td>\n      <td>Pink Hair</td>\n    </tr>\n    <tr>\n      <th>1979</th>\n      <td>Fay Moffit (New Earth)</td>\n      <td>12.0</td>\n      <td>Female Characters</td>\n      <td>Pink Hair</td>\n    </tr>\n    <tr>\n      <th>2373</th>\n      <td>Vanessa Kingsbury (New Earth)</td>\n      <td>10.0</td>\n      <td>Female Characters</td>\n      <td>Pink Hair</td>\n    </tr>\n    <tr>\n      <th>2559</th>\n      <td>Gretti (New Earth)</td>\n      <td>9.0</td>\n      <td>Male Characters</td>\n      <td>Violet Hair</td>\n    </tr>\n    <tr>\n      <th>2865</th>\n      <td>Poprocket (New Earth)</td>\n      <td>7.0</td>\n      <td>Female Characters</td>\n      <td>Pink Hair</td>\n    </tr>\n    <tr>\n      <th>2910</th>\n      <td>Venizz (New Earth)</td>\n      <td>7.0</td>\n      <td>Female Characters</td>\n      <td>Pink Hair</td>\n    </tr>\n    <tr>\n      <th>4963</th>\n      <td>Eduardo Flamingo (New Earth)</td>\n      <td>2.0</td>\n      <td>Male Characters</td>\n      <td>Pink Hair</td>\n    </tr>\n    <tr>\n      <th>5002</th>\n      <td>Vera Klopis (New Earth)</td>\n      <td>2.0</td>\n      <td>Female Characters</td>\n      <td>Pink Hair</td>\n    </tr>\n    <tr>\n      <th>6028</th>\n      <td>Hoppy (New Earth)</td>\n      <td>1.0</td>\n      <td>Male Characters</td>\n      <td>Pink Hair</td>\n    </tr>\n    <tr>\n      <th>6037</th>\n      <td>Millie (New Earth)</td>\n      <td>1.0</td>\n      <td>Female Characters</td>\n      <td>Pink Hair</td>\n    </tr>\n    <tr>\n      <th>6699</th>\n      <td>B'aad (New Earth)</td>\n      <td>NaN</td>\n      <td>Male Characters</td>\n      <td>Pink Hair</td>\n    </tr>\n  </tbody>\n</table>\n</div>"
     },
     "metadata": {},
     "execution_count": 87
    }
   ],
   "source": [
    "# Example: \n",
    "# 'hair' has a value in a vector of possible strings\n",
    "dc_simple[ dc_simple.hair.isin(['Violet Hair', 'Pink Hair']) ]"
   ]
  },
  {
   "cell_type": "markdown",
   "id": "secondary-hostel",
   "metadata": {},
   "source": [
    "### Sampling"
   ]
  },
  {
   "cell_type": "code",
   "execution_count": 88,
   "id": "rural-couple",
   "metadata": {
    "lines_to_next_cell": 2
   },
   "outputs": [
    {
     "output_type": "execute_result",
     "data": {
      "text/plain": [
       "                             name  appearances                sex        hair\n",
       "5     Wonder Woman (Diana Prince)       1231.0  Female Characters  Black Hair\n",
       "6          Aquaman (Arthur Curry)       1121.0    Male Characters  Blond Hair\n",
       "7       Timothy Drake (New Earth)       1095.0    Male Characters  Black Hair\n",
       "8  Dinah Laurel Lance (New Earth)       1075.0  Female Characters  Blond Hair\n",
       "9             Flash (Barry Allen)       1028.0    Male Characters  Blond Hair"
      ],
      "text/html": "<div>\n<style scoped>\n    .dataframe tbody tr th:only-of-type {\n        vertical-align: middle;\n    }\n\n    .dataframe tbody tr th {\n        vertical-align: top;\n    }\n\n    .dataframe thead th {\n        text-align: right;\n    }\n</style>\n<table border=\"1\" class=\"dataframe\">\n  <thead>\n    <tr style=\"text-align: right;\">\n      <th></th>\n      <th>name</th>\n      <th>appearances</th>\n      <th>sex</th>\n      <th>hair</th>\n    </tr>\n  </thead>\n  <tbody>\n    <tr>\n      <th>5</th>\n      <td>Wonder Woman (Diana Prince)</td>\n      <td>1231.0</td>\n      <td>Female Characters</td>\n      <td>Black Hair</td>\n    </tr>\n    <tr>\n      <th>6</th>\n      <td>Aquaman (Arthur Curry)</td>\n      <td>1121.0</td>\n      <td>Male Characters</td>\n      <td>Blond Hair</td>\n    </tr>\n    <tr>\n      <th>7</th>\n      <td>Timothy Drake (New Earth)</td>\n      <td>1095.0</td>\n      <td>Male Characters</td>\n      <td>Black Hair</td>\n    </tr>\n    <tr>\n      <th>8</th>\n      <td>Dinah Laurel Lance (New Earth)</td>\n      <td>1075.0</td>\n      <td>Female Characters</td>\n      <td>Blond Hair</td>\n    </tr>\n    <tr>\n      <th>9</th>\n      <td>Flash (Barry Allen)</td>\n      <td>1028.0</td>\n      <td>Male Characters</td>\n      <td>Blond Hair</td>\n    </tr>\n  </tbody>\n</table>\n</div>"
     },
     "metadata": {},
     "execution_count": 88
    }
   ],
   "source": [
    "# take rows by their position index\n",
    "dc_simple.iloc[5:10]"
   ]
  },
  {
   "cell_type": "markdown",
   "id": "individual-sight",
   "metadata": {},
   "source": [
    "[Sample Documentation](https://pandas.pydata.org/docs/reference/api/pandas.DataFrame.sample.html)"
   ]
  },
  {
   "cell_type": "code",
   "execution_count": 89,
   "id": "quantitative-thumbnail",
   "metadata": {
    "lines_to_next_cell": 2
   },
   "outputs": [
    {
     "output_type": "execute_result",
     "data": {
      "text/plain": [
       "                                name  appearances              sex        hair\n",
       "6690        Nameless One (New Earth)          NaN  Male Characters  White Hair\n",
       "3850  Dead Hand Legendre (New Earth)          4.0  Male Characters         NaN\n",
       "6312           Snowflame (New Earth)          1.0  Male Characters  White Hair"
      ],
      "text/html": "<div>\n<style scoped>\n    .dataframe tbody tr th:only-of-type {\n        vertical-align: middle;\n    }\n\n    .dataframe tbody tr th {\n        vertical-align: top;\n    }\n\n    .dataframe thead th {\n        text-align: right;\n    }\n</style>\n<table border=\"1\" class=\"dataframe\">\n  <thead>\n    <tr style=\"text-align: right;\">\n      <th></th>\n      <th>name</th>\n      <th>appearances</th>\n      <th>sex</th>\n      <th>hair</th>\n    </tr>\n  </thead>\n  <tbody>\n    <tr>\n      <th>6690</th>\n      <td>Nameless One (New Earth)</td>\n      <td>NaN</td>\n      <td>Male Characters</td>\n      <td>White Hair</td>\n    </tr>\n    <tr>\n      <th>3850</th>\n      <td>Dead Hand Legendre (New Earth)</td>\n      <td>4.0</td>\n      <td>Male Characters</td>\n      <td>NaN</td>\n    </tr>\n    <tr>\n      <th>6312</th>\n      <td>Snowflame (New Earth)</td>\n      <td>1.0</td>\n      <td>Male Characters</td>\n      <td>White Hair</td>\n    </tr>\n  </tbody>\n</table>\n</div>"
     },
     "metadata": {},
     "execution_count": 89
    }
   ],
   "source": [
    "# Extract a sample of 'n' lines\n",
    "dc_simple.sample(n=3)\n",
    "\n",
    "# Extract a fraction of all lines\n",
    "dc_simple.sample(frac=0.1).head()\n",
    "\n",
    "# Re-sample repeating lines\n",
    "dc_simple.sample(frac=1.5, replace=True).head()\n",
    "\n",
    "# if you want to fix the random state of the random sampling\n",
    "dc_simple.sample(n=3, random_state=123)"
   ]
  },
  {
   "cell_type": "code",
   "execution_count": 90,
   "id": "junior-major",
   "metadata": {
    "eval": false,
    "lines_to_next_cell": 2,
    "tags": [
     "remove_cell"
    ]
   },
   "outputs": [],
   "source": [
    "#waited sampling\n",
    "#dc_simple.sample(n=3,  weights='weight number column')"
   ]
  },
  {
   "cell_type": "markdown",
   "id": "related-spanking",
   "metadata": {},
   "source": [
    "### Row sorting\n",
    "\n",
    "Reference: [sort_values](https://pandas.pydata.org/docs/reference/api/pandas.DataFrame.sort_values.html) documentation.\n",
    "\n",
    "Sort using a column as a criteria:"
   ]
  },
  {
   "cell_type": "code",
   "execution_count": 91,
   "id": "pharmaceutical-oklahoma",
   "metadata": {
    "lines_to_next_cell": 2
   },
   "outputs": [
    {
     "output_type": "execute_result",
     "data": {
      "text/plain": [
       "                             name  appearances                sex         hair\n",
       "6541  Matteo Bischoff (New Earth)          NaN    Male Characters    Grey Hair\n",
       "6542       Doomslayer (New Earth)          NaN    Male Characters   White Hair\n",
       "6543       Emily Sung (New Earth)          NaN  Female Characters  Purple Hair\n",
       "6544           Ry'jll (New Earth)          NaN  Female Characters          NaN\n",
       "6545    Baron Gestapo (New Earth)          NaN    Male Characters          NaN\n",
       "...                           ...          ...                ...          ...\n",
       "5877          Scratch (New Earth)          1.0    Male Characters     Red Hair\n",
       "5878      Sheila Carr (New Earth)          1.0  Female Characters   Black Hair\n",
       "5879       Steel Fang (New Earth)          1.0    Male Characters          NaN\n",
       "5880           Althea (New Earth)          1.0  Female Characters   Brown Hair\n",
       "6540    Auctioneer II (New Earth)          1.0    Male Characters   White Hair\n",
       "\n",
       "[6896 rows x 4 columns]"
      ],
      "text/html": "<div>\n<style scoped>\n    .dataframe tbody tr th:only-of-type {\n        vertical-align: middle;\n    }\n\n    .dataframe tbody tr th {\n        vertical-align: top;\n    }\n\n    .dataframe thead th {\n        text-align: right;\n    }\n</style>\n<table border=\"1\" class=\"dataframe\">\n  <thead>\n    <tr style=\"text-align: right;\">\n      <th></th>\n      <th>name</th>\n      <th>appearances</th>\n      <th>sex</th>\n      <th>hair</th>\n    </tr>\n  </thead>\n  <tbody>\n    <tr>\n      <th>6541</th>\n      <td>Matteo Bischoff (New Earth)</td>\n      <td>NaN</td>\n      <td>Male Characters</td>\n      <td>Grey Hair</td>\n    </tr>\n    <tr>\n      <th>6542</th>\n      <td>Doomslayer (New Earth)</td>\n      <td>NaN</td>\n      <td>Male Characters</td>\n      <td>White Hair</td>\n    </tr>\n    <tr>\n      <th>6543</th>\n      <td>Emily Sung (New Earth)</td>\n      <td>NaN</td>\n      <td>Female Characters</td>\n      <td>Purple Hair</td>\n    </tr>\n    <tr>\n      <th>6544</th>\n      <td>Ry'jll (New Earth)</td>\n      <td>NaN</td>\n      <td>Female Characters</td>\n      <td>NaN</td>\n    </tr>\n    <tr>\n      <th>6545</th>\n      <td>Baron Gestapo (New Earth)</td>\n      <td>NaN</td>\n      <td>Male Characters</td>\n      <td>NaN</td>\n    </tr>\n    <tr>\n      <th>...</th>\n      <td>...</td>\n      <td>...</td>\n      <td>...</td>\n      <td>...</td>\n    </tr>\n    <tr>\n      <th>5877</th>\n      <td>Scratch (New Earth)</td>\n      <td>1.0</td>\n      <td>Male Characters</td>\n      <td>Red Hair</td>\n    </tr>\n    <tr>\n      <th>5878</th>\n      <td>Sheila Carr (New Earth)</td>\n      <td>1.0</td>\n      <td>Female Characters</td>\n      <td>Black Hair</td>\n    </tr>\n    <tr>\n      <th>5879</th>\n      <td>Steel Fang (New Earth)</td>\n      <td>1.0</td>\n      <td>Male Characters</td>\n      <td>NaN</td>\n    </tr>\n    <tr>\n      <th>5880</th>\n      <td>Althea (New Earth)</td>\n      <td>1.0</td>\n      <td>Female Characters</td>\n      <td>Brown Hair</td>\n    </tr>\n    <tr>\n      <th>6540</th>\n      <td>Auctioneer II (New Earth)</td>\n      <td>1.0</td>\n      <td>Male Characters</td>\n      <td>White Hair</td>\n    </tr>\n  </tbody>\n</table>\n<p>6896 rows × 4 columns</p>\n</div>"
     },
     "metadata": {},
     "execution_count": 91
    }
   ],
   "source": [
    "\n",
    "# sort by one column\n",
    "dc_simple.sort_values(by='appearances')\n",
    "# sort by one column in descending order\n",
    "dc_simple.sort_values(by='appearances', ascending=False)\n",
    "# set the na position\n",
    "dc_simple.sort_values(by='appearances', ascending=False, na_position='first')"
   ]
  },
  {
   "cell_type": "code",
   "execution_count": 92,
   "id": "crazy-coach",
   "metadata": {
    "lines_to_next_cell": 0
   },
   "outputs": [
    {
     "output_type": "execute_result",
     "data": {
      "text/plain": [
       "                    sex  appearances\n",
       "5     Female Characters       1231.0\n",
       "8     Female Characters       1075.0\n",
       "10    Female Characters       1028.0\n",
       "12    Female Characters        951.0\n",
       "14    Female Characters        934.0\n",
       "...                 ...          ...\n",
       "6680                NaN          NaN\n",
       "6731                NaN          NaN\n",
       "6736                NaN          NaN\n",
       "6835                NaN          NaN\n",
       "6854                NaN          NaN\n",
       "\n",
       "[6896 rows x 2 columns]"
      ],
      "text/html": "<div>\n<style scoped>\n    .dataframe tbody tr th:only-of-type {\n        vertical-align: middle;\n    }\n\n    .dataframe tbody tr th {\n        vertical-align: top;\n    }\n\n    .dataframe thead th {\n        text-align: right;\n    }\n</style>\n<table border=\"1\" class=\"dataframe\">\n  <thead>\n    <tr style=\"text-align: right;\">\n      <th></th>\n      <th>sex</th>\n      <th>appearances</th>\n    </tr>\n  </thead>\n  <tbody>\n    <tr>\n      <th>5</th>\n      <td>Female Characters</td>\n      <td>1231.0</td>\n    </tr>\n    <tr>\n      <th>8</th>\n      <td>Female Characters</td>\n      <td>1075.0</td>\n    </tr>\n    <tr>\n      <th>10</th>\n      <td>Female Characters</td>\n      <td>1028.0</td>\n    </tr>\n    <tr>\n      <th>12</th>\n      <td>Female Characters</td>\n      <td>951.0</td>\n    </tr>\n    <tr>\n      <th>14</th>\n      <td>Female Characters</td>\n      <td>934.0</td>\n    </tr>\n    <tr>\n      <th>...</th>\n      <td>...</td>\n      <td>...</td>\n    </tr>\n    <tr>\n      <th>6680</th>\n      <td>NaN</td>\n      <td>NaN</td>\n    </tr>\n    <tr>\n      <th>6731</th>\n      <td>NaN</td>\n      <td>NaN</td>\n    </tr>\n    <tr>\n      <th>6736</th>\n      <td>NaN</td>\n      <td>NaN</td>\n    </tr>\n    <tr>\n      <th>6835</th>\n      <td>NaN</td>\n      <td>NaN</td>\n    </tr>\n    <tr>\n      <th>6854</th>\n      <td>NaN</td>\n      <td>NaN</td>\n    </tr>\n  </tbody>\n</table>\n<p>6896 rows × 2 columns</p>\n</div>"
     },
     "metadata": {},
     "execution_count": 92
    }
   ],
   "source": [
    "# sort by two criteria (the first has the precedence)\n",
    "dc_simple.sort_values(by=['sex', 'appearances'], ascending=[True, False])[['sex', 'appearances']]\n"
   ]
  },
  {
   "cell_type": "markdown",
   "id": "unexpected-warrant",
   "metadata": {},
   "source": [
    "\n"
   ]
  },
  {
   "cell_type": "markdown",
   "id": "secret-caution",
   "metadata": {},
   "source": [
    "## Transform columns"
   ]
  },
  {
   "cell_type": "markdown",
   "id": "speaking-assumption",
   "metadata": {},
   "source": [
    "### Create a new column"
   ]
  },
  {
   "cell_type": "code",
   "execution_count": 93,
   "id": "surrounded-garden",
   "metadata": {},
   "outputs": [
    {
     "output_type": "execute_result",
     "data": {
      "text/plain": [
       "                              name    year   age\n",
       "0             Batman (Bruce Wayne)  1939.0  82.0\n",
       "1            Superman (Clark Kent)  1986.0  35.0\n",
       "2       Green Lantern (Hal Jordan)  1959.0  62.0\n",
       "3         James Gordon (New Earth)  1987.0  34.0\n",
       "4      Richard Grayson (New Earth)  1940.0  81.0\n",
       "...                            ...     ...   ...\n",
       "6891       Nadine West (New Earth)     NaN   NaN\n",
       "6892    Warren Harding (New Earth)     NaN   NaN\n",
       "6893  William Harrison (New Earth)     NaN   NaN\n",
       "6894  William McKinley (New Earth)     NaN   NaN\n",
       "6895            Mookie (New Earth)     NaN   NaN\n",
       "\n",
       "[6896 rows x 3 columns]"
      ],
      "text/html": "<div>\n<style scoped>\n    .dataframe tbody tr th:only-of-type {\n        vertical-align: middle;\n    }\n\n    .dataframe tbody tr th {\n        vertical-align: top;\n    }\n\n    .dataframe thead th {\n        text-align: right;\n    }\n</style>\n<table border=\"1\" class=\"dataframe\">\n  <thead>\n    <tr style=\"text-align: right;\">\n      <th></th>\n      <th>name</th>\n      <th>year</th>\n      <th>age</th>\n    </tr>\n  </thead>\n  <tbody>\n    <tr>\n      <th>0</th>\n      <td>Batman (Bruce Wayne)</td>\n      <td>1939.0</td>\n      <td>82.0</td>\n    </tr>\n    <tr>\n      <th>1</th>\n      <td>Superman (Clark Kent)</td>\n      <td>1986.0</td>\n      <td>35.0</td>\n    </tr>\n    <tr>\n      <th>2</th>\n      <td>Green Lantern (Hal Jordan)</td>\n      <td>1959.0</td>\n      <td>62.0</td>\n    </tr>\n    <tr>\n      <th>3</th>\n      <td>James Gordon (New Earth)</td>\n      <td>1987.0</td>\n      <td>34.0</td>\n    </tr>\n    <tr>\n      <th>4</th>\n      <td>Richard Grayson (New Earth)</td>\n      <td>1940.0</td>\n      <td>81.0</td>\n    </tr>\n    <tr>\n      <th>...</th>\n      <td>...</td>\n      <td>...</td>\n      <td>...</td>\n    </tr>\n    <tr>\n      <th>6891</th>\n      <td>Nadine West (New Earth)</td>\n      <td>NaN</td>\n      <td>NaN</td>\n    </tr>\n    <tr>\n      <th>6892</th>\n      <td>Warren Harding (New Earth)</td>\n      <td>NaN</td>\n      <td>NaN</td>\n    </tr>\n    <tr>\n      <th>6893</th>\n      <td>William Harrison (New Earth)</td>\n      <td>NaN</td>\n      <td>NaN</td>\n    </tr>\n    <tr>\n      <th>6894</th>\n      <td>William McKinley (New Earth)</td>\n      <td>NaN</td>\n      <td>NaN</td>\n    </tr>\n    <tr>\n      <th>6895</th>\n      <td>Mookie (New Earth)</td>\n      <td>NaN</td>\n      <td>NaN</td>\n    </tr>\n  </tbody>\n</table>\n<p>6896 rows × 3 columns</p>\n</div>"
     },
     "metadata": {},
     "execution_count": 93
    }
   ],
   "source": [
    "dc.assign(age = 2021 - dc.year)[['name', 'year', 'age']]"
   ]
  },
  {
   "cell_type": "code",
   "execution_count": 94,
   "id": "noted-florida",
   "metadata": {},
   "outputs": [],
   "source": [
    "from nycflights13 import flights"
   ]
  },
  {
   "cell_type": "code",
   "execution_count": 95,
   "id": "social-population",
   "metadata": {
    "lines_to_next_cell": 2
   },
   "outputs": [
    {
     "output_type": "execute_result",
     "data": {
      "text/plain": [
       "        dep_delay  arr_delay  time_gain\n",
       "0             2.0       11.0       -9.0\n",
       "1             4.0       20.0      -16.0\n",
       "2             2.0       33.0      -31.0\n",
       "3            -1.0      -18.0       17.0\n",
       "4            -6.0      -25.0       19.0\n",
       "...           ...        ...        ...\n",
       "336771        NaN        NaN        NaN\n",
       "336772        NaN        NaN        NaN\n",
       "336773        NaN        NaN        NaN\n",
       "336774        NaN        NaN        NaN\n",
       "336775        NaN        NaN        NaN\n",
       "\n",
       "[336776 rows x 3 columns]"
      ],
      "text/html": "<div>\n<style scoped>\n    .dataframe tbody tr th:only-of-type {\n        vertical-align: middle;\n    }\n\n    .dataframe tbody tr th {\n        vertical-align: top;\n    }\n\n    .dataframe thead th {\n        text-align: right;\n    }\n</style>\n<table border=\"1\" class=\"dataframe\">\n  <thead>\n    <tr style=\"text-align: right;\">\n      <th></th>\n      <th>dep_delay</th>\n      <th>arr_delay</th>\n      <th>time_gain</th>\n    </tr>\n  </thead>\n  <tbody>\n    <tr>\n      <th>0</th>\n      <td>2.0</td>\n      <td>11.0</td>\n      <td>-9.0</td>\n    </tr>\n    <tr>\n      <th>1</th>\n      <td>4.0</td>\n      <td>20.0</td>\n      <td>-16.0</td>\n    </tr>\n    <tr>\n      <th>2</th>\n      <td>2.0</td>\n      <td>33.0</td>\n      <td>-31.0</td>\n    </tr>\n    <tr>\n      <th>3</th>\n      <td>-1.0</td>\n      <td>-18.0</td>\n      <td>17.0</td>\n    </tr>\n    <tr>\n      <th>4</th>\n      <td>-6.0</td>\n      <td>-25.0</td>\n      <td>19.0</td>\n    </tr>\n    <tr>\n      <th>...</th>\n      <td>...</td>\n      <td>...</td>\n      <td>...</td>\n    </tr>\n    <tr>\n      <th>336771</th>\n      <td>NaN</td>\n      <td>NaN</td>\n      <td>NaN</td>\n    </tr>\n    <tr>\n      <th>336772</th>\n      <td>NaN</td>\n      <td>NaN</td>\n      <td>NaN</td>\n    </tr>\n    <tr>\n      <th>336773</th>\n      <td>NaN</td>\n      <td>NaN</td>\n      <td>NaN</td>\n    </tr>\n    <tr>\n      <th>336774</th>\n      <td>NaN</td>\n      <td>NaN</td>\n      <td>NaN</td>\n    </tr>\n    <tr>\n      <th>336775</th>\n      <td>NaN</td>\n      <td>NaN</td>\n      <td>NaN</td>\n    </tr>\n  </tbody>\n</table>\n<p>336776 rows × 3 columns</p>\n</div>"
     },
     "metadata": {},
     "execution_count": 95
    }
   ],
   "source": [
    "flights[['dep_delay', 'arr_delay']]\\\n",
    "  .assign(time_gain = flights.dep_delay - flights.arr_delay)"
   ]
  },
  {
   "cell_type": "markdown",
   "id": "indoor-study",
   "metadata": {},
   "source": [
    "### Segment data values into bins\n",
    "\n",
    "In order to create a categorical variable from a continuous variable you need to segment and sort data values into bins.\n",
    "\n",
    "You can do that with the [pandas.cut](https://pandas.pydata.org/pandas-docs/stable/reference/api/pandas.cut.html) function:"
   ]
  },
  {
   "cell_type": "markdown",
   "id": "photographic-filter",
   "metadata": {},
   "source": [
    "#### Example 1: split a variable into equal intervals\n",
    "\n",
    "Here a `cut` example. `cut` splits a variable in classes, each of them correspond to an interval of values.\n",
    "\n",
    "You can automatically split the range of `year` in a number of classes:"
   ]
  },
  {
   "cell_type": "code",
   "execution_count": 96,
   "id": "realistic-special",
   "metadata": {},
   "outputs": [
    {
     "output_type": "execute_result",
     "data": {
      "text/plain": [
       "        year          year_class\n",
       "0     1939.0  (1934.922, 1942.8]\n",
       "1     1986.0    (1981.8, 1989.6]\n",
       "2     1959.0    (1958.4, 1966.2]\n",
       "3     1987.0    (1981.8, 1989.6]\n",
       "4     1940.0  (1934.922, 1942.8]\n",
       "...      ...                 ...\n",
       "6891     NaN                 NaN\n",
       "6892     NaN                 NaN\n",
       "6893     NaN                 NaN\n",
       "6894     NaN                 NaN\n",
       "6895     NaN                 NaN\n",
       "\n",
       "[6896 rows x 2 columns]"
      ],
      "text/html": "<div>\n<style scoped>\n    .dataframe tbody tr th:only-of-type {\n        vertical-align: middle;\n    }\n\n    .dataframe tbody tr th {\n        vertical-align: top;\n    }\n\n    .dataframe thead th {\n        text-align: right;\n    }\n</style>\n<table border=\"1\" class=\"dataframe\">\n  <thead>\n    <tr style=\"text-align: right;\">\n      <th></th>\n      <th>year</th>\n      <th>year_class</th>\n    </tr>\n  </thead>\n  <tbody>\n    <tr>\n      <th>0</th>\n      <td>1939.0</td>\n      <td>(1934.922, 1942.8]</td>\n    </tr>\n    <tr>\n      <th>1</th>\n      <td>1986.0</td>\n      <td>(1981.8, 1989.6]</td>\n    </tr>\n    <tr>\n      <th>2</th>\n      <td>1959.0</td>\n      <td>(1958.4, 1966.2]</td>\n    </tr>\n    <tr>\n      <th>3</th>\n      <td>1987.0</td>\n      <td>(1981.8, 1989.6]</td>\n    </tr>\n    <tr>\n      <th>4</th>\n      <td>1940.0</td>\n      <td>(1934.922, 1942.8]</td>\n    </tr>\n    <tr>\n      <th>...</th>\n      <td>...</td>\n      <td>...</td>\n    </tr>\n    <tr>\n      <th>6891</th>\n      <td>NaN</td>\n      <td>NaN</td>\n    </tr>\n    <tr>\n      <th>6892</th>\n      <td>NaN</td>\n      <td>NaN</td>\n    </tr>\n    <tr>\n      <th>6893</th>\n      <td>NaN</td>\n      <td>NaN</td>\n    </tr>\n    <tr>\n      <th>6894</th>\n      <td>NaN</td>\n      <td>NaN</td>\n    </tr>\n    <tr>\n      <th>6895</th>\n      <td>NaN</td>\n      <td>NaN</td>\n    </tr>\n  </tbody>\n</table>\n<p>6896 rows × 2 columns</p>\n</div>"
     },
     "metadata": {},
     "execution_count": 96
    }
   ],
   "source": [
    "# You can automatically split the range of `year` in a number of classes:\n",
    "dc[['year']]\\\n",
    "  .assign(year_class = pd.cut(dc.year, bins = 10))"
   ]
  },
  {
   "cell_type": "markdown",
   "id": "nutritional-trace",
   "metadata": {},
   "source": [
    "Or you can provide a set of separators (`breaks`) and labels for the intervals. Mind the number of breaks should be one more than the labels."
   ]
  },
  {
   "cell_type": "code",
   "execution_count": 97,
   "id": "parental-broadcast",
   "metadata": {
    "lines_to_next_cell": 2
   },
   "outputs": [
    {
     "output_type": "execute_result",
     "data": {
      "text/plain": [
       "        year year_class\n",
       "0     1939.0         30\n",
       "1     1986.0         80\n",
       "2     1959.0         50\n",
       "3     1987.0         80\n",
       "4     1940.0         30\n",
       "...      ...        ...\n",
       "6891     NaN        NaN\n",
       "6892     NaN        NaN\n",
       "6893     NaN        NaN\n",
       "6894     NaN        NaN\n",
       "6895     NaN        NaN\n",
       "\n",
       "[6896 rows x 2 columns]"
      ],
      "text/html": "<div>\n<style scoped>\n    .dataframe tbody tr th:only-of-type {\n        vertical-align: middle;\n    }\n\n    .dataframe tbody tr th {\n        vertical-align: top;\n    }\n\n    .dataframe thead th {\n        text-align: right;\n    }\n</style>\n<table border=\"1\" class=\"dataframe\">\n  <thead>\n    <tr style=\"text-align: right;\">\n      <th></th>\n      <th>year</th>\n      <th>year_class</th>\n    </tr>\n  </thead>\n  <tbody>\n    <tr>\n      <th>0</th>\n      <td>1939.0</td>\n      <td>30</td>\n    </tr>\n    <tr>\n      <th>1</th>\n      <td>1986.0</td>\n      <td>80</td>\n    </tr>\n    <tr>\n      <th>2</th>\n      <td>1959.0</td>\n      <td>50</td>\n    </tr>\n    <tr>\n      <th>3</th>\n      <td>1987.0</td>\n      <td>80</td>\n    </tr>\n    <tr>\n      <th>4</th>\n      <td>1940.0</td>\n      <td>30</td>\n    </tr>\n    <tr>\n      <th>...</th>\n      <td>...</td>\n      <td>...</td>\n    </tr>\n    <tr>\n      <th>6891</th>\n      <td>NaN</td>\n      <td>NaN</td>\n    </tr>\n    <tr>\n      <th>6892</th>\n      <td>NaN</td>\n      <td>NaN</td>\n    </tr>\n    <tr>\n      <th>6893</th>\n      <td>NaN</td>\n      <td>NaN</td>\n    </tr>\n    <tr>\n      <th>6894</th>\n      <td>NaN</td>\n      <td>NaN</td>\n    </tr>\n    <tr>\n      <th>6895</th>\n      <td>NaN</td>\n      <td>NaN</td>\n    </tr>\n  </tbody>\n</table>\n<p>6896 rows × 2 columns</p>\n</div>"
     },
     "metadata": {},
     "execution_count": 97
    }
   ],
   "source": [
    "# separa le classi sulla variabile separatori e attribuisci la corretta etichetta.\n",
    "breaks = np.arange(0,10) * 10 + 1900\n",
    "labels = np.vectorize(str)(np.arange(0,9) * 10) # 'years'\n",
    "# You can automatically split the range of `year` in a number of classes:\n",
    "dc[['year']]\\\n",
    "  .assign(year_class = pd.cut(\n",
    "    x=dc.year, \n",
    "    bins=breaks,\n",
    "    labels=labels\n",
    "  )\n",
    ")"
   ]
  },
  {
   "cell_type": "markdown",
   "id": "loving-wisconsin",
   "metadata": {},
   "source": [
    "Detail. Here an extract of the procedure, the cut function applied on a single number:"
   ]
  },
  {
   "cell_type": "code",
   "execution_count": 98,
   "id": "necessary-electron",
   "metadata": {
    "lines_to_next_cell": 2
   },
   "outputs": [
    {
     "output_type": "execute_result",
     "data": {
      "text/plain": [
       "'30'"
      ]
     },
     "metadata": {},
     "execution_count": 98
    }
   ],
   "source": [
    "pd.cut(pd.Series([1939]),\n",
    "       bins=breaks, \n",
    "       labels=labels)\n",
    "\n",
    "# 1939 in in the interval between the 4th and 5th breaks\n",
    "pd.Series([1939]).between(breaks[3], breaks[4])\n",
    "\n",
    "# the selected labels will be the 4th\n",
    "labels[3]"
   ]
  },
  {
   "cell_type": "markdown",
   "id": "approximate-alexandria",
   "metadata": {},
   "source": [
    "#### Example 2: split a variable into customized intervals"
   ]
  },
  {
   "cell_type": "code",
   "execution_count": 99,
   "id": "portable-calibration",
   "metadata": {
    "lines_to_next_cell": 0
   },
   "outputs": [
    {
     "output_type": "execute_result",
     "data": {
      "text/plain": [
       "        arr_delay  delay_class\n",
       "0            11.0  small-delay\n",
       "1            20.0    big-delay\n",
       "2            33.0    big-delay\n",
       "3           -18.0     no-delay\n",
       "4           -25.0     no-delay\n",
       "...           ...          ...\n",
       "336771        NaN          NaN\n",
       "336772        NaN          NaN\n",
       "336773        NaN          NaN\n",
       "336774        NaN          NaN\n",
       "336775        NaN          NaN\n",
       "\n",
       "[336776 rows x 2 columns]"
      ],
      "text/html": "<div>\n<style scoped>\n    .dataframe tbody tr th:only-of-type {\n        vertical-align: middle;\n    }\n\n    .dataframe tbody tr th {\n        vertical-align: top;\n    }\n\n    .dataframe thead th {\n        text-align: right;\n    }\n</style>\n<table border=\"1\" class=\"dataframe\">\n  <thead>\n    <tr style=\"text-align: right;\">\n      <th></th>\n      <th>arr_delay</th>\n      <th>delay_class</th>\n    </tr>\n  </thead>\n  <tbody>\n    <tr>\n      <th>0</th>\n      <td>11.0</td>\n      <td>small-delay</td>\n    </tr>\n    <tr>\n      <th>1</th>\n      <td>20.0</td>\n      <td>big-delay</td>\n    </tr>\n    <tr>\n      <th>2</th>\n      <td>33.0</td>\n      <td>big-delay</td>\n    </tr>\n    <tr>\n      <th>3</th>\n      <td>-18.0</td>\n      <td>no-delay</td>\n    </tr>\n    <tr>\n      <th>4</th>\n      <td>-25.0</td>\n      <td>no-delay</td>\n    </tr>\n    <tr>\n      <th>...</th>\n      <td>...</td>\n      <td>...</td>\n    </tr>\n    <tr>\n      <th>336771</th>\n      <td>NaN</td>\n      <td>NaN</td>\n    </tr>\n    <tr>\n      <th>336772</th>\n      <td>NaN</td>\n      <td>NaN</td>\n    </tr>\n    <tr>\n      <th>336773</th>\n      <td>NaN</td>\n      <td>NaN</td>\n    </tr>\n    <tr>\n      <th>336774</th>\n      <td>NaN</td>\n      <td>NaN</td>\n    </tr>\n    <tr>\n      <th>336775</th>\n      <td>NaN</td>\n      <td>NaN</td>\n    </tr>\n  </tbody>\n</table>\n<p>336776 rows × 2 columns</p>\n</div>"
     },
     "metadata": {},
     "execution_count": 99
    }
   ],
   "source": [
    "flights[['arr_delay']].assign(\n",
    "    delay_class=pd.cut(\n",
    "        x=flights['arr_delay'],\n",
    "        bins=  [ -np.inf,         0,                15,             np.inf],\n",
    "        labels=[       'no-delay',    'small-delay',    'big-delay']\n",
    "    )\n",
    ")"
   ]
  },
  {
   "cell_type": "markdown",
   "id": "ecological-astrology",
   "metadata": {},
   "source": [
    "\n"
   ]
  },
  {
   "cell_type": "markdown",
   "id": "compact-folder",
   "metadata": {},
   "source": [
    "## Aggregate rows"
   ]
  },
  {
   "cell_type": "markdown",
   "id": "matched-morgan",
   "metadata": {},
   "source": [
    "### Scalar-returning aggregations\n",
    "\n",
    "`summarise` works with functions that return a scalar:\n",
    "\n",
    "$$\n",
    "R^n -> R\n",
    "$$\n",
    "\n",
    "R^n -> R"
   ]
  },
  {
   "cell_type": "markdown",
   "id": "fatty-honolulu",
   "metadata": {},
   "source": [
    "For example, the `mean` function take a vector and returns a single value:"
   ]
  },
  {
   "cell_type": "code",
   "execution_count": 100,
   "id": "higher-marshall",
   "metadata": {
    "lines_to_next_cell": 0
   },
   "outputs": [
    {
     "output_type": "execute_result",
     "data": {
      "text/plain": [
       "6.89537675731489"
      ]
     },
     "metadata": {},
     "execution_count": 100
    }
   ],
   "source": [
    "np.mean(flights.arr_delay)"
   ]
  },
  {
   "cell_type": "markdown",
   "id": "informed-pattern",
   "metadata": {},
   "source": [
    "Examples:\n",
    "\n",
    "- [numpy.mean](https://numpy.org/doc/stable/reference/generated/numpy.mean.html)\n",
    "- [numpy.std](https://numpy.org/doc/stable/reference/generated/numpy.std.html)\n",
    "- [numpy.quantile](https://numpy.org/doc/stable/reference/generated/numpy.quantile.html)\n",
    "\n",
    "- [pandas.Series.max](https://pandas.pydata.org/docs/reference/api/pandas.Series.max.html)\n",
    "- [pandas.Series.min](https://pandas.pydata.org/docs/reference/api/pandas.Series.min.html)\n"
   ]
  },
  {
   "cell_type": "markdown",
   "id": "color-premium",
   "metadata": {},
   "source": [
    "### Aggregate to a scalar\n",
    "\n",
    "Prepare the dataset:"
   ]
  },
  {
   "cell_type": "code",
   "execution_count": 101,
   "id": "boxed-gateway",
   "metadata": {
    "lines_to_next_cell": 2
   },
   "outputs": [
    {
     "output_type": "execute_result",
     "data": {
      "text/plain": [
       "        dep_delay  arr_delay carrier origin dest\n",
       "0             2.0       11.0      UA    EWR  IAH\n",
       "1             4.0       20.0      UA    LGA  IAH\n",
       "2             2.0       33.0      AA    JFK  MIA\n",
       "3            -1.0      -18.0      B6    JFK  BQN\n",
       "4            -6.0      -25.0      DL    LGA  ATL\n",
       "...           ...        ...     ...    ...  ...\n",
       "336771        NaN        NaN      9E    JFK  DCA\n",
       "336772        NaN        NaN      9E    LGA  SYR\n",
       "336773        NaN        NaN      MQ    LGA  BNA\n",
       "336774        NaN        NaN      MQ    LGA  CLE\n",
       "336775        NaN        NaN      MQ    LGA  RDU\n",
       "\n",
       "[336776 rows x 5 columns]"
      ],
      "text/html": "<div>\n<style scoped>\n    .dataframe tbody tr th:only-of-type {\n        vertical-align: middle;\n    }\n\n    .dataframe tbody tr th {\n        vertical-align: top;\n    }\n\n    .dataframe thead th {\n        text-align: right;\n    }\n</style>\n<table border=\"1\" class=\"dataframe\">\n  <thead>\n    <tr style=\"text-align: right;\">\n      <th></th>\n      <th>dep_delay</th>\n      <th>arr_delay</th>\n      <th>carrier</th>\n      <th>origin</th>\n      <th>dest</th>\n    </tr>\n  </thead>\n  <tbody>\n    <tr>\n      <th>0</th>\n      <td>2.0</td>\n      <td>11.0</td>\n      <td>UA</td>\n      <td>EWR</td>\n      <td>IAH</td>\n    </tr>\n    <tr>\n      <th>1</th>\n      <td>4.0</td>\n      <td>20.0</td>\n      <td>UA</td>\n      <td>LGA</td>\n      <td>IAH</td>\n    </tr>\n    <tr>\n      <th>2</th>\n      <td>2.0</td>\n      <td>33.0</td>\n      <td>AA</td>\n      <td>JFK</td>\n      <td>MIA</td>\n    </tr>\n    <tr>\n      <th>3</th>\n      <td>-1.0</td>\n      <td>-18.0</td>\n      <td>B6</td>\n      <td>JFK</td>\n      <td>BQN</td>\n    </tr>\n    <tr>\n      <th>4</th>\n      <td>-6.0</td>\n      <td>-25.0</td>\n      <td>DL</td>\n      <td>LGA</td>\n      <td>ATL</td>\n    </tr>\n    <tr>\n      <th>...</th>\n      <td>...</td>\n      <td>...</td>\n      <td>...</td>\n      <td>...</td>\n      <td>...</td>\n    </tr>\n    <tr>\n      <th>336771</th>\n      <td>NaN</td>\n      <td>NaN</td>\n      <td>9E</td>\n      <td>JFK</td>\n      <td>DCA</td>\n    </tr>\n    <tr>\n      <th>336772</th>\n      <td>NaN</td>\n      <td>NaN</td>\n      <td>9E</td>\n      <td>LGA</td>\n      <td>SYR</td>\n    </tr>\n    <tr>\n      <th>336773</th>\n      <td>NaN</td>\n      <td>NaN</td>\n      <td>MQ</td>\n      <td>LGA</td>\n      <td>BNA</td>\n    </tr>\n    <tr>\n      <th>336774</th>\n      <td>NaN</td>\n      <td>NaN</td>\n      <td>MQ</td>\n      <td>LGA</td>\n      <td>CLE</td>\n    </tr>\n    <tr>\n      <th>336775</th>\n      <td>NaN</td>\n      <td>NaN</td>\n      <td>MQ</td>\n      <td>LGA</td>\n      <td>RDU</td>\n    </tr>\n  </tbody>\n</table>\n<p>336776 rows × 5 columns</p>\n</div>"
     },
     "metadata": {},
     "execution_count": 101
    }
   ],
   "source": [
    "flights_tiny = flights[[ 'dep_delay', 'arr_delay', 'carrier', 'origin', 'dest' ]]\n",
    "flights_tiny"
   ]
  },
  {
   "cell_type": "markdown",
   "id": "sought-communications",
   "metadata": {},
   "source": [
    "Calculate a single aggregation:"
   ]
  },
  {
   "cell_type": "code",
   "execution_count": 102,
   "id": "aerial-glenn",
   "metadata": {
    "lines_to_next_cell": 2
   },
   "outputs": [
    {
     "output_type": "execute_result",
     "data": {
      "text/plain": [
       "arr_delay    6.895377\n",
       "dtype: float64"
      ]
     },
     "metadata": {},
     "execution_count": 102
    }
   ],
   "source": [
    "flights_tiny.agg({\n",
    "    'arr_delay': np.mean,\n",
    "  })"
   ]
  },
  {
   "cell_type": "markdown",
   "id": "becoming-tuner",
   "metadata": {},
   "source": [
    "Calculate multiple aggregations:"
   ]
  },
  {
   "cell_type": "code",
   "execution_count": 103,
   "id": "herbal-begin",
   "metadata": {
    "lines_to_next_cell": 2
   },
   "outputs": [
    {
     "output_type": "execute_result",
     "data": {
      "text/plain": [
       "        dep_delay  arr_delay\n",
       "mean    12.639070   6.895377\n",
       "std     40.210061  44.633292\n",
       "median  -2.000000  -5.000000"
      ],
      "text/html": "<div>\n<style scoped>\n    .dataframe tbody tr th:only-of-type {\n        vertical-align: middle;\n    }\n\n    .dataframe tbody tr th {\n        vertical-align: top;\n    }\n\n    .dataframe thead th {\n        text-align: right;\n    }\n</style>\n<table border=\"1\" class=\"dataframe\">\n  <thead>\n    <tr style=\"text-align: right;\">\n      <th></th>\n      <th>dep_delay</th>\n      <th>arr_delay</th>\n    </tr>\n  </thead>\n  <tbody>\n    <tr>\n      <th>mean</th>\n      <td>12.639070</td>\n      <td>6.895377</td>\n    </tr>\n    <tr>\n      <th>std</th>\n      <td>40.210061</td>\n      <td>44.633292</td>\n    </tr>\n    <tr>\n      <th>median</th>\n      <td>-2.000000</td>\n      <td>-5.000000</td>\n    </tr>\n  </tbody>\n</table>\n</div>"
     },
     "metadata": {},
     "execution_count": 103
    }
   ],
   "source": [
    "flights_tiny.aggregate({\n",
    "  'dep_delay': [np.mean, np.std, np.median],\n",
    "  'arr_delay': [np.mean, np.std, np.median],\n",
    "})"
   ]
  },
  {
   "cell_type": "code",
   "execution_count": 104,
   "id": "copyrighted-canon",
   "metadata": {
    "eval": false,
    "lines_to_next_cell": 2,
    "tags": [
     "remove_cell"
    ]
   },
   "outputs": [
    {
     "output_type": "error",
     "ename": "KeyError",
     "evalue": "'arr_delay'",
     "traceback": [
      "\u001b[0;31m---------------------------------------------------------------------------\u001b[0m",
      "\u001b[0;31mKeyError\u001b[0m                                  Traceback (most recent call last)",
      "\u001b[0;32m<ipython-input-104-219f24db49d7>\u001b[0m in \u001b[0;36m<module>\u001b[0;34m\u001b[0m\n\u001b[1;32m     11\u001b[0m \u001b[0;31m# flights_tiny.arr_delay.aggregate([second_quartile])\u001b[0m\u001b[0;34m\u001b[0m\u001b[0;34m\u001b[0m\u001b[0;34m\u001b[0m\u001b[0m\n\u001b[1;32m     12\u001b[0m \u001b[0;31m# flights_tiny.arr_delay.aggregate(lambda x: np.nanquantile(x, 0.5))\u001b[0m\u001b[0;34m\u001b[0m\u001b[0;34m\u001b[0m\u001b[0;34m\u001b[0m\u001b[0m\n\u001b[0;32m---> 13\u001b[0;31m \u001b[0mflights\u001b[0m\u001b[0;34m.\u001b[0m\u001b[0magg\u001b[0m\u001b[0;34m(\u001b[0m\u001b[0;32mlambda\u001b[0m \u001b[0mx\u001b[0m\u001b[0;34m:\u001b[0m \u001b[0mnp\u001b[0m\u001b[0;34m.\u001b[0m\u001b[0mnanquantile\u001b[0m\u001b[0;34m(\u001b[0m\u001b[0mx\u001b[0m\u001b[0;34m[\u001b[0m\u001b[0;34m'arr_delay'\u001b[0m\u001b[0;34m]\u001b[0m\u001b[0;34m,\u001b[0m \u001b[0;36m0.5\u001b[0m\u001b[0;34m)\u001b[0m\u001b[0;34m)\u001b[0m\u001b[0;34m\u001b[0m\u001b[0;34m\u001b[0m\u001b[0m\n\u001b[0m\u001b[1;32m     14\u001b[0m \u001b[0;31m# np.nanmedian(flights_tiny.arr_delay)\u001b[0m\u001b[0;34m\u001b[0m\u001b[0;34m\u001b[0m\u001b[0;34m\u001b[0m\u001b[0m\n\u001b[1;32m     15\u001b[0m \u001b[0;31m# np.nanquantile(flights_tiny.arr_delay, 0.5)\u001b[0m\u001b[0;34m\u001b[0m\u001b[0;34m\u001b[0m\u001b[0;34m\u001b[0m\u001b[0m\n",
      "\u001b[0;32m~/dev/MaterialeLezioni/PercorsoDati/lab1/venv/lib/python3.8/site-packages/pandas/core/frame.py\u001b[0m in \u001b[0;36maggregate\u001b[0;34m(self, func, axis, *args, **kwargs)\u001b[0m\n\u001b[1;32m   7584\u001b[0m             \u001b[0;32mraise\u001b[0m \u001b[0mexc\u001b[0m \u001b[0;32mfrom\u001b[0m \u001b[0merr\u001b[0m\u001b[0;34m\u001b[0m\u001b[0;34m\u001b[0m\u001b[0m\n\u001b[1;32m   7585\u001b[0m         \u001b[0;32mif\u001b[0m \u001b[0mresult\u001b[0m \u001b[0;32mis\u001b[0m \u001b[0;32mNone\u001b[0m\u001b[0;34m:\u001b[0m\u001b[0;34m\u001b[0m\u001b[0;34m\u001b[0m\u001b[0m\n\u001b[0;32m-> 7586\u001b[0;31m             \u001b[0;32mreturn\u001b[0m \u001b[0mself\u001b[0m\u001b[0;34m.\u001b[0m\u001b[0mapply\u001b[0m\u001b[0;34m(\u001b[0m\u001b[0mfunc\u001b[0m\u001b[0;34m,\u001b[0m \u001b[0maxis\u001b[0m\u001b[0;34m=\u001b[0m\u001b[0maxis\u001b[0m\u001b[0;34m,\u001b[0m \u001b[0margs\u001b[0m\u001b[0;34m=\u001b[0m\u001b[0margs\u001b[0m\u001b[0;34m,\u001b[0m \u001b[0;34m**\u001b[0m\u001b[0mkwargs\u001b[0m\u001b[0;34m)\u001b[0m\u001b[0;34m\u001b[0m\u001b[0;34m\u001b[0m\u001b[0m\n\u001b[0m\u001b[1;32m   7587\u001b[0m \u001b[0;34m\u001b[0m\u001b[0m\n\u001b[1;32m   7588\u001b[0m         \u001b[0;32mif\u001b[0m \u001b[0mrelabeling\u001b[0m\u001b[0;34m:\u001b[0m\u001b[0;34m\u001b[0m\u001b[0;34m\u001b[0m\u001b[0m\n",
      "\u001b[0;32m~/dev/MaterialeLezioni/PercorsoDati/lab1/venv/lib/python3.8/site-packages/pandas/core/frame.py\u001b[0m in \u001b[0;36mapply\u001b[0;34m(self, func, axis, raw, result_type, args, **kwds)\u001b[0m\n\u001b[1;32m   7766\u001b[0m             \u001b[0mkwds\u001b[0m\u001b[0;34m=\u001b[0m\u001b[0mkwds\u001b[0m\u001b[0;34m,\u001b[0m\u001b[0;34m\u001b[0m\u001b[0;34m\u001b[0m\u001b[0m\n\u001b[1;32m   7767\u001b[0m         )\n\u001b[0;32m-> 7768\u001b[0;31m         \u001b[0;32mreturn\u001b[0m \u001b[0mop\u001b[0m\u001b[0;34m.\u001b[0m\u001b[0mget_result\u001b[0m\u001b[0;34m(\u001b[0m\u001b[0;34m)\u001b[0m\u001b[0;34m\u001b[0m\u001b[0;34m\u001b[0m\u001b[0m\n\u001b[0m\u001b[1;32m   7769\u001b[0m \u001b[0;34m\u001b[0m\u001b[0m\n\u001b[1;32m   7770\u001b[0m     \u001b[0;32mdef\u001b[0m \u001b[0mapplymap\u001b[0m\u001b[0;34m(\u001b[0m\u001b[0mself\u001b[0m\u001b[0;34m,\u001b[0m \u001b[0mfunc\u001b[0m\u001b[0;34m,\u001b[0m \u001b[0mna_action\u001b[0m\u001b[0;34m:\u001b[0m \u001b[0mOptional\u001b[0m\u001b[0;34m[\u001b[0m\u001b[0mstr\u001b[0m\u001b[0;34m]\u001b[0m \u001b[0;34m=\u001b[0m \u001b[0;32mNone\u001b[0m\u001b[0;34m)\u001b[0m \u001b[0;34m->\u001b[0m \u001b[0mDataFrame\u001b[0m\u001b[0;34m:\u001b[0m\u001b[0;34m\u001b[0m\u001b[0;34m\u001b[0m\u001b[0m\n",
      "\u001b[0;32m~/dev/MaterialeLezioni/PercorsoDati/lab1/venv/lib/python3.8/site-packages/pandas/core/apply.py\u001b[0m in \u001b[0;36mget_result\u001b[0;34m(self)\u001b[0m\n\u001b[1;32m    183\u001b[0m             \u001b[0;32mreturn\u001b[0m \u001b[0mself\u001b[0m\u001b[0;34m.\u001b[0m\u001b[0mapply_raw\u001b[0m\u001b[0;34m(\u001b[0m\u001b[0;34m)\u001b[0m\u001b[0;34m\u001b[0m\u001b[0;34m\u001b[0m\u001b[0m\n\u001b[1;32m    184\u001b[0m \u001b[0;34m\u001b[0m\u001b[0m\n\u001b[0;32m--> 185\u001b[0;31m         \u001b[0;32mreturn\u001b[0m \u001b[0mself\u001b[0m\u001b[0;34m.\u001b[0m\u001b[0mapply_standard\u001b[0m\u001b[0;34m(\u001b[0m\u001b[0;34m)\u001b[0m\u001b[0;34m\u001b[0m\u001b[0;34m\u001b[0m\u001b[0m\n\u001b[0m\u001b[1;32m    186\u001b[0m \u001b[0;34m\u001b[0m\u001b[0m\n\u001b[1;32m    187\u001b[0m     \u001b[0;32mdef\u001b[0m \u001b[0mapply_empty_result\u001b[0m\u001b[0;34m(\u001b[0m\u001b[0mself\u001b[0m\u001b[0;34m)\u001b[0m\u001b[0;34m:\u001b[0m\u001b[0;34m\u001b[0m\u001b[0;34m\u001b[0m\u001b[0m\n",
      "\u001b[0;32m~/dev/MaterialeLezioni/PercorsoDati/lab1/venv/lib/python3.8/site-packages/pandas/core/apply.py\u001b[0m in \u001b[0;36mapply_standard\u001b[0;34m(self)\u001b[0m\n\u001b[1;32m    274\u001b[0m \u001b[0;34m\u001b[0m\u001b[0m\n\u001b[1;32m    275\u001b[0m     \u001b[0;32mdef\u001b[0m \u001b[0mapply_standard\u001b[0m\u001b[0;34m(\u001b[0m\u001b[0mself\u001b[0m\u001b[0;34m)\u001b[0m\u001b[0;34m:\u001b[0m\u001b[0;34m\u001b[0m\u001b[0;34m\u001b[0m\u001b[0m\n\u001b[0;32m--> 276\u001b[0;31m         \u001b[0mresults\u001b[0m\u001b[0;34m,\u001b[0m \u001b[0mres_index\u001b[0m \u001b[0;34m=\u001b[0m \u001b[0mself\u001b[0m\u001b[0;34m.\u001b[0m\u001b[0mapply_series_generator\u001b[0m\u001b[0;34m(\u001b[0m\u001b[0;34m)\u001b[0m\u001b[0;34m\u001b[0m\u001b[0;34m\u001b[0m\u001b[0m\n\u001b[0m\u001b[1;32m    277\u001b[0m \u001b[0;34m\u001b[0m\u001b[0m\n\u001b[1;32m    278\u001b[0m         \u001b[0;31m# wrap results\u001b[0m\u001b[0;34m\u001b[0m\u001b[0;34m\u001b[0m\u001b[0;34m\u001b[0m\u001b[0m\n",
      "\u001b[0;32m~/dev/MaterialeLezioni/PercorsoDati/lab1/venv/lib/python3.8/site-packages/pandas/core/apply.py\u001b[0m in \u001b[0;36mapply_series_generator\u001b[0;34m(self)\u001b[0m\n\u001b[1;32m    288\u001b[0m             \u001b[0;32mfor\u001b[0m \u001b[0mi\u001b[0m\u001b[0;34m,\u001b[0m \u001b[0mv\u001b[0m \u001b[0;32min\u001b[0m \u001b[0menumerate\u001b[0m\u001b[0;34m(\u001b[0m\u001b[0mseries_gen\u001b[0m\u001b[0;34m)\u001b[0m\u001b[0;34m:\u001b[0m\u001b[0;34m\u001b[0m\u001b[0;34m\u001b[0m\u001b[0m\n\u001b[1;32m    289\u001b[0m                 \u001b[0;31m# ignore SettingWithCopy here in case the user mutates\u001b[0m\u001b[0;34m\u001b[0m\u001b[0;34m\u001b[0m\u001b[0;34m\u001b[0m\u001b[0m\n\u001b[0;32m--> 290\u001b[0;31m                 \u001b[0mresults\u001b[0m\u001b[0;34m[\u001b[0m\u001b[0mi\u001b[0m\u001b[0;34m]\u001b[0m \u001b[0;34m=\u001b[0m \u001b[0mself\u001b[0m\u001b[0;34m.\u001b[0m\u001b[0mf\u001b[0m\u001b[0;34m(\u001b[0m\u001b[0mv\u001b[0m\u001b[0;34m)\u001b[0m\u001b[0;34m\u001b[0m\u001b[0;34m\u001b[0m\u001b[0m\n\u001b[0m\u001b[1;32m    291\u001b[0m                 \u001b[0;32mif\u001b[0m \u001b[0misinstance\u001b[0m\u001b[0;34m(\u001b[0m\u001b[0mresults\u001b[0m\u001b[0;34m[\u001b[0m\u001b[0mi\u001b[0m\u001b[0;34m]\u001b[0m\u001b[0;34m,\u001b[0m \u001b[0mABCSeries\u001b[0m\u001b[0;34m)\u001b[0m\u001b[0;34m:\u001b[0m\u001b[0;34m\u001b[0m\u001b[0;34m\u001b[0m\u001b[0m\n\u001b[1;32m    292\u001b[0m                     \u001b[0;31m# If we have a view on v, we need to make a copy because\u001b[0m\u001b[0;34m\u001b[0m\u001b[0;34m\u001b[0m\u001b[0;34m\u001b[0m\u001b[0m\n",
      "\u001b[0;32m<ipython-input-104-219f24db49d7>\u001b[0m in \u001b[0;36m<lambda>\u001b[0;34m(x)\u001b[0m\n\u001b[1;32m     11\u001b[0m \u001b[0;31m# flights_tiny.arr_delay.aggregate([second_quartile])\u001b[0m\u001b[0;34m\u001b[0m\u001b[0;34m\u001b[0m\u001b[0;34m\u001b[0m\u001b[0m\n\u001b[1;32m     12\u001b[0m \u001b[0;31m# flights_tiny.arr_delay.aggregate(lambda x: np.nanquantile(x, 0.5))\u001b[0m\u001b[0;34m\u001b[0m\u001b[0;34m\u001b[0m\u001b[0;34m\u001b[0m\u001b[0m\n\u001b[0;32m---> 13\u001b[0;31m \u001b[0mflights\u001b[0m\u001b[0;34m.\u001b[0m\u001b[0magg\u001b[0m\u001b[0;34m(\u001b[0m\u001b[0;32mlambda\u001b[0m \u001b[0mx\u001b[0m\u001b[0;34m:\u001b[0m \u001b[0mnp\u001b[0m\u001b[0;34m.\u001b[0m\u001b[0mnanquantile\u001b[0m\u001b[0;34m(\u001b[0m\u001b[0mx\u001b[0m\u001b[0;34m[\u001b[0m\u001b[0;34m'arr_delay'\u001b[0m\u001b[0;34m]\u001b[0m\u001b[0;34m,\u001b[0m \u001b[0;36m0.5\u001b[0m\u001b[0;34m)\u001b[0m\u001b[0;34m)\u001b[0m\u001b[0;34m\u001b[0m\u001b[0;34m\u001b[0m\u001b[0m\n\u001b[0m\u001b[1;32m     14\u001b[0m \u001b[0;31m# np.nanmedian(flights_tiny.arr_delay)\u001b[0m\u001b[0;34m\u001b[0m\u001b[0;34m\u001b[0m\u001b[0;34m\u001b[0m\u001b[0m\n\u001b[1;32m     15\u001b[0m \u001b[0;31m# np.nanquantile(flights_tiny.arr_delay, 0.5)\u001b[0m\u001b[0;34m\u001b[0m\u001b[0;34m\u001b[0m\u001b[0;34m\u001b[0m\u001b[0m\n",
      "\u001b[0;32m~/dev/MaterialeLezioni/PercorsoDati/lab1/venv/lib/python3.8/site-packages/pandas/core/series.py\u001b[0m in \u001b[0;36m__getitem__\u001b[0;34m(self, key)\u001b[0m\n\u001b[1;32m    851\u001b[0m \u001b[0;34m\u001b[0m\u001b[0m\n\u001b[1;32m    852\u001b[0m         \u001b[0;32melif\u001b[0m \u001b[0mkey_is_scalar\u001b[0m\u001b[0;34m:\u001b[0m\u001b[0;34m\u001b[0m\u001b[0;34m\u001b[0m\u001b[0m\n\u001b[0;32m--> 853\u001b[0;31m             \u001b[0;32mreturn\u001b[0m \u001b[0mself\u001b[0m\u001b[0;34m.\u001b[0m\u001b[0m_get_value\u001b[0m\u001b[0;34m(\u001b[0m\u001b[0mkey\u001b[0m\u001b[0;34m)\u001b[0m\u001b[0;34m\u001b[0m\u001b[0;34m\u001b[0m\u001b[0m\n\u001b[0m\u001b[1;32m    854\u001b[0m \u001b[0;34m\u001b[0m\u001b[0m\n\u001b[1;32m    855\u001b[0m         \u001b[0;32mif\u001b[0m \u001b[0mis_hashable\u001b[0m\u001b[0;34m(\u001b[0m\u001b[0mkey\u001b[0m\u001b[0;34m)\u001b[0m\u001b[0;34m:\u001b[0m\u001b[0;34m\u001b[0m\u001b[0;34m\u001b[0m\u001b[0m\n",
      "\u001b[0;32m~/dev/MaterialeLezioni/PercorsoDati/lab1/venv/lib/python3.8/site-packages/pandas/core/series.py\u001b[0m in \u001b[0;36m_get_value\u001b[0;34m(self, label, takeable)\u001b[0m\n\u001b[1;32m    959\u001b[0m \u001b[0;34m\u001b[0m\u001b[0m\n\u001b[1;32m    960\u001b[0m         \u001b[0;31m# Similar to Index.get_value, but we do not fall back to positional\u001b[0m\u001b[0;34m\u001b[0m\u001b[0;34m\u001b[0m\u001b[0;34m\u001b[0m\u001b[0m\n\u001b[0;32m--> 961\u001b[0;31m         \u001b[0mloc\u001b[0m \u001b[0;34m=\u001b[0m \u001b[0mself\u001b[0m\u001b[0;34m.\u001b[0m\u001b[0mindex\u001b[0m\u001b[0;34m.\u001b[0m\u001b[0mget_loc\u001b[0m\u001b[0;34m(\u001b[0m\u001b[0mlabel\u001b[0m\u001b[0;34m)\u001b[0m\u001b[0;34m\u001b[0m\u001b[0;34m\u001b[0m\u001b[0m\n\u001b[0m\u001b[1;32m    962\u001b[0m         \u001b[0;32mreturn\u001b[0m \u001b[0mself\u001b[0m\u001b[0;34m.\u001b[0m\u001b[0mindex\u001b[0m\u001b[0;34m.\u001b[0m\u001b[0m_get_values_for_loc\u001b[0m\u001b[0;34m(\u001b[0m\u001b[0mself\u001b[0m\u001b[0;34m,\u001b[0m \u001b[0mloc\u001b[0m\u001b[0;34m,\u001b[0m \u001b[0mlabel\u001b[0m\u001b[0;34m)\u001b[0m\u001b[0;34m\u001b[0m\u001b[0;34m\u001b[0m\u001b[0m\n\u001b[1;32m    963\u001b[0m \u001b[0;34m\u001b[0m\u001b[0m\n",
      "\u001b[0;32m~/dev/MaterialeLezioni/PercorsoDati/lab1/venv/lib/python3.8/site-packages/pandas/core/indexes/range.py\u001b[0m in \u001b[0;36mget_loc\u001b[0;34m(self, key, method, tolerance)\u001b[0m\n\u001b[1;32m    352\u001b[0m                 \u001b[0;32mexcept\u001b[0m \u001b[0mValueError\u001b[0m \u001b[0;32mas\u001b[0m \u001b[0merr\u001b[0m\u001b[0;34m:\u001b[0m\u001b[0;34m\u001b[0m\u001b[0;34m\u001b[0m\u001b[0m\n\u001b[1;32m    353\u001b[0m                     \u001b[0;32mraise\u001b[0m \u001b[0mKeyError\u001b[0m\u001b[0;34m(\u001b[0m\u001b[0mkey\u001b[0m\u001b[0;34m)\u001b[0m \u001b[0;32mfrom\u001b[0m \u001b[0merr\u001b[0m\u001b[0;34m\u001b[0m\u001b[0;34m\u001b[0m\u001b[0m\n\u001b[0;32m--> 354\u001b[0;31m             \u001b[0;32mraise\u001b[0m \u001b[0mKeyError\u001b[0m\u001b[0;34m(\u001b[0m\u001b[0mkey\u001b[0m\u001b[0;34m)\u001b[0m\u001b[0;34m\u001b[0m\u001b[0;34m\u001b[0m\u001b[0m\n\u001b[0m\u001b[1;32m    355\u001b[0m         \u001b[0;32mreturn\u001b[0m \u001b[0msuper\u001b[0m\u001b[0;34m(\u001b[0m\u001b[0;34m)\u001b[0m\u001b[0;34m.\u001b[0m\u001b[0mget_loc\u001b[0m\u001b[0;34m(\u001b[0m\u001b[0mkey\u001b[0m\u001b[0;34m,\u001b[0m \u001b[0mmethod\u001b[0m\u001b[0;34m=\u001b[0m\u001b[0mmethod\u001b[0m\u001b[0;34m,\u001b[0m \u001b[0mtolerance\u001b[0m\u001b[0;34m=\u001b[0m\u001b[0mtolerance\u001b[0m\u001b[0;34m)\u001b[0m\u001b[0;34m\u001b[0m\u001b[0;34m\u001b[0m\u001b[0m\n\u001b[1;32m    356\u001b[0m \u001b[0;34m\u001b[0m\u001b[0m\n",
      "\u001b[0;31mKeyError\u001b[0m: 'arr_delay'"
     ]
    }
   ],
   "source": [
    "def second_quartile(x):\n",
    "  return np.nanquantile(x, 0.5)\n",
    "  \n",
    "# flights_tiny.aggregate({\n",
    "#     'arr_delay': np.quantile,\n",
    "#   },\n",
    "#   q=0.5\n",
    "# )\n",
    "\n",
    "\n",
    "# flights_tiny.arr_delay.aggregate([second_quartile])\n",
    "# flights_tiny.arr_delay.aggregate(lambda x: np.nanquantile(x, 0.5))\n",
    "flights.agg(lambda x: np.nanquantile(x['arr_delay'], 0.5))\n",
    "# np.nanmedian(flights_tiny.arr_delay)\n",
    "# np.nanquantile(flights_tiny.arr_delay, 0.5)\n",
    "# second_quartile(flights_tiny.arr_delay)\n"
   ]
  },
  {
   "cell_type": "code",
   "execution_count": null,
   "id": "original-fossil",
   "metadata": {
    "lines_to_next_cell": 2
   },
   "outputs": [],
   "source": [
    "%%R\n",
    "flights_tiny %>% \n",
    "  summarise(mean_arr_delay   = mean(arr_delay, na.rm = TRUE),\n",
    "            sd_arr_delay     = sd(arr_delay, na.rm = TRUE),\n",
    "            mean_dep_delay   = mean(dep_delay, na.rm = TRUE),\n",
    "            median_arr_delay = median(arr_delay, na.rm = TRUE),\n",
    "            first_quartile_arr_delay  = quantile(arr_delay, probs = 0.25, na.rm = TRUE),\n",
    "            second_quartile_arr_delay = quantile(arr_delay, probs = 0.5, na.rm = TRUE))"
   ]
  },
  {
   "cell_type": "markdown",
   "id": "alike-trader",
   "metadata": {},
   "source": [
    "## Compute per groups\n",
    "\n",
    "### Aggregation per groups"
   ]
  },
  {
   "cell_type": "code",
   "execution_count": null,
   "id": "explicit-boards",
   "metadata": {
    "lines_to_next_cell": 0
   },
   "outputs": [],
   "source": [
    "flights_tiny\\\n",
    "  .groupby('carrier')\\\n",
    "  .aggregate({\n",
    "    'dep_delay': [np.mean, np.std, np.median],\n",
    "    'arr_delay': [np.mean, np.std, np.median],\n",
    "  })"
   ]
  },
  {
   "cell_type": "markdown",
   "id": "velvet-handle",
   "metadata": {},
   "source": []
  },
  {
   "cell_type": "markdown",
   "id": "specific-spider",
   "metadata": {},
   "source": [
    "## A"
   ]
  },
  {
   "cell_type": "markdown",
   "id": "accomplished-developer",
   "metadata": {},
   "source": [
    "### Joins\n",
    "\n",
    "Let us a couple of example tables. Let us define a [foreign-key](https://en.wikipedia.org/wiki/Foreign_key) a column whose values have a correspondence in another table. This creates a relationship among two tables."
   ]
  },
  {
   "cell_type": "code",
   "execution_count": null,
   "id": "restricted-collection",
   "metadata": {
    "lines_to_next_cell": 2
   },
   "outputs": [],
   "source": [
    "letters = np.array(list(\"abcdefghijklmnopqrstuvwxyz\"))\n",
    "letters\n",
    "upper_letters = np.vectorize(lambda x: x.upper())(letters)\n",
    "upper_letters\n"
   ]
  },
  {
   "cell_type": "markdown",
   "id": "compatible-receipt",
   "metadata": {},
   "source": [
    "`DataFrame` joins are performed with the function  [merge](https://pandas.pydata.org/docs/reference/api/pandas.DataFrame.merge.html)."
   ]
  },
  {
   "cell_type": "code",
   "execution_count": null,
   "id": "premium-second",
   "metadata": {
    "lines_to_next_cell": 2
   },
   "outputs": [],
   "source": [
    "# Main table, where\n",
    "# 'id' id number\n",
    "# 'lower' a foreign key\n",
    "main_tbl = pd.DataFrame({\n",
    "  'id': np.arange(5),\n",
    "  'lower': np.concatenate((letters[0:2], np.array(['a-non-letter']), letters[3:5]))\n",
    "})\n",
    "main_tbl"
   ]
  },
  {
   "cell_type": "markdown",
   "id": "large-plane",
   "metadata": {},
   "source": [
    "And another that contains (usually all) the occurrences of the foreign-key:"
   ]
  },
  {
   "cell_type": "code",
   "execution_count": null,
   "id": "piano-harbor",
   "metadata": {
    "lines_to_next_cell": 2
   },
   "outputs": [],
   "source": [
    "# The table of letters \n",
    "# 'lower' list all the lower case letters\n",
    "# 'upper' an attribute to the letters, for the example case a upper case copy of the letter\n",
    "letter_tbl = pd.DataFrame({\n",
    "  'lower': letters,\n",
    "  'upper': upper_letters\n",
    "})\n",
    "letter_tbl"
   ]
  },
  {
   "cell_type": "code",
   "execution_count": null,
   "id": "covered-commander",
   "metadata": {
    "lines_to_next_cell": 2
   },
   "outputs": [],
   "source": [
    "# full-join\n",
    "main_tbl.merge(letter_tbl, how='outer')"
   ]
  },
  {
   "cell_type": "code",
   "execution_count": null,
   "id": "functional-tattoo",
   "metadata": {
    "lines_to_next_cell": 2
   },
   "outputs": [],
   "source": [
    "# inner-join\n",
    "main_tbl.merge(letter_tbl, how='inner')"
   ]
  },
  {
   "cell_type": "code",
   "execution_count": null,
   "id": "surprised-starter",
   "metadata": {
    "lines_to_next_cell": 2
   },
   "outputs": [],
   "source": [
    "# left-join\n",
    "main_tbl.merge(letter_tbl, how='left')"
   ]
  },
  {
   "cell_type": "code",
   "execution_count": null,
   "id": "future-skirt",
   "metadata": {
    "lines_to_next_cell": 2
   },
   "outputs": [],
   "source": [
    "# right-join\n",
    "main_tbl.merge(letter_tbl, how='right')\n",
    "\n",
    "# inverting the order a `right_join` return the same as a `left_join`\n",
    "letter_tbl.merge(main_tbl, how='left')"
   ]
  },
  {
   "cell_type": "markdown",
   "id": "attractive-shade",
   "metadata": {},
   "source": [
    "### Unite data frames\n",
    "\n",
    "#### Concatenate rows\n",
    "\n",
    "Example from the [guide](https://pandas.pydata.org/docs/user_guide/merging.html):"
   ]
  },
  {
   "cell_type": "code",
   "execution_count": null,
   "id": "sunset-pleasure",
   "metadata": {
    "lines_to_next_cell": 2
   },
   "outputs": [],
   "source": [
    "df1 = pd.DataFrame(\n",
    "    {\n",
    "        \"A\": [\"A0\", \"A1\", \"A2\", \"A3\"],\n",
    "        \"B\": [\"B0\", \"B1\", \"B2\", \"B3\"],\n",
    "        \"C\": [\"C0\", \"C1\", \"C2\", \"C3\"],\n",
    "        \"D\": [\"D0\", \"D1\", \"D2\", \"D3\"],\n",
    "    },\n",
    "    index=[0, 1, 2, 3],\n",
    ")\n",
    "\n",
    "df2 = pd.DataFrame(\n",
    "    {\n",
    "        \"A\": [\"A4\", \"A5\", \"A6\", \"A7\"],\n",
    "        \"B\": [\"B4\", \"B5\", \"B6\", \"B7\"],\n",
    "        \"C\": [\"C4\", \"C5\", \"C6\", \"C7\"],\n",
    "        \"D\": [\"D4\", \"D5\", \"D6\", \"D7\"],\n",
    "    },\n",
    "    index=[0, 1, 2, 3],\n",
    ")\n",
    "\n",
    "df3 = pd.DataFrame(\n",
    "    {\n",
    "        \"A\": [\"A8\", \"A9\", \"A10\", \"A11\"],\n",
    "        \"B\": [\"B8\", \"B9\", \"B10\", \"B11\"],\n",
    "        \"C\": [\"C8\", \"C9\", \"C10\", \"C11\"],\n",
    "        \"D\": [\"D8\", \"D9\", \"D10\", \"D11\"],\n",
    "    },\n",
    "    index=[0, 1, 2, 3],\n",
    ")"
   ]
  },
  {
   "cell_type": "code",
   "execution_count": null,
   "id": "damaged-desert",
   "metadata": {
    "lines_to_next_cell": 2
   },
   "outputs": [],
   "source": [
    "# concat rows\n",
    "pd.concat([df1, df2, df3])"
   ]
  },
  {
   "cell_type": "code",
   "execution_count": null,
   "id": "bottom-marathon",
   "metadata": {},
   "outputs": [],
   "source": [
    "# bind columns by their index\n",
    "pd.concat([df1, df2, df3], axis=1)\n"
   ]
  }
 ],
 "metadata": {
  "jupytext": {
   "cell_metadata_filter": "incorrectly_encoded_metadata,eval,title,tags,name,purl,-all",
   "main_language": "python",
   "notebook_metadata_filter": "-all"
  },
  "kernelspec": {
   "name": "python3",
   "display_name": "Python 3.8.5 64-bit",
   "metadata": {
    "interpreter": {
     "hash": "9b2e9e2abef6298b8ccadd32fc3e060f0b962ea7b1737121f43b38c331ab0700"
    }
   }
  }
 },
 "nbformat": 4,
 "nbformat_minor": 5
}
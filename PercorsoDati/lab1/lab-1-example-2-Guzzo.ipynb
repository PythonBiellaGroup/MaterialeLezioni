{
 "cells": [
  {
   "cell_type": "markdown",
   "metadata": {},
   "source": [
    "# Analisi 2\n",
    "\n",
    "- Data preparation"
   ]
  },
  {
   "cell_type": "code",
   "execution_count": 1,
   "metadata": {},
   "outputs": [],
   "source": [
    "import pandas as pd\n",
    "import numpy as np\n",
    "import os"
   ]
  },
  {
   "source": [
    "# Data Import\n",
    "\n",
    "## Reviews\n",
    "\n",
    "### Importo il dataset Reviews"
   ],
   "cell_type": "markdown",
   "metadata": {}
  },
  {
   "cell_type": "code",
   "execution_count": 41,
   "metadata": {},
   "outputs": [
    {
     "output_type": "execute_result",
     "data": {
      "text/plain": [
       "   listing_id        id        date  reviewer_id reviewer_name  \\\n",
       "0        2737  24343517  2014-12-26     24333039      Raphaell   \n",
       "1        2737  24966779  2015-01-04     10493776            Ia   \n",
       "2        2737  29770086  2015-04-12     29630601         Julia   \n",
       "3        2737  30477570  2015-04-22     31215535         Sevil   \n",
       "4        2737  31659336  2015-05-08      1959813          Suzy   \n",
       "\n",
       "                                            comments  \n",
       "0  This spot was in a great and nice area,walking...  \n",
       "1  Elif was really very helpful, while arranging ...  \n",
       "2  Elif's flat is spacious, clean, and had everyt...  \n",
       "3  I had a wonderful time staying with Elif and h...  \n",
       "4  Elif was a brilliant host, with an exceptional...  "
      ],
      "text/html": "<div>\n<style scoped>\n    .dataframe tbody tr th:only-of-type {\n        vertical-align: middle;\n    }\n\n    .dataframe tbody tr th {\n        vertical-align: top;\n    }\n\n    .dataframe thead th {\n        text-align: right;\n    }\n</style>\n<table border=\"1\" class=\"dataframe\">\n  <thead>\n    <tr style=\"text-align: right;\">\n      <th></th>\n      <th>listing_id</th>\n      <th>id</th>\n      <th>date</th>\n      <th>reviewer_id</th>\n      <th>reviewer_name</th>\n      <th>comments</th>\n    </tr>\n  </thead>\n  <tbody>\n    <tr>\n      <th>0</th>\n      <td>2737</td>\n      <td>24343517</td>\n      <td>2014-12-26</td>\n      <td>24333039</td>\n      <td>Raphaell</td>\n      <td>This spot was in a great and nice area,walking...</td>\n    </tr>\n    <tr>\n      <th>1</th>\n      <td>2737</td>\n      <td>24966779</td>\n      <td>2015-01-04</td>\n      <td>10493776</td>\n      <td>Ia</td>\n      <td>Elif was really very helpful, while arranging ...</td>\n    </tr>\n    <tr>\n      <th>2</th>\n      <td>2737</td>\n      <td>29770086</td>\n      <td>2015-04-12</td>\n      <td>29630601</td>\n      <td>Julia</td>\n      <td>Elif's flat is spacious, clean, and had everyt...</td>\n    </tr>\n    <tr>\n      <th>3</th>\n      <td>2737</td>\n      <td>30477570</td>\n      <td>2015-04-22</td>\n      <td>31215535</td>\n      <td>Sevil</td>\n      <td>I had a wonderful time staying with Elif and h...</td>\n    </tr>\n    <tr>\n      <th>4</th>\n      <td>2737</td>\n      <td>31659336</td>\n      <td>2015-05-08</td>\n      <td>1959813</td>\n      <td>Suzy</td>\n      <td>Elif was a brilliant host, with an exceptional...</td>\n    </tr>\n  </tbody>\n</table>\n</div>"
     },
     "metadata": {},
     "execution_count": 41
    }
   ],
   "source": [
    "folder_path = os.path.abspath(\"..\")\n",
    "data_dir = 'dataset/rome-airbnb'\n",
    "reviews_filename = 'reviews.csv'\n",
    "reviews_file = os.path.join(folder_path, data_dir, reviews_filename)\n",
    "\n",
    "sample_dim = None # 100000\n",
    "\n",
    "reviews_raw = pd.read_csv(reviews_file).head(sample_dim)\n",
    "reviews_raw.head()"
   ]
  },
  {
   "cell_type": "code",
   "execution_count": 43,
   "metadata": {},
   "outputs": [
    {
     "output_type": "stream",
     "name": "stdout",
     "text": [
      "<class 'pandas.core.frame.DataFrame'>\nRangeIndex: 1113360 entries, 0 to 1113359\nData columns (total 6 columns):\n #   Column         Non-Null Count    Dtype \n---  ------         --------------    ----- \n 0   listing_id     1113360 non-null  int64 \n 1   id             1113360 non-null  int64 \n 2   date           1113360 non-null  object\n 3   reviewer_id    1113360 non-null  int64 \n 4   reviewer_name  1113360 non-null  object\n 5   comments       1112960 non-null  object\ndtypes: int64(3), object(3)\nmemory usage: 51.0+ MB\n"
     ]
    }
   ],
   "source": [
    "reviews_raw.info()"
   ]
  },
  {
   "cell_type": "code",
   "execution_count": 44,
   "metadata": {},
   "outputs": [
    {
     "output_type": "execute_result",
     "data": {
      "text/plain": [
       "['listing_id', 'id', 'date', 'reviewer_id', 'reviewer_name', 'comments']"
      ]
     },
     "metadata": {},
     "execution_count": 44
    }
   ],
   "source": [
    "reviews_raw.columns.to_list()"
   ]
  },
  {
   "cell_type": "markdown",
   "metadata": {},
   "source": [
    "### Porto le date in formato datetime"
   ]
  },
  {
   "cell_type": "code",
   "execution_count": 45,
   "metadata": {},
   "outputs": [
    {
     "output_type": "execute_result",
     "data": {
      "text/plain": [
       "   listing_id        id       date  reviewer_id reviewer_name  \\\n",
       "0        2737  24343517 2014-12-26     24333039      Raphaell   \n",
       "1        2737  24966779 2015-01-04     10493776            Ia   \n",
       "2        2737  29770086 2015-04-12     29630601         Julia   \n",
       "3        2737  30477570 2015-04-22     31215535         Sevil   \n",
       "4        2737  31659336 2015-05-08      1959813          Suzy   \n",
       "\n",
       "                                            comments  \n",
       "0  This spot was in a great and nice area,walking...  \n",
       "1  Elif was really very helpful, while arranging ...  \n",
       "2  Elif's flat is spacious, clean, and had everyt...  \n",
       "3  I had a wonderful time staying with Elif and h...  \n",
       "4  Elif was a brilliant host, with an exceptional...  "
      ],
      "text/html": "<div>\n<style scoped>\n    .dataframe tbody tr th:only-of-type {\n        vertical-align: middle;\n    }\n\n    .dataframe tbody tr th {\n        vertical-align: top;\n    }\n\n    .dataframe thead th {\n        text-align: right;\n    }\n</style>\n<table border=\"1\" class=\"dataframe\">\n  <thead>\n    <tr style=\"text-align: right;\">\n      <th></th>\n      <th>listing_id</th>\n      <th>id</th>\n      <th>date</th>\n      <th>reviewer_id</th>\n      <th>reviewer_name</th>\n      <th>comments</th>\n    </tr>\n  </thead>\n  <tbody>\n    <tr>\n      <th>0</th>\n      <td>2737</td>\n      <td>24343517</td>\n      <td>2014-12-26</td>\n      <td>24333039</td>\n      <td>Raphaell</td>\n      <td>This spot was in a great and nice area,walking...</td>\n    </tr>\n    <tr>\n      <th>1</th>\n      <td>2737</td>\n      <td>24966779</td>\n      <td>2015-01-04</td>\n      <td>10493776</td>\n      <td>Ia</td>\n      <td>Elif was really very helpful, while arranging ...</td>\n    </tr>\n    <tr>\n      <th>2</th>\n      <td>2737</td>\n      <td>29770086</td>\n      <td>2015-04-12</td>\n      <td>29630601</td>\n      <td>Julia</td>\n      <td>Elif's flat is spacious, clean, and had everyt...</td>\n    </tr>\n    <tr>\n      <th>3</th>\n      <td>2737</td>\n      <td>30477570</td>\n      <td>2015-04-22</td>\n      <td>31215535</td>\n      <td>Sevil</td>\n      <td>I had a wonderful time staying with Elif and h...</td>\n    </tr>\n    <tr>\n      <th>4</th>\n      <td>2737</td>\n      <td>31659336</td>\n      <td>2015-05-08</td>\n      <td>1959813</td>\n      <td>Suzy</td>\n      <td>Elif was a brilliant host, with an exceptional...</td>\n    </tr>\n  </tbody>\n</table>\n</div>"
     },
     "metadata": {},
     "execution_count": 45
    }
   ],
   "source": [
    "reviews = reviews_raw.assign(date = pd.to_datetime(reviews_raw['date']))\n",
    "reviews.head()"
   ]
  },
  {
   "source": [
    "## Calendar\n",
    "\n",
    "\n",
    "### Importo il dataset Calendar"
   ],
   "cell_type": "markdown",
   "metadata": {}
  },
  {
   "cell_type": "code",
   "execution_count": 46,
   "metadata": {},
   "outputs": [
    {
     "output_type": "execute_result",
     "data": {
      "text/plain": [
       "   listing_id       date available   price adjusted_price  minimum_nights  \\\n",
       "0      158668 2021-02-13         t  $40.00         $40.00             2.0   \n",
       "1       78314 2021-02-13         f  $69.00         $69.00             1.0   \n",
       "2       78314 2021-02-14         f  $69.00         $69.00             1.0   \n",
       "3       78314 2021-02-15         f  $69.00         $69.00             1.0   \n",
       "4       78314 2021-02-16         f  $69.00         $69.00             1.0   \n",
       "\n",
       "   maximum_nights  \n",
       "0           365.0  \n",
       "1            99.0  \n",
       "2            99.0  \n",
       "3            99.0  \n",
       "4            99.0  "
      ],
      "text/html": "<div>\n<style scoped>\n    .dataframe tbody tr th:only-of-type {\n        vertical-align: middle;\n    }\n\n    .dataframe tbody tr th {\n        vertical-align: top;\n    }\n\n    .dataframe thead th {\n        text-align: right;\n    }\n</style>\n<table border=\"1\" class=\"dataframe\">\n  <thead>\n    <tr style=\"text-align: right;\">\n      <th></th>\n      <th>listing_id</th>\n      <th>date</th>\n      <th>available</th>\n      <th>price</th>\n      <th>adjusted_price</th>\n      <th>minimum_nights</th>\n      <th>maximum_nights</th>\n    </tr>\n  </thead>\n  <tbody>\n    <tr>\n      <th>0</th>\n      <td>158668</td>\n      <td>2021-02-13</td>\n      <td>t</td>\n      <td>$40.00</td>\n      <td>$40.00</td>\n      <td>2.0</td>\n      <td>365.0</td>\n    </tr>\n    <tr>\n      <th>1</th>\n      <td>78314</td>\n      <td>2021-02-13</td>\n      <td>f</td>\n      <td>$69.00</td>\n      <td>$69.00</td>\n      <td>1.0</td>\n      <td>99.0</td>\n    </tr>\n    <tr>\n      <th>2</th>\n      <td>78314</td>\n      <td>2021-02-14</td>\n      <td>f</td>\n      <td>$69.00</td>\n      <td>$69.00</td>\n      <td>1.0</td>\n      <td>99.0</td>\n    </tr>\n    <tr>\n      <th>3</th>\n      <td>78314</td>\n      <td>2021-02-15</td>\n      <td>f</td>\n      <td>$69.00</td>\n      <td>$69.00</td>\n      <td>1.0</td>\n      <td>99.0</td>\n    </tr>\n    <tr>\n      <th>4</th>\n      <td>78314</td>\n      <td>2021-02-16</td>\n      <td>f</td>\n      <td>$69.00</td>\n      <td>$69.00</td>\n      <td>1.0</td>\n      <td>99.0</td>\n    </tr>\n  </tbody>\n</table>\n</div>"
     },
     "metadata": {},
     "execution_count": 46
    }
   ],
   "source": [
    "calendar_file = os.path.join(folder_path, data_dir, 'calendar.csv')\n",
    "\n",
    "calendar_raw = pd.read_csv(calendar_file).head(sample_dim)\n",
    "calendar = calendar_raw.assign(date = pd.to_datetime(calendar_raw['date']))\n",
    "calendar.head()\n"
   ]
  },
  {
   "cell_type": "code",
   "execution_count": 51,
   "metadata": {},
   "outputs": [
    {
     "output_type": "stream",
     "name": "stdout",
     "text": [
      "<class 'pandas.core.frame.DataFrame'>\nRangeIndex: 10092245 entries, 0 to 10092244\nData columns (total 7 columns):\n #   Column          Dtype         \n---  ------          -----         \n 0   listing_id      int64         \n 1   date            datetime64[ns]\n 2   available       object        \n 3   price           object        \n 4   adjusted_price  object        \n 5   minimum_nights  float64       \n 6   maximum_nights  float64       \ndtypes: datetime64[ns](1), float64(2), int64(1), object(3)\nmemory usage: 539.0+ MB\n"
     ]
    }
   ],
   "source": [
    "calendar.info()"
   ]
  },
  {
   "cell_type": "markdown",
   "metadata": {},
   "source": [
    "# Data prepation\n",
    "\n",
    "## Creo le variabli di aggregazione mese e anno"
   ]
  },
  {
   "cell_type": "code",
   "execution_count": 52,
   "metadata": {},
   "outputs": [
    {
     "output_type": "stream",
     "name": "stdout",
     "text": [
      "CPU times: user 14 µs, sys: 1e+03 ns, total: 15 µs\nWall time: 272 µs\n"
     ]
    },
    {
     "output_type": "execute_result",
     "data": {
      "text/plain": [
       "       listing_id         id       date  reviewer_id reviewer_name  \\\n",
       "4310        50471  729150541 2021-02-06      8582830        Anders   \n",
       "38546      335009  728807735 2021-02-04     95567665        Soraja   \n",
       "66801      639627  728358403 2021-02-01     64638603      Nathalie   \n",
       "73665      721874  728694435 2021-02-03    210113502         Lubna   \n",
       "88513      831199  728361293 2021-02-01    358777714         Carla   \n",
       "\n",
       "                                                comments  year  month  \n",
       "4310   Lovely place, super quiet and great atmosphere :)  2021      2  \n",
       "38546  It was ideal. The Host is very responsive and ...  2021      2  \n",
       "66801  Massimo is kind and prompt in responding. The ...  2021      2  \n",
       "73665  I liked my stay in Sabrina’s place. It was a w...  2021      2  \n",
       "88513  Che dire il sig. Pietro e la moglie persone mo...  2021      2  "
      ],
      "text/html": "<div>\n<style scoped>\n    .dataframe tbody tr th:only-of-type {\n        vertical-align: middle;\n    }\n\n    .dataframe tbody tr th {\n        vertical-align: top;\n    }\n\n    .dataframe thead th {\n        text-align: right;\n    }\n</style>\n<table border=\"1\" class=\"dataframe\">\n  <thead>\n    <tr style=\"text-align: right;\">\n      <th></th>\n      <th>listing_id</th>\n      <th>id</th>\n      <th>date</th>\n      <th>reviewer_id</th>\n      <th>reviewer_name</th>\n      <th>comments</th>\n      <th>year</th>\n      <th>month</th>\n    </tr>\n  </thead>\n  <tbody>\n    <tr>\n      <th>4310</th>\n      <td>50471</td>\n      <td>729150541</td>\n      <td>2021-02-06</td>\n      <td>8582830</td>\n      <td>Anders</td>\n      <td>Lovely place, super quiet and great atmosphere :)</td>\n      <td>2021</td>\n      <td>2</td>\n    </tr>\n    <tr>\n      <th>38546</th>\n      <td>335009</td>\n      <td>728807735</td>\n      <td>2021-02-04</td>\n      <td>95567665</td>\n      <td>Soraja</td>\n      <td>It was ideal. The Host is very responsive and ...</td>\n      <td>2021</td>\n      <td>2</td>\n    </tr>\n    <tr>\n      <th>66801</th>\n      <td>639627</td>\n      <td>728358403</td>\n      <td>2021-02-01</td>\n      <td>64638603</td>\n      <td>Nathalie</td>\n      <td>Massimo is kind and prompt in responding. The ...</td>\n      <td>2021</td>\n      <td>2</td>\n    </tr>\n    <tr>\n      <th>73665</th>\n      <td>721874</td>\n      <td>728694435</td>\n      <td>2021-02-03</td>\n      <td>210113502</td>\n      <td>Lubna</td>\n      <td>I liked my stay in Sabrina’s place. It was a w...</td>\n      <td>2021</td>\n      <td>2</td>\n    </tr>\n    <tr>\n      <th>88513</th>\n      <td>831199</td>\n      <td>728361293</td>\n      <td>2021-02-01</td>\n      <td>358777714</td>\n      <td>Carla</td>\n      <td>Che dire il sig. Pietro e la moglie persone mo...</td>\n      <td>2021</td>\n      <td>2</td>\n    </tr>\n  </tbody>\n</table>\n</div>"
     },
     "metadata": {},
     "execution_count": 52
    }
   ],
   "source": [
    "%time\n",
    "reviews['year'] = reviews['date'].dt.year\n",
    "reviews['month'] = reviews['date'].dt.month\n",
    "reviews = reviews.sort_values(['year', 'month'], ascending=False)\n",
    "reviews.head()"
   ]
  },
  {
   "cell_type": "code",
   "execution_count": null,
   "metadata": {},
   "outputs": [],
   "source": [
    "%time\n",
    "calendar['year'] = pd.DatetimeIndex(calendar['date']).year\n",
    "calendar['month'] = pd.DatetimeIndex(calendar['date']).month\n",
    "calendar = calendar.sort_values(['year', 'month'], ascending=False)\n",
    "calendar.head()"
   ]
  },
  {
   "cell_type": "markdown",
   "metadata": {},
   "source": [
    "## Preparare il prezzo come numero\n",
    "\n",
    "Il prezzo è una stringa che contiene il sibolo della valuta `$` e una virgola come separatore delle migliaia. Bisogna quindi:\n",
    "\n",
    "- Rimuovere il simbolo del dollaro\n",
    "- Rimuovere il separatore delle migliaia\n",
    "- Interpretare le stringhe come numeri reali\n"
   ]
  },
  {
   "cell_type": "code",
   "execution_count": 53,
   "metadata": {},
   "outputs": [],
   "source": [
    "# PREVIOUS WAY\n",
    "# @np.vectorize\n",
    "# def remove_dollar(label: str):\n",
    "#   return float(label.replace('$','').replace(',',''))\n",
    "\n",
    "calendar_2 = calendar.assign(\n",
    "        price          = pd.to_numeric(calendar.price.str.replace('$','').str.replace(',','')),\n",
    "        # adjusted_price = pd.to_numeric(calendar.adjusted_price.str.replace('$','').str.replace(',','')),\n",
    "    )\n",
    "calendar_2['price'].head()"
   ]
  },
  {
   "cell_type": "code",
   "execution_count": null,
   "metadata": {},
   "outputs": [],
   "source": [
    "calendar_2.head()"
   ]
  },
  {
   "cell_type": "markdown",
   "metadata": {},
   "source": [
    "## Valori logici\n",
    "\n",
    "In questo caso i valori logici si presentano come due stringhe 't' e 'f'. Noi preferiamo utilizzare le variabili booleane `True` e `False` che sono meglio comprese dal sitema, questo garantisce una serie di funzionalità in più: come l'utilzzo dell'algebra di Bool e il loro utilizzo come Masking.\n"
   ]
  },
  {
   "cell_type": "code",
   "execution_count": null,
   "metadata": {},
   "outputs": [],
   "source": [
    "calendar_2['available'] = calendar_2.available.map({\n",
    "    't': True,\n",
    "    'f': False\n",
    "})"
   ]
  },
  {
   "cell_type": "markdown",
   "metadata": {},
   "source": [
    "## Valori derivati"
   ]
  },
  {
   "cell_type": "code",
   "execution_count": null,
   "metadata": {},
   "outputs": [],
   "source": [
    "# Transformations (the mutable way)\n",
    "calendar_2['available_prob'] = calendar_2.available.map({\n",
    "    True: 1,\n",
    "    False: 0\n",
    "})\n",
    "\n",
    "calendar_2['engaged_prob'] = 1 - calendar_2['available_prob']\n",
    "calendar_2.head()\n"
   ]
  },
  {
   "cell_type": "code",
   "execution_count": null,
   "metadata": {},
   "outputs": [],
   "source": [
    "# Transformations (the immutable way)\n",
    "calendar_2 = calendar_2\\\n",
    "    .assign(\n",
    "        available_prob=lambda _: _.available.map({\n",
    "            True: 1,\n",
    "            False: 0\n",
    "        }),\n",
    "        engaged_prob=lambda _: 1 - _.available_prob,\n",
    "    )\n",
    "\n",
    "calendar_2\n"
   ]
  },
  {
   "cell_type": "markdown",
   "metadata": {},
   "source": [
    "# Analisi delle Attività\n",
    "\n",
    "Gli ospiti che usano Airbnb possono lasciare una recensione dopo il loro pernottamento. Le recensioni possono essere usate come indicatori dell'attività e del tasso di attività.\n",
    "\n",
    "La durata minima di pernottamento, il prezzo e il numero di recensioni sono stati usati come indicatori per stimare il tasso di occupazione, il numero di notti per anno e il rendita mensile di ogni annuncio.\n",
    "\n",
    "Qual è il rapporto tra la rendita realizzata attraverso Airbnb e i prezzi degli affitti residenziali a lungo termine?\n",
    "\n",
    "Il numero delle notti prenotate impedisce l'uso residenziale degli alloggi messi in affitto?\n",
    "\n",
    "Qual è il rapporto tra la rendita realizzata attraverso AIRBNB e i prezzi degli affitti residenziali a lungo termine?\n",
    "\n",
    "\n"
   ]
  },
  {
   "cell_type": "markdown",
   "metadata": {},
   "source": [
    "## Tasso di occupazione\n",
    "\n",
    "### Creo le variabili che mi servono\n"
   ]
  },
  {
   "cell_type": "markdown",
   "metadata": {},
   "source": [
    "### Conteggio Recensioni"
   ]
  },
  {
   "cell_type": "code",
   "execution_count": null,
   "metadata": {},
   "outputs": [],
   "source": [
    "# Total reviews:\n",
    "reviews.id.count()"
   ]
  },
  {
   "cell_type": "markdown",
   "metadata": {},
   "source": [
    "### Recensioni / annunci / mese"
   ]
  },
  {
   "cell_type": "code",
   "execution_count": null,
   "metadata": {},
   "outputs": [],
   "source": [
    "\n",
    "review_count = reviews\\\n",
    "  .groupby(['year', 'month', 'listing_id'], dropna=False)\\\n",
    "  .id.count()\\\n",
    "  .sort_index(ascending=False)\\\n",
    "  .reset_index()\\\n",
    "  .rename(columns={'id': 'count'})\n",
    "\n",
    "review_count.head()\n"
   ]
  },
  {
   "cell_type": "code",
   "execution_count": null,
   "metadata": {},
   "outputs": [],
   "source": [
    "# review_count['count_perc'] = (review_count['count'] / review_count['count'].sum() * 100).round(2)\n",
    "# review_count['nights_per_year'] = (review_count['count'] / 365).round(2)\n",
    "\n",
    "review_count['count'].mean()"
   ]
  },
  {
   "cell_type": "markdown",
   "metadata": {},
   "source": [
    "### Fatturato al mese stimato (probabilmente sbagliato)"
   ]
  },
  {
   "cell_type": "code",
   "execution_count": null,
   "metadata": {},
   "outputs": [],
   "source": [
    "# mean_day_price_engaged = calendar_2\\\n",
    "#     .assign(day_income = calendar_2.price * calendar_2.engaged_prob )\\\n",
    "#     .day_income\\\n",
    "#     .mean()\n",
    "# mean_day_price_engaged * 30\n",
    "    \n"
   ]
  },
  {
   "cell_type": "code",
   "execution_count": null,
   "metadata": {},
   "outputs": [],
   "source": [
    "calendar"
   ]
  },
  {
   "cell_type": "code",
   "execution_count": null,
   "metadata": {},
   "outputs": [],
   "source": [
    "reviews"
   ]
  },
  {
   "cell_type": "code",
   "execution_count": null,
   "metadata": {},
   "outputs": [],
   "source": [
    "cal_1 = calendar.drop_duplicates(['listing_id', 'price', 'year', 'month'], keep='first')\n",
    "cal_1"
   ]
  },
  {
   "cell_type": "code",
   "execution_count": null,
   "metadata": {},
   "outputs": [],
   "source": [
    "reviews.merge(cal_1, on=['listing_id', 'year', 'month'])"
   ]
  },
  {
   "source": [
    "# Proporzione di disponibilità"
   ],
   "cell_type": "markdown",
   "metadata": {}
  },
  {
   "cell_type": "code",
   "execution_count": null,
   "metadata": {},
   "outputs": [],
   "source": []
  },
  {
   "source": [
    "# Andamento del prezzo\n",
    "\n",
    "## Periodo dell'anno"
   ],
   "cell_type": "markdown",
   "metadata": {}
  },
  {
   "cell_type": "code",
   "execution_count": 49,
   "metadata": {},
   "outputs": [
    {
     "output_type": "execute_result",
     "data": {
      "text/plain": [
       "        listing_id       date  available  price  year  month\n",
       "398           2737 2022-02-01       True   18.0  2022      2\n",
       "399           2737 2022-02-02       True   18.0  2022      2\n",
       "400           2737 2022-02-03       True   18.0  2022      2\n",
       "401           2737 2022-02-04       True   30.0  2022      2\n",
       "402           2737 2022-02-05       True   30.0  2022      2\n",
       "...            ...        ...        ...    ...   ...    ...\n",
       "321583      860090 2022-02-03       True   99.0  2022      2\n",
       "321584      860090 2022-02-04       True   99.0  2022      2\n",
       "321585      860090 2022-02-05       True   99.0  2022      2\n",
       "321586      860090 2022-02-06       True   99.0  2022      2\n",
       "321587      860090 2022-02-07       True   99.0  2022      2\n",
       "\n",
       "[10000 rows x 6 columns]"
      ],
      "text/html": "<div>\n<style scoped>\n    .dataframe tbody tr th:only-of-type {\n        vertical-align: middle;\n    }\n\n    .dataframe tbody tr th {\n        vertical-align: top;\n    }\n\n    .dataframe thead th {\n        text-align: right;\n    }\n</style>\n<table border=\"1\" class=\"dataframe\">\n  <thead>\n    <tr style=\"text-align: right;\">\n      <th></th>\n      <th>listing_id</th>\n      <th>date</th>\n      <th>available</th>\n      <th>price</th>\n      <th>year</th>\n      <th>month</th>\n    </tr>\n  </thead>\n  <tbody>\n    <tr>\n      <th>398</th>\n      <td>2737</td>\n      <td>2022-02-01</td>\n      <td>True</td>\n      <td>18.0</td>\n      <td>2022</td>\n      <td>2</td>\n    </tr>\n    <tr>\n      <th>399</th>\n      <td>2737</td>\n      <td>2022-02-02</td>\n      <td>True</td>\n      <td>18.0</td>\n      <td>2022</td>\n      <td>2</td>\n    </tr>\n    <tr>\n      <th>400</th>\n      <td>2737</td>\n      <td>2022-02-03</td>\n      <td>True</td>\n      <td>18.0</td>\n      <td>2022</td>\n      <td>2</td>\n    </tr>\n    <tr>\n      <th>401</th>\n      <td>2737</td>\n      <td>2022-02-04</td>\n      <td>True</td>\n      <td>30.0</td>\n      <td>2022</td>\n      <td>2</td>\n    </tr>\n    <tr>\n      <th>402</th>\n      <td>2737</td>\n      <td>2022-02-05</td>\n      <td>True</td>\n      <td>30.0</td>\n      <td>2022</td>\n      <td>2</td>\n    </tr>\n    <tr>\n      <th>...</th>\n      <td>...</td>\n      <td>...</td>\n      <td>...</td>\n      <td>...</td>\n      <td>...</td>\n      <td>...</td>\n    </tr>\n    <tr>\n      <th>321583</th>\n      <td>860090</td>\n      <td>2022-02-03</td>\n      <td>True</td>\n      <td>99.0</td>\n      <td>2022</td>\n      <td>2</td>\n    </tr>\n    <tr>\n      <th>321584</th>\n      <td>860090</td>\n      <td>2022-02-04</td>\n      <td>True</td>\n      <td>99.0</td>\n      <td>2022</td>\n      <td>2</td>\n    </tr>\n    <tr>\n      <th>321585</th>\n      <td>860090</td>\n      <td>2022-02-05</td>\n      <td>True</td>\n      <td>99.0</td>\n      <td>2022</td>\n      <td>2</td>\n    </tr>\n    <tr>\n      <th>321586</th>\n      <td>860090</td>\n      <td>2022-02-06</td>\n      <td>True</td>\n      <td>99.0</td>\n      <td>2022</td>\n      <td>2</td>\n    </tr>\n    <tr>\n      <th>321587</th>\n      <td>860090</td>\n      <td>2022-02-07</td>\n      <td>True</td>\n      <td>99.0</td>\n      <td>2022</td>\n      <td>2</td>\n    </tr>\n  </tbody>\n</table>\n<p>10000 rows × 6 columns</p>\n</div>"
     },
     "metadata": {},
     "execution_count": 49
    }
   ],
   "source": [
    "cal_1 = calendar_2[['listing_id', 'date', 'available', 'price', 'year', 'month']]\n",
    "cal_1.head(10000)"
   ]
  },
  {
   "cell_type": "code",
   "execution_count": 50,
   "metadata": {},
   "outputs": [
    {
     "output_type": "execute_result",
     "data": {
      "text/plain": [
       "        listing_id  month  mean_price  std_price\n",
       "101977    12510273      2     4320.00     5009.0\n",
       "102049    12528872      2     4322.86     5007.0\n",
       "230905    33103707      2     3986.61     4955.0\n",
       "235969    33772726      2     3976.61     4955.0\n",
       "235981    33772935      2     3966.61     4955.0\n",
       "...            ...    ...         ...        ...\n",
       "217861    31132032      2      114.96       27.0\n",
       "99434     12172089      3      114.52       27.0\n",
       "308092    44027337      5      112.90       27.0\n",
       "126001    16384532      2      112.89       27.0\n",
       "20699      1680601     12      111.13       27.0\n",
       "\n",
       "[10000 rows x 4 columns]"
      ],
      "text/html": "<div>\n<style scoped>\n    .dataframe tbody tr th:only-of-type {\n        vertical-align: middle;\n    }\n\n    .dataframe tbody tr th {\n        vertical-align: top;\n    }\n\n    .dataframe thead th {\n        text-align: right;\n    }\n</style>\n<table border=\"1\" class=\"dataframe\">\n  <thead>\n    <tr style=\"text-align: right;\">\n      <th></th>\n      <th>listing_id</th>\n      <th>month</th>\n      <th>mean_price</th>\n      <th>std_price</th>\n    </tr>\n  </thead>\n  <tbody>\n    <tr>\n      <th>101977</th>\n      <td>12510273</td>\n      <td>2</td>\n      <td>4320.00</td>\n      <td>5009.0</td>\n    </tr>\n    <tr>\n      <th>102049</th>\n      <td>12528872</td>\n      <td>2</td>\n      <td>4322.86</td>\n      <td>5007.0</td>\n    </tr>\n    <tr>\n      <th>230905</th>\n      <td>33103707</td>\n      <td>2</td>\n      <td>3986.61</td>\n      <td>4955.0</td>\n    </tr>\n    <tr>\n      <th>235969</th>\n      <td>33772726</td>\n      <td>2</td>\n      <td>3976.61</td>\n      <td>4955.0</td>\n    </tr>\n    <tr>\n      <th>235981</th>\n      <td>33772935</td>\n      <td>2</td>\n      <td>3966.61</td>\n      <td>4955.0</td>\n    </tr>\n    <tr>\n      <th>...</th>\n      <td>...</td>\n      <td>...</td>\n      <td>...</td>\n      <td>...</td>\n    </tr>\n    <tr>\n      <th>217861</th>\n      <td>31132032</td>\n      <td>2</td>\n      <td>114.96</td>\n      <td>27.0</td>\n    </tr>\n    <tr>\n      <th>99434</th>\n      <td>12172089</td>\n      <td>3</td>\n      <td>114.52</td>\n      <td>27.0</td>\n    </tr>\n    <tr>\n      <th>308092</th>\n      <td>44027337</td>\n      <td>5</td>\n      <td>112.90</td>\n      <td>27.0</td>\n    </tr>\n    <tr>\n      <th>126001</th>\n      <td>16384532</td>\n      <td>2</td>\n      <td>112.89</td>\n      <td>27.0</td>\n    </tr>\n    <tr>\n      <th>20699</th>\n      <td>1680601</td>\n      <td>12</td>\n      <td>111.13</td>\n      <td>27.0</td>\n    </tr>\n  </tbody>\n</table>\n<p>10000 rows × 4 columns</p>\n</div>"
     },
     "metadata": {},
     "execution_count": 50
    }
   ],
   "source": [
    "mean_price = cal_1\\\n",
    "    .groupby(['listing_id', 'month'])\\\n",
    "    .agg(\n",
    "        mean_price = ( 'price', lambda x: round(np.mean(x), 2) ),\n",
    "        std_price  = ( 'price', lambda x: round(np.std(x, ddof=1), 0) )\n",
    "    )\\\n",
    "    .reset_index()\n",
    "\n",
    "mean_price.sort_values(['std_price', 'mean_price'], ascending=False).head(10000)"
   ]
  },
  {
   "cell_type": "code",
   "execution_count": null,
   "metadata": {},
   "outputs": [],
   "source": [
    "mean_price\\\n",
    "    .groupby(['listing_id'])\\\n",
    "    .agg(\n",
    "        mean_price = ('mean_price', lambda x: round(np.mean(x), 0)),\n",
    "        std_price  = ('mean_price', lambda x: round(np.std(x, ddof=1), 1) )\n",
    "    )\\\n",
    "    .reset_index()\\\n",
    "    .sort_values(['std_price', 'mean_price'], ascending=False)"
   ]
  },
  {
   "cell_type": "code",
   "execution_count": null,
   "metadata": {},
   "outputs": [],
   "source": [
    "# Get the price changes of a listing\n",
    "cal_1[cal_1.listing_id == 20587]\\\n",
    "    .sort_values(['listing_id', 'year', 'month'])\\\n",
    "    .drop_duplicates(['listing_id', 'price'])"
   ]
  },
  {
   "source": [
    "## Prezzo alloggi\n"
   ],
   "cell_type": "markdown",
   "metadata": {}
  },
  {
   "cell_type": "code",
   "execution_count": 11,
   "metadata": {},
   "outputs": [
    {
     "output_type": "execute_result",
     "data": {
      "text/plain": [
       "      id                                       name  longitude  latitude  \\\n",
       "0   2737           Elif's room in cozy, clean flat.   12.48355  41.87218   \n",
       "1   2903          Stay a night in Calisto6 B&B Rome   12.47002  41.88826   \n",
       "2   3079  Cozy apartment  (2-4)with Colisseum  view   12.49163  41.89503   \n",
       "3  11834            Roma \"Charming Boschetto House\"   12.49058  41.89574   \n",
       "4  12398        Casa Donatello - Home far from Home   12.46809  41.92584   \n",
       "\n",
       "                          listing_url instant_bookable  host_response_time  \\\n",
       "0   https://www.airbnb.com/rooms/2737                f        within a day   \n",
       "1   https://www.airbnb.com/rooms/2903                f  within a few hours   \n",
       "2   https://www.airbnb.com/rooms/3079                f                 NaN   \n",
       "3  https://www.airbnb.com/rooms/11834                f                 NaN   \n",
       "4  https://www.airbnb.com/rooms/12398                f      within an hour   \n",
       "\n",
       "  host_neighbourhood  review_scores_rating                      property_type  \\\n",
       "0          Testaccio                  96.0                       Private room   \n",
       "1         Trastevere                  86.0  Private room in bed and breakfast   \n",
       "2              Monti                  88.0                   Entire apartment   \n",
       "3              Monti                  95.0                   Entire apartment   \n",
       "4           Flaminio                  98.0                   Entire apartment   \n",
       "\n",
       "         room_type  accommodates  bathrooms  bedrooms  beds  \\\n",
       "0     Private room             1        NaN       1.0   0.0   \n",
       "1     Private room             4        NaN       1.0   2.0   \n",
       "2  Entire home/apt             4        NaN       1.0   4.0   \n",
       "3  Entire home/apt             2        NaN       1.0   1.0   \n",
       "4  Entire home/apt             5        NaN       2.0   3.0   \n",
       "\n",
       "   reviews_per_month                                          amenities  \\\n",
       "0               0.09  [\"Free parking on premises\", \"Elevator\", \"Drye...   \n",
       "1               0.37  [\"Shampoo\", \"Indoor fireplace\", \"TV\", \"Dedicat...   \n",
       "2               0.14  [\"Paid parking off premises\", \"Washer\", \"Dedic...   \n",
       "3               1.19  [\"Pack \\u2019n Play/travel crib\", \"Washer\", \"H...   \n",
       "4               0.32  [\"Dishwasher\", \"Lockbox\", \"Washer\", \"Dedicated...   \n",
       "\n",
       "   number_of_reviews  price  \n",
       "0                  7   21.0  \n",
       "1                 55   37.0  \n",
       "2                 17  105.0  \n",
       "3                142   90.0  \n",
       "4                 40   73.0  "
      ],
      "text/html": "<div>\n<style scoped>\n    .dataframe tbody tr th:only-of-type {\n        vertical-align: middle;\n    }\n\n    .dataframe tbody tr th {\n        vertical-align: top;\n    }\n\n    .dataframe thead th {\n        text-align: right;\n    }\n</style>\n<table border=\"1\" class=\"dataframe\">\n  <thead>\n    <tr style=\"text-align: right;\">\n      <th></th>\n      <th>id</th>\n      <th>name</th>\n      <th>longitude</th>\n      <th>latitude</th>\n      <th>listing_url</th>\n      <th>instant_bookable</th>\n      <th>host_response_time</th>\n      <th>host_neighbourhood</th>\n      <th>review_scores_rating</th>\n      <th>property_type</th>\n      <th>room_type</th>\n      <th>accommodates</th>\n      <th>bathrooms</th>\n      <th>bedrooms</th>\n      <th>beds</th>\n      <th>reviews_per_month</th>\n      <th>amenities</th>\n      <th>number_of_reviews</th>\n      <th>price</th>\n    </tr>\n  </thead>\n  <tbody>\n    <tr>\n      <th>0</th>\n      <td>2737</td>\n      <td>Elif's room in cozy, clean flat.</td>\n      <td>12.48355</td>\n      <td>41.87218</td>\n      <td>https://www.airbnb.com/rooms/2737</td>\n      <td>f</td>\n      <td>within a day</td>\n      <td>Testaccio</td>\n      <td>96.0</td>\n      <td>Private room</td>\n      <td>Private room</td>\n      <td>1</td>\n      <td>NaN</td>\n      <td>1.0</td>\n      <td>0.0</td>\n      <td>0.09</td>\n      <td>[\"Free parking on premises\", \"Elevator\", \"Drye...</td>\n      <td>7</td>\n      <td>21.0</td>\n    </tr>\n    <tr>\n      <th>1</th>\n      <td>2903</td>\n      <td>Stay a night in Calisto6 B&amp;B Rome</td>\n      <td>12.47002</td>\n      <td>41.88826</td>\n      <td>https://www.airbnb.com/rooms/2903</td>\n      <td>f</td>\n      <td>within a few hours</td>\n      <td>Trastevere</td>\n      <td>86.0</td>\n      <td>Private room in bed and breakfast</td>\n      <td>Private room</td>\n      <td>4</td>\n      <td>NaN</td>\n      <td>1.0</td>\n      <td>2.0</td>\n      <td>0.37</td>\n      <td>[\"Shampoo\", \"Indoor fireplace\", \"TV\", \"Dedicat...</td>\n      <td>55</td>\n      <td>37.0</td>\n    </tr>\n    <tr>\n      <th>2</th>\n      <td>3079</td>\n      <td>Cozy apartment  (2-4)with Colisseum  view</td>\n      <td>12.49163</td>\n      <td>41.89503</td>\n      <td>https://www.airbnb.com/rooms/3079</td>\n      <td>f</td>\n      <td>NaN</td>\n      <td>Monti</td>\n      <td>88.0</td>\n      <td>Entire apartment</td>\n      <td>Entire home/apt</td>\n      <td>4</td>\n      <td>NaN</td>\n      <td>1.0</td>\n      <td>4.0</td>\n      <td>0.14</td>\n      <td>[\"Paid parking off premises\", \"Washer\", \"Dedic...</td>\n      <td>17</td>\n      <td>105.0</td>\n    </tr>\n    <tr>\n      <th>3</th>\n      <td>11834</td>\n      <td>Roma \"Charming Boschetto House\"</td>\n      <td>12.49058</td>\n      <td>41.89574</td>\n      <td>https://www.airbnb.com/rooms/11834</td>\n      <td>f</td>\n      <td>NaN</td>\n      <td>Monti</td>\n      <td>95.0</td>\n      <td>Entire apartment</td>\n      <td>Entire home/apt</td>\n      <td>2</td>\n      <td>NaN</td>\n      <td>1.0</td>\n      <td>1.0</td>\n      <td>1.19</td>\n      <td>[\"Pack \\u2019n Play/travel crib\", \"Washer\", \"H...</td>\n      <td>142</td>\n      <td>90.0</td>\n    </tr>\n    <tr>\n      <th>4</th>\n      <td>12398</td>\n      <td>Casa Donatello - Home far from Home</td>\n      <td>12.46809</td>\n      <td>41.92584</td>\n      <td>https://www.airbnb.com/rooms/12398</td>\n      <td>f</td>\n      <td>within an hour</td>\n      <td>Flaminio</td>\n      <td>98.0</td>\n      <td>Entire apartment</td>\n      <td>Entire home/apt</td>\n      <td>5</td>\n      <td>NaN</td>\n      <td>2.0</td>\n      <td>3.0</td>\n      <td>0.32</td>\n      <td>[\"Dishwasher\", \"Lockbox\", \"Washer\", \"Dedicated...</td>\n      <td>40</td>\n      <td>73.0</td>\n    </tr>\n  </tbody>\n</table>\n</div>"
     },
     "metadata": {},
     "execution_count": 11
    }
   ],
   "source": [
    "folder_path = os.path.abspath(\"..\")\n",
    "data_dir = 'dataset/rome-airbnb'\n",
    "listings_filename = 'listings.csv'\n",
    "listings_filepath = os.path.join(folder_path, data_dir, listings_filename)\n",
    "\n",
    "listings_raw = pd.read_csv(listings_filepath)\n",
    "# Selezioniamo solo alcune delle colonne\n",
    "listings_raw = listings_raw[[\n",
    "    'id','name','longitude','latitude',\n",
    "    'listing_url',\n",
    "    'instant_bookable',\n",
    "    'host_response_time',\n",
    "    'host_neighbourhood',\n",
    "    'review_scores_rating',\n",
    "    'property_type',\n",
    "    'room_type','accommodates',\n",
    "    'bathrooms','bedrooms','beds','reviews_per_month','amenities',\n",
    "    'number_of_reviews',\n",
    "    'price'\n",
    "  ]]\n",
    "\n",
    "listings = listings_raw.assign(\n",
    "        price          = lambda _: pd.to_numeric(_.price.str.replace('$','').str.replace(',',''))\n",
    "    )\n",
    "listings.head()"
   ]
  },
  {
   "cell_type": "code",
   "execution_count": 12,
   "metadata": {},
   "outputs": [
    {
     "output_type": "execute_result",
     "data": {
      "text/plain": [
       "               property_type        room_type  price\n",
       "0                       Boat  Entire home/apt   52.0\n",
       "1                  Camper/RV  Entire home/apt   52.0\n",
       "2                   Campsite  Entire home/apt   60.0\n",
       "3            Casa particular  Entire home/apt   44.0\n",
       "4                     Castle  Entire home/apt   60.0\n",
       "..                       ...              ...    ...\n",
       "77  Shared room in townhouse      Shared room   12.0\n",
       "78                      Tent  Entire home/apt   28.0\n",
       "79                Tiny house  Entire home/apt   68.0\n",
       "80                      Tipi  Entire home/apt  195.0\n",
       "81                 Treehouse  Entire home/apt   75.0\n",
       "\n",
       "[82 rows x 3 columns]"
      ],
      "text/html": "<div>\n<style scoped>\n    .dataframe tbody tr th:only-of-type {\n        vertical-align: middle;\n    }\n\n    .dataframe tbody tr th {\n        vertical-align: top;\n    }\n\n    .dataframe thead th {\n        text-align: right;\n    }\n</style>\n<table border=\"1\" class=\"dataframe\">\n  <thead>\n    <tr style=\"text-align: right;\">\n      <th></th>\n      <th>property_type</th>\n      <th>room_type</th>\n      <th>price</th>\n    </tr>\n  </thead>\n  <tbody>\n    <tr>\n      <th>0</th>\n      <td>Boat</td>\n      <td>Entire home/apt</td>\n      <td>52.0</td>\n    </tr>\n    <tr>\n      <th>1</th>\n      <td>Camper/RV</td>\n      <td>Entire home/apt</td>\n      <td>52.0</td>\n    </tr>\n    <tr>\n      <th>2</th>\n      <td>Campsite</td>\n      <td>Entire home/apt</td>\n      <td>60.0</td>\n    </tr>\n    <tr>\n      <th>3</th>\n      <td>Casa particular</td>\n      <td>Entire home/apt</td>\n      <td>44.0</td>\n    </tr>\n    <tr>\n      <th>4</th>\n      <td>Castle</td>\n      <td>Entire home/apt</td>\n      <td>60.0</td>\n    </tr>\n    <tr>\n      <th>...</th>\n      <td>...</td>\n      <td>...</td>\n      <td>...</td>\n    </tr>\n    <tr>\n      <th>77</th>\n      <td>Shared room in townhouse</td>\n      <td>Shared room</td>\n      <td>12.0</td>\n    </tr>\n    <tr>\n      <th>78</th>\n      <td>Tent</td>\n      <td>Entire home/apt</td>\n      <td>28.0</td>\n    </tr>\n    <tr>\n      <th>79</th>\n      <td>Tiny house</td>\n      <td>Entire home/apt</td>\n      <td>68.0</td>\n    </tr>\n    <tr>\n      <th>80</th>\n      <td>Tipi</td>\n      <td>Entire home/apt</td>\n      <td>195.0</td>\n    </tr>\n    <tr>\n      <th>81</th>\n      <td>Treehouse</td>\n      <td>Entire home/apt</td>\n      <td>75.0</td>\n    </tr>\n  </tbody>\n</table>\n<p>82 rows × 3 columns</p>\n</div>"
     },
     "metadata": {},
     "execution_count": 12
    }
   ],
   "source": [
    "pivot_df = listings\\\n",
    "    .groupby(['property_type','room_type'])\\\n",
    "    .price\\\n",
    "    .mean()\\\n",
    "    .round(0)\\\n",
    "    .reset_index()\n",
    "\n",
    "pivot_df"
   ]
  },
  {
   "cell_type": "code",
   "execution_count": 13,
   "metadata": {},
   "outputs": [
    {
     "output_type": "execute_result",
     "data": {
      "text/plain": [
       "room_type                 Entire home/apt  Hotel room  Private room  \\\n",
       "property_type                                                         \n",
       "Boat                                 52.0         NaN           NaN   \n",
       "Camper/RV                            52.0         NaN           NaN   \n",
       "Campsite                             60.0         NaN           NaN   \n",
       "Casa particular                      44.0         NaN           NaN   \n",
       "Castle                               60.0         NaN           NaN   \n",
       "...                                   ...         ...           ...   \n",
       "Shared room in townhouse              NaN         NaN           NaN   \n",
       "Tent                                 28.0         NaN           NaN   \n",
       "Tiny house                           68.0         NaN           NaN   \n",
       "Tipi                                195.0         NaN           NaN   \n",
       "Treehouse                            75.0         NaN           NaN   \n",
       "\n",
       "room_type                 Shared room  \n",
       "property_type                          \n",
       "Boat                              NaN  \n",
       "Camper/RV                         NaN  \n",
       "Campsite                          NaN  \n",
       "Casa particular                   NaN  \n",
       "Castle                            NaN  \n",
       "...                               ...  \n",
       "Shared room in townhouse         12.0  \n",
       "Tent                              NaN  \n",
       "Tiny house                        NaN  \n",
       "Tipi                              NaN  \n",
       "Treehouse                         NaN  \n",
       "\n",
       "[77 rows x 4 columns]"
      ],
      "text/html": "<div>\n<style scoped>\n    .dataframe tbody tr th:only-of-type {\n        vertical-align: middle;\n    }\n\n    .dataframe tbody tr th {\n        vertical-align: top;\n    }\n\n    .dataframe thead th {\n        text-align: right;\n    }\n</style>\n<table border=\"1\" class=\"dataframe\">\n  <thead>\n    <tr style=\"text-align: right;\">\n      <th>room_type</th>\n      <th>Entire home/apt</th>\n      <th>Hotel room</th>\n      <th>Private room</th>\n      <th>Shared room</th>\n    </tr>\n    <tr>\n      <th>property_type</th>\n      <th></th>\n      <th></th>\n      <th></th>\n      <th></th>\n    </tr>\n  </thead>\n  <tbody>\n    <tr>\n      <th>Boat</th>\n      <td>52.0</td>\n      <td>NaN</td>\n      <td>NaN</td>\n      <td>NaN</td>\n    </tr>\n    <tr>\n      <th>Camper/RV</th>\n      <td>52.0</td>\n      <td>NaN</td>\n      <td>NaN</td>\n      <td>NaN</td>\n    </tr>\n    <tr>\n      <th>Campsite</th>\n      <td>60.0</td>\n      <td>NaN</td>\n      <td>NaN</td>\n      <td>NaN</td>\n    </tr>\n    <tr>\n      <th>Casa particular</th>\n      <td>44.0</td>\n      <td>NaN</td>\n      <td>NaN</td>\n      <td>NaN</td>\n    </tr>\n    <tr>\n      <th>Castle</th>\n      <td>60.0</td>\n      <td>NaN</td>\n      <td>NaN</td>\n      <td>NaN</td>\n    </tr>\n    <tr>\n      <th>...</th>\n      <td>...</td>\n      <td>...</td>\n      <td>...</td>\n      <td>...</td>\n    </tr>\n    <tr>\n      <th>Shared room in townhouse</th>\n      <td>NaN</td>\n      <td>NaN</td>\n      <td>NaN</td>\n      <td>12.0</td>\n    </tr>\n    <tr>\n      <th>Tent</th>\n      <td>28.0</td>\n      <td>NaN</td>\n      <td>NaN</td>\n      <td>NaN</td>\n    </tr>\n    <tr>\n      <th>Tiny house</th>\n      <td>68.0</td>\n      <td>NaN</td>\n      <td>NaN</td>\n      <td>NaN</td>\n    </tr>\n    <tr>\n      <th>Tipi</th>\n      <td>195.0</td>\n      <td>NaN</td>\n      <td>NaN</td>\n      <td>NaN</td>\n    </tr>\n    <tr>\n      <th>Treehouse</th>\n      <td>75.0</td>\n      <td>NaN</td>\n      <td>NaN</td>\n      <td>NaN</td>\n    </tr>\n  </tbody>\n</table>\n<p>77 rows × 4 columns</p>\n</div>"
     },
     "metadata": {},
     "execution_count": 13
    }
   ],
   "source": [
    "pivot_df\\\n",
    "    .pivot(\n",
    "        columns='room_type',\n",
    "        values='price',\n",
    "        index=['property_type']\n",
    "    )"
   ]
  },
  {
   "cell_type": "code",
   "execution_count": 14,
   "metadata": {},
   "outputs": [
    {
     "output_type": "execute_result",
     "data": {
      "text/plain": [
       "room_type                 Entire home/apt  Hotel room  Private room  \\\n",
       "property_type                                                         \n",
       "Boat                                 52.0         NaN           NaN   \n",
       "Camper/RV                            52.0         NaN           NaN   \n",
       "Campsite                             60.0         NaN           NaN   \n",
       "Casa particular                      44.0         NaN           NaN   \n",
       "Castle                               60.0         NaN           NaN   \n",
       "...                                   ...         ...           ...   \n",
       "Shared room in townhouse              NaN         NaN           NaN   \n",
       "Tent                                 28.0         NaN           NaN   \n",
       "Tiny house                           68.0         NaN           NaN   \n",
       "Tipi                                195.0         NaN           NaN   \n",
       "Treehouse                            75.0         NaN           NaN   \n",
       "\n",
       "room_type                 Shared room  \n",
       "property_type                          \n",
       "Boat                              NaN  \n",
       "Camper/RV                         NaN  \n",
       "Campsite                          NaN  \n",
       "Casa particular                   NaN  \n",
       "Castle                            NaN  \n",
       "...                               ...  \n",
       "Shared room in townhouse         12.0  \n",
       "Tent                              NaN  \n",
       "Tiny house                        NaN  \n",
       "Tipi                              NaN  \n",
       "Treehouse                         NaN  \n",
       "\n",
       "[77 rows x 4 columns]"
      ],
      "text/html": "<div>\n<style scoped>\n    .dataframe tbody tr th:only-of-type {\n        vertical-align: middle;\n    }\n\n    .dataframe tbody tr th {\n        vertical-align: top;\n    }\n\n    .dataframe thead th {\n        text-align: right;\n    }\n</style>\n<table border=\"1\" class=\"dataframe\">\n  <thead>\n    <tr style=\"text-align: right;\">\n      <th>room_type</th>\n      <th>Entire home/apt</th>\n      <th>Hotel room</th>\n      <th>Private room</th>\n      <th>Shared room</th>\n    </tr>\n    <tr>\n      <th>property_type</th>\n      <th></th>\n      <th></th>\n      <th></th>\n      <th></th>\n    </tr>\n  </thead>\n  <tbody>\n    <tr>\n      <th>Boat</th>\n      <td>52.0</td>\n      <td>NaN</td>\n      <td>NaN</td>\n      <td>NaN</td>\n    </tr>\n    <tr>\n      <th>Camper/RV</th>\n      <td>52.0</td>\n      <td>NaN</td>\n      <td>NaN</td>\n      <td>NaN</td>\n    </tr>\n    <tr>\n      <th>Campsite</th>\n      <td>60.0</td>\n      <td>NaN</td>\n      <td>NaN</td>\n      <td>NaN</td>\n    </tr>\n    <tr>\n      <th>Casa particular</th>\n      <td>44.0</td>\n      <td>NaN</td>\n      <td>NaN</td>\n      <td>NaN</td>\n    </tr>\n    <tr>\n      <th>Castle</th>\n      <td>60.0</td>\n      <td>NaN</td>\n      <td>NaN</td>\n      <td>NaN</td>\n    </tr>\n    <tr>\n      <th>...</th>\n      <td>...</td>\n      <td>...</td>\n      <td>...</td>\n      <td>...</td>\n    </tr>\n    <tr>\n      <th>Shared room in townhouse</th>\n      <td>NaN</td>\n      <td>NaN</td>\n      <td>NaN</td>\n      <td>12.0</td>\n    </tr>\n    <tr>\n      <th>Tent</th>\n      <td>28.0</td>\n      <td>NaN</td>\n      <td>NaN</td>\n      <td>NaN</td>\n    </tr>\n    <tr>\n      <th>Tiny house</th>\n      <td>68.0</td>\n      <td>NaN</td>\n      <td>NaN</td>\n      <td>NaN</td>\n    </tr>\n    <tr>\n      <th>Tipi</th>\n      <td>195.0</td>\n      <td>NaN</td>\n      <td>NaN</td>\n      <td>NaN</td>\n    </tr>\n    <tr>\n      <th>Treehouse</th>\n      <td>75.0</td>\n      <td>NaN</td>\n      <td>NaN</td>\n      <td>NaN</td>\n    </tr>\n  </tbody>\n</table>\n<p>77 rows × 4 columns</p>\n</div>"
     },
     "metadata": {},
     "execution_count": 14
    }
   ],
   "source": [
    "listings\\\n",
    "    .pivot_table(\n",
    "        columns='room_type',\n",
    "        values='price',\n",
    "        index='property_type',\n",
    "        aggfunc=lambda x: round(np.mean(x),0)\n",
    "    )"
   ]
  },
  {
   "cell_type": "code",
   "execution_count": 15,
   "metadata": {},
   "outputs": [
    {
     "output_type": "execute_result",
     "data": {
      "text/plain": [
       "bedrooms             1.0    2.0    3.0    4.0    5.0    6.0   7.0   8.0   \\\n",
       "host_neighbourhood                                                         \n",
       "Affori                NaN   70.0    NaN    NaN    NaN    NaN   NaN   NaN   \n",
       "Astoria              90.0    NaN    NaN    NaN    NaN    NaN   NaN   NaN   \n",
       "Aurelio              81.0  118.0  191.0  226.0  260.0  500.0   NaN   NaN   \n",
       "Balduina             69.0  145.0  112.0  127.0  150.0    NaN   NaN   NaN   \n",
       "Barona                NaN  280.0    NaN    NaN    NaN    NaN   NaN   NaN   \n",
       "...                   ...    ...    ...    ...    ...    ...   ...   ...   \n",
       "Westpunt            112.0  216.0    NaN    NaN    NaN    NaN   NaN   NaN   \n",
       "Zona 3               59.0  116.0    NaN    NaN    NaN    NaN   NaN   NaN   \n",
       "Zona 7               62.0    NaN    NaN    NaN    NaN    NaN   NaN   NaN   \n",
       "Zona 9               40.0   75.0    NaN    NaN    NaN    NaN   NaN   NaN   \n",
       "el Fort Pienc        24.0    NaN    NaN    NaN    NaN    NaN   NaN   NaN   \n",
       "\n",
       "bedrooms            9.0   10.0  11.0  12.0  14.0  16.0  \n",
       "host_neighbourhood                                      \n",
       "Affori               NaN   NaN   NaN   NaN   NaN   NaN  \n",
       "Astoria              NaN   NaN   NaN   NaN   NaN   NaN  \n",
       "Aurelio              NaN   NaN   NaN   NaN   NaN   NaN  \n",
       "Balduina             NaN   NaN   NaN   NaN   NaN   NaN  \n",
       "Barona               NaN   NaN   NaN   NaN   NaN   NaN  \n",
       "...                  ...   ...   ...   ...   ...   ...  \n",
       "Westpunt             NaN   NaN   NaN   NaN   NaN   NaN  \n",
       "Zona 3               NaN   NaN   NaN   NaN   NaN   NaN  \n",
       "Zona 7               NaN   NaN   NaN   NaN   NaN   NaN  \n",
       "Zona 9               NaN   NaN   NaN   NaN   NaN   NaN  \n",
       "el Fort Pienc        NaN   NaN   NaN   NaN   NaN   NaN  \n",
       "\n",
       "[105 rows x 14 columns]"
      ],
      "text/html": "<div>\n<style scoped>\n    .dataframe tbody tr th:only-of-type {\n        vertical-align: middle;\n    }\n\n    .dataframe tbody tr th {\n        vertical-align: top;\n    }\n\n    .dataframe thead th {\n        text-align: right;\n    }\n</style>\n<table border=\"1\" class=\"dataframe\">\n  <thead>\n    <tr style=\"text-align: right;\">\n      <th>bedrooms</th>\n      <th>1.0</th>\n      <th>2.0</th>\n      <th>3.0</th>\n      <th>4.0</th>\n      <th>5.0</th>\n      <th>6.0</th>\n      <th>7.0</th>\n      <th>8.0</th>\n      <th>9.0</th>\n      <th>10.0</th>\n      <th>11.0</th>\n      <th>12.0</th>\n      <th>14.0</th>\n      <th>16.0</th>\n    </tr>\n    <tr>\n      <th>host_neighbourhood</th>\n      <th></th>\n      <th></th>\n      <th></th>\n      <th></th>\n      <th></th>\n      <th></th>\n      <th></th>\n      <th></th>\n      <th></th>\n      <th></th>\n      <th></th>\n      <th></th>\n      <th></th>\n      <th></th>\n    </tr>\n  </thead>\n  <tbody>\n    <tr>\n      <th>Affori</th>\n      <td>NaN</td>\n      <td>70.0</td>\n      <td>NaN</td>\n      <td>NaN</td>\n      <td>NaN</td>\n      <td>NaN</td>\n      <td>NaN</td>\n      <td>NaN</td>\n      <td>NaN</td>\n      <td>NaN</td>\n      <td>NaN</td>\n      <td>NaN</td>\n      <td>NaN</td>\n      <td>NaN</td>\n    </tr>\n    <tr>\n      <th>Astoria</th>\n      <td>90.0</td>\n      <td>NaN</td>\n      <td>NaN</td>\n      <td>NaN</td>\n      <td>NaN</td>\n      <td>NaN</td>\n      <td>NaN</td>\n      <td>NaN</td>\n      <td>NaN</td>\n      <td>NaN</td>\n      <td>NaN</td>\n      <td>NaN</td>\n      <td>NaN</td>\n      <td>NaN</td>\n    </tr>\n    <tr>\n      <th>Aurelio</th>\n      <td>81.0</td>\n      <td>118.0</td>\n      <td>191.0</td>\n      <td>226.0</td>\n      <td>260.0</td>\n      <td>500.0</td>\n      <td>NaN</td>\n      <td>NaN</td>\n      <td>NaN</td>\n      <td>NaN</td>\n      <td>NaN</td>\n      <td>NaN</td>\n      <td>NaN</td>\n      <td>NaN</td>\n    </tr>\n    <tr>\n      <th>Balduina</th>\n      <td>69.0</td>\n      <td>145.0</td>\n      <td>112.0</td>\n      <td>127.0</td>\n      <td>150.0</td>\n      <td>NaN</td>\n      <td>NaN</td>\n      <td>NaN</td>\n      <td>NaN</td>\n      <td>NaN</td>\n      <td>NaN</td>\n      <td>NaN</td>\n      <td>NaN</td>\n      <td>NaN</td>\n    </tr>\n    <tr>\n      <th>Barona</th>\n      <td>NaN</td>\n      <td>280.0</td>\n      <td>NaN</td>\n      <td>NaN</td>\n      <td>NaN</td>\n      <td>NaN</td>\n      <td>NaN</td>\n      <td>NaN</td>\n      <td>NaN</td>\n      <td>NaN</td>\n      <td>NaN</td>\n      <td>NaN</td>\n      <td>NaN</td>\n      <td>NaN</td>\n    </tr>\n    <tr>\n      <th>...</th>\n      <td>...</td>\n      <td>...</td>\n      <td>...</td>\n      <td>...</td>\n      <td>...</td>\n      <td>...</td>\n      <td>...</td>\n      <td>...</td>\n      <td>...</td>\n      <td>...</td>\n      <td>...</td>\n      <td>...</td>\n      <td>...</td>\n      <td>...</td>\n    </tr>\n    <tr>\n      <th>Westpunt</th>\n      <td>112.0</td>\n      <td>216.0</td>\n      <td>NaN</td>\n      <td>NaN</td>\n      <td>NaN</td>\n      <td>NaN</td>\n      <td>NaN</td>\n      <td>NaN</td>\n      <td>NaN</td>\n      <td>NaN</td>\n      <td>NaN</td>\n      <td>NaN</td>\n      <td>NaN</td>\n      <td>NaN</td>\n    </tr>\n    <tr>\n      <th>Zona 3</th>\n      <td>59.0</td>\n      <td>116.0</td>\n      <td>NaN</td>\n      <td>NaN</td>\n      <td>NaN</td>\n      <td>NaN</td>\n      <td>NaN</td>\n      <td>NaN</td>\n      <td>NaN</td>\n      <td>NaN</td>\n      <td>NaN</td>\n      <td>NaN</td>\n      <td>NaN</td>\n      <td>NaN</td>\n    </tr>\n    <tr>\n      <th>Zona 7</th>\n      <td>62.0</td>\n      <td>NaN</td>\n      <td>NaN</td>\n      <td>NaN</td>\n      <td>NaN</td>\n      <td>NaN</td>\n      <td>NaN</td>\n      <td>NaN</td>\n      <td>NaN</td>\n      <td>NaN</td>\n      <td>NaN</td>\n      <td>NaN</td>\n      <td>NaN</td>\n      <td>NaN</td>\n    </tr>\n    <tr>\n      <th>Zona 9</th>\n      <td>40.0</td>\n      <td>75.0</td>\n      <td>NaN</td>\n      <td>NaN</td>\n      <td>NaN</td>\n      <td>NaN</td>\n      <td>NaN</td>\n      <td>NaN</td>\n      <td>NaN</td>\n      <td>NaN</td>\n      <td>NaN</td>\n      <td>NaN</td>\n      <td>NaN</td>\n      <td>NaN</td>\n    </tr>\n    <tr>\n      <th>el Fort Pienc</th>\n      <td>24.0</td>\n      <td>NaN</td>\n      <td>NaN</td>\n      <td>NaN</td>\n      <td>NaN</td>\n      <td>NaN</td>\n      <td>NaN</td>\n      <td>NaN</td>\n      <td>NaN</td>\n      <td>NaN</td>\n      <td>NaN</td>\n      <td>NaN</td>\n      <td>NaN</td>\n      <td>NaN</td>\n    </tr>\n  </tbody>\n</table>\n<p>105 rows × 14 columns</p>\n</div>"
     },
     "metadata": {},
     "execution_count": 15
    }
   ],
   "source": [
    "listings\\\n",
    "    .pivot_table(\n",
    "        columns='bedrooms',\n",
    "        values='price',\n",
    "        index='host_neighbourhood',\n",
    "        aggfunc=lambda x: round(np.mean(x),0)\n",
    "    )"
   ]
  }
 ],
 "metadata": {
  "kernelspec": {
   "name": "python3",
   "display_name": "Python 3.8.5 64-bit ('venv': venv)",
   "metadata": {
    "interpreter": {
     "hash": "9b2e9e2abef6298b8ccadd32fc3e060f0b962ea7b1737121f43b38c331ab0700"
    }
   }
  },
  "language_info": {
   "codemirror_mode": {
    "name": "ipython",
    "version": 3
   },
   "file_extension": ".py",
   "mimetype": "text/x-python",
   "name": "python",
   "nbconvert_exporter": "python",
   "pygments_lexer": "ipython3",
   "version": "3.8.5"
  },
  "orig_nbformat": 2
 },
 "nbformat": 4,
 "nbformat_minor": 2
}